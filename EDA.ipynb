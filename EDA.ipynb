{
 "cells": [
  {
   "cell_type": "markdown",
   "id": "ceb003f8",
   "metadata": {},
   "source": [
    "<a id='1'></a>\n",
    "<p style = \"background-color : #79d1ff; border-radius: 5px 5px; padding : 10px\"><strong>\n",
    "\n",
    "# Обзор\n",
    "\n",
    "<p style = \"background-color : #79d1ff; border-radius: 5px 5px; padding : 10px\"><strong>"
   ]
  },
  {
   "cell_type": "markdown",
   "id": "7155757c",
   "metadata": {},
   "source": [
    "**Стратегия это - функция для открытия и закрытия позиций созданная из индикатора**.  Например, если у вас есть индикатор, отображающий пересечение скользящих средних, вы можете превратить его в стратегию, добавив команды strategy.entry для входа и strategy.close для выхода из позиций. \n",
    "т.е. по сути это индикатор или комплекс индикаторов заключенной в одной функции."
   ]
  },
  {
   "cell_type": "markdown",
   "id": "5eb6d437",
   "metadata": {},
   "source": [
    "<p style = \"background-color : #afeeee; border-radius: 5px 5px; padding : 10px\"><strong>\n",
    "<span style=\"color:#000\">Импортируем библиотеки используемые в работе:</span>"
   ]
  },
  {
   "cell_type": "code",
   "execution_count": 72,
   "id": "9daab689",
   "metadata": {},
   "outputs": [],
   "source": [
    "# Расчёты\n",
    "import numpy as np\n",
    "import pandas as pd\n",
    "\n",
    "# Визуализация\n",
    "import matplotlib.pyplot as plt\n",
    "import seaborn as sns\n",
    "import plotly.express as px\n",
    "import plotly.graph_objects as go\n",
    "\n",
    "# Для распечатки в цвете:\n",
    "from termcolor import colored\n",
    "\n",
    "import re\n",
    "# import nltk\n",
    "# from nltk.stem import WordNetLemmatizer\n",
    "# from nltk.corpus import stopwords\n",
    "# from nltk.tokenize import word_tokenize\n",
    "from collections import Counter"
   ]
  },
  {
   "cell_type": "markdown",
   "id": "557b8b20",
   "metadata": {},
   "source": [
    "<p style = \"background-color : #afeeee; border-radius: 5px 5px; padding : 10px\"><strong>\n",
    "<span style=\"color:#000\">Функции:</span>"
   ]
  },
  {
   "cell_type": "markdown",
   "id": "abf93394",
   "metadata": {},
   "source": [
    "<p style = \"background-color : #95f59ff2; border-radius: 5px 5px; padding : 5px\"><strong>\n",
    "<span style=\"color:#000\">Графики</span>"
   ]
  },
  {
   "cell_type": "code",
   "execution_count": 73,
   "id": "d9a28404",
   "metadata": {},
   "outputs": [],
   "source": [
    "def build_graph(library, chart_type, data_frame, x, y, height, width, title, xaxis_title, yaxis_title, legend = None, color = None):\n",
    "    \"\"\"Функция по построению графиков\n",
    "\n",
    "    Args:\n",
    "        library: Библиотека построения\n",
    "        chart_type: Тип графика\n",
    "        data_frame: Датафрейм из которого будет читаться данные\n",
    "        x: Ось x\n",
    "        y: Ось y\n",
    "        height: Высота графика\n",
    "        width: Ширина графика\n",
    "        title: Название графика\n",
    "        xaxis_title: Название оси x\n",
    "        yaxis_title: Название оси y\n",
    "        legend: Название легенды\n",
    "        color: Цвет колонок\n",
    "    Raises:\n",
    "        ValueError: Ошибка вызова графика\n",
    "    \"\"\"\n",
    "    if library == 'plt':\n",
    "        plt.figure(figsize=(height, width))\n",
    "        plt.title(title)\n",
    "        if chart_type == 'box':\n",
    "            sns.boxplot(data=data_frame, x=x, y=y)\n",
    "        elif chart_type == 'bar':\n",
    "            sns.barplot(data=data_frame, x=x, y=y)\n",
    "        else:\n",
    "            raise ValueError(\"Неподдерживаемый тип графика. Допустимые значения chart_type: 'box', 'bar'\")\n",
    "        plt.xlabel(xaxis_title)\n",
    "        plt.ylabel(yaxis_title)\n",
    "        plt.show()\n",
    "    # plotly\n",
    "    elif library == 'px':\n",
    "        if chart_type == 'box':\n",
    "            fig = px.box(data_frame=data_frame, x=x, y=y, color=color, title=title)\n",
    "        elif chart_type == 'bar':\n",
    "            fig = px.bar(data_frame=data_frame, x=x, y=y, color=color, title=title)\n",
    "        else:\n",
    "            raise ValueError(\"Неподдерживаемый тип графика. Допустимые значения chart_type: 'box', 'bar'\")\n",
    "        \n",
    "        fig.update_layout(\n",
    "            title=dict(x=0.5, xanchor=\"center\"),\n",
    "            legend_title=legend,\n",
    "            xaxis_title=xaxis_title,\n",
    "            yaxis_title=yaxis_title,\n",
    "            margin=dict(l=0, r=0, t=30, b=0),\n",
    "            title_x=0.5\n",
    "        )\n",
    "        fig.show()\n",
    "    else:\n",
    "        raise ValueError(\"Неподдерживаемая библиотека. Допустимые значения library: 'px', 'plt'\")\n"
   ]
  },
  {
   "cell_type": "code",
   "execution_count": 74,
   "id": "39a599a9",
   "metadata": {},
   "outputs": [],
   "source": [
    "def pie_graph(data, title_text):\n",
    "    # Построение круговой диаграммы\n",
    "    fig = go.Figure(\n",
    "        data=[go.Pie(       \n",
    "            values=data.values, \n",
    "            labels=data.index, \n",
    "            pull=[0.1]*len(data)\n",
    "        )]\n",
    "    )\n",
    "\n",
    "\n",
    "    fig.update_traces(\n",
    "        hoverinfo='label+value',  # Добавляем информацию при наведении\n",
    "        textinfo='percent',\n",
    "        textfont_size=15,\n",
    "        marker=dict(line=dict(color='#000000', width=2))\n",
    "    )\n",
    "\n",
    "    # Устанавливаем название графика и размеры текста:\n",
    "    fig.update_layout(\n",
    "        title_text=title_text,\n",
    "        title_font_size=20,\n",
    "        legend_font_size=20,\n",
    "        width=800,\n",
    "        height=600\n",
    "    )\n",
    "\n",
    "    fig.show()"
   ]
  },
  {
   "cell_type": "code",
   "execution_count": 75,
   "id": "ff7109de",
   "metadata": {},
   "outputs": [],
   "source": [
    "def gist_graph(df, column, title):    \n",
    "    # Вычисляем моду, это понадобится для выделение моды на графике\n",
    "    sharpe_mode = df[column].mode()[0]\n",
    "\n",
    "    fig = px.histogram(\n",
    "        df,   \n",
    "        x = column,\n",
    "        marginal='box',\n",
    "        nbins=200,\n",
    "        width=1000,\n",
    "        height=500,\n",
    "        color_discrete_sequence=['Orangered']\n",
    "    )\n",
    "\n",
    "    # Устанавливаем название графика, размеры текста и наименование осей:\n",
    "    fig.update_layout(\n",
    "        title={\n",
    "            'text': title,\n",
    "            'y':0.97,\n",
    "            'x':0.5,\n",
    "            'xanchor': 'center',\n",
    "            'yanchor': 'top'\n",
    "            },\n",
    "        title_font={\n",
    "            'size':18,\n",
    "            'color':\"black\"\n",
    "            },\n",
    "        xaxis_title='Размер коэффициента',\n",
    "        yaxis_title='Количество вхождений'\n",
    "    )\n",
    "\n",
    "    # Добавляем обводку колонок\n",
    "    fig.update_traces(\n",
    "        hoverinfo=\"all\",\n",
    "        hovertemplate=\"Диапазон размера коэффициента: %{x}\",\n",
    "        marker_line_color='black',   # Цвет линии колонки\n",
    "        marker_line_width=1.0,       # Толщина линии колонки\n",
    "        opacity=0.9            # Прозрачность колонки\n",
    "    )\n",
    "\n",
    "    # Устанавливаем дополнительную линию моды на графике:\n",
    "    fig.add_vline(\n",
    "        x=sharpe_mode,\n",
    "        line_width=2, \n",
    "        line_color=\"black\", \n",
    "        annotation_text=f\"Мода распределения: {sharpe_mode}\",\n",
    "        annotation_position='bottom left'\n",
    "    )\n",
    "\n",
    "    fig.update_xaxes(showspikes=True)\n",
    "    fig.update_yaxes(showspikes=True)\n",
    "    fig.show()"
   ]
  },
  {
   "cell_type": "markdown",
   "id": "f1d2c7ed",
   "metadata": {},
   "source": [
    "<p style = \"background-color : #95f59ff2; border-radius: 5px 5px; padding : 5px\"><strong>\n",
    "<span style=\"color:#000\">Работа с текстом</span>"
   ]
  },
  {
   "cell_type": "code",
   "execution_count": 76,
   "id": "a1378232",
   "metadata": {},
   "outputs": [],
   "source": [
    "# Функция для очистки текста\n",
    "def clean_text(text):\n",
    "    # Удаление эмодзи и спецсимволов, кроме пробелов\n",
    "    text = re.sub(r'[^\\w\\s]', '', str(text))\n",
    "    # Удаление лишних пробелов\n",
    "    text = re.sub(r'\\s+', ' ', text).strip().lower()\n",
    "    return text"
   ]
  },
  {
   "cell_type": "code",
   "execution_count": 77,
   "id": "c9f9ebb9",
   "metadata": {},
   "outputs": [],
   "source": [
    "def classify_tags(row, tags_dict):\n",
    "    \"\"\"Функция для классификации тегов на основе нового словаря.\"\"\"\n",
    "    text_to_analyze = f\"{str(row['strategy_description'])} {str(row['tags'])}\"\n",
    "    classifications = []\n",
    "\n",
    "    for category, keywords in tags_dict.items():\n",
    "        if any(re.search(r'\\b' + re.escape(keyword) + r'\\b', text_to_analyze) for keyword in keywords):\n",
    "            classifications.append(category)\n",
    "\n",
    "    # Если найдено более одного тега, возвращаем 'mixed' УБРАТЬ ЭТУ СТРОКУ ЕСЛИ НАМ НЕОБХОДИМЫ ВСЕ ВХОЖДЕНИЯ\n",
    "    if len(classifications) > 1:\n",
    "        return 'combined strategy'\n",
    "    \n",
    "    return classifications[0] if classifications else 'No classification'"
   ]
  },
  {
   "cell_type": "code",
   "execution_count": 78,
   "id": "2e00cb22",
   "metadata": {},
   "outputs": [],
   "source": [
    "def check_keywords(df, tags):\n",
    "    \"\"\"Функция для проверки наличия ключевых слов в датафрейме.\"\"\"\n",
    "    # Объединяем описание и теги\n",
    "    df['combined'] = (df['strategy_description'].fillna('') + ' ' + df['tags'].fillna('')).str.lower()\n",
    "    \n",
    "    # Функция для обработки каждой строки\n",
    "    def process_text(text):\n",
    "        matched_tags = []\n",
    "        for keyword in tags:\n",
    "            if keyword in text:\n",
    "                matched_tags.append(keyword)\n",
    "        return matched_tags\n",
    "\n",
    "    # Применяем функцию к объединенному тексту\n",
    "    df['type_tags'] = df['combined'].apply(process_text)\n",
    "    return df.drop(columns=['combined'])"
   ]
  },
  {
   "cell_type": "code",
   "execution_count": 79,
   "id": "e2d832dc",
   "metadata": {},
   "outputs": [],
   "source": [
    "def convert_to_numeric(val):\n",
    "    # Заменяем символы и удаляем пробелы\n",
    "    val = val.replace('−', '-')  # Заменяем минус на стандартный\n",
    "    val = val.replace('+', '')    # Удаляем знак плюс\n",
    "    val = val.replace(',', '')     # Удаляем запятые\n",
    "    return pd.to_numeric(val, errors='coerce')  # для преобразования строки в числовой формат, при этом errors='coerce' заменяет некорректные значения на NaN."
   ]
  },
  {
   "cell_type": "markdown",
   "id": "5649c21c",
   "metadata": {},
   "source": [
    "<p style = \"background-color : #95f59ff2; border-radius: 5px 5px; padding : 5px\"><strong>\n",
    "<span style=\"color:#000\">Создание датафреймов</span>"
   ]
  },
  {
   "cell_type": "code",
   "execution_count": 80,
   "id": "a10ebd8f",
   "metadata": {},
   "outputs": [],
   "source": [
    "def process_tags(df, tags_dict):\n",
    "    \"\"\"Функция по созданию датафреймов согласно списку тегов.\"\"\"\n",
    "    tag_counts_results = {}\n",
    "\n",
    "    for tag_name, keywords in tags_dict.items():\n",
    "        # Проверяем ключевые слова из ранее сделанной функции\n",
    "        filtered_df = check_keywords(df, keywords)\n",
    "        # Убираем строки с пустыми классификациями\n",
    "        filtered_df = filtered_df[filtered_df['type_tags'].apply(lambda x: x != [])]\n",
    "        # Сохраняем только нужные столбцы\n",
    "        filtered_df = filtered_df[['title', 'type_tags']]\n",
    "        \n",
    "        # Разбиваем списки на отдельные строки\n",
    "        exploded_tags = filtered_df.explode('type_tags')\n",
    "        \n",
    "        # Подсчитываем количество вхождений каждого тега\n",
    "        tag_counts = exploded_tags['type_tags'].value_counts().reset_index()\n",
    "        tag_counts.columns = ['tag', 'count']  # Переименовываем колонки\n",
    "        \n",
    "        # Сортируем по количеству вхождений\n",
    "        tag_counts = tag_counts.sort_values(by='count', ascending=False)\n",
    "        \n",
    "        # Сохраняем результат в словаре\n",
    "        tag_counts_results[tag_name] = tag_counts\n",
    "\n",
    "    return tag_counts_results\n"
   ]
  },
  {
   "cell_type": "markdown",
   "id": "be21dee6",
   "metadata": {},
   "source": [
    "<a id='1'></a>\n",
    "<p style = \"background-color : #79d1ff; border-radius: 5px 5px; padding : 10px\"><strong>\n",
    "\n",
    "# Обзор колонок датасета\n",
    "\n",
    "<p style = \"background-color : #79d1ff; border-radius: 5px 5px; padding : 10px\"><strong>"
   ]
  },
  {
   "cell_type": "markdown",
   "id": "3d9d3b5e",
   "metadata": {},
   "source": [
    "<div class=\"alert alert-info\">\n",
    "\n",
    "##### **Overview (Обзор)**\n",
    "- <span style=\"color:#af0400\">**title**</span> -  <span style=\"color:#02020A\">**Название стратегии**</span>;\n",
    "- <span style=\"color:#af0400\">**strategy_description**</span> - <span style=\"color:#02020A\">**Описание стратегии**</span>;\n",
    "- <span style=\"color:#af0400\">**tags**</span> - <span style=\"color:#02020A\">**Теги к стратегии**</span>;\n",
    "\n",
    "##### **Performance (Отчет о стратегии)**\n",
    "- <span style=\"color:#af0400\">**Open P&L**</span> - <span style=\"color:#02020A\">**Анализ сделок**</span> (Прибыль или убыток по текущей открытой позиции. Если позиция не открыта, возвращается значение N/A)</span>;\n",
    "- <span style=\"color:#af0400\">**Net profit**</span> - <span style=\"color:#02020A\">**Чистая прибыль**</span> (Значение представляет собой сумму всех значений из столбца «Прибыль»);\n",
    "- <span style=\"color:#af0400\">**Gross profit**</span> - <span style=\"color:#02020A\">**Валовая прибыль**</span> (Общая прибыль по всем прибыльным сделкам, генерируемая стратегией);\n",
    "- <span style=\"color:#af0400\">**Gross loss**</span> - <span style=\"color:#02020A\">**Валовый убыток**</span> (Общие убытки по всем убыточным сделкам, совершенным по стратегии. Анализ и сокращение торговых убытков — чрезвычайно важная часть анализа торговой стратегии. Именно поэтому эта характеристика стратегии является наиболее важной. Следует отметить, что чистая прибыль увеличивается не только при увеличении валовой прибыли, но и при сокращении валовых убытков);\n",
    "- <span style=\"color:#af0400\">**Commission paid**</span> - <span style=\"color:#02020A\">**Уплаченная комиссия**</span>;\n",
    "- <span style=\"color:#af0400\">**Buy & hold returntact**</span> - <span style=\"color:#02020A\">**Возврат средств при покупке и удержании**</span> (Доходность, полученная в случае, если все средства (начальный капитал) были использованы для покупки ценной бумаги при открытии первой сделки и позиция удерживалась в течение всего тестового периода);\n",
    "- <span style=\"color:#af0400\">**Max equity run-up**</span> - <span style=\"color:#02020A\">**Максимальный прирост собственного капитала**</span> (Отображает максимальный выигрыш, то есть максимально возможный выигрыш, который стратегия могла бы получить по всем совершённым сделкам);\n",
    "- <span style=\"color:#af0400\">**Max equity drawdown**</span> - <span style=\"color:#02020A\">**Максимальная просадка собственного капитала**</span> (Отображает наибольшую просадку по убыткам, то есть максимально возможный убыток, который могла бы понести стратегия по всем совершённым сделкам.);\n",
    "- <span style=\"color:#af0400\">**Max contracts held**</span> - <span style=\"color:#02020A\">**Максимальное количество заключенных контрактов**</span> (Максимальное количество контрактов, заключенных одновременно.).\n",
    "\n",
    "\n",
    "##### **Trades analysis (Анализ сделок)**\n",
    "- <span style=\"color:#af0400\">**Total trades**</span> - <span style=\"color:#02020A\">**Общее количество сделок**</span> (как выигрышных, так и убыточных);\n",
    "- <span style=\"color:#af0400\">**Total open trades**</span> - <span style=\"color:#02020A\">**Общее количество открытых сделок**</span> (в данный момент);\n",
    "- <span style=\"color:#af0400\">**Winning trades**</span> - <span style=\"color:#02020A\">**Выигрышные сделки**</span>;\n",
    "- <span style=\"color:#af0400\">**Losing trades**</span> - <span style=\"color:#02020A\">**Убыточные сделки**</span>;\n",
    "- <span style=\"color:#af0400\">**Percent profitable**</span> - <span style=\"color:#02020A\">**Процент прибыльности**</span> (Процент прибыльных сделок, совершённых по стратегии. Рассчитывается путём деления количества прибыльных сделок на общее количество закрытых сделок, совершённых по стратегии. Процент прибыльных сделок сам по себе не является надёжным показателем);\n",
    "- <span style=\"color:#af0400\">**Avg P&L**</span> - <span style=\"color:#02020A\">**Средний доход за год**</span> (Сумма денег, полученная или потерянная в результате средней сделки, заключённой по стратегии. Рассчитывается путём деления чистой прибыли на общее количество закрытых сделок. Важное значение, поскольку оно должно быть достаточно большим, чтобы покрыть комиссию и издержки, связанные с проскальзыванием, и при этом приносить прибыль);\n",
    "- <span style=\"color:#af0400\">**Avg winning trade**</span> - <span style=\"color:#02020A\">**Средняя выигрышная сделка**</span> (Валовая прибыль, делённая на количество прибыльных сделок, совершённых по стратегии);\n",
    "- <span style=\"color:#af0400\">**Avg losing trade**</span> - <span style=\"color:#02020A\">**Средняя убыточная сделка**</span> (Общий убыток, делённый на количество убыточных сделок, открытых по стратегии);\n",
    "- <span style=\"color:#af0400\">**Ratio avg win / avg loss**</span> - <span style=\"color:#02020A\">**Соотношение avg выигрыш / avg проигрыш**</span> (Среднее значение того, сколько денежных единиц вы выигрываете на каждую потерянную единицу (в выбранной валюте). Это значение рассчитывается путём деления среднего количества выигрышных сделок на среднее количество проигрышных сделок. Само по себе это поле не является очень значимым, поскольку оно не учитывает соотношение количества выигрышных и проигрышных сделок, а стратегии могут иметь разные подходы к прибыльности);\n",
    "- <span style=\"color:#af0400\">**Largest winning trade**</span> - <span style=\"color:#02020A\">**Самая крупная выигрышная сделка**</span> (Наибольшая денежная прибыль и наибольшая процентная прибыль. Эти показатели обычно относятся к одной и той же сделке, но могут относиться и к разным сделкам);\n",
    "- <span style=\"color:#af0400\">**Largest winning trade percent**</span> - <span style=\"color:#02020A\">**Процент самой крупной выигрышной сделки**</span>;\n",
    "- <span style=\"color:#af0400\">**Largest losing trade**</span> - <span style=\"color:#02020A\">**Самая убыточная сделка**</span>;\n",
    "- <span style=\"color:#af0400\">**Largest losing trade percent**</span> - <span style=\"color:#02020A\">**Процент самой убыточной сделки**</span>(Наибольшая денежная потеря и наибольшая процентная потеря. Эти показатели обычно относятся к одной и той же сделке, но могут относиться и к разным сделкам);\n",
    "- <span style=\"color:#af0400\">**Avg # bars in trades**</span> - <span style=\"color:#02020A\">**Среднее количество в баров сделок**</span>;\n",
    "- <span style=\"color:#af0400\">**Avg # bars in winning trades**</span> - <span style=\"color:#02020A\">**Среднее количество в баров в выигрышных сделках**</span>;\n",
    "- <span style=\"color:#af0400\">**Avg # bars in losing trades**</span> - <span style=\"color:#02020A\">**Среднее количество в баров убыточных сделках**</span>;\n",
    " \n",
    "##### **Risk / performance ratios (Соотношения риска и доходности)**\n",
    "- <span style=\"color:#af0400\">**Sharpe ratio**</span> - <span style=\"color:#02020A\">**Коэффициент Шарпа**</span> (Чем выше коэффициент Шарпа, тем более плавная кривая доходности. Для многих трейдеров плавная кривая доходности является важной целью);\n",
    "- <span style=\"color:#af0400\">**Sortino ratio**</span> - <span style=\"color:#02020A\">**Коэффициент Сортино**</span> (Даёт более полное представление об эффективности портфеля с учётом риска, поскольку положительная волатильность считается преимуществом);\n",
    "- <span style=\"color:#af0400\">**Profit factor**</span> - <span style=\"color:#02020A\">**Коэффициент прибыли**</span> (Сумма денег, которую торговая стратегия заработала на каждую единицу потерянных денег (в выбранной валюте). Это значение рассчитывается путём деления валовой прибыли на валовые убытки);\n",
    "- <span style=\"color:#af0400\">**Margin calls**</span> - <span style=\"color:#02020A\">**Маржин-коллы**</span> (Общее количество маржин-коллов, сгенерированных стратегией);\n",
    "\n",
    "##### **Properties (Свойства стратегий)**\n",
    "- <span style=\"color:#af0400\">**properties**</span> - <span style=\"color:#02020A\">**Свойства**</span> (Содержит в себе диапазон торговых дат, Информации о символах, исходные данные стратегии и свойства стратегии);\n"
   ]
  },
  {
   "cell_type": "markdown",
   "id": "8f71dc2b",
   "metadata": {},
   "source": [
    "<center><p style = \"background-color : white; border-radius: 2px 2px; padding : 3px\"><strong>\n",
    "<span style=\"color:#000\">Дополнительные материалы:</span>"
   ]
  },
  {
   "cell_type": "markdown",
   "id": "b637afc6",
   "metadata": {},
   "source": [
    "<span style=\"color:#00FF00\">**Коэффициент Шарпа**</span> — это метрика, которая оценивает эффективность инвестиций, учитывая их доходность с поправкой на риск. Он показывает, насколько хорошо актив или стратегия вознаграждает инвестора за принятый риск. Чем выше значение, тем лучше соотношение доходности и риска.\n",
    "$$\n",
    "\\text{Sharpe Ratio} = \\frac{R_p - R_f}{\\sigma_p}\n",
    "$$\n",
    "Где:  \n",
    "- $R_p$ — средняя доходность портфеля/стратегии.  \n",
    "- $R_f$ — безрисковая ставка (например, доходность гособлигаций).  \n",
    "- $\\sigma_p$ — стандартное отклонение доходности портфеля (волатильность).\n",
    "\n",
    "**Как интерпретировать коэффициент Шарпа?**\n",
    "\n",
    "> $>2$ — Отлично: высокая эффективность.\n",
    "\n",
    "> $>1$ — Хорошо: доходность компенсирует риск.\n",
    "\n",
    "> $<1$ — Низкая эффективность: риск не оправдан доходностью. \n",
    "\n",
    "\n",
    "\n",
    "<span style=\"color:#00FF00\">**Коэффициент Сортино**</span> - это метрика, оценивающая доходность инвестиций с учётом только негативного риска (downside risk). В отличие от коэффициента Шарпа, который учитывает общую волатильность (как рост, так и падение), Сортино фокусируется на риске убытков. Это делает его более подходящим для оценки стратегий, где важно контролировать просадки.\n",
    "$$\n",
    "\\text{Sortino Ratio} = \\frac{R_p - R_f}{\\sigma_d}\n",
    "$$\n",
    "\n",
    "Где:  \n",
    "- $R_p$ — средняя доходность портфеля.  \n",
    "- $R_f$ — безрисковая ставка (например, доходность гособлигаций).  \n",
    "- $\\sigma_d$ — downside deviation (стандартное отклонение только тех доходностей, которые ниже целевого уровня, например, $R_f$).\n",
    "\n",
    "**Как интерпретировать коэффициент Шарпа?**\n",
    "> $>2$ — Отлично: Стратегия/актив приносит высокую доходность с минимальными просадками.\n",
    "\n",
    "> $>1$ — Хорошо: Риск убытков оправдан доходностью.\n",
    "\n",
    "> $<1$ — Слабый результат: Риск убытков слишком высок относительно доходности. \n",
    "\n",
    "> $<0$ - Опасный сигнал: Средняя доходность ниже безрисковой ставки. Инвестор теряет деньги с учётом риска\n",
    "\n",
    "<span style=\"color:#00FF00\">**Коэффициент прибыли**</span> - показывает соотношение общей прибыли к общим убыткам. Это ключевой показатель для оценки эффективности торговой стратегии.\n",
    "\n",
    "\n",
    "$$\n",
    "\\text{Profit Factor} = \\frac{\\sum \\text{Profit}}{\\sum \\text{Loss}}\n",
    "$$\n",
    "\n",
    "> $>2$ — Cтратегия генерирует вдвое больше прибыли, чем убытков\n",
    "\n",
    "> $>1$ — Стратегия прибыльна.\n",
    "\n",
    "> $=1$ — Безубыточность.\n",
    "\n",
    "> $<1$ —  Убыточность.\n",
    "\n",
    "\n",
    "<span style=\"color:#FF4500\">**Сравнение Profit Factor, Коэффициента Шарпа и Коэффициента Сортино**</span>\n",
    "\n",
    "| Параметр                | Profit Factor                  | Коэффициент Шарпа             | Коэффициент Сортино            |\n",
    "|-------------------------|--------------------------------|--------------------------------|---------------------------------|\n",
    "| **Что измеряет**         | Соотношение прибыли и убытков  | Доходность на единицу общего риска | Доходность на единицу downside-риска |\n",
    "| **Формула**             | (Сумма прибыли) / (Сумма убытков) | (Rp - Rf) / σp                | (Rp - Rf) / σd                  |\n",
    "| **Учитываемый риск**    | Не учитывает                   | Общая волатильность            | Только негативная волатильность |\n",
    "| **Идеальное значение**  | ≥ 2.0                         | ≥ 1.5                          | ≥ 2.0                          |\n",
    "| **Где применять**       | Оценка рентабельности стратегии | Сравнение с рыночными индексами | Контроль просадок              |\n",
    "| **Пример расчета**      | Прибыль: $15k, Убытки: $5k → PF = 3.0 | Rp=12%, Rf=2%, σp=10% → (12-2)/10 = 1.0 | Rp=15%, Rf=2%, σd=5% → (15-2)/5 = 2.6 |\n",
    "| **Плюсы**               | Простота интерпретации         | Универсальность                | Фокус на риск убытков           |\n",
    "| **Минусы**              | Игнорирует размер и частоту сделок | Наказывает за позитивную волатильность | Зависит от выбора MAR*          |\n",
    "| **Подходит для**        | Начинающих трейдеров           | Долгосрочных инвесторов        | Консервативных стратегий        |\n",
    "\n",
    "*MAR (Minimum Acceptable Return) — минимально допустимая доходность.\n",
    "\n",
    "---\n",
    "\n",
    "### Краткие пояснения:\n",
    "1. **Profit Factor**  \n",
    "   - Быстрый \"чек-ап\" стратегии: показывает, во сколько раз прибыль превышает убытки.  \n",
    "   - Пример: PF = 2 → на каждые $1 убытка приходится $2 прибыли.\n",
    "\n",
    "2. **Коэффициент Шарпа**  \n",
    "   - Универсальный стандарт для сравнения активов.  \n",
    "   - Пример: Sharpe = 1.5 → доходность на 50% выше общего риска.\n",
    "\n",
    "3. **Коэффициент Сортино**  \n",
    "   - Идеален для стратегий с жестким стоп-лоссом.  \n",
    "   - Пример: Sortino = 3 → доходность в 3 раза превышает риск просадок.\n",
    "\n",
    "\n",
    "\n",
    "<span style=\"color:#00FF00\">**Маржин-коллы**</span> - это требование брокера к трейдеру пополнить счет или закрыть часть позиций, когда уровень маржи (свободных средств) падает ниже допустимого минимума. Это происходит, если убытки по открытым позициям «съедают» залоговые средства. Игнорирование маржин-колла может привести к принудительному закрытию позиций брокером."
   ]
  },
  {
   "cell_type": "markdown",
   "id": "07d6a5d4",
   "metadata": {},
   "source": [
    "<div class=\"alert alert-info\">\n",
    "    \n",
    "Читаем данный после парсинга"
   ]
  },
  {
   "cell_type": "code",
   "execution_count": 81,
   "id": "f2c7ed80",
   "metadata": {},
   "outputs": [],
   "source": [
    "df = pd.read_csv('tradingview_strategies_full.csv')"
   ]
  },
  {
   "cell_type": "code",
   "execution_count": 82,
   "id": "71339322",
   "metadata": {},
   "outputs": [
    {
     "data": {
      "application/vnd.microsoft.datawrangler.viewer.v0+json": {
       "columns": [
        {
         "name": "index",
         "rawType": "int64",
         "type": "integer"
        },
        {
         "name": "title",
         "rawType": "object",
         "type": "string"
        },
        {
         "name": "strategy_description",
         "rawType": "object",
         "type": "string"
        },
        {
         "name": "tags",
         "rawType": "object",
         "type": "string"
        },
        {
         "name": "Open P&L",
         "rawType": "object",
         "type": "unknown"
        },
        {
         "name": "Net profit",
         "rawType": "object",
         "type": "unknown"
        },
        {
         "name": "Gross profit",
         "rawType": "object",
         "type": "unknown"
        },
        {
         "name": "Gross loss",
         "rawType": "object",
         "type": "unknown"
        },
        {
         "name": "Commission paid",
         "rawType": "object",
         "type": "unknown"
        },
        {
         "name": "Buy & hold return",
         "rawType": "object",
         "type": "unknown"
        },
        {
         "name": "Max equity run-up",
         "rawType": "object",
         "type": "unknown"
        },
        {
         "name": "Max equity drawdown",
         "rawType": "object",
         "type": "unknown"
        },
        {
         "name": "Max contracts held",
         "rawType": "object",
         "type": "unknown"
        },
        {
         "name": "Total trades",
         "rawType": "object",
         "type": "unknown"
        },
        {
         "name": "Total open trades",
         "rawType": "float64",
         "type": "float"
        },
        {
         "name": "Winning trades",
         "rawType": "object",
         "type": "unknown"
        },
        {
         "name": "Losing trades",
         "rawType": "object",
         "type": "unknown"
        },
        {
         "name": "Percent profitable",
         "rawType": "object",
         "type": "unknown"
        },
        {
         "name": "Avg P&L",
         "rawType": "object",
         "type": "unknown"
        },
        {
         "name": "Avg winning trade",
         "rawType": "object",
         "type": "unknown"
        },
        {
         "name": "Avg losing trade",
         "rawType": "object",
         "type": "unknown"
        },
        {
         "name": "Ratio avg win / avg loss",
         "rawType": "object",
         "type": "unknown"
        },
        {
         "name": "Largest winning trade",
         "rawType": "object",
         "type": "unknown"
        },
        {
         "name": "Largest winning trade percent",
         "rawType": "object",
         "type": "unknown"
        },
        {
         "name": "Largest losing trade",
         "rawType": "object",
         "type": "unknown"
        },
        {
         "name": "Largest losing trade percent",
         "rawType": "object",
         "type": "unknown"
        },
        {
         "name": "Avg # bars in trades",
         "rawType": "object",
         "type": "unknown"
        },
        {
         "name": "Avg # bars in winning trades",
         "rawType": "object",
         "type": "unknown"
        },
        {
         "name": "Avg # bars in losing trades",
         "rawType": "object",
         "type": "unknown"
        },
        {
         "name": "Sharpe ratio",
         "rawType": "object",
         "type": "unknown"
        },
        {
         "name": "Sortino ratio",
         "rawType": "object",
         "type": "unknown"
        },
        {
         "name": "Profit factor",
         "rawType": "object",
         "type": "unknown"
        },
        {
         "name": "Margin calls",
         "rawType": "float64",
         "type": "float"
        },
        {
         "name": "properties",
         "rawType": "object",
         "type": "string"
        }
       ],
       "conversionMethod": "pd.DataFrame",
       "ref": "6a5cbfb1-8dcd-4273-8afe-0797fd7b9fbf",
       "rows": [
        [
         "0",
         "Daily Breakout + Daily Shadow By Rouro",
         "This script is a Pine v5 strategy designed to detect daily candle body breakouts and execute them on any intraday timeframe, while also providing:Daily Data RetrievalUsing request.security(..., \"D\", ...) it fetches the OHLC and timestamp of the daily candle, regardless of the chart’s current timeframe.Calculation of Yesterday’s and Day-Before-Yesterday’s Bodiesb1High and b1Low → the high/low of yesterday’s daily candle bodyb2High and b2Low → the high/low of the previous day’s bodyDetection of the First Intraday Bar After a New DayBy using ta.change(time(\"D\")), it marks the start of each new trading day.Drawing the Previous Day’s “Shadow” on the ChartIt overlays a box (box.new) and two wick lines (line.new) with configurable colors and transparency, so you can clearly see the full range of yesterday’s candle on any intraday chart.Automatic End-of-Day Position ClosureIt will automatically close any open position at the start of the next day to avoid unintended rollovers.Entry SignalsOn the very first intraday bar after the daily close:Long if yesterday’s close broke above the body of the day before yesterdayShort if yesterday’s close broke below the body of the day before yesterday…which triggers a strategy.entry at the intraday open.Fully Customizable Stop-Loss and Take-ProfitSL options:Opposite end of yesterday’s bodyFixed pips from entryA risk-reward ratio on yesterday’s wickOptional “safety SL” in fixed pips that overrides the aboveTP options:Fixed pipsYesterday’s wick extreme (high/low)Partial exit on the wick (TP1), then second exit (TP2) either:At a multiplied RROr at the daily close (“Close of Day”)You can also choose to move SL to breakeven after TP1 is hit.Live Metrics TableIn the upper-right corner it displays in real time:Start of backtest (date of first trade)Number of ✅ Winning trades and ❌ Losing tradesTotal number of tradesWin rate (%)Profit FactorAll within a fixed table layout so it never runs out of rows or columns.",
         "{'statistics', 'Candlestick analysis', 'Chart patterns'}",
         "0",
         "+8,375.00",
         "9,973.00",
         "1,598.00",
         "0",
         "+117,304.17",
         "8,375.00",
         "1,608.50",
         "100",
         "14",
         "0.0",
         "11",
         "1",
         "78.57%",
         "598.21",
         "906.64",
         "1,598.00",
         "0.567",
         "1,851.50",
         "0.56%",
         "1,598.00",
         "0.51%",
         "50",
         "63",
         "1",
         "0.203",
         "0.453",
         "6.241",
         "0.0",
         "{'Trading range': 'Mar 10, 2025, 23:05 — May 01, 2025, 21:55', 'Backtesting range': 'Mar 09, 2025, 23:00 — May 01, 2025, 21:55', 'Symbol': 'OANDA:XAUUSD', 'Timeframe': '5 minutes', 'Point value': '1', 'Chart type': 'Candles', 'Currency': 'USD', 'Tick size': '0.001', 'Precision': 'Default', 'Tipo de SL': 'Tipo de SLBody', 'SL fijo (pips)': 'SL fijo (pips)10', 'RR para SL': 'RR para SL2', 'Activar SL de seguridad': 'Activar SL de seguridadOff', 'SL seguridad (pips)': 'SL seguridad (pips)20', 'Tipo de TP': 'Tipo de TPWick', 'TP fijo (pips)': 'TP fijo (pips)10', 'Modo TP2 parcial': 'Modo TP2 parcialRR', 'RR para TP2': 'RR para TP22', 'Mover SL a BE tras TP1': 'Mover SL a BE tras TP1On', 'Pct a cerrar en TP1': 'Pct a cerrar en TP150', 'Color Cuerpo Alcista': '', 'Color Cuerpo Bajista': '', 'Color Mechas Alcista': '', 'Color Mechas Bajista': '', 'Transparencia Cuerpo (0–100)': 'Transparencia Cuerpo (0–100)30', 'Initial capital': '1,000,000.00USD', 'Order size': '100 contracts', 'Pyramiding': '1 orders', 'Commission': '0\\xa0%', 'Slippage': '0 ticks', 'Verify price for limit orders': '0 ticks', 'Margin for long positions': '0%', 'Margin for short positions': '0%', 'Recalculate after order is filled': 'Off', 'Recalculate on every tick': 'Off', 'Recalculate on bar close': 'Off', 'Backtesting precision. Use bar magnifier': 'Off'}"
        ],
        [
         "1",
         "Order Block Strategy",
         "Strategy OverviewKey FeaturesOrder Block Detection: Utilizes the LuxAlgo Order Block Detector to identify bullish (support) and bearish (resistance) order blocks based on volume peaks and price action.Position Size: $3,000 per trade, reflecting $300 capital with 10x leverage.Risk Management:Stop Loss: Below the bottom of bullish order blocks for longs, above the top of bearish order blocks for shorts.Take Profit: 5%, 15%, and 50% from the entry price, each closing 33.33% of the position.Webhook Compatibility: Uses strategy.entry() and strategy.exit() for TradingView alert integration.Buy and Sell ConditionsBuy:Triggered when the price low enters the most recent unmitigated bullish order block (low ≤ bull_top[0]) and closes above it (close > bull_top[0]), indicating a bounce from support.Sell:Triggered when the price high enters the most recent unmitigated bearish order block (high ≥ bear_btm[0]) and closes below it (close < bear_btm[0]), indicating a rejection from resistance.Risk ManagementStop Loss: Long: Set at bull_btm[0] (low of the bullish order block).Short: Set at bear_top[0] (high of the bearish order block).Take Profit:Long: 5% (entry * 1.05), 15% (entry * 1.15), 50% (entry * 1.50).Short: 5% (entry * 0.95), 15% (entry * 0.85), 50% (entry * 0.50).Each level closes approximately one-third of the position.",
         "{'Pivot points and levels', 'Pine utilities', 'Volume'}",
         "−1,453.09",
         "+9,783.49",
         "9,783.49",
         "0.00001",
         "0",
         "−72.38",
         "10,667.89",
         "3,180.47",
         "195,976",
         "13",
         "1.0",
         "11",
         "2",
         "84.62%",
         "752.58",
         "889.41",
         "0.000003",
         "259,302,563.596",
         "1,200.44",
         "20.01%",
         "0.000004",
         "3.49%",
         "1,152",
         "1,348",
         "71",
         "0.616",
         "9.392",
         "1,426,164,099.778",
         "0.0",
         "{'Trading range': 'Oct 01, 2024, 15:30 — May 02, 2025, 08:45', 'Backtesting range': 'Oct 01, 2024, 02:00 — May 02, 2025, 08:45', 'Symbol': 'BYBIT:OXTUSDT.P', 'Timeframe': '15 minutes', 'Point value': '1', 'Chart type': 'Candles', 'Currency': 'USDT', 'Tick size': '0.00001', 'Precision': 'Default', 'Volume Pivot Length': 'Volume Pivot Length3', 'RSI Length': 'RSI Length14', 'RSI Oversold Level': 'RSI Oversold Level40', 'RSI Overbought Level': 'RSI Overbought Level60', 'Bullish OB': 'Bullish OB3, , , ', 'Bearish OB': 'Bearish OB3, , , ', 'Average Line Style': 'Average Line Style⎯⎯⎯', 'Average Line Width': 'Average Line Width1', 'Mitigation Methods': 'Mitigation MethodsWick', 'Initial capital': '1,000.00USDT', 'Order size': '15,000.00USDT', 'Pyramiding': '1 orders', 'Commission': '0\\xa0%', 'Slippage': '0 ticks', 'Verify price for limit orders': '0 ticks', 'Margin for long positions': '0%', 'Margin for short positions': '0%', 'Recalculate after order is filled': 'Off', 'Recalculate on every tick': 'Off', 'Recalculate on bar close': 'Off', 'Backtesting precision. Use bar magnifier': 'Off'}"
        ],
        [
         "2",
         "EXODUS",
         "                                  EXODUS by (DAFE) Trading SystemsEXODUS is a sophisticated trading algorithm built by Dskyz (DAFE) Trading Systems for competitive and competition purposes, designed to identify high-probability trades with robust risk management. this strategy leverages a multi-signal voting system, combining three core components—SPR, VWMO, and VEI—alongside ADX, choppiness filters, and ATR-based volatility gates to ensure trades are taken only in favorable market conditions. the algo uses a take-profit to stop-loss ratio, dynamic position sizing, and a strict voting mechanism requiring all signals to align before entering a trade.EXODUS was not overfitted for any specific symbol. instead, it uses a generic tuned setting, making it versatile across various markets. while it can trade futures, it’s not currently set up for it but has the potential to do more with further development. visuals are intentionally minimal due to its competition focus, prioritizing performance over aesthetics. a more visually stunning version may be released in the future with enhanced graphics.The Unique Core Components Developed for EXODUSSPR (Session Price Recalibration)SPR measures momentum during regular trading hours (RTH, 0930-1600, America/New_York) to catch session-specific trends.spr_lookback = input.int(15, \"SPR Lookback\") this sets how many bars back SPR looks to calculate momentum (default 15 bars). it compares the current session’s price-volume score to the score 15 bars ago to gauge momentum strength.how it works: a longer lookback smooths out the signal, focusing on bigger trends. a shorter one makes SPR more sensitive to recent moves.how to adjust: on a 1-hour chart, 15 bars is 15 hours (about 2 trading days). if you’re on a shorter timeframe like 5 minutes, 15 bars is just 75 minutes, so you might want to increase it to 50 or 100 to capture more meaningful trends. if you’re trading a choppy stock, a shorter lookback (like 5) can help catch quick moves, but it might give more false signals.spr_threshold = input.float(0.7, \"SPR Threshold\")this is the cutoff for SPR to vote for a trade (default 0.7). if SPR’s normalized value is above 0.7, it votes for a long; below -0.7, it votes for a short.how it works: SPR normalizes its momentum score by ATR, so this threshold ensures only strong moves count. a higher threshold means fewer trades but higher conviction.how to adjust: if you’re getting too few trades, lower it to 0.5 to let more signals through. if you’re seeing too many false entries, raise it to 1.0 for stricter filtering. test on your chart to find a balance.spr_atr_length = input.int(21, \"SPR ATR Length\") this sets the ATR period (default 21 bars) used to normalize SPR’s momentum score. ATR measures volatility, so this makes SPR’s signal relative to market conditions.how it works: a longer ATR period (like 21) smooths out volatility, making SPR less jumpy. a shorter one makes it more reactive.how to adjust: if you’re trading a volatile stock like TSLA, a longer period (30 or 50) can help avoid noise. for a calmer stock, try 10 to make SPR more responsive. match this to your timeframe—shorter timeframes might need a shorter ATR.rth_session = input.session(\"0930-1600\",\"SPR: RTH Sess.\") rth_timezone = \"America/New_York\" this defines the session SPR uses (0930-1600, New York time). SPR only calculates momentum during these hours to focus on RTH activity.how it works: it ignores pre-market or after-hours noise, ensuring SPR captures the main market action.how to adjust: if you trade a different session (like London hours, 0300-1200 EST), change the session to match. you can also adjust the timezone if you’re in a different region, like \"Europe/London\". just make sure your chart’s timezone aligns with this setting.VWMO (Volume-Weighted Momentum Oscillator)VWMO measures momentum weighted by volume to spot sustained, high-conviction moves.vwmo_momlen = input.int(21, \"VWMO Momentum Length\") this sets how many bars back VWMO looks to calculate price momentum (default 21 bars). it takes the price change (close minus close 21 bars ago).how it works: a longer period captures bigger trends, while a shorter one reacts to recent swings.how to adjust: on a daily chart, 21 bars is about a month—good for trend trading. on a 5-minute chart, it’s just 105 minutes, so you might bump it to 50 or 100 for more meaningful moves. if you want faster signals, drop it to 10, but expect more noise.vwmo_volback = input.int(30, \"VWMO Volume Lookback\") this sets the period for calculating average volume (default 30 bars). VWMO weights momentum by volume divided by this average.how it works: it compares current volume to the average to see if a move has strong participation. a longer lookback smooths the average, while a shorter one makes it more sensitive.how to adjust: for stocks with spiky volume (like NVDA on earnings), a longer lookback (50 or 100) avoids overreacting to one-off spikes. for steady volume stocks, try 20. match this to your timeframe—shorter timeframes might need a shorter lookback.vwmo_smooth = input.int(9, \"VWMO Smoothing\")this sets the SMA period to smooth VWMO’s raw momentum (default 9 bars).how it works: smoothing reduces noise in the signal, making VWMO more reliable for voting. a longer smoothing period cuts more noise but adds lag.how to adjust: if VWMO is too jumpy (lots of false votes), increase to 15. if it’s too slow and missing trades, drop to 5. test on your chart to see what keeps the signal clean but responsive.vwmo_threshold = input.float(10, \"VWMO Threshold\") this is the cutoff for VWMO to vote for a trade (default 10). above 10, it votes for a long; below -10, a short.how it works: it ensures only strong momentum signals count. a higher threshold means fewer but stronger trades.how to adjust: if you want more trades, lower it to 5. if you’re getting too many weak signals, raise it to 15. this depends on your market—volatile stocks might need a higher threshold to filter noise.VEI (Velocity Efficiency Index)VEI measures market efficiency and velocity to filter out choppy moves and focus on strong trends.vei_eflen = input.int(14, \"VEI Efficiency Smoothing\") this sets the EMA period for smoothing VEI’s efficiency calc (bar range / volume, default 14 bars).how it works: efficiency is how much price moves per unit of volume. smoothing it with an EMA reduces noise, focusing on consistent efficiency. a longer period smooths more but adds lag.how to adjust: for choppy markets, increase to 20 to filter out noise. for faster markets, drop to 10 for quicker signals. this should match your timeframe—shorter timeframes might need a shorter period.vei_momlen = input.int(8, \"VEI Momentum Length\") this sets how many bars back VEI looks to calculate momentum in efficiency (default 8 bars).how it works: it measures the change in smoothed efficiency over 8 bars, then adjusts for inertia (volume-to-range). a longer period captures bigger shifts, while a shorter one reacts faster.how to adjust: if VEI is missing quick reversals, drop to 5. if it’s too noisy, raise to 12. test on your chart to see what catches the right moves without too many false signals.vei_threshold = input.float(4.5, \"VEI Threshold\") this is the cutoff for VEI to vote for a trade (default 4.5). above 4.5, it votes for a long; below -4.5, a short.how it works: it ensures only strong, efficient moves count. a higher threshold means fewer trades but higher quality.how to adjust: if you’re not getting enough trades, lower to 3. if you’re seeing too many false entries, raise to 6. this depends on your market—fast stocks like NQ1 might need a lower threshold.FeaturesMulti-Signal Voting: requires all three signals (SPR, VWMO, VEI) to align for a trade, ensuring high-probability setups.Risk Management: uses ATR-based stops (2.1x) and take-profits (4.1x), with dynamic position sizing based on a risk percentage (default 0.4%).Market Filters: ADX (default 27) ensures trending conditions, choppiness index (default 54.5) avoids sideways markets, and ATR expansion (default 1.12) confirms volatility.Dashboard: provides real-time stats like SPR, VWMO, VEI values, net P/L, win rate, and streak, with a clean, functional design.VisualsEXODUS prioritizes performance over visuals, as it was built for competitive and competition purposes. entry/exit signals are marked with simple labels and shapes, and a basic heatmap highlights market regimes. a more visually stunning update may be released later, with enhanced graphics and overlays.UsageEXODUS is designed for stocks and ETFs but can be adapted for futures with adjustments. it performs best in trending markets with sufficient volatility, as confirmed by its generic tuning across symbols like TSLA, AMD, NVDA, and NQ1. adjust inputs like SPR threshold, VWMO smoothing, or VEI momentum length to suit specific assets or timeframes.Setting I used: (Again, these are a generic setting, each security needs to be fine tuned)SPR LB = 19 SPR TH = 0.5 SPR ATR L= 21 SPR RTH Sess: 9:30 – 16:00VWMO L = 21 VWMO LB = 18 VWMO S = 6 VWMO T = 8VEI ES = 14 VEI ML = 21 VEI T = 4 R % = 0.4ATR L = 21 ATR M (S) =1.1 TP Multi = 2.1 ATR min mult = 0.8 ATR Expansion = 1.02ADX L = 21 Min ADX = 25Choppiness Index = 14 Chop. Max T = 55.5Backtesting: TSLAFrame: Jan 02, 2018, 08:00 — May 01, 2025, 09:00Slippage: 3Commission .01Disclaimerthis strategy is for educational purposes. past performance is not indicative of future results. trading involves significant risk, and you should only trade with capital you can afford to lose. always backtest and validate any strategy before using it in live markets.(This publishing will most likely be taken down do to some miscellaneous rule about properly displaying charting symbols, or whatever. Once I've identified what part of the publishing they want to pick on, I'll adjust and repost.)About the AuthorDskyz (DAFE) Trading Systems is dedicated to building high-performance trading algorithms. EXODUS is a product of rigorous research and development, aimed at delivering consistent, and data-driven trading solutions.Use it with discipline. Use it with clarity. Trade smarter.**I will continue to release incredible strategies and indicators until I turn this into a brand or until someone offers me a contract.2025 Created by Dskyz, powered by DAFE Trading Systems. Trade smart, trade bold.",
         "{'Volume', 'Volatility', 'Oscillators'}",
         "0",
         "+14,293.23",
         "68,836.40",
         "54,543.18",
         "1,672.77",
         "+5,593,815.28",
         "20,726.51",
         "7,634.92",
         "200",
         "184",
         "0.0",
         "84",
         "100",
         "45.65%",
         "77.68",
         "819.48",
         "545.43",
         "1.502",
         "4,280.57",
         "8.60%",
         "1,767.68",
         "4.71%",
         "4",
         "5",
         "3",
         "−1.136",
         "−0.782",
         "1.262",
         "0.0",
         "{'Trading range': 'Jan 30, 2020, 11:00 — May 01, 2025, 10:00', 'Backtesting range': 'Jan 02, 2018, 08:00 — May 01, 2025, 10:00', 'Symbol': 'NASDAQ:TSLA', 'Timeframe': '1 hour', 'Point value': '1', 'Chart type': 'Candles', 'Currency': 'USD', 'Tick size': '0.0100', 'Precision': 'Default', 'SPR Lookback': 'SPR Lookback19', 'SPR Threshold': 'SPR Threshold0.5', 'SPR ATR Length': 'SPR ATR Length21', 'VWMO Momentum Length': 'VWMO Momentum Length21', 'VWMO Volume Lookback': 'VWMO Volume Lookback18', 'VWMO Smoothing': 'VWMO Smoothing6', 'VWMO Threshold': 'VWMO Threshold8', 'VEI Efficiency Smoothing': 'VEI Efficiency Smoothing14', 'VEI Momentum Length': 'VEI Momentum Length21', 'VEI Threshold': 'VEI Threshold4', 'Risk % per Trade': 'Risk % per Trade0.4', 'ATR Length': 'ATR Length21', 'ATR Mult (Stop)': 'ATR Mult (Stop)1.1', 'TP Mult (TakeProfit)': 'TP Mult (TakeProfit)2.1', 'ADX Length': 'ADX Length21', 'Min ADX (Trend)': 'Min ADX (Trend)25', 'ATR min mult (Volatility Gate)': 'ATR min mult (Volatility Gate)0.8', 'Choppiness Index Len': 'Choppiness Index Len14', 'Chop. Index Max for Trades': 'Chop. Index Max for Trades55.5', 'ATR Expansion Gate (Ratio)': 'ATR Expansion Gate (Ratio)1.02', 'SPR: RTH Sess.': 'SPR: RTH Sess.09:30 — 16:00', 'Initial capital': '1,000,000.00USD', 'Order size': '5% of equity', 'Pyramiding': '0 orders', 'Commission': '0.01\\xa0%', 'Slippage': '3 ticks', 'Verify price for limit orders': '0 ticks', 'Margin for long positions': '100%', 'Margin for short positions': '100%', 'Recalculate after order is filled': 'Off', 'Recalculate on every tick': 'Off', 'Recalculate on bar close': 'Off', 'Backtesting precision. Use bar magnifier': 'Off'}"
        ],
        [
         "3",
         "External Signals Strategy Tester v5",
         "External Signals Strategy Tester v5 – User Guide (English)1. PurposeThis Pine Script strategy is a universal back‑tester that lets you plug in any external buy/sell series (for example, another indicator, webhook feed, or higher‑time‑frame condition) and evaluate a rich set of money‑management rules around it – with a single click on/off workflow for every module.2. Core WorkflowFeed signalsBuy Signal / Sell Signal inputs accept any series (price, boolean, output of request.security(), etc.).A crossover above 0 is treated as “signal fired”.Date filterStart Date / End Date restricts the test window so you can exclude unwanted history.Trade engineOptional Long / Short enable toggles.Choose whether opposite signals simply close the trade or reverse it (flip direction in one transaction).Risk modules – all opt‑in via check‑boxesClassic % block – fixed % Take‑Profit / Stop‑Loss / Break‑Even.Fibonacci Bollinger Bands (FBB) moduleDraws dynamic VWMA/HMA/SMA/EMA/DEMA/TEMA mid‑line with ATR‑scaled Fibonacci envelopes.Every line can be used for stops, trailing, or multi‑target exits.Separate LONG and SHORT sub‑modulesEach has its own SL plus three Take‑Profits (TP1‑TP3).Per TP you set line, position‑percentage to close, and an optional trailing flag.Executed TP/SLs deactivate themselves so they cannot refire.Trailing behaviourIf Trail is checked, the selected line is re‑evaluated once per bar; the order is amended via strategy.exit().3. Inputs OverviewGroup\tParameter\tNotesTrade Settings\tEnable Long / Enable Short\tMaster switchesClose on Opposite / Reverse Position\tHow to react to a counter‑signalRisk %\tUse TP / SL / BE + their %\tTraditional fixed‑distance managementFibo Bands\tFIBO LEVELS ENABLE + visual style/length\tTurn indicator overlay on/offFBB LONG SL / TP1‑TP3\tEnable, Line, %, Trail\tRules applied only while a long is openFBB SHORT SL / TP1‑TP3\tEnable, Line, %, Trail\tRules applied only while a short is openLine choices: Basis, 0.236, 0.382, 0.5, 0.618, 0.764, 1.0 – long rules use lower bands, short rules use upper bands automatically.4. Algorithm DetailsPosition openOn the very first bar after entry, the script checks the direction and activates the corresponding LONG or SHORT module, deactivating the other.Order management loop (every bar)FBB Stop‑Loss: placed/updated at chosen band; if trailing, follows the new value.TP1‑TP3: each active target updates its limit price to the selected band (or holds static if trailing is off).The classic % block runs in parallel; its exits have priority because they call strategy.close_all().Exit handlingWhen any strategy.exit() fires, the script reads exit_id and flips the *_Active flag so that order will not be recreated.A Stop‑Loss (SL) also disables all remaining TPs for that leg.5. Typical Use CasesScenario\tSuggested SetupScalping longs into VWAP‐reversion\tEnable LONG TP1 @ 0.382 (30 %), TP2 @ 0.618 (40 %), SL @ 0.236 + trailingFade shorts during news spikes\tEnable SHORT SL @ 1.0 (no trail) and SHORT TP1,2,3 on consecutive lowers with small size‑outsClassic trend‑follow\tUse only classic % TP/SL block and disable FBB modules6. Hints & TipsSignal quality matters – this script manages exits, it does not generate entries.Keep TV time zone in mind when picking start/end dates.For portfolio‑style testing allocate smaller default_qty_value than 100 % or use strategy.percent_of_equity sizing.You can combine FBB exits with fixed‑% ones for layered management.7. Limitations / SafetyNo pyramiding; the script holds max one position at a time.All calculations are bar‑close; intra‑bar touches may differ from real‑time execution.The indicator overlay is optional, so you can run visual‑clean tests by unchecking FIBO LEVELS ENABLE.",
         "{'educational', 'Bollinger Bands (BB)', 'Bands and Channels'}",
         "0",
         "0",
         "0",
         "0",
         "0",
         "0",
         "0",
         "0",
         "0",
         "0",
         "0.0",
         "0",
         "0",
         null,
         null,
         null,
         null,
         null,
         null,
         null,
         null,
         null,
         null,
         null,
         null,
         null,
         null,
         null,
         null,
         "{'Trading range': ' — ', 'Backtesting range': 'Feb 17, 2025, 03:00 — May 02, 2025, 15:15', 'Symbol': 'BINANCE:BTCUSDT.P', 'Timeframe': '5 minutes', 'Point value': '1', 'Chart type': 'Candles', 'Currency': 'USDT', 'Tick size': '0.1', 'Precision': 'Default', 'Start Date': 'Start DateNov 01, 2024, 03:00', 'End Date': 'End DateApr 01, 2025, 02:59', 'Buy Signal': 'Buy Signalclose', 'Sell Signal': 'Sell Signalclose', 'Enable Long': 'Enable LongOn', 'Enable Short': 'Enable ShortOn', 'Close on Opposite Signal': 'Close on Opposite SignalOn', 'Reverse Position on Opposite': 'Reverse Position on OppositeOff', 'Use % Take Profit': 'Use % Take ProfitOn', 'TP %': 'TP %2', 'Use % Stop Loss': 'Use % Stop LossOn', 'SL %': 'SL %1', 'Use % Break Even': 'Use % Break EvenOn', 'BE %': 'BE %1', 'FIBO LEVELS ENABLE': 'FIBO LEVELS ENABLEOn', 'FBB Length': 'FBB Length200', 'FBB Source': 'FBB Sourcehlc3', 'FBB Multiplier': 'FBB Multiplier7', 'FBB Basis': 'FBB BasisTEMA', 'FBB View': 'FBB ViewCloud', 'FBB Smooth Type': 'FBB Smooth TypeSMA', 'FBB Smooth Length': 'FBB Smooth Length50', 'Enable LONG SL': 'Enable LONG SLOff', 'SL Line': 'SL Line0.382', 'Trail SL': 'Trail SLOff', 'Trail SL Line': 'Trail SL Line0.382', 'Enable LONG TP1': 'Enable LONG TP1Off', 'TP1 Line': 'TP1 Line0.618', 'TP1 % Qty': 'TP1 % Qty33', 'Trail TP1': 'Trail TP1Off', 'TP1 Trail Line': 'TP1 Trail Line0.618', 'Enable LONG TP2': 'Enable LONG TP2Off', 'TP2 Line': 'TP2 Line0.764', 'TP2 % Qty': 'TP2 % Qty33', 'Trail TP2': 'Trail TP2Off', 'TP2 Trail Line': 'TP2 Trail Line0.764', 'Enable LONG TP3': 'Enable LONG TP3Off', 'TP3 Line': 'TP3 Line1.0', 'TP3 % Qty': 'TP3 % Qty34', 'Trail TP3': 'Trail TP3Off', 'TP3 Trail Line': 'TP3 Trail Line1.0', 'Enable SHORT SL': 'Enable SHORT SLOff', 'Enable SHORT TP1': 'Enable SHORT TP1Off', 'Enable SHORT TP2': 'Enable SHORT TP2Off', 'Enable SHORT TP3': 'Enable SHORT TP3Off', 'Initial capital': '1,000,000.00USDT', 'Order size': '100% of equity', 'Pyramiding': '1 orders', 'Commission': '0\\xa0%', 'Slippage': '0 ticks', 'Verify price for limit orders': '0 ticks', 'Margin for long positions': '100%', 'Margin for short positions': '100%', 'Recalculate after order is filled': 'Off', 'Recalculate on every tick': 'Off', 'Recalculate on bar close': 'Off', 'Backtesting precision. Use bar magnifier': 'Off'}"
        ],
        [
         "4",
         "Guaranteed Entry Strategy (Every 5 Bars)",
         "//version=5strategy(\"Guaranteed Entry Strategy (Every 5 Bars)\", overlay=true, default_qty_type=strategy.percent_of_equity, default_qty_value=100)// Force trades every 5 bars after bar 10canTrade = bar_index > 10buySignal = canTrade and bar_index % 5 == 0sellSignal = canTrade and bar_index % 5 == 3// Entries and exitsif buySignal    strategy.entry(\"BUY\", strategy.long)    strategy.exit(\"EXIT BUY\", from_entry=\"BUY\", profit=50, loss=25)if sellSignal    strategy.entry(\"SELL\", strategy.short)    strategy.exit(\"EXIT SELL\", from_entry=\"SELL\", profit=50, loss=25)// Plotsplotshape(buySignal, location=location.belowbar, style=shape.labelup, color=color.green, text=\"BUY\")plotshape(sellSignal, location=location.abovebar, style=shape.labeldown, color=color.red, text=\"SELL\")",
         "{'regressions'}",
         null,
         null,
         null,
         null,
         null,
         null,
         null,
         null,
         null,
         null,
         null,
         null,
         null,
         null,
         null,
         null,
         null,
         null,
         null,
         null,
         null,
         null,
         null,
         null,
         null,
         null,
         null,
         null,
         null,
         "{}"
        ],
        [
         "5",
         "Arrow's Flexible MA Cross Strategy [API Ready]",
         "Arrow's High-Frequency MA Cross Scalper [API Ready] By: © ArrowTrade=== OVERVIEW ===This strategy is engineered for high-frequency trading and scalping opportunities, utilizing rapid Moving Average (MA) crossovers coupled with essential filters and precise risk management tools. Developed by ArrowTrade, it's specifically designed for seamless integration with automated trading systems via API (webhooks, etc.), enabling swift execution of short-term signals.While adaptable, its core design favors capturing small, quick price movements typical of scalping approaches.=== CORE LOGIC ===Entry Signal: Primary entries are triggered by the crossover/crossunder of a Fast MA and a Slow MA. Configurable MA types (EMA, SMA, WMA, HMA, VWMA) and periods allow fine-tuning signal sensitivity for different market rhythms.Trend Filter (Optional): A longer-term MA acts as a regime filter. When enabled, entries are only permitted in the direction of this broader trend, aiming to avoid counter-trend scalps in strongly directional markets.Confirmation Filters (Optional):ATR Volatility Filter: Designed to pause entries during extremely flat or \"dead\" markets where volatility drops below a dynamic threshold (based on average ATR). This helps prevent whipsaws in non-trending, low-energy conditions.Volume Filter: Validates entry signals by requiring a minimum level of market participation (volume compared to its moving average). This helps avoid entries based on low-liquidity spikes or insignificant price action.=== RISK MANAGEMENT SUITE (Crucial for Scalping) ===Initial Volatility Stop: An ATR-based initial stop provides an objective starting point for risk definition on each trade, adapting to recent volatility. Tighter multipliers are often preferred for scalping.ATR Trailing Stop: Essential for dynamic markets. Trails the stop loss behind favorable price action, aiming to protect profits on successful scalps while cutting losses relatively quickly if the move reverses. Fine-tune the ATR period and multiplier for desired responsiveness.Break-Even Stop (Optional): Can be configured to automatically move the stop to entry (plus buffer) once TP1 is hit or price travels a specific ATR distance. Useful for quickly neutralizing risk on a trade that has shown initial promise.Dual Take Profit Levels:TP1: Designed for rapid, partial profit-taking. Set a tight percentage target and define the portion (%) of the position to close (e.g., 50%). This secures initial gains quickly, a key element in many scalping systems.TP2: Target for the remaining portion of the position, aiming for a slightly larger move if the initial momentum continues.Fixed Quantity Sizing: Enables precise control over position size per trade, crucial for consistent risk application in high-frequency environments and straightforward API command generation.=== INTENDED USE: HIGH-FREQUENCY & API AUTOMATION ===This strategy is purpose-built for traders leveraging API automation for high-frequency scalping.Parameter Tuning for Scalping: Achieve higher signal frequency by using:Shorter Fast MA Period and Slow MA Period.Faster MA Types like EMA or HMA.Tighter Initial Stop ATR Multiplier and Trailing ATR Multiplier.Smaller TP1 Target (%) and potentially TP2 Target (%).Careful adjustment of ATR Volatility Filter and Volume Filter thresholds to balance signal frequency with noise reduction.API Integration: The strategy's clear entry (MA Cross + Filters OK) and exit logic (SL Hit, TP Limit Hit) generates unambiguous signals. Use TradingView alerts (alertcondition or native strategy alerts) configured with webhook URLs to trigger your external trading bot (e.g., 3Commas, PineConnector, custom solutions) for near-instantaneous order execution. The fixed quantity simplifies the payload sent to your API endpoint.=== RISK MANAGEMENT FOR SCALPING ===High-frequency trading requires extremely disciplined risk management:Position Size (qtyValue): CRITICAL. Calculate this based on a small, fixed percentage of your capital risked per trade (e.g., 0.25% - 1%) relative to your initial stop distance. Due to the high number of trades, even small consistent losses can accumulate rapidly if sizing is too large.Stop Loss: NON-NEGOTIABLE. Always use stops. Scalping often benefits from tighter initial stops combined with an aggressive trailing stop to protect small gains.Commissions & Slippage: Account for these meticulously in settings and backtests. High trade frequency means these costs significantly impact net profitability. Ensure commission_value and slippage inputs reflect your actual trading environment.Overfitting: Be highly aware of overfitting during optimization, especially with many parameters. Validate results on out-of-sample data or through forward testing.=== CUSTOMIZATION & OPTIMIZATION ===Explore different Signal Source options (e.g., hlc3) for potentially smoother MA signals.Systematically optimize MA lengths, filter parameters, ATR multipliers, and TP percentages using TradingView's Strategy Tester, focusing on metrics like Profit Factor, Sharpe Ratio (or Sortino), and Net Profit while keeping Max Drawdown within acceptable limits.Test different combinations of the optional filters. Sometimes fewer filters can perform better.=== DISCLAIMER ===Trading involves substantial risk. Past performance is not indicative of future results.This script is provided for educational and informational purposes only and does not constitute financial advice.© ArrowTrade makes no guarantees regarding the performance or profitability of this strategy.You are solely responsible for all trading decisions and risk management. Always perform thorough testing and validation before deploying any strategy with real capital. Adjust all settings, especially risk parameters, to your specific needs.",
         "{'Bitcoin (Cryptocurrency)', 'Exponential Moving Average (EMA)', 'Volume', 'Trend Analysis', 'API', 'emacross', 'scalping', 'crypto', 'bot'}",
         "+2.24",
         "+184.19",
         "360.35",
         "176.15",
         "46.20",
         "+103.02",
         "212.07",
         "45.80",
         "0",
         "74",
         "1.0",
         "36",
         "38",
         "48.65%",
         "2.49",
         "10.01",
         "4.64",
         "2.159",
         "53.33",
         "6.79%",
         "25.05",
         "3.30%",
         "75",
         "109",
         "43",
         "0.368",
         "0.994",
         "2.046",
         "0.0",
         "{'Trading range': 'Mar 24, 2025, 16:50 — May 01, 2025, 21:20', 'Backtesting range': 'Mar 24, 2025, 03:00 — May 01, 2025, 21:20', 'Symbol': 'BINANCE:BTCUSDC.P', 'Timeframe': '5 minutes', 'Point value': '1', 'Chart type': 'Candles', 'Currency': 'USDC', 'Tick size': '0.1', 'Precision': 'Default', 'Signal Source': 'Signal Sourcehigh', 'Signal MA Type': 'Signal MA TypeEMA', 'Fast MA Period': 'Fast MA Period12', 'Slow MA Period': 'Slow MA Period25', 'Enable Trend Filter': 'Enable Trend FilterOn', 'Trend MA Type': 'Trend MA TypeEMA', 'Trend MA Period': 'Trend MA Period100', 'Trend MA Source': 'Trend MA Sourcehl2', 'Enable Initial Volatility Stop': 'Enable Initial Volatility StopOn', '   Initial Stop ATR Period': '   Initial Stop ATR Period7', '   Initial Stop ATR Multiplier': '   Initial Stop ATR Multiplier5', 'Enable ATR Trailing Stop': 'Enable ATR Trailing StopOn', '   Trailing ATR Period': '   Trailing ATR Period15', '   Trailing ATR Multiplier': '   Trailing ATR Multiplier4', 'Enable Break-Even Stop': 'Enable Break-Even StopOff', '   BE Activation Condition': '   BE Activation ConditionTP1 Reached', '   BE Activation ATR Multiplier': '   BE Activation ATR Multiplier1.5', '   BE Profit Buffer (Ticks)': '   BE Profit Buffer (Ticks)2', 'Enable TP1': 'Enable TP1On', '   TP1 Target (%)': '   TP1 Target (%)1.5', '   TP1 Close Quantity (%)': '   TP1 Close Quantity (%)50', 'Enable TP2': 'Enable TP2On', '   TP2 Target (%)': '   TP2 Target (%)3', 'Enable ATR Volatility Filter': 'Enable ATR Volatility FilterOn', '   ATR Filter Period': '   ATR Filter Period14', '   ATR Filter Threshold Multiplier': '   ATR Filter Threshold Multiplier0.5', 'Enable Volume Filter': 'Enable Volume FilterOn', '   Volume MA Period': '   Volume MA Period30', '   Min Volume Ratio (vs Avg)': '   Min Volume Ratio (vs Avg)1', 'Position Size (Fixed Qty)': 'Position Size (Fixed Qty)0.01', 'Initial capital': '1,000.00USDC', 'Order size': '1 contracts', 'Pyramiding': '0 orders', 'Commission': '0.036\\xa0%', 'Slippage': '2 ticks', 'Verify price for limit orders': '0 ticks', 'Margin for long positions': '0%', 'Margin for short positions': '0%', 'Recalculate after order is filled': 'Off', 'Recalculate on every tick': 'Off', 'Recalculate on bar close': 'On', 'Backtesting precision. Use bar magnifier': 'Off'}"
        ],
        [
         "6",
         "1h Liquidity Swings Strategy with 1:2 RR",
         "LuxAlgo Liquidity Swings (Simulated):Uses ta.pivothigh and ta.pivotlow to detect 1h swing highs (resistance) and swing lows (support).The lookback parameter (default 5) controls swing point sensitivity.Entry Logic:Long: Uptrend, price crosses above 1h swing low (ta.crossover(low, support1h)), and price is below recent swing high (close < resistance1h).Short: Downtrend, price crosses below 1h swing high (ta.crossunder(high, resistance1h)), and price is above recent swing low (close > support1h).Take Profit (1:2 Risk-Reward):Risk:Long: risk = entryPrice - initialStopLoss.Short: risk = initialStopLoss - entryPrice.Take-profit price:Long: takeProfitPrice = entryPrice + 2 * risk.Short: takeProfitPrice = entryPrice - 2 * risk.Set via strategy.exit’s limit parameter.Stop-Loss:Initial Stop-Loss:Long: slLong = support1h * (1 - stopLossBuffer / 100).Short: slShort = resistance1h * (1 + stopLossBuffer / 100).Breakout Stop-Loss:Long: close < support1h.Short: close > resistance1h.Managed via strategy.exit’s stop parameter.Visualization:Plots:50-period SMA (trendMA, blue solid line).1h resistance (resistance1h, red dashed line).1h support (support1h, green dashed line).Marks buy signals (green triangles below bars) and sell signals (red triangles above bars) using plotshape.Usage InstructionsAdd the Script:Open TradingView’s Pine Editor, paste the code, and click “Add to Chart”.Set Timeframe:Use the 1-hour (1h) chart for intraday trading.Adjust Parameters:lookback: Swing high/low lookback period (default 5). Smaller values increase sensitivity; larger values reduce noise.stopLossBuffer: Initial stop-loss buffer (default 0.5%).maLength: Trend SMA period (default 50).Backtesting:Use the “Strategy Tester” to evaluate performance metrics (profit, win rate, drawdown).Optimize parameters for your target market.Notes on LimitationsLuxAlgo Liquidity Swings:Simulated using ta.pivothigh and ta.pivotlow. LuxAlgo may include proprietary logic (e.g., volume or visit frequency filters), which requires the indicator’s code or settings for full integration.Action: Please provide the Pine Script code or specific LuxAlgo settings if available.Stop-Loss Breakout:Uses closing price breakouts to reduce false signals. For more sensitive detection (e.g., high/low-based), I can modify the code upon request.Market Suitability:Ideal for high-liquidity markets (e.g., BTC/USD, EUR/USD). Choppy markets may cause false breakouts.Action: Backtest in your target market to confirm suitability.Fees:Take-profit/stop-loss calculations exclude fees. Adjust for trading costs in live trading.Swing Detection:Swing high/low detection depends on market volatility. Optimize lookback for your market.VerificationTested in TradingView’s Pine Editor (version=5):plot function works without errors.Entries occur strictly at 1h support (long) or resistance (short) in the trend direction.Take-profit triggers at 1:2 risk-reward.Stop-loss triggers on initial settings or 1h support/resistance breakouts.Backtesting performs as expected.Next StepsConfirm Functionality:Run the script and verify entries, take-profit (1:2), stop-loss, and trend filtering.If issues occur (e.g., inaccurate signals, premature stop-loss), share backtest results or details.LuxAlgo Liquidity Swings:Provide the Pine Script code, settings, or logic details (e.g., volume filters) for LuxAlgo Liquidity Swings, and I’ll integrate them precisely.",
         "{'Breadth Indicators'}",
         "−1,160.00",
         "+117,390.00",
         "859,610.00",
         "742,220.00",
         "0",
         "+708,340.00",
         "155,735.00",
         "61,280.00",
         "1",
         "570",
         "1.0",
         "266",
         "296",
         "46.67%",
         "205.95",
         "3,231.62",
         "2,507.50",
         "1.289",
         "15,370.00",
         "4.27%",
         "7,730.00",
         "2.46%",
         "19",
         "23",
         "17",
         "0.146",
         "0.27",
         "1.158",
         "0.0",
         "{'Trading range': 'Jan 04, 2023, 14:00 — May 02, 2025, 04:00', 'Backtesting range': 'Jan 02, 2023, 18:00 — May 02, 2025, 04:00', 'Symbol': 'CME_MINI:NQ1!', 'Timeframe': '1 hour', 'Point value': '20', 'Chart type': 'Candles', 'Currency': 'USD', 'Tick size': '0.25', 'Precision': 'Default', 'Pivot Lookback': 'Pivot Lookback5', 'Stop Loss Buffer %': 'Stop Loss Buffer %0.5', 'Initial capital': '1,000,000.00USD', 'Order size': '1 contracts', 'Pyramiding': '1 orders', 'Commission': '0\\xa0%', 'Slippage': '0 ticks', 'Verify price for limit orders': '0 ticks', 'Margin for long positions': '100%', 'Margin for short positions': '100%', 'Recalculate after order is filled': 'Off', 'Recalculate on every tick': 'Off', 'Recalculate on bar close': 'Off', 'Backtesting precision. Use bar magnifier': 'Off'}"
        ],
        [
         "7",
         "🚀 Sniper Entry Finder Enhanced [Backtest Enabled]",
         "Find it working best in the 1hr 4hr candle sticks , still needs some work. Let me know what you think of it.",
         "{'strategy', 'Moving Averages', 'forecasting', 'bot', 'pinescript', 'sniper'}",
         "0",
         "+847.41",
         "6,026.01",
         "5,178.60",
         "0",
         "+2,032,171.58",
         "1,365.23",
         "1,639.44",
         "19,643",
         "118",
         "0.0",
         "65",
         "53",
         "55.08%",
         "7.18",
         "92.71",
         "97.71",
         "0.949",
         "340.57",
         "33.93%",
         "384.39",
         "38.44%",
         "24",
         "23",
         "24",
         "−10.172",
         "−0.995",
         "1.164",
         "0.0",
         "{'Trading range': 'Feb 14, 2021, 20:00 — May 01, 2025, 16:00', 'Backtesting range': 'Feb 09, 2021, 00:00 — May 01, 2025, 16:00', 'Symbol': 'KUCOIN:DOGEUSDT', 'Timeframe': '4 hours', 'Point value': '1', 'Chart type': 'Candles', 'Currency': 'USDT', 'Tick size': '0.00001', 'Precision': 'Default', 'Fast EMA Length': 'Fast EMA Length9', 'Slow EMA Length': 'Slow EMA Length21', 'RSI Length': 'RSI Length14', 'ATR Multiplier (Stop Loss)': 'ATR Multiplier (Stop Loss)1.5', 'ATR Multiplier (Take Profit)': 'ATR Multiplier (Take Profit)2.5', 'Volume Multiplier': 'Volume Multiplier1.3', 'Higher TF EMA Period': 'Higher TF EMA Period60', 'Strict Mode (All 6 Conditions)': 'Strict Mode (All 6 Conditions)On', 'Use ADX Trend Filter': 'Use ADX Trend FilterOn', 'Use Bullish Engulfing': 'Use Bullish EngulfingOn', 'Use Hammer': 'Use HammerOn', 'Use Inverted Hammer': 'Use Inverted HammerOn', 'Use Doji': 'Use DojiOn', 'Use Inside Bar': 'Use Inside BarOff', 'Use Bearish Engulfing': 'Use Bearish EngulfingOn', 'Use Shooting Star': 'Use Shooting StarOn', 'Initial capital': '1,000,000.00USDT', 'Order size': '1,000.00USDT', 'Pyramiding': '1 orders', 'Commission': '0\\xa0%', 'Slippage': '0 ticks', 'Verify price for limit orders': '0 ticks', 'Margin for long positions': '100%', 'Margin for short positions': '100%', 'Recalculate after order is filled': 'Off', 'Recalculate on every tick': 'Off', 'Recalculate on bar close': 'Off', 'Backtesting precision. Use bar magnifier': 'Off'}"
        ],
        [
         "8",
         "30-70 RSI Strategy with Colored Bar",
         "This script colors price bars based on Relative Strength Index (RSI) levels, giving traders a quick and visual way to assess overbought or oversold market conditions directly on the chart.📈 Key Features:✅ RSI-Based Bar Coloring:Green bars when RSI is above the upper threshold (default 70) – suggests bullish momentum.Red bars when RSI is below the lower threshold (default 30) – indicates bearish pressure.Bars remain uncolored when RSI is between thresholds – a neutral zone.🔧 Customizable RSI Settings:Adjustable RSI length (default: 14 periods)Adjustable overbought/oversold levels (default: 70/30)🧠 Helps traders:Quickly spot potential reversals or trend continuationsVisually align price action with momentum🛠️ Usage:Ideal for trend-following, reversal, and momentum strategies.Works across any timeframe (1m, 5m, 1h, daily, etc.).",
         "{'forecasting', 'Pine utilities', 'Moving Averages'}",
         "0",
         "+4,755.16",
         "42,956.67",
         "38,201.51",
         "0",
         "−126,495.49",
         "16,724.65",
         "17,331.11",
         "561",
         "71",
         "0.0",
         "48",
         "23",
         "67.61%",
         "66.97",
         "894.93",
         "1,660.94",
         "0.539",
         "8,024.45",
         "8.10%",
         "7,192.10",
         "7.23%",
         "154",
         "108",
         "251",
         "0.007",
         "0.01",
         "1.124",
         "0.0",
         "{'Trading range': 'Feb 18, 2025, 23:42 — May 02, 2025, 01:29', 'Backtesting range': 'Feb 18, 2025, 20:00 — May 02, 2025, 01:29', 'Symbol': 'NASDAQ:AAPL', 'Timeframe': '1 minute', 'Point value': '1', 'Chart type': 'Candles', 'Currency': 'USD', 'Tick size': '0.0100', 'Precision': 'Default', 'RSI Length': 'RSI Length14', 'Overbought Level': 'Overbought Level70', 'Oversold Level': 'Oversold Level30', 'Initial capital': '1,000,000.00USD', 'Order size': '10% of equity', 'Pyramiding': '1 orders', 'Commission': '0\\xa0%', 'Slippage': '0 ticks', 'Verify price for limit orders': '0 ticks', 'Margin for long positions': '100%', 'Margin for short positions': '100%', 'Recalculate after order is filled': 'Off', 'Recalculate on every tick': 'Off', 'Recalculate on bar close': 'Off', 'Backtesting precision. Use bar magnifier': 'Off'}"
        ],
        [
         "9",
         "XAUUSD Strategy with Visual Divergence",
         "This strategy is designed to capture high-probability trend-continuation trades on XAUUSD (Gold/US Dollar) by combining trend-following logic with momentum-based divergence detection. It uses the 200-period Exponential Moving Average (EMA) to filter for the prevailing trend and the Relative Strength Index (RSI) to identify bullish and bearish divergences as early entry signals. The strategy incorporates a risk-reward profile of 2:1, making it suitable for both swing and intra-day traders.",
         "{'Chart patterns', 'Candlestick analysis', 'Bands and Channels'}",
         "0",
         "0",
         "0",
         "0",
         "0",
         "0",
         "0",
         "0",
         "0",
         "0",
         "0.0",
         "0",
         "0",
         null,
         null,
         null,
         null,
         null,
         null,
         null,
         null,
         null,
         null,
         null,
         null,
         null,
         null,
         null,
         null,
         "{'Trading range': ' — ', 'Backtesting range': 'Apr 06, 2025, 22:04 — May 01, 2025, 16:56', 'Symbol': 'OANDA:XAUUSD', 'Timeframe': '1 minute', 'Point value': '1', 'Chart type': 'Candles', 'Currency': 'USD', 'Tick size': '0.001', 'Precision': 'Default', 'EMA Length': 'EMA Length200', 'RSI Length': 'RSI Length14', 'Divergence Lookback': 'Divergence Lookback20', 'RSI Overbought Level': 'RSI Overbought Level70', 'RSI Oversold Level': 'RSI Oversold Level30', 'Initial capital': '1,000,000.00USD', 'Order size': '10% of equity', 'Pyramiding': '1 orders', 'Commission': '0\\xa0%', 'Slippage': '0 ticks', 'Verify price for limit orders': '0 ticks', 'Margin for long positions': '0%', 'Margin for short positions': '0%', 'Recalculate after order is filled': 'Off', 'Recalculate on every tick': 'Off', 'Recalculate on bar close': 'Off', 'Backtesting precision. Use bar magnifier': 'Off'}"
        ],
        [
         "10",
         "Parabolic RSI Strategy + MA Filter + TP/SL 【PakunFX】",
         "🧠 Parabolic RSI Strategy + MA Filter + TP/SL【PakunFX】This strategy combines a **custom Parabolic SAR applied to the RSI** (momentum-based trend reversal detection) with a **price-based moving average filter** to create a clear and responsive trend-following system.  Additionally, it **automatically draws Take Profit (TP) and Stop Loss (SL) levels** on the chart based on a fixed risk-reward ratio, providing visual risk clarity and supporting consistent trade planning.---## 🔍 What This Script Does **RSI-Based Trend Detection:**  A custom Parabolic SAR is applied to RSI rather than price, enabling detection of **momentum reversals** instead of just price swings. **MA Directional Filter:**  Entries are filtered by a moving average (EMA or SMA). The strategy only allows trades **in the direction of the trend**—longs above the MA, shorts below. **Auto-Drawn TP/SL Levels:**  Each trade includes auto-calculated TP and SL lines using a configurable risk-reward ratio (e.g., 2.0), helping traders maintain consistency and discipline. **Clear Entry Triggers:**  Positions are opened **when the RSI-based Parabolic SAR flips direction**, but only if the price is on the correct side of the MA filter.  → This ensures trades are made **at the moment of momentum shift**, but only **in the direction of the dominant trend**.---## 🧮 Core Logic Breakdown✅ Entry Conditions   **Long Entry:**  RSI-based SAR flips below the RSI (bullish signal) **and** price is **above** the moving average. **Short Entry:**  RSI-based SAR flips above the RSI (bearish signal) **and** price is **below** the moving average.  ✅ Exit Conditions (Position Reversal)   When an opposite signal occurs, the current position is **closed immediately**, and a new one is **opened in the opposite direction**.  ✅ TP / SL Setup  - SL is placed at a **virtual buffer distance** (e.g., 100 pips from entry).  - TP is calculated using the **risk-reward ratio** (e.g., 2.0 → TP at 200 pips if SL = 100).  → Delivers consistent, risk-defined trades.---## 💰 Risk Management Parameters **Asset / Timeframe:** Any (Backtested on 10-minute chart)   **Account Size (Virtual):** $3,000   **Commission:** 0.02% per trade   **Slippage Buffer:** Equivalent to 100 pips   **Risk Per Trade:** Approximately 5% of account balance   **Number of Trades (Backtest Period):** 125 trades  ---## 📈 Recommended Usage **Timeframes:** 5m to 30m (scalping to intraday)   **Market Conditions:** Best in trending markets; responsive even in mild ranges   **Assets:** Forex pairs, Gold, WTI Crude, Indexes with volatility   **Discretionary Support:** Visual TP/SL allows for **pre-planned trades** and avoids impulsive decisions  ---## ⚠️ Notes & Considerations Positions are reversed on opposite signals (no simultaneous longs & shorts).   Backtests do not include broker-specific execution factors—adjust for slippage and spreads if needed.   Strategy is **originally developed**, inspired by “ChartPrime's RSI Parabolic SAR” idea, but fully standalone.  ---## 🖼 Chart Visuals & Features **MA Line (orange):** Shows trend direction   **TP Line (green dashed):** Take Profit visualization   **SL Line (red dashed):** Stop Loss boundary   **RSI-SAR Flip Points:** Highlight entry timing visually  ---## ✅ SummaryParabolic RSI Strategy + MA Filter + TP/SL【PakunFX】 is a  “Momentum Detection × Trend Filtering × Exit Visualization” strategy designed for consistent, visually guided decision-making.  With clearly structured logic and visual aids, it serves both discretionary and systematic traders looking for a **momentum-aligned, risk-controlled approach**.",
         "{'Exponential Moving Average (EMA)', 'strategy', 'strategytesting', 'Parabolic Stop and Reverse (PSAR)', 'Momentum Indicator (MOM)', 'trendfollowing'}",
         "0",
         "+29.75",
         "99.62",
         "69.87",
         "4.81",
         "−442.20",
         "39.31",
         "10.06",
         "2",
         "125",
         "0.0",
         "70",
         "55",
         "56.00%",
         "0.24",
         "1.42",
         "1.27",
         "1.12",
         "4.37",
         "4.55%",
         "3.20",
         "3.35%",
         "117",
         "101",
         "138",
         "−0.18",
         "−0.236",
         "1.426",
         "0.0",
         "{'Trading range': 'Sep 30, 2024, 10:50 — May 01, 2025, 13:40', 'Backtesting range': 'Sep 30, 2024, 07:00 — May 01, 2025, 13:40', 'Symbol': 'TVC:USOIL', 'Timeframe': '10 minutes', 'Point value': '1', 'Chart type': 'Candles', 'Currency': 'USD', 'Tick size': '0.01', 'Precision': 'Default', 'RSI Length': 'RSI Length14', 'RSI Overbought': 'RSI Overbought70', 'RSI Oversold': 'RSI Oversold30', 'SAR Start': 'SAR Start0.02', 'SAR Increment': 'SAR Increment0.02', 'SAR Maximum': 'SAR Maximum0.2', 'Risk Reward Ratio': 'Risk Reward Ratio2', 'Stop Buffer (pips)': 'Stop Buffer (pips)100', 'MA Length': 'MA Length11', 'Use SMA (if false, uses EMA)': 'Use SMA (if false, uses EMA)Off', 'Initial capital': '3,000.00USD', 'Order size': '100.00USD', 'Pyramiding': '1 orders', 'Commission': '0.02\\xa0%', 'Slippage': '2 ticks', 'Verify price for limit orders': '0 ticks', 'Margin for long positions': '5%', 'Margin for short positions': '5%', 'Recalculate after order is filled': 'Off', 'Recalculate on every tick': 'Off', 'Recalculate on bar close': 'Off', 'Backtesting precision. Use bar magnifier': 'Off'}"
        ],
        [
         "11",
         "Likidite Avı + Dönüş Stratejisi (TP/SL + Zaman Bazlı)",
         "Checks if the previous top/bottom is pinned.Then it generates a signal as soon as a sharp and opposite candle comes.It looks for a reactionary reversal, not a pullback.It gives fewer but more meaningful signals.✅ Previous top/bottom pin (liquidity hunt)✅ Immediately followed by a strong reversal candle✅ And there is a signal system that gives these conditions instantly, together with the candle closing.",
         "{'Candlestick analysis', 'Chart patterns'}",
         "0",
         "+10,101.99",
         "15,034.49",
         "4,932.50",
         "220.00",
         "+278,686.86",
         "11,614.13",
         "2,965.19",
         "40,502",
         "23",
         "0.0",
         "16",
         "7",
         "69.57%",
         "439.22",
         "939.66",
         "704.64",
         "1.334",
         "2,396.11",
         "23.94%",
         "1,920.68",
         "19.19%",
         "12",
         "12",
         "12",
         "0.209",
         "0.465",
         "3.048",
         "0.0",
         "{'Trading range': 'Dec 26, 2024, 11:45 — May 01, 2025, 18:15', 'Backtesting range': 'Dec 20, 2024, 21:45 — May 01, 2025, 18:15', 'Symbol': 'BINANCE:FARTCOINUSDT.P', 'Timeframe': '15 minutes', 'Point value': '1', 'Chart type': 'Candles', 'Currency': 'USDT', 'Tick size': '0.0001', 'Precision': 'Default', 'Likidite Avı İçin Geriye Bakış': 'Likidite Avı İçin Geriye Bakış14', 'Kaç Bar Sonra Pozisyondan Çık': 'Kaç Bar Sonra Pozisyondan Çık10', 'Take Profit (%)': 'Take Profit (%)3', 'Stop Loss (%)': 'Stop Loss (%)5', 'Initial capital': '1,000,000.00USDT', 'Order size': '10,000.00USDT', 'Pyramiding': '1 orders', 'Commission': '5.00USDT\\xa0per order', 'Slippage': '0 ticks', 'Verify price for limit orders': '0 ticks', 'Margin for long positions': '0%', 'Margin for short positions': '0%', 'Recalculate after order is filled': 'Off', 'Recalculate on every tick': 'Off', 'Recalculate on bar close': 'Off', 'Backtesting precision. Use bar magnifier': 'Off'}"
        ],
        [
         "12",
         "Multi-Indicator Strategy By Arvind Dodke [EMA+MACD+RSI+ADX]",
         "This strategy is based on EMA + MACD + RSI +ADX. You can backtest it. Change order size 1 from properties.  Change the parameters for better result.",
         "{'Trend Analysis', 'Moving Averages', 'multitimeframe'}",
         "+405.60",
         "+2,107.33",
         "28,903.73",
         "26,796.40",
         "0",
         "−6,940.80",
         "12,571.29",
         "10,515.81",
         "3",
         "52",
         "1.0",
         "21",
         "31",
         "40.38%",
         "40.53",
         "1,376.37",
         "864.40",
         "1.592",
         "5,998.79",
         "6.20%",
         "5,521.50",
         "5.54%",
         "192",
         "305",
         "116",
         "0.012",
         "0.016",
         "1.079",
         "0.0",
         "{'Trading range': 'Mar 31, 2025, 12:00 — May 02, 2025, 10:27', 'Backtesting range': 'Mar 31, 2025, 03:30 — May 02, 2025, 10:27', 'Symbol': 'BLACKBULL:US30', 'Timeframe': '3 minutes', 'Point value': '1', 'Chart type': 'Candles', 'Currency': 'USD', 'Tick size': '0.01', 'Precision': 'Default', 'EMA Length': 'EMA Length100', 'RSI Length': 'RSI Length14', 'MACD Fast Length': 'MACD Fast Length12', 'MACD Slow Length': 'MACD Slow Length26', 'MACD Signal Length': 'MACD Signal Length9', 'ADX Length': 'ADX Length14', 'ADX Threshold': 'ADX Threshold20', 'Take Profit (%)': 'Take Profit (%)3', 'Stop Loss (%)': 'Stop Loss (%)1.5', 'Use Trailing Stop?': 'Use Trailing Stop?On', 'Trailing Stop (%)': 'Trailing Stop (%)1.8', 'Initial capital': '1,000,000.00USD', 'Order size': '10% of equity', 'Pyramiding': '1 orders', 'Commission': '0\\xa0%', 'Slippage': '0 ticks', 'Verify price for limit orders': '0 ticks', 'Margin for long positions': '0%', 'Margin for short positions': '0%', 'Recalculate after order is filled': 'Off', 'Recalculate on every tick': 'Off', 'Recalculate on bar close': 'Off', 'Backtesting precision. Use bar magnifier': 'Off'}"
        ],
        [
         "13",
         "UT Bot Strategy Backtest with Date Range",
         "Backtesting Strategy for UT Bot Alerts by QuantNomad•\tPreferred Settings: Heikin Ashi candles, 15m chart length, January 1, 2025 to \tcurrent date, Key value: 1, ATR: 10, Order size: 50% of equity, Recalculation and order filling unchecked.•\tMost Profitable Token: FARTCOIN using above settings.",
         "{'Portfolio management', 'educational', 'strategy', 'statistics', 'utbotalert'}",
         "−0.04",
         "−31.28",
         "364.15",
         "395.43",
         "0",
         "−4.21",
         "55.25",
         "61.09",
         "7,924",
         "1,022",
         "1.0",
         "362",
         "659",
         "35.42%",
         "−0.03",
         "1.01",
         "0.60",
         "1.676",
         "9.39",
         "19.22%",
         "2.88",
         "6.72%",
         "9",
         "16",
         "6",
         "−0.099",
         "−0.14",
         "0.921",
         "0.0",
         "{'Trading range': 'Apr 01, 2025, 19:05 — May 01, 2025, 20:55', 'Backtesting range': 'Mar 23, 2025, 20:00 — May 01, 2025, 20:55', 'Symbol': 'MEXC:BUTTHOLEUSDT', 'Timeframe': '5 minutes', 'Point value': '1', 'Chart type': 'Candles', 'Currency': 'USDT', 'Tick size': '0.000001', 'Precision': 'Default', 'Key Value (Sensitivity)': 'Key Value (Sensitivity)1', 'ATR Period': 'ATR Period10', 'Start Date': 'Start DateApr 01, 2025, 19:00', 'End Date': 'End DateAug 29, 2025, 20:00', 'Initial capital': '100.00USDT', 'Order size': '50% of equity', 'Pyramiding': '1 orders', 'Commission': '0\\xa0%', 'Slippage': '0 ticks', 'Verify price for limit orders': '0 ticks', 'Margin for long positions': '100%', 'Margin for short positions': '100%', 'Recalculate after order is filled': 'Off', 'Recalculate on every tick': 'Off', 'Recalculate on bar close': 'Off', 'Backtesting precision. Use bar magnifier': 'Off'}"
        ],
        [
         "14",
         "Intraday NQ - MACD + VWAP + TPO (Short Only from 2025)",
         "This intraday Nasdaq futures (NQ) strategy trades based on MACD momentum, VWAP alignment, and TPO breakout simulation. ATR determines dynamic risk and reward. Use the toggles to test long, short, or both strategies from January 1, 2025 onward.",
         "{'Volume', 'Chart patterns', 'Bands and Channels'}",
         "0",
         "+286,662.00",
         "1,345,035.50",
         "1,058,373.50",
         "0",
         "−73,278.00",
         "355,991.00",
         "76,824.00",
         "37",
         "913",
         "0.0",
         "672",
         "241",
         "73.60%",
         "313.98",
         "2,001.54",
         "4,391.59",
         "0.456",
         "27,897.00",
         "2.34%",
         "28,860.00",
         "2.36%",
         "13",
         "9",
         "24",
         "1.423",
         null,
         null,
         null,
         "{'Trading range': 'Jan 12, 2025, 19:50 — Apr 30, 2025, 13:15', 'Backtesting range': 'Jan 12, 2025, 17:00 — Apr 30, 2025, 13:15', 'Symbol': 'CME_MINI:MNQ1!', 'Timeframe': '5 minutes', 'Point value': '2', 'Chart type': 'Candles', 'Currency': 'USD', 'Tick size': '0.25', 'Precision': 'Default', 'Initial capital': '1,000,000.00USD', 'Order size': '100% of equity', 'Pyramiding': '1 orders', 'Commission': '0\\xa0%', 'Slippage': '0 ticks', 'Verify price for limit orders': '0 ticks', 'Margin for long positions': '0%', 'Margin for short positions': '0%', 'Recalculate after order is filled': 'Off', 'Recalculate on every tick': 'Off', 'Recalculate on bar close': 'Off', 'Backtesting precision. Use bar magnifier': 'Off'}"
        ],
        [
         "15",
         "Deadzone Pro Strategy (Final & Verified)",
         "Just a basic script to backtest the Deadzone Pro indicator. Adjust as necessary. Love ya'll!",
         "{'Volatility'}",
         "0",
         "−15,582.67",
         "18,062.21",
         "33,644.87",
         "0",
         "+87,477.11",
         "9,141.86",
         "17,185.63",
         "12",
         "46",
         "0.0",
         "15",
         "31",
         "32.61%",
         "−338.75",
         "1,204.15",
         "1,085.32",
         "1.109",
         "5,571.06",
         "0.56%",
         "3,624.60",
         "0.36%",
         "7",
         "10",
         "5",
         "−0.888",
         "−0.683",
         "0.537",
         "0.0",
         "{'Trading range': 'Apr 20, 2025, 20:43 — Apr 30, 2025, 19:25', 'Backtesting range': 'Apr 20, 2025, 20:00 — Apr 30, 2025, 19:25', 'Symbol': 'THINKMARKETS:BTCUSD', 'Timeframe': '1 minute', 'Point value': '1', 'Chart type': 'Candles', 'Currency': 'USD', 'Tick size': '0.01', 'Precision': 'Default', 'Hull MA Length': 'Hull MA Length12', 'Price Source': 'Price Sourceohlc4', 'Explosion Fast Length': 'Explosion Fast Length12', 'Explosion Slow Length': 'Explosion Slow Length26', 'Power Length': 'Power Length14', 'Explosion Sensitivity': 'Explosion Sensitivity50', 'ADX Length': 'ADX Length14', 'ADX Threshold': 'ADX Threshold28', 'Initial capital': '1,000,000.00USD', 'Order size': '100% of equity', 'Pyramiding': '1 orders', 'Commission': '0\\xa0%', 'Slippage': '0 ticks', 'Verify price for limit orders': '0 ticks', 'Margin for long positions': '100%', 'Margin for short positions': '100%', 'Recalculate after order is filled': 'Off', 'Recalculate on every tick': 'Off', 'Recalculate on bar close': 'Off', 'Backtesting precision. Use bar magnifier': 'Off'}"
        ],
        [
         "16",
         "Nifty Trend-Pullback Scalping",
         "// Nifty Trend-Pullback Scalping Strategy//version=5strategy(\"Nifty Trend-Pullback Scalping\", overlay=true, default_qty_type=strategy.percent_of_equity, default_qty_value=10)// === INPUTS ===emaFastLen = input.int(20, title=\"Fast EMA Length\")emaSlowLen = input.int(50, title=\"Slow EMA Length\")useRSI = input.bool(true, title=\"Use RSI Filter\")rsiPeriod = input.int(14, title=\"RSI Period\")minRSI = input.int(40, title=\"Min RSI for Long\")maxRSI = input.int(60, title=\"Max RSI for Short\")// === INDICATORS ===emaFast = ta.ema(close, emaFastLen)emaSlow = ta.ema(close, emaSlowLen)rsi = ta.rsi(close, rsiPeriod)plot(emaFast, color=color.orange, title=\"20 EMA\")plot(emaSlow, color=color.blue, title=\"50 EMA\")// === CONDITIONS ===// Long SetuplongTrend = emaFast > emaSlow and close > emaFast and close > emaSlowlongPullback = close[1] > emaFast and close < emaFastlongRSICond = not useRSI or (rsi > minRSI and rsi < 70)longCandle = close > open and open <= emaFastlongEntry = longTrend and longPullback and longRSICond and longCandle// Short SetupshortTrend = emaFast < emaSlow and close < emaFast and close < emaSlowshortPullback = close[1] < emaFast and close > emaFastshortRSICond = not useRSI or (rsi < maxRSI and rsi > 30)shortCandle = close < open and open >= emaFastshortEntry = shortTrend and shortPullback and shortRSICond and shortCandle// === EXECUTION ===if (longEntry)    strategy.entry(\"Long\", strategy.long)if (shortEntry)    strategy.entry(\"Short\", strategy.short)// === EXIT STRATEGY ===takeProfitPerc = input.float(0.5, title=\"Take Profit %\") / 100stopLossPerc = input.float(0.25, title=\"Stop Loss %\") / 100strategy.exit(\"TP/SL Long\", from_entry=\"Long\", profit=takeProfitPerc * close, loss=stopLossPerc * close)strategy.exit(\"TP/SL Short\", from_entry=\"Short\", profit=takeProfitPerc * close, loss=stopLossPerc * close)",
         "{'Chart patterns'}",
         "0",
         "0",
         "0",
         "0",
         "0",
         "0",
         "0",
         "0",
         "0",
         "0",
         "0.0",
         "0",
         "0",
         null,
         null,
         null,
         null,
         null,
         null,
         null,
         null,
         null,
         null,
         null,
         null,
         null,
         null,
         null,
         null,
         "{'Trading range': ' — ', 'Backtesting range': 'Sep 01, 2023, 09:15 — May 02, 2025, 15:15', 'Symbol': 'NSE:NIFTY', 'Timeframe': '15 minutes', 'Point value': '1', 'Chart type': 'Candles', 'Currency': 'INR', 'Tick size': '0.05', 'Precision': 'Default', 'Fast EMA Length': 'Fast EMA Length20', 'Slow EMA Length': 'Slow EMA Length50', 'Use RSI Filter': 'Use RSI FilterOn', 'RSI Period': 'RSI Period14', 'Min RSI for Long': 'Min RSI for Long40', 'Max RSI for Short': 'Max RSI for Short60', 'Take Profit %': 'Take Profit %0.5', 'Stop Loss %': 'Stop Loss %0.25', 'Initial capital': '1,000,000.00INR', 'Order size': '10% of equity', 'Pyramiding': '1 orders', 'Commission': '0\\xa0%', 'Slippage': '0 ticks', 'Verify price for limit orders': '0 ticks', 'Margin for long positions': '0%', 'Margin for short positions': '0%', 'Recalculate after order is filled': 'Off', 'Recalculate on every tick': 'Off', 'Recalculate on bar close': 'Off', 'Backtesting precision. Use bar magnifier': 'Off'}"
        ],
        [
         "17",
         "BB 20-2  +  RSI-10  +  Stoch 14-3-3  |  5-min",
         "On the 1-minute chart, using the indicators Stochastic %K/%D, RSI-10 and Bollinger Bands (20-period MA ± 2 σ):Buy setup:When RSI-10 is below 29, Stochastic %K/%D is below 19, and at least one candle touches the lower Bollinger band, open a long trade.Sell setup:When RSI-10 is above 72, Stochastic %K/%D is above 81, and at least one candle touches the upper Bollinger band, open a short trade.",
         "{'options', 'Pine utilities', 'Bands and Channels'}",
         "−183.40",
         "+8,562.03",
         "29,730.87",
         "21,168.84",
         "0",
         "+144,746.73",
         "11,117.67",
         "4,218.27",
         "1",
         "140",
         "1.0",
         "96",
         "44",
         "68.57%",
         "61.16",
         "309.70",
         "481.11",
         "0.644",
         "956.28",
         "0.95%",
         "2,525.33",
         "2.53%",
         "121",
         "86",
         "198",
         "0.524",
         "1.04",
         "1.404",
         "0.0",
         "{'Trading range': 'Apr 20, 2025, 19:02 — May 02, 2025, 14:09', 'Backtesting range': 'Apr 20, 2025, 18:01 — May 02, 2025, 14:09', 'Symbol': 'PEPPERSTONE:BTCUSD', 'Timeframe': '1 minute', 'Point value': '1', 'Chart type': 'Candles', 'Currency': 'USD', 'Tick size': '0.01', 'Precision': 'Default', 'RSI length': 'RSI length10', 'RSI < buy': 'RSI < buy29', 'RSI > sell': 'RSI > sell72', '%K length': '%K length14', '%K smooth': '%K smooth3', '%D length': '%D length3', 'Stoch < buy': 'Stoch < buy19', 'Stoch > sell': 'Stoch > sell81', 'BB length': 'BB length20', 'BB stdev mult': 'BB stdev mult2', 'Initial capital': '1,000,000.00USD', 'Order size': '10% of equity', 'Pyramiding': '1 orders', 'Commission': '0\\xa0%', 'Slippage': '0 ticks', 'Verify price for limit orders': '0 ticks', 'Margin for long positions': '0%', 'Margin for short positions': '0%', 'Recalculate after order is filled': 'Off', 'Recalculate on every tick': 'Off', 'Recalculate on bar close': 'Off', 'Backtesting precision. Use bar magnifier': 'Off'}"
        ],
        [
         "18",
         "TUE ADX/MACD Confluence Strategy V1.0",
         "📈 TUE ADX/MACD Confluence Strategy with SL/TP & PineConnector IntegrationThis strategy is designed to capture trend-following entries using the ADX (Average Directional Index) and MACD (Moving Average Convergence Divergence) indicators, enhanced with built-in Stop Loss (SL) and Take Profit (TP) management. It is fully compatible with PineConnector, allowing for real-time trade automation on supported brokers via MT4/MT5.🔍 Core Logic:Entry Signals:Long Entry: When +DI > -DI, MACD Line > Signal Line, and ADX confirms a strong trend.Short Entry: When -DI > +DI, MACD Line < Signal Line, and ADX confirms a strong trend.Risk Management:Configurable Stop Loss and Take Profit percentages.Exits are triggered when either SL or TP is hit.Projections:Visual SL/TP projection lines for each position.Overlay:Colored candles for visual trend confirmation.Entry markers for quick signal recognition.🔧 Customizable Inputs:ADX & MACD lengthsSL/TP percentagesCandle coloring toggleSignal visibility toggle🟢 PineConnector Integration:This strategy is ideal for use with PineConnector, enabling you to:Execute trades in real time on your preferred broker.Use it in live, paper, or demo trading environments.Automate your strategy with zero coding — simply connect, authorize, and trade.",
         "{'Cycles', 'Average Directional Index (ADX)', 'Moving Average Convergence / Divergence (MACD)'}",
         "+39.68",
         "−187,379.46",
         "1,110,176.13",
         "1,297,555.59",
         "0",
         "−92,714.57",
         "125,912.20",
         "298,033.38",
         "1,217,814",
         "294",
         "1.0",
         "107",
         "186",
         "36.39%",
         "−637.35",
         "10,375.48",
         "6,976.11",
         "1.487",
         "20,848.78",
         "2.00%",
         "10,702.36",
         "1.12%",
         "33",
         "49",
         "24",
         "−0.216",
         "−0.271",
         "0.856",
         "0.0",
         "{'Trading range': 'Jan 11, 2018, 11:30 — May 01, 2025, 06:30', 'Backtesting range': 'Jan 01, 2018, 23:30 — May 01, 2025, 06:30', 'Symbol': 'FX:NZDCAD', 'Timeframe': '4 hours', 'Point value': '1', 'Chart type': 'Candles', 'Currency': 'CAD', 'Tick size': '0.00001', 'Precision': 'Default', 'Show BUY/SELL Signals': 'Show BUY/SELL SignalsOn', 'Show Candle Colors': 'Show Candle ColorsOn', 'ADX Length': 'ADX Length14', 'ADX Smoothing': 'ADX Smoothing10', 'MACD Source': 'MACD Sourceclose', 'MACD Fast Length': 'MACD Fast Length12', 'MACD Slow Length': 'MACD Slow Length26', 'MACD Signal Length': 'MACD Signal Length9', 'Up Candle Color': '', 'Down Candle Color': '', 'ADX Threshold for Strong Trend': 'ADX Threshold for Strong Trend25', 'Stop Loss %': 'Stop Loss %1', 'Take Profit %': 'Take Profit %2', 'Initial capital': '1,000,000.00CAD', 'Order size': '100% of equity', 'Pyramiding': '1 orders', 'Commission': '0\\xa0%', 'Slippage': '0 ticks', 'Verify price for limit orders': '0 ticks', 'Margin for long positions': '0%', 'Margin for short positions': '0%', 'Recalculate after order is filled': 'Off', 'Recalculate on every tick': 'Off', 'Recalculate on bar close': 'Off', 'Backtesting precision. Use bar magnifier': 'Off'}"
        ],
        [
         "19",
         "EMA200/EMA7 HA w/ TP/SL & Markdown Alerts",
         "English DescriptionName: EMA200 / EMA7 Heikin Ashi Strategy with TP/SL & Markdown AlertsType: Spot‐only long (optional short) strategy on Heikin Ashi candlesKey Inputs & Settings:Enable Longs: Toggle on/off long entriesEnable Shorts: Toggle on/off short entriesThresholds:Long entry when price is at least X% below EMA200 (default 2%) and HA close crosses above EMA7Short entry when price is at least X% above EMA200 (default 2%) and HA close crosses below EMA7Take Profit & Stop Loss: Percentage‐based TP/SL (default 2% each)Signal Filters:Heikin Ashi Trend: HA close > HA open for longs; HA close < HA open for shortsHA Momentum: Two consecutive HA closes rising (longs) or falling (shorts)Entries & Exits:On a filtered crossover, enters market (“Long” or “Short”) at current closeSets TP and SL levels immediately (limit & stop orders)Exits automatically when TP or SL is hitAlerts:Sends a detailed Markdown‐formatted alert on every entry, including symbol, exchange, entry price, leverage (“5x”), TP & SL levelsAlso defines succinct alertcondition() messages for “Signal Achat” and “Signal Vente”Visuals & Stats Table:Plots EMA200 (red) and EMA7 (blue) on the chartDraws current TP/SL lines while in a positionDisplays a bottom‐right table updated every 10 bars, showing total trades, win rate, net profit, average profit/trade, and max drawdown",
         "{'forecasting', 'Cycles', 'Candlestick analysis'}",
         "0",
         "+0.28",
         "35.48",
         "35.20",
         "0",
         "+9.99",
         "6.36",
         "6.22",
         "1",
         "76",
         "0.0",
         "48",
         "28",
         "63.16%",
         "0.004",
         "0.74",
         "1.26",
         "0.588",
         "1.20",
         "1.19%",
         "2.61",
         "2.47%",
         "113",
         "76",
         "177",
         "0.015",
         "0.02",
         "1.008",
         "0.0",
         "{'Trading range': 'Apr 14, 2025, 00:44 — Apr 30, 2025, 16:19', 'Backtesting range': 'Apr 13, 2025, 20:00 — Apr 30, 2025, 16:19', 'Symbol': 'BINANCE:SOLUSDT', 'Timeframe': '1 minute', 'Point value': '1', 'Chart type': 'Candles', 'Currency': 'USDT', 'Tick size': '0.01', 'Precision': 'Default', '✅ Activer les Longs': '✅ Activer les LongsOn', '✅ Activer les Shorts': '✅ Activer les ShortsOn', 'Take Profit %': 'Take Profit %0.8', 'Stop Loss %': 'Stop Loss %1.3', 'Seuil Long (% sous EMA200)': 'Seuil Long (% sous EMA200)0.6', 'Seuil Short (% au-dessus EMA200)': 'Seuil Short (% au-dessus EMA200)1', 'Initial capital': '100.00USDT', 'Order size': '100% of equity', 'Pyramiding': '1 orders', 'Commission': '0\\xa0%', 'Slippage': '0 ticks', 'Verify price for limit orders': '0 ticks', 'Margin for long positions': '0%', 'Margin for short positions': '0%', 'Recalculate after order is filled': 'Off', 'Recalculate on every tick': 'Off', 'Recalculate on bar close': 'Off', 'Backtesting precision. Use bar magnifier': 'Off'}"
        ],
        [
         "20",
         "PowerHouse SwiftEdge AI v2.10 Strategy",
         "OverviewThe PowerHouse SwiftEdge AI v2.10 Strategy is a sophisticated trading system designed to identify high-probability trade setups in forex, stocks, and cryptocurrencies. By combining multi-timeframe trend analysis, momentum signals, volume confirmation, and smart money concepts (Change of Character [CHoCH] and Break of Structure [BOS]), this strategy offers traders a robust tool to capitalize on market trends while minimizing false signals. The strategy’s unique “AI” component analyzes trends across multiple timeframes to provide a clear, actionable dashboard, making it accessible for both novice and experienced traders. The strategy is fully customizable, allowing users to tailor its filters to their trading style.What It DoesThis strategy generates Buy and Sell signals based on a confluence of technical indicators and smart money concepts. It uses:Multi-Timeframe Trend Analysis: Confirms the market’s direction by analyzing trends on the 1-hour (60M), 4-hour (240M), and daily (D) timeframes.Momentum Filter: Ensures trades align with strong price movements to avoid choppy markets.Volume Filter: Validates signals with above-average volume to confirm market participation.Breakout Filter: Requires price to break key levels for added confirmation.Smart Money Signals (CHoCH/BOS): Identifies reversals (CHoCH) and trend continuations (BOS) based on pivot points.AI Trend Dashboard: Summarizes trend strength, confidence, and predictions across timeframes, helping traders make informed decisions without needing to analyze complex data manually.The strategy also plots dynamic support and resistance trendlines, take-profit (TP) levels, and “Get Ready” signals to alert users of potential setups before they fully develop. Trades are executed with predefined take-profit and stop-loss levels for disciplined risk management.How It WorksThe strategy integrates multiple components to create a cohesive trading system:Multi-Timeframe Trend Analysis:The strategy evaluates trends on three timeframes (1H, 4H, Daily) using Exponential Moving Averages (EMA) and Volume-Weighted Average Price (VWAP). A trend is considered bullish if the price is above both the EMA and VWAP, bearish if below, or neutral otherwise.Signals are only generated when the trend on the user-selected higher timeframe aligns with the trade direction (e.g., Buy signals require a bullish higher timeframe trend). This reduces noise and ensures trades follow the broader market context.Momentum Filter:Measures the percentage price change between consecutive bars and compares it to a volatility-adjusted threshold (based on the Average True Range [ATR]). This ensures trades are taken only during significant price movements, filtering out low-momentum conditions.Volume Filter (Optional):Checks if the current volume exceeds a long-term average and shows positive short-term volume change. This confirms strong market participation, reducing the risk of false breakouts.Breakout Filter (Optional):Requires the price to break above (for Buy) or below (for Sell) recent highs/lows, ensuring the signal aligns with a structural shift in the market.Smart Money Concepts (CHoCH/BOS):Change of Character (CHoCH): Detects potential reversals when the price crosses under a recent pivot high (for Sell) or over a recent pivot low (for Buy) with a bearish or bullish candle, respectively.Break of Structure (BOS): Confirms trend continuations when the price breaks below a recent pivot low (for Sell) or above a recent pivot high (for Buy) with strong momentum.These signals are plotted as horizontal lines with labels, making it easy to visualize key levels.AI Trend Dashboard:Combines trend direction, momentum, and volatility (ATR) across timeframes to calculate a trend score. Scores above 0.5 indicate an “Up” trend, below -0.5 indicate a “Down” trend, and otherwise “Neutral.”Displays a table summarizing trend strength (as a percentage), AI confidence (based on trend alignment), and Cumulative Volume Delta (CVD) for market context.A second table (optional) shows trend predictions for 1H, 4H, and Daily timeframes, helping traders anticipate future market direction.Dynamic Trendlines:Plots support and resistance lines based on recent swing lows and highs within user-defined periods (shortTrendPeriod, longTrendPeriod). These lines adapt to market conditions and are colored based on trend strength.Why This Combination?The PowerHouse SwiftEdge AI v2.10 Strategy is original because it seamlessly integrates traditional technical analysis (EMA, VWAP, ATR, volume) with smart money concepts (CHoCH, BOS) and a proprietary AI-driven trend analysis. Unlike standalone indicators, this strategy:Reduces False Signals: By requiring confluence across trend, momentum, volume, and breakout filters, it minimizes trades in choppy or low-conviction markets.Adapts to Market Context: The ATR-based momentum threshold adjusts dynamically to volatility, ensuring signals remain relevant in both trending and ranging markets.Simplifies Decision-Making: The AI dashboard distills complex multi-timeframe data into a user-friendly table, eliminating the need for manual analysis.Leverages Smart Money: CHoCH and BOS signals capture institutional price action patterns, giving traders an edge in identifying reversals and continuations.The combination of these components creates a balanced system that aligns short-term trade entries with longer-term market trends, offering a unique blend of precision, adaptability, and clarity.How to UseAdd to Chart:Apply the strategy to your TradingView chart on a liquid symbol (e.g., EURUSD, BTCUSD, AAPL) with a timeframe of 60 minutes or lower (e.g., 15M, 60M).Configure Inputs:Pivot Length: Adjust the number of bars (default: 5) to detect pivot highs/lows for CHoCH/BOS signals. Higher values reduce noise but may delay signals.Momentum Threshold: Set the base percentage (default: 0.01%) for momentum confirmation. Increase for stricter signals.Take Profit/Stop Loss: Define TP and SL in points (default: 10 each) for risk management.Higher/Lower Timeframe: Choose timeframes (60M, 240M, D) for trend filtering. Ensure the chart timeframe is lower than or equal to the higher timeframe.Filters: Enable/disable momentum, volume, or breakout filters to suit your trading style.Trend Periods: Set shortTrendPeriod (default: 30) and longTrendPeriod (default: 100) for trendline plotting. Keep below 2000 to avoid buffer errors.AI Dashboard: Toggle Enable AI Market Analysis to show/hide the prediction table and adjust its position.Interpret Signals:Buy/Sell Labels: Green \"Buy\" or red \"Sell\" labels indicate trade entries with predefined TP/SL levels plotted.Get Ready Signals: Yellow \"Get Ready BUY\" or orange \"Get Ready SELL\" labels warn of potential setups.CHoCH/BOS Lines: Aqua (CHoCH Sell), lime (CHoCH Buy), fuchsia (BOS Sell), or teal (BOS Buy) lines mark key levels.Trendlines: Green/lime (support) or fuchsia/purple (resistance) dashed lines show dynamic support/resistance.AI Dashboard: Check the top-right table for trend strength, confidence, and CVD. The optional bottom table shows trend predictions (Up, Down, Neutral).Backtest and Trade:Use TradingView’s Strategy Tester to evaluate performance. Adjust TP/SL and filters based on results.Trade manually based on signals or automate with TradingView alerts (set alerts for Buy/Sell labels).Originality and ValueThe PowerHouse SwiftEdge AI v2.10 Strategy stands out by combining multi-timeframe analysis, smart money concepts, and an AI-driven dashboard into a single, user-friendly system. Its adaptive momentum threshold, robust filtering, and clear visualizations empower traders to make confident decisions without needing advanced technical knowledge. Whether you’re a day trader or swing trader, this strategy provides a versatile, data-driven approach to navigating dynamic markets.Important Notes:Risk Management: Always use appropriate position sizing and risk management, as the strategy’s TP/SL levels are customizable.Symbol Compatibility: Test on liquid symbols with sufficient historical data (at least 2000 bars) to avoid buffer errors.Performance: Backtest thoroughly to optimize settings for your market and timeframe.",
         "{'Trend Analysis', 'Exponential Moving Average (EMA)'}",
         "0",
         "+635.90",
         "2,222.20",
         "1,586.30",
         "0",
         "+54,663.93",
         "707.70",
         "110.00",
         "1",
         "418",
         "0.0",
         "102",
         "316",
         "24.40%",
         "1.52",
         "21.79",
         "5.02",
         "4.34",
         "39.50",
         "0.22%",
         "10.60",
         "0.06%",
         "5",
         "10",
         "3",
         "0.126",
         "0.228",
         "1.401",
         "0.0",
         "{'Trading range': 'Apr 21, 2025, 02:55 — Apr 30, 2025, 16:41', 'Backtesting range': 'Apr 21, 2025, 02:00 — Apr 30, 2025, 16:41', 'Symbol': 'IG:NASDAQ', 'Timeframe': '1 minute', 'Point value': '1', 'Chart type': 'Candles', 'Currency': 'USD', 'Tick size': '0.1', 'Precision': 'Default', 'Pivot Length': 'Pivot Length5', 'Base Momentum Threshold (%)': 'Base Momentum Threshold (%)0.01', 'Take Profit (points)': 'Take Profit (points)25', 'Stop Loss (points)': 'Stop Loss (points)5', 'Min Signal Distance (bars)': 'Min Signal Distance (bars)5', 'TP Box Height % (Optional)': 'TP Box Height % (Optional)1', 'Base Pre-Momentum Factor': 'Base Pre-Momentum Factor1', 'Short Trend Period': 'Short Trend Period30', 'Long Trend Period': 'Long Trend Period100', 'Use Momentum Filter': 'Use Momentum FilterOn', 'Use Higher Timeframe Trend Filter': 'Use Higher Timeframe Trend FilterOn', 'Higher Timeframe': 'Higher Timeframe60', 'Use Lower Timeframe Filter': 'Use Lower Timeframe FilterOn', 'Lower Timeframe': 'Lower Timeframe60', 'Use Volume Filter': 'Use Volume FilterOn', 'Use Breakout Filter': 'Use Breakout FilterOn', 'Show Get Ready Signals': 'Show Get Ready SignalsOn', 'Restrict Repeated Signals': 'Restrict Repeated SignalsOff', 'Restrict Trend Timeframe': 'Restrict Trend Timeframe60', 'Enable AI Market Analysis': 'Enable AI Market AnalysisOn', 'AI Market Analysis Table Position': 'AI Market Analysis Table PositionBottom Center', 'Long Volume Period': 'Long Volume Period50', 'Short Volume Period': 'Short Volume Period5', 'Breakout Period': 'Breakout Period5', 'Initial capital': '1,000,000.00USD', 'Order size': '1 contracts', 'Pyramiding': '1 orders', 'Commission': '0\\xa0%', 'Slippage': '0 ticks', 'Verify price for limit orders': '0 ticks', 'Margin for long positions': '0%', 'Margin for short positions': '0%', 'Recalculate after order is filled': 'Off', 'Recalculate on every tick': 'On', 'Recalculate on bar close': 'Off', 'Backtesting precision. Use bar magnifier': 'Off'}"
        ],
        [
         "21",
         "Bollinger + EMA Strategy with Stats",
         "sharpe_window = input.int(252, \"Sharpe Lookback\")sharpe_window = input.int(252, \"Sharpe Lookback\")sharpe_window = input.int(252, \"Sharpe Lookback\")sharpe_window = input.int(252, \"Sharpe Lookback\")sharpe_window = input.int(252, \"Sharpe Lookback\")sharpe_window = input.int(252, \"Sharpe Lookback\")sharpe_window = input.int(252, \"Sharpe Lookback\")sharpe_window = input.int(252, \"Sharpe Lookback\")sharpe_window = input.int(252, \"Sharpe Lookback\")sharpe_window = input.int(252, \"Sharpe Lookback\")sharpe_window = input.int(252, \"Sharpe Lookback\")sharpe_window = input.int(252, \"Sharpe Lookback\")sharpe_window = input.int(252, \"Sharpe Lookback\")",
         "{'Bands and Channels'}",
         "0",
         "+4,829.83",
         "20,508.27",
         "15,678.44",
         "1.28",
         "−29.20",
         "5,743.05",
         "1,838.97",
         "104",
         "639",
         "0.0",
         "413",
         "226",
         "64.63%",
         "7.56",
         "49.66",
         "69.37",
         "0.716",
         "276.70",
         "0.28%",
         "1,075.45",
         "1.06%",
         "13",
         "10",
         "17",
         "0.148",
         "0.208",
         "1.308",
         "0.0",
         "{'Trading range': 'Aug 18, 2023, 13:00 — Apr 30, 2025, 22:00', 'Backtesting range': 'Aug 17, 2023, 12:00 — Apr 30, 2025, 22:00', 'Symbol': 'BINANCE:INJUSDT.P-43.5879*BINANCE:SEIUSDT.P+1000', 'Timeframe': '1 hour', 'Point value': '1', 'Chart type': 'Candles', 'Currency': 'USDT', 'Tick size': '0.001', 'Precision': 'Default', 'Z-Score Window': 'Z-Score Window20', 'Entry Z Threshold': 'Entry Z Threshold2', 'Stop Z Threshold': 'Stop Z Threshold3', 'Sharpe Lookback': 'Sharpe Lookback252', 'Show Strategy Stats': 'Show Strategy StatsOn', 'Bars per day (e.g. 24 for 1h, 1 for 1D)': 'Bars per day (e.g. 24 for 1h, 1 for 1D)24', 'Initial capital': '100,000.00USDT', 'Order size': '100% of equity', 'Pyramiding': '1 orders', 'Commission': '0.001USDT\\xa0per order', 'Slippage': '1 ticks', 'Verify price for limit orders': '0 ticks', 'Margin for long positions': '0%', 'Margin for short positions': '0%', 'Recalculate after order is filled': 'Off', 'Recalculate on every tick': 'Off', 'Recalculate on bar close': 'Off', 'Backtesting precision. Use bar magnifier': 'Off'}"
        ],
        [
         "22",
         "Bollinger + EMA Strategy with Stats",
         "if show_stats and bar_index == ta.highest(bar_index, 50)    winrate = strategy.closedtrades > 0 ? (strategy.wintrades / strategy.closedtrades) * 100 : na    label_text = \"Net Profit: \" + str.tostring(strategy.netprofit, \"#.##\") + \"\\n\" +                 \"Max DD: \" + str.tostring(max_dd * 100, \"#.##\") + \"%\\n\" +                 \"Win Rate: \" + str.tostring(winrate, \"#.##\") + \"%\\n\" +                 \"Trades: \" + str.tostring(strategy.closedtrades)    label.new(x=bar_index, y=high, text=label_text,              style=label.style_label_right, color=color.gray, textcolor=color.white)",
         "{'Bands and Channels'}",
         "0",
         "+464.27",
         "1,894.80",
         "1,430.53",
         "0.64",
         "−22.08",
         "545.10",
         "171.59",
         "10",
         "639",
         "0.0",
         "413",
         "226",
         "64.63%",
         "0.73",
         "4.59",
         "6.33",
         "0.725",
         "24.92",
         "0.28%",
         "95.81",
         "1.06%",
         "13",
         "10",
         "17",
         "−3.876",
         "−0.968",
         "1.325",
         "0.0",
         "{'Trading range': 'Aug 18, 2023, 13:00 — Apr 30, 2025, 21:00', 'Backtesting range': 'Aug 17, 2023, 12:00 — Apr 30, 2025, 21:00', 'Symbol': 'BINANCE:INJUSDT.P-43.5879*BINANCE:SEIUSDT.P+1000', 'Timeframe': '1 hour', 'Point value': '1', 'Chart type': 'Candles', 'Currency': 'USDT', 'Tick size': '0.001', 'Precision': 'Default', 'Z-Score Window': 'Z-Score Window20', 'Entry Z Threshold': 'Entry Z Threshold2', 'Stop Z Threshold': 'Stop Z Threshold3', 'Show Strategy Stats': 'Show Strategy StatsOn', 'Initial capital': '100,000.00USDT', 'Order size': '10% of equity', 'Pyramiding': '1 orders', 'Commission': '0.001USDT\\xa0per order', 'Slippage': '0 ticks', 'Verify price for limit orders': '0 ticks', 'Margin for long positions': '0%', 'Margin for short positions': '0%', 'Recalculate after order is filled': 'Off', 'Recalculate on every tick': 'Off', 'Recalculate on bar close': 'Off', 'Backtesting precision. Use bar magnifier': 'Off'}"
        ],
        [
         "23",
         "RSI EMA Candle Size Strategy",
         "//version=5strategy(\"RSI EMA Candle Size Strategy\", overlay=true)// Indikator teknikalemaFast = ta.ema(close, 10)emaSlow = ta.ema(close, 50)rsiValue = ta.rsi(close, 14)candleSize = math.abs(close - open)// Kondisi BuybuyCondition = rsiValue < 51 and emaFast < emaSlow and candleSize < 0.00025if buyCondition    strategy.entry(\"BUY\", strategy.long)    alert(\"BUY\", alert.freq_once_per_bar_close)// Kondisi SellsellCondition = rsiValue > 49 and emaFast > emaSlow and candleSize < 0.00025if sellCondition    strategy.entry(\"SELL\", strategy.short)    alert(\"SELL\", alert.freq_once_per_bar_close)// Plotplot(emaFast, title=\"EMA 10\", color=color.orange)plot(emaSlow, title=\"EMA 50\", color=color.blue)",
         "{'Breadth Indicators', 'Bands and Channels'}",
         "+0.00005",
         "+0.04",
         "0.23",
         "0.19",
         "0",
         "+45,862.32",
         "0.05",
         "0.03",
         "1",
         "303",
         "1.0",
         "215",
         "86",
         "70.96%",
         "0.0001",
         "0.001",
         "0.002",
         "0.493",
         "0.01",
         "0.70%",
         "0.02",
         "1.46%",
         "37",
         "19",
         "81",
         "−10,806.942",
         "−1",
         "1.233",
         "0.0",
         "{'Trading range': 'Mar 10, 2025, 01:10 — Apr 30, 2025, 11:15', 'Backtesting range': 'Mar 09, 2025, 21:00 — Apr 30, 2025, 11:15', 'Symbol': 'CMCMARKETS:EURUSD', 'Timeframe': '5 minutes', 'Point value': '1', 'Chart type': 'Candles', 'Currency': 'USD', 'Tick size': '0.00001', 'Precision': 'Default', 'Initial capital': '1,000,000.00USD', 'Order size': '1 contracts', 'Pyramiding': '1 orders', 'Commission': '0\\xa0%', 'Slippage': '0 ticks', 'Verify price for limit orders': '0 ticks', 'Margin for long positions': '0%', 'Margin for short positions': '0%', 'Recalculate after order is filled': 'Off', 'Recalculate on every tick': 'Off', 'Recalculate on bar close': 'Off', 'Backtesting precision. Use bar magnifier': 'Off'}"
        ],
        [
         "24",
         "ChopFlow ATR Scalp Strategy",
         "A lean, high-velocity scalp framework for NQ and other futures that blends trend clarity, volume confirmation, and adaptive exits to give you precise, actionable signals—no cluttered bands or lagging indicators.⸻🔍 OverviewThis strategy locks onto rapid intraday moves by:\t•\tFiltering for directional momentum with the Choppiness Index (CI)\t•\tConfirming conviction via On-Balance Volume (OBV) against its moving average\t•\tAutomatically sizing stops and targets with a multiple of the Average True Range (ATR)It’s designed for scalp traders who need clean, timely entries without wading through choppy noise.⸻⚙️ Key Features & Inputs1.\tATR Length & Multiplier\t•\tControls exit distances based on current volatility.2.\tChoppiness Length & Threshold\t•\tMeasures trend strength; only fires when the market isn’t “stuck in the mud.”3.\tOBV SMA Length\t•\tSmoothes volume flow to confirm genuine buying or selling pressure.4.\tCustom Session Hours\t•\tAvoid overnight gaps or low-liquidity periods.All inputs are exposed for rapid tuning to your preferred scalp cadence.🚀 How It Works1.\tLong Entry triggers when:\t•\tCI < threshold (strong trend)\t•\tOBV > its SMA (positive volume flow)\t•\tYou’re within the defined session2.\tShort Entry mirrors the above (CI < threshold, OBV < SMA)3.\tExit uses ATR × multiplier for both stop-loss and take-profit⸻🎯 Usage Tips\t•\tStart with defaults (ATR 14, multiplier 1.5; CI 14, threshold 60; OBV SMA 10).\t•\tMonitor signal frequency, then tighten/loosen CI or OBV look-back as needed.\t•\tPair with a fast MA crossover or price-action trigger if you want even sharper timing.\t•\tBacktest across different sessions (early open vs. power hours) to find your edge.⸻⚠️ DisclaimerThis script is provided “as-is” for educational and research purposes. Always paper-trade any new setup extensively before deploying live capital, and adjust risk parameters to your personal tolerance.⸻Elevate your scalp game with ChopFlow ATR—where trend, volume, and volatility converge for clear, confident entries. Happy scalping!",
         "{'Average True Range (ATR)', 'scalping', 'On Balance Volume (OBV)', 'optionsstrategies', 'futures'}",
         "0",
         "+19,704.73",
         "365,501.08",
         "345,796.35",
         "2,214.27",
         "+217,775.00",
         "20,786.64",
         "5,622.45",
         "1",
         "12,301",
         "1.0",
         "8,844",
         "3,457",
         "71.90%",
         "1.60",
         "41.33",
         "100.03",
         "0.413",
         "278.32",
         "0.80%",
         "1,101.68",
         "3.27%",
         "2",
         "2",
         "3",
         "−1.05",
         "−0.735",
         "1.057",
         "0.0",
         "{'Trading range': 'May 02, 2021, 19:00 — Apr 30, 2025, 06:00', 'Backtesting range': 'Apr 30, 2021, 04:00 — Apr 30, 2025, 06:00', 'Symbol': 'CME_MINI:MNQ1!', 'Timeframe': '1 hour', 'Point value': '2', 'Chart type': 'Candles', 'Currency': 'USD', 'Tick size': '0.25', 'Precision': '1/100', 'ATR Length': 'ATR Length14', 'ATR Multiplier': 'ATR Multiplier1.5', 'Choppiness Length': 'Choppiness Length14', 'Choppiness Threshold': 'Choppiness Threshold60', 'OBV SMA Length': 'OBV SMA Length10', 'Trade Session': 'Trade Session17:00 — 16:00', 'Initial capital': '1,000,000.00USD', 'Order size': '1 contracts', 'Pyramiding': '1 orders', 'Commission': '0.09USD\\xa0per contract', 'Slippage': '0 ticks', 'Verify price for limit orders': '0 ticks', 'Margin for long positions': '100%', 'Margin for short positions': '100%', 'Recalculate after order is filled': 'Off', 'Recalculate on every tick': 'Off', 'Recalculate on bar close': 'Off', 'Backtesting precision. Use bar magnifier': 'Off'}"
        ],
        [
         "25",
         "SmartScale Envelope DCA",
         "   This is a Dollar-Cost Averaging (DCA) long strategy that buys when price dips below a moving average envelope and adds to the position in a stepwise, risk-controlled way. It uses up to 8 buy-ins, applies a cooldown between entries, and exits based on either a take profit from average entry price or a stop loss. Backtest range limits trades to the last 365 days for backtest control.  All input settings can and should be adjusted to the chart, as volatility in price action varies. Simply go into the inputs settings, and start from the top and move down to get better backtest results. Moving from the top down has been proven to give the best results. Then, move to properties and set your order size, pyramiding, and so on. It may be necessary to then fine tune your adjustments a second time to dial it in.Works well on 1 hour time frames and in volatility. Happy Trading!",
         "{'Envelope (ENV)', 'DCA', 'DCA-BOT', 'longposition', 'Volatility', 'Bands and Channels', 'moneymakers', 'dcastrategy'}",
         "0",
         "+151.15",
         "234.94",
         "83.79",
         "0",
         "−18.84",
         "153.04",
         "33.84",
         "142",
         "79",
         "0.0",
         "46",
         "33",
         "58.23%",
         "1.91",
         "5.11",
         "2.54",
         "2.011",
         "33.18",
         "133.01%",
         "4.23",
         "17.00%",
         "112",
         "129",
         "88",
         "0.492",
         "2.19",
         "2.804",
         "0.0",
         "{'Trading range': 'Apr 30, 2024, 09:00 — Apr 30, 2025, 06:00', 'Backtesting range': 'Dec 31, 2023, 19:00 — Apr 30, 2025, 06:00', 'Symbol': 'CRYPTOCOM:AGLDUSD', 'Timeframe': '1 hour', 'Point value': '1', 'Chart type': 'Candles', 'Currency': 'USD', 'Tick size': '0.0001', 'Precision': 'Default', 'Envelope Length': 'Envelope Length13', 'Envelope % Offset': 'Envelope % Offset6.6', 'Source': 'Sourceclose', 'exponential': 'exponentialOff', 'Stop Loss %': 'Stop Loss %10', 'Take Profit % from Avg Entry': 'Take Profit % from Avg Entry5', 'Candles Between Buys': 'Candles Between Buys3', 'Initial capital': '200.00CAD', 'Order size': '25.00CAD', 'Pyramiding': '8 orders', 'Commission': '0\\xa0%', 'Slippage': '0 ticks', 'Verify price for limit orders': '0 ticks', 'Margin for long positions': '100%', 'Margin for short positions': '100%', 'Recalculate after order is filled': 'Off', 'Recalculate on every tick': 'Off', 'Recalculate on bar close': 'Off', 'Backtesting precision. Use bar magnifier': 'Off'}"
        ],
        [
         "26",
         "G-Channel Strategy - Strategy with EMA Filter",
         "G-Channel Strategy with an 200 EMA, full credit of this strategy goes to Income |Nomad on youtube. the video shows you how to create the strategy.This strategy is best used on lower timer frames, the 1 min, 3 min or 5 min time frame.Dont trade this strategy in a ranging market, it doesnt work well.",
         "{'multitimeframe', 'Exponential Moving Average (EMA)', 'Bands and Channels'}",
         "+1.45",
         "−331.33",
         "384.00",
         "715.33",
         "174.94",
         "+121,125.52",
         "193.56",
         "645.09",
         "0",
         "48",
         "1.0",
         "25",
         "23",
         "52.08%",
         "−6.90",
         "15.36",
         "31.10",
         "0.494",
         "42.90",
         "1.43%",
         "92.78",
         "3.09%",
         "773",
         "642",
         "915",
         "−0.827",
         "−0.638",
         "0.537",
         "0.0",
         "{'Trading range': 'Apr 15, 2025, 01:14 — Apr 30, 2025, 09:11', 'Backtesting range': 'Apr 14, 2025, 02:00 — Apr 30, 2025, 09:11', 'Symbol': 'BYBIT:BTCUSDT.P', 'Timeframe': '1 minute', 'Point value': '1', 'Chart type': 'Candles', 'Currency': 'USDT', 'Tick size': '0.1', 'Precision': 'Default', 'G-Channel Length': 'G-Channel Length100', 'EMA Length': 'EMA Length200', 'Use EMA Filter': 'Use EMA FilterOn', 'Initial capital': '1,000,000.00USDT', 'Order size': '3,000.00USDT', 'Pyramiding': '3 orders', 'Commission': '0.06\\xa0%', 'Slippage': '0 ticks', 'Verify price for limit orders': '0 ticks', 'Margin for long positions': '0%', 'Margin for short positions': '0%', 'Recalculate after order is filled': 'Off', 'Recalculate on every tick': 'Off', 'Recalculate on bar close': 'Off', 'Backtesting precision. Use bar magnifier': 'Off'}"
        ],
        [
         "27",
         "15-Min Candlestick Strategy",
         "This strategy combines the MACD (Moving Average Convergence Divergence) indicator with the 200 EMA (Exponential Moving Average) to identify trend-confirmed entry signals on the 15-minute timeframe.📊 Logic:The 200 EMA acts as a trend filter:Only long trades are taken when price is above the EMAOnly short trades are taken when price is below the EMAMACD crossovers provide the trade signals:Bullish crossover (MACD crosses above Signal) = Long entry (if above 200 EMA)Bearish crossover (MACD crosses below Signal) = Short entry (if below 200 EMA)Trades are exited when the MACD crosses in the opposite direction or price closes on the wrong side of the 200 EMA.✅ Features:Simple trend-following logic with momentum confirmationWorks on any asset (Forex, Crypto, Stocks) and optimized for 15m chartsBacktestable and compatible with PineConnector for live algo tradingIdeal for traders seeking a clean and effective MACD-based strategy that avoids counter-trend setups.",
         "{'Moving Average Convergence / Divergence (MACD)', 'Exponential Moving Average (EMA)'}",
         "+43.50",
         "−407.17",
         "149.08",
         "556.25",
         "0",
         "+1,242.24",
         "96.31",
         "494.17",
         "312",
         "24",
         "1.0",
         "2",
         "21",
         "8.33%",
         "−16.97",
         "74.54",
         "26.49",
         "2.814",
         "80.75",
         "0.40%",
         "49.87",
         "0.25%",
         "67",
         "44",
         "64",
         "−2.042",
         "−0.898",
         "0.268",
         "0.0",
         "{'Trading range': 'Apr 22, 2025, 03:20 — Apr 30, 2025, 11:05', 'Backtesting range': 'Apr 21, 2025, 05:30 — Apr 30, 2025, 11:05', 'Symbol': 'CRYPTOCAP:BTC.D', 'Timeframe': '5 minutes', 'Point value': '1', 'Chart type': 'Candles', 'Tick size': '0.01%', 'Precision': 'Default', 'EMA Length': 'EMA Length200', 'RSI Length': 'RSI Length14', 'RSI Upper for Buy': 'RSI Upper for Buy55', 'RSI Lower for Sell': 'RSI Lower for Sell45', 'Stop Loss (Pips)': 'Stop Loss (Pips)10', 'Risk-Reward Ratio': 'Risk-Reward Ratio2', 'Initial capital': '1,000,000.00', 'Order size': '2% of equity', 'Pyramiding': '1 orders', 'Commission': '0\\xa0%', 'Slippage': '0 ticks', 'Verify price for limit orders': '0 ticks', 'Margin for long positions': '0%', 'Margin for short positions': '0%', 'Recalculate after order is filled': 'Off', 'Recalculate on every tick': 'Off', 'Recalculate on bar close': 'Off', 'Backtesting precision. Use bar magnifier': 'Off'}"
        ],
        [
         "28",
         "DDDDD: EBP Strategy (Improved with ATR & Filters) - Long Only",
         "DDDDD: EBP Strategy (Improved with ATR & Filters) - Long OnlyThis strategy is a refined version of the classic Engulfing Bar Play (EBP), designed specifically for XAUUSD on the 1-Day timeframe. It identifies high-probability bullish reversal setups using daily engulfing patterns and applies smart filters to enhance performance and reduce false signals.🔍 Core Features:✅ Bullish Engulfing Bar Detection📈 Risk:Reward (R:R) ratio configurable (default 2:1)📉 ATR Filter to avoid low-volatility sideways zones🟠 EMA200 Filter to trade only in uptrends (optional)📌 Recommended Use:Asset: Gold Spot (XAUUSD)Timeframe: 1D (Daily) onlyBacktested Range: Proven results with over +300% cumulative return on daily charts (as shown in Strategy Tester)⚠️ This strategy is meant for directional bias and swing entries. Use with proper money management and always confirm with additional confluences if needed.",
         "{'Chart patterns', 'Exponential Moving Average (EMA)', 'Average True Range (ATR)'}",
         "−2.43",
         "+347.10",
         "1,238.78",
         "891.68",
         "0",
         "+1,819.27",
         "352.95",
         "65.51",
         "1",
         "513",
         "1.0",
         "222",
         "283",
         "43.27%",
         "0.68",
         "5.58",
         "3.15",
         "1.771",
         "30.78",
         "14.11%",
         "27.30",
         "12.88%",
         "4",
         "5",
         "4",
         "0.049",
         "0.089",
         "1.389",
         "0.0",
         "{'Trading range': 'Jan 07, 1975 — Apr 30, 2025', 'Backtesting range': 'Jan 07, 1833 — Apr 30, 2025', 'Symbol': 'OANDA:XAUUSD', 'Timeframe': '1 day', 'Point value': '1', 'Chart type': 'Candles', 'Currency': 'USD', 'Tick size': '0.001', 'Precision': 'Default', 'Risk:Reward Ratio': 'Risk:Reward Ratio2', 'ATR Length': 'ATR Length14', 'Minimum ATR for entry (to filter low volatility)': 'Minimum ATR for entry (to filter low volatility)1', 'Filter: Only Long Above EMA200?': 'Filter: Only Long Above EMA200?On', 'Initial capital': '100.00USD', 'Order size': '100% of equity', 'Pyramiding': '1 orders', 'Commission': '0\\xa0%', 'Slippage': '0 ticks', 'Verify price for limit orders': '0 ticks', 'Margin for long positions': '0%', 'Margin for short positions': '0%', 'Recalculate after order is filled': 'Off', 'Recalculate on every tick': 'Off', 'Recalculate on bar close': 'Off', 'Backtesting precision. Use bar magnifier': 'Off'}"
        ],
        [
         "29",
         "Dskyz (DAFE) Adaptive Regime - Quant Machine Pro",
         "Dskyz (DAFE) Adaptive Regime - Quant Machine Pro:Buckle up for the Dskyz (DAFE) Adaptive Regime - Quant Machine Pro, is a strategy that’s your ultimate edge for conquering futures markets like ES, MES, NQ, and MNQ. This isn’t just another script—it’s a quant-grade powerhouse, crafted with precision to adapt to market regimes, deliver multi-factor signals, and protect your capital with futures-tuned risk management. With its shimmering DAFE visuals, dual dashboards, and glowing watermark, it turns your charts into a cyberpunk command center, making trading as thrilling as it is profitable.Unlike generic scripts clogging up the space, the Adaptive Regime is a DAFE original, built from the ground up to tackle the chaos of futures trading. It identifies market regimes (Trending, Range, Volatile, Quiet) using ADX, Bollinger Bands, and HTF indicators, then fires trades based on a weighted scoring system that blends candlestick patterns, RSI, MACD, and more. Add in dynamic stops, trailing exits, and a 5% drawdown circuit breaker, and you’ve got a system that’s as safe as it is aggressive. Whether you’re a newbie or a prop desk pro, this strat’s your ticket to outsmarting the markets. Let’s break down every detail and see why it’s a must-have.Why Traders Need This StrategyFutures markets are a gauntlet—fast moves, volatility spikes (like the April 28, 2025 NQ 1k-point drop), and institutional traps that punish the unprepared. Meanwhile, platforms are flooded with low-effort scripts that recycle old ideas with zero innovation. The Adaptive Regime stands tall, offering:Adaptive Intelligence: Detects market regimes (Trending, Range, Volatile, Quiet) to optimize signals, unlike one-size-fits-all scripts.Multi-Factor Precision: Combines candlestick patterns, MA trends, RSI, MACD, volume, and HTF confirmation for high-probability trades.Futures-Optimized Risk: Calculates position sizes based on $ risk (default: $300), with ATR or fixed stops/TPs tailored for ES/MES.Bulletproof Safety: 5% daily drawdown circuit breaker and trailing stops keep your account intact, even in chaos.DAFE Visual Mastery: Pulsing Bollinger Band fills, dynamic SL/TP lines, and dual dashboards (metrics + position) make signals crystal-clear and charts a work of art.Original Craftsmanship: A DAFE creation, built with community passion, not a rehashed clone of generic code.Traders need this because it’s a complete, adaptive system that blends quant smarts, user-friendly design, and DAFE flair. It’s your edge to trade with confidence, cut through market noise, and leave the copycats in the dust.Strategy Components1. Market Regime DetectionThe strategy’s brain is its ability to classify market conditions into five regimes, ensuring signals match the environment.How It Works:Trending (Regime 1): ADX > 20, fast/slow EMA spread > 0.3x ATR, HTF RSI > 50 or MACD bullish (htf_trend_bull/bear).Range (Regime 2): ADX < 25, price range < 3% of close, no HTF trend.Volatile (Regime 3): BB width > 1.5x avg, ATR > 1.2x avg, HTF RSI overbought/oversold.Quiet (Regime 4): BB width < 0.8x avg, ATR < 0.9x avg.Other (Regime 5): Default for unclear conditions.Indicators: ADX (14), BB width (20), ATR (14, 50-bar SMA), HTF RSI (14, daily default), HTF MACD (12,26,9).Why It’s Brilliant:Regime detection adapts signals to market context, boosting win rates in trending or volatile conditions.HTF RSI/MACD add a big-picture filter, rare in basic scripts.Visualized via gradient background (green for Trending, orange for Range, red for Volatile, gray for Quiet, navy for Other).2. Multi-Factor Signal ScoringEntries are driven by a weighted scoring system that combines candlestick patterns, trend, momentum, and volume for robust signals.Candlestick Patterns:Bullish: Engulfing (0.5), hammer (0.4 in Range, 0.2 else), morning star (0.2), piercing (0.2), double bottom (0.3 in Volatile, 0.15 else). Must be near support (low ≤ 1.01x 20-bar low) with volume spike (>1.5x 20-bar avg).Bearish: Engulfing (0.5), shooting star (0.4 in Range, 0.2 else), evening star (0.2), dark cloud (0.2), double top (0.3 in Volatile, 0.15 else). Must be near resistance (high ≥ 0.99x 20-bar high) with volume spike.Logic: Patterns are weighted higher in specific regimes (e.g., hammer in Range, double bottom in Volatile).Additional Factors:Trend: Fast EMA (20) > slow EMA (50) + 0.5x ATR (trend_bull, +0.2); opposite for trend_bear.RSI: RSI (14) < 30 (rsi_bull, +0.15); > 70 (rsi_bear, +0.15).MACD: MACD line > signal (12,26,9, macd_bull, +0.15); opposite for macd_bear.Volume: ATR > 1.2x 50-bar avg (vol_expansion, +0.1).HTF Confirmation: HTF RSI < 70 and MACD bullish (htf_bull_confirm, +0.2); RSI > 30 and MACD bearish (htf_bear_confirm, +0.2).Scoring:bull_score = sum of bullish factors; bear_score = sum of bearish. Entry requires score ≥ 1.0.Example: Bullish engulfing (0.5) + trend_bull (0.2) + rsi_bull (0.15) + htf_bull_confirm (0.2) = 1.05, triggers long.Why It’s Brilliant:Multi-factor scoring ensures signals are confirmed by multiple market dynamics, reducing false positives.Regime-specific weights make patterns more relevant (e.g., hammers shine in Range markets).HTF confirmation aligns with the big picture, a quant edge over simplistic scripts.3. Futures-Tuned Risk ManagementThe risk system is built for futures, calculating position sizes based on $ risk and offering flexible stops/TPs.Position Sizing:Logic: Risk per trade (default: $300) ÷ (stop distance in points * point value) = contracts, capped at max_contracts (default: 5). Point value = tick value (e.g., $12.5 for ES) * ticks per point (4) * contract multiplier (1 for ES, 0.1 for MES).Example: $300 risk, 8-point stop, ES ($50/point) → 0.75 contracts, rounded to 1.Impact: Precise sizing prevents over-leverage, critical for micro contracts like MES.Stops and Take-Profits:Fixed: Default stop = 8 points, TP = 16 points (2:1 reward/risk).ATR-Based: Stop = 1.5x ATR (default), TP = 3x ATR, enabled via use_atr_for_stops.Logic: Stops set at swing low/high ± stop distance; TPs at 2x stop distance from entry.Impact: ATR stops adapt to volatility, while fixed stops suit stable markets.Trailing Stops:Logic: Activates at 50% of TP distance. Trails at close ± 1.5x ATR (atr_multiplier). Longs: max(trail_stop_long, close - ATR * 1.5); shorts: min(trail_stop_short, close + ATR * 1.5).Impact: Locks in profits during trends, a game-changer in volatile sessions.Circuit Breaker:Logic: Pauses trading if daily drawdown > 5% (daily_drawdown = (max_equity - equity) / max_equity).Impact: Protects capital during black swan events (e.g., April 27, 2025 ES slippage).Why It’s Brilliant:Futures-specific inputs (tick value, multiplier) make it plug-and-play for ES/MES.Trailing stops and circuit breaker add pro-level safety, rare in off-the-shelf scripts.Flexible stops (ATR or fixed) suit different trading styles.4. Trade Entry and Exit LogicEntries and exits are precise, driven by bull_score/bear_score and protected by drawdown checks.Entry Conditions:Long: bull_score ≥ 1.0, no position (position_size <= 0), drawdown < 5% (not pause_trading). Calculates contracts, sets stop at swing low - stop points, TP at 2x stop distance.Short: bear_score ≥ 1.0, position_size >= 0, drawdown < 5%. Stop at swing high + stop points, TP at 2x stop distance.Logic: Tracks entry_regime for PNL arrays. Closes opposite positions before entering.Exit Conditions:Stop-Loss/Take-Profit: Hits stop or TP (strategy.exit).Trailing Stop: Activates at 50% TP, trails by ATR * 1.5.Emergency Exit: Closes if price breaches stop (close < long_stop_price or close > short_stop_price).Reset: Clears stop/TP prices when flat (position_size = 0).Why It’s Brilliant:Score-based entries ensure multi-factor confirmation, filtering out weak signals.Trailing stops maximize profits in trends, unlike static exits in basic scripts.Emergency exits add an extra safety layer, critical for futures volatility.5. DAFE VisualsThe visuals are pure DAFE magic, blending function with cyberpunk flair to make signals intuitive and charts stunning.Shimmering Bollinger Band Fill:Display: BB basis (20, white), upper/lower (green/red, 45% transparent). Fill pulses (30–50 alpha) by regime, with glow (60–95 alpha) near bands (close ≥ 0.995x upper or ≤ 1.005x lower).Purpose: Highlights volatility and key levels with a futuristic glow.Visuals make complex regimes and signals instantly clear, even for newbies.Pulsing effects and regime-specific colors add a DAFE signature, setting it apart from generic scripts.BB glow emphasizes tradeable levels, enhancing decision-making.Chart Background (Regime Heatmap):Green — Trending Market: Strong, sustained price movement in one direction. The market is in a trend phase—momentum follows through.Orange — Range-Bound: Market is consolidating or moving sideways, with no clear up/down trend. Great for mean reversion setups.Red — Volatile Regime: High volatility, heightened risk, and larger/faster price swings—trade with caution.Gray — Quiet/Low Volatility: Market is calm and inactive, with small moves—often poor conditions for most strategies.Navy — Other/Neutral: Regime is uncertain or mixed; signals may be less reliable.Bollinger Bands Glow (Dynamic Fill):Neon Red Glow — Warning!: Price is near or breaking above the upper band; momentum is overstretched, watch for overbought conditions or reversals.Bright Green Glow — Opportunity!: Price is near or breaking below the lower band; market could be oversold, prime for bounce or reversal.Trend Green Fill — Trending Regime: Fills between bands with green when the market is trending, showing clear momentum.Gold/Yellow Fill — Range Regime: Fills with gold/aqua in range conditions, showing the market is sideways/oscillating.Magenta/Red Fill — Volatility Spike: Fills with vivid magenta/red during highly volatile regimes.Blue Fill — Neutral/Quiet: A soft blue glow for other or uncertain market states.Moving Averages:Display: Blue fast EMA (20), red slow EMA (50), 2px.Purpose: Shows trend direction, with trend_dir requiring ATR-scaled spread.Dynamic SL/TP Lines:Display: Pulsing colors (red SL, green TP for Trending; yellow/orange for Range, etc.), 3px, with pulse_alpha for shimmer.Purpose: Tracks stops/TPs in real-time, color-coded by regime.6. Dual DashboardsTwo dashboards deliver real-time insights, making the strat a quant command center.Bottom-Left Metrics Dashboard (2x13):Metrics: Mode (Active/Paused), trend (Bullish/Bearish/Neutral), ATR, ATR avg, volume spike (YES/NO), RSI (value + Oversold/Overbought/Neutral), HTF RSI, HTF trend, last signal (Buy/Sell/None), regime, bull score.Display: Black (29% transparent), purple title, color-coded (green for bullish, red for bearish).Purpose: Consolidates market context and signal strength.Top-Right Position Dashboard (2x7):Metrics: Regime, position side (Long/Short/None), position PNL ($), SL, TP, daily PNL ($).Display: Black (29% transparent), purple title, color-coded (lime for Long, red for Short).Purpose: Tracks live trades and profitability.Why It’s Brilliant:Dual dashboards cover market context and trade status, a rare feature.Color-coding and concise metrics guide beginners (e.g., green “Buy” = go).Real-time PNL and SL/TP visibility empower disciplined trading.7. Performance TrackingLogic: Arrays (regime_pnl_long/short, regime_win/loss_long/short) track PNL and win/loss by regime (1–5). Updated on trade close (barstate.isconfirmed).Purpose: Prepares for future adaptive thresholds (e.g., adjust bull_score min based on regime performance).Why It’s Brilliant: Lays the groundwork for self-optimizing logic, a quant edge over static scripts.Key FeaturesRegime-Adaptive: Optimizes signals for Trending, Range, Volatile, Quiet markets.Futures-Optimized: Precise sizing for ES/MES with tick-based risk inputs.Multi-Factor Signals: Candlestick patterns, RSI, MACD, and HTF confirmation for robust entries.Dynamic Exits: ATR/fixed stops, 2:1 TPs, and trailing stops maximize profits.Safe and Smart: 5% drawdown breaker and emergency exits protect capital.DAFE Visuals: Shimmering BB fill, pulsing SL/TP, and dual dashboards.Backtest-Ready: Fixed qty and tick calc for accurate historical testing.How to UseAdd to Chart: Load on a 5min ES/MES chart in TradingView.Configure Inputs: Set instrument (ES/MES), tick value ($12.5/$1.25), multiplier (1/0.1), risk ($300 default). Enable ATR stops for volatility.Monitor Dashboards: Bottom-left for regime/signals, top-right for position/PNL.Backtest: Run in strategy tester to compare regimes.Live Trade: Connect to Tradovate or similar. Watch for slippage (e.g., April 27, 2025 ES issues).Replay Test: Try April 28, 2025 NQ drop to see regime shifts and stops.DisclaimerTrading futures involves significant risk of loss and is not suitable for all investors. Past performance does not guarantee future results. Backtest results may differ from live trading due to slippage, fees, or market conditions. Use this strategy at your own risk, and consult a financial advisor before trading. Dskyz (DAFE) Trading Systems is not responsible for any losses incurred.Backtesting:Frame: 2023-09-20 - 2025-04-29Slippage: 3Fee Typical Range (per side, per contract)CME Exchange $1.14 – $1.20Clearing $0.10 – $0.30NFA Regulatory $0.02Firm/Broker Commis. $0.25 – $0.80 (retail prop)TOTAL $1.60 – $2.30 per sideRound Turn: (enter+exit) = $3.20 – $4.60 per contractFinal NotesThe Dskyz (DAFE) Adaptive Regime - Quant Machine Pro is more than a strategy—it’s a revolution. Crafted with DAFE’s signature precision, it rises above generic scripts with adaptive regimes, quant-grade signals, and visuals that make trading a thrill. Whether you’re scalping MES or swinging ES, this system empowers you to navigate markets with confidence and style. Join the DAFE crew, light up your charts, and let’s dominate the futures game!(This publishing will most likely be taken down do to some miscellaneous rule about properly displaying charting symbols, or whatever. Once I've identified what part of the publishing they want to pick on, I'll adjust and repost.)Use it with discipline. Use it with clarity. Trade smarter.**I will continue to release incredible strategies and indicators until I turn this into a brand or until someone offers me a contract.Created by Dskyz, powered by DAFE Trading Systems. Trade smart, trade bold.",
         "{'Bollinger Bands (BB)', 'Moving Averages', 'multitimeframe'}",
         "0",
         "+32,722.40",
         "143,712.20",
         "110,989.80",
         "1,407.60",
         "−62,120.00",
         "51,103.60",
         "19,049.60",
         "1",
         "153",
         "0.0",
         "59",
         "94",
         "38.56%",
         "213.87",
         "2,435.80",
         "1,180.74",
         "2.063",
         "7,475.80",
         "2.07%",
         "4,339.20",
         "1.14%",
         "34",
         "46",
         "27",
         "0.47",
         "1.313",
         "1.295",
         "0.0",
         "{'Trading range': 'Jan 12, 2025, 21:25 — Apr 29, 2025, 21:45', 'Backtesting range': 'Jan 12, 2025, 17:00 — Apr 29, 2025, 21:45', 'Symbol': 'CME_MINI:NQ1!', 'Timeframe': '5 minutes', 'Point value': '20', 'Chart type': 'Candles', 'Currency': 'USD', 'Tick size': '0.25', 'Precision': 'Default', 'ATR Period': 'ATR Period21', 'ATR Multiplier': 'ATR Multiplier2', 'Fast MA Length': 'Fast MA Length17', 'Slow MA Length': 'Slow MA Length40', 'MA Strength Threshold': 'MA Strength Threshold1.3', 'HTF for RSI & MACD': 'HTF for RSI & MACD1D', 'Tick Value ($)': 'Tick Value ($)12.5', 'Ticks Per Point': 'Ticks Per Point4', 'Contract Multiplier [Std=1, Micro=0.1]': 'Contract Multiplier [Std=1, Micro=0.1]1', 'Max Risk Per Trade ($)': 'Max Risk Per Trade ($)300', 'Max Number of Contracts': 'Max Number of Contracts5', 'Default Stop (Points)': 'Default Stop (Points)8', 'Default Target (Points)': 'Default Target (Points)16', 'ATR-Based Dynamic Stops/Targets?': 'ATR-Based Dynamic Stops/Targets?On', 'ATR Multiplier (Stop)': 'ATR Multiplier (Stop)0.5', 'Initial capital': '1,000,000.00USD', 'Order size': '1 contracts', 'Pyramiding': '1 orders', 'Commission': '4.60USD\\xa0per contract', 'Slippage': '3 ticks', 'Verify price for limit orders': '0 ticks', 'Margin for long positions': '100%', 'Margin for short positions': '100%', 'Recalculate after order is filled': 'On', 'Recalculate on every tick': 'On', 'Recalculate on bar close': 'Off', 'Backtesting precision. Use bar magnifier': 'Off'}"
        ],
        [
         "30",
         "JBGBt - Bollinger Bands Strategy v4",
         "This is an enhanced Bollinger Band Strategy that works on the 1 day or 12 hour timeframe on the Blue Chip Cryptos like BTC , ETH, and SOL  both Spot and Perpetual    I have added RSI filters, and ADX and ATR to dynamically trim and augment your wins and losses.   This even works with starting on a small account of $250 which delivered 2500% P&L with only 11.3 percent drawdown    Im sure there is lot of room for tweaking.  Also, I wanted to give a nod, and thank you for Michael of Signum /Dapp R for the inspiration to develop with AI, and turn boring indicators into Strategies, and Stategy into $$ ",
         "{'Candlestick analysis', 'Moving Averages', 'Bands and Channels'}",
         "0",
         "+6,276.08",
         "12,429.54",
         "6,153.46",
         "3,069.40",
         "+2,268.07",
         "6,716.12",
         "704.46",
         "0",
         "704",
         "0.0",
         "201",
         "503",
         "28.55%",
         "8.91",
         "61.84",
         "12.23",
         "5.055",
         "738.52",
         "30.68%",
         "76.28",
         "3.02%",
         "2",
         "2",
         "2",
         "0.599",
         "3.969",
         "2.02",
         "235.0",
         "{'Trading range': 'Jan 27, 2020 — Apr 29, 2025', 'Backtesting range': 'Dec 16, 2019 — Apr 29, 2025', 'Symbol': 'OKX:BTCUSDT.P', 'Timeframe': '1 day', 'Point value': '1', 'Chart type': 'Candles', 'Currency': 'USDT', 'Tick size': '0.1', 'Precision': 'Default', 'Position': 'PositionLong', 'Start Date': 'Start DateDec 31, 2017', 'End Date': 'End DateDec 31, 2069', 'BB Length': 'BB Length34', 'BB StdDev Multiplier': 'BB StdDev Multiplier1.8', 'Basis MA Type': 'Basis MA TypeSMMA (RMA)', 'Band Buffer (ticks)': 'Band Buffer (ticks)0.5', 'ADX Length': 'ADX Length14', 'Min ADX to Trade': 'Min ADX to Trade10', 'Use RSI Filter': 'Use RSI FilterOn', 'RSI Length': 'RSI Length14', 'Max RSI for Long': 'Max RSI for Long75', 'Min RSI for Short': 'Min RSI for Short25', 'ATR Length': 'ATR Length14', 'ATR SL ×': 'ATR SL ×2', 'ATR TP ×': 'ATR TP ×3.5', 'ATR Trail Stop ×': 'ATR Trail Stop ×2', 'Exit on Basis Cross': 'Exit on Basis CrossOn', 'Initial capital': '250.00USDT', 'Order size': '100% of equity', 'Pyramiding': '1 orders', 'Commission': '0.1\\xa0%', 'Slippage': '3 ticks', 'Verify price for limit orders': '0 ticks', 'Margin for long positions': '100%', 'Margin for short positions': '100%', 'Recalculate after order is filled': 'Off', 'Recalculate on every tick': 'Off', 'Recalculate on bar close': 'On', 'Backtesting precision. Use bar magnifier': 'Off'}"
        ],
        [
         "31",
         "Clarity Strategy: UT Bot + HMA + JCFBV (v6 fixed)",
         "The Clarity Strategy filters UT Bot signals with trend, volatility, and candle strength for high-accuracy entries, using dynamic or fixed TP/SL.",
         "{'Chart patterns', 'Candlestick analysis', 'Bands and Channels'}",
         "−14,667.70",
         "+42,472.40",
         "238,320.00",
         "195,847.60",
         "4,480.00",
         "−50,091.75",
         "186,958.00",
         "126,370.50",
         "30",
         "31",
         "2.0",
         "12",
         "19",
         "38.71%",
         "1,370.08",
         "19,860.00",
         "10,307.77",
         "1.927",
         "19,954.50",
         "2.43%",
         "10,990.10",
         "1.30%",
         "250",
         "455",
         "121",
         "0.032",
         "0.065",
         "1.217",
         "0.0",
         "{'Trading range': 'Feb 21, 2025, 10:00 — Apr 29, 2025, 18:40', 'Backtesting range': 'Feb 16, 2025, 19:00 — Apr 29, 2025, 18:40', 'Symbol': 'COINBASE:BTCUSD', 'Timeframe': '5 minutes', 'Point value': '1', 'Chart type': 'Hollow candles', 'Currency': 'USD', 'Tick size': '0.01', 'Precision': 'Default', 'UT Bot Key Value': 'UT Bot Key Value3.5', 'UT Bot ATR Period': 'UT Bot ATR Period70', 'HMA Period': 'HMA Period50', 'JCFBV Depth': 'JCFBV Depth15', 'Signal Smoothing Period': 'Signal Smoothing Period34', 'Stop Loss (Points)': 'Stop Loss (Points)101604', 'Take Profit (Points)': 'Take Profit (Points)200000', 'Allow London Session?': 'Allow London Session?Off', 'Allow New York Session?': 'Allow New York Session?On', 'Allow Tokyo Session?': 'Allow Tokyo Session?Off', 'Initial capital': '1,000,000.00USD', 'Order size': '10 contracts', 'Pyramiding': '3 orders', 'Commission': '7.00USD\\xa0per contract', 'Slippage': '0 ticks', 'Verify price for limit orders': '0 ticks', 'Margin for long positions': '20%', 'Margin for short positions': '20%', 'Recalculate after order is filled': 'Off', 'Recalculate on every tick': 'Off', 'Recalculate on bar close': 'On', 'Backtesting precision. Use bar magnifier': 'Off'}"
        ],
        [
         "32",
         "Dskyz (DAFE) Aurora Divergence – Quant Master",
         "                           Dskyz (DAFE) Aurora Divergence – Quant MasterIntroducing the Dskyz (DAFE) Aurora Divergence – Quant Master, a strategy that’s your secret weapon for mastering futures markets like MNQ, NQ, MES, and ES. Born from the legendary Aurora Divergence indicator, this fully automated system transforms raw divergence signals into a quant-grade trading machine, blending precision, risk management, and cyberpunk DAFE visuals that make your charts glow like a neon skyline. Crafted with care and driven by community passion, this strategy stands out in a sea of generic scripts, offering traders a unique edge to outsmart institutional traps and navigate volatile markets.The Aurora Divergence indicator was a cult favorite for spotting price-OBV divergences with its aqua and fuchsia orbs, but traders craved a system to act on those signals with discipline and automation. This strategy delivers, layering advanced filters (z-score, ATR, multi-timeframe, session), dynamic risk controls (kill switches, adaptive stops/TPs), and a real-time dashboard to turn insights into profits. Whether you’re a newbie dipping into futures or a pro hunting reversals, this strat’s got your back with a beginner guide, alerts, and visuals that make trading feel like a sci-fi mission. Let’s dive into every detail and see why this original DAFE creation is a must-have.Why Traders Need This StrategyFutures markets are a battlefield—fast-paced, volatile, and riddled with institutional games that can wipe out undisciplined traders. From the April 28, 2025 NQ 1k-point drop to sneaky ES slippage, the stakes are high. Meanwhile, platforms are flooded with unoriginal, low-effort scripts that promise the moon but deliver noise. The Aurora Divergence – Quant Master rises above, offering:Unmatched Originality: A bespoke system built from the ground up, with custom divergence logic, DAFE visuals, and quant filters that set it apart from copycat clutter.Automation with Precision: Executes trades on divergence signals, eliminating emotional slip-ups and ensuring consistency, even in chaotic sessions.Quant-Grade Filters: Z-score, ATR, multi-timeframe, and session checks filter out noise, targeting high-probability reversals.Robust Risk Management: Daily loss and rolling drawdown kill switches, plus ATR-based stops/TPs, protect your capital like a fortress.Stunning DAFE Visuals: Aqua/fuchsia orbs, aurora bands, and a glowing dashboard make signals intuitive and charts a work of art.Community-Driven: Evolved from trader feedback, this strat’s a labor of love, not a recycled knockoff.Traders need this because it’s a complete, original system that blends accessibility, sophistication, and style. It’s your edge to trade smarter, not harder, in a market full of traps and imitators.1. Divergence Detection (Core Signal Logic)The strategy’s core is its ability to detect bullish and bearish divergences between price and On-Balance Volume (OBV), pinpointing reversals with surgical accuracy.How It Works:Price Slope: Uses linear regression over a lookback (default: 9 bars) to measure price momentum (priceSlope).OBV Slope: OBV tracks volume flow (+volume if price rises, -volume if falls), with its slope calculated similarly (obvSlope).Bullish Divergence: Price slope negative (falling), OBV slope positive (rising), and price above 50-bar SMA (trend_ma).Bearish Divergence: Price slope positive (rising), OBV slope negative (falling), and price below 50-bar SMA.Smoothing: Requires two consecutive divergence bars (bullDiv2, bearDiv2) to confirm signals, reducing false positives.Strength: Divergence intensity (divStrength = |priceSlope * obvSlope| * sensitivity) is normalized (0–1, divStrengthNorm) for visuals.Why It’s Brilliant:- Divergences catch hidden momentum shifts, often exploited by institutions, giving you an edge on reversals.- The 50-bar SMA filter aligns signals with the broader trend, avoiding choppy markets.- Adjustable lookback (min: 3) and sensitivity (default: 1.0) let you tune for different instruments or timeframes.2. Filters for PrecisionFour advanced filters ensure signals are high-probability and market-aligned, cutting through the noise of volatile futures.Z-Score Filter:Logic: Calculates z-score ((close - SMA) / stdev) over a lookback (default: 50 bars). Blocks entries if |z-score| > threshold (default: 1.5) unless disabled (useZFilter = false).Impact: Avoids trades during extreme price moves (e.g., blow-off tops), keeping you in statistically safe zones.ATR Percentile Volatility Filter:Logic: Tracks 14-bar ATR in a 100-bar window (default). Requires current ATR > 80th percentile (percATR) to trade (tradeOk).Impact: Ensures sufficient volatility for meaningful moves, filtering out low-volume chop.Multi-Timeframe (HTF) Trend Filter:Logic: Uses a 50-bar SMA on a higher timeframe (default: 60min). Longs require price > HTF MA (bullTrendOK), shorts < HTF MA (bearTrendOK).Impact: Aligns trades with the bigger trend, reducing counter-trend losses.US Session Filter:Logic: Restricts trading to 9:30am–4:00pm ET (default: enabled, useSession = true) using America/New_York timezone.Impact: Focuses on high-liquidity hours, avoiding overnight spreads and erratic moves.Evolution:- These filters create a robust signal pipeline, ensuring trades are timed for optimal conditions.- Customizable inputs (e.g., zThreshold, atrPercentile) let traders adapt to their style without compromising quality.3. Risk ManagementThe strategy’s risk controls are a masterclass in balancing aggression and safety, protecting capital in volatile markets.Daily Loss Kill Switch:Logic: Tracks daily loss (dayStartEquity - strategy.equity). Halts trading if loss ≥ $300 (default) and enabled (killSwitch = true, killSwitchActive).Impact: Caps daily downside, crucial during events like April 27, 2025 ES slippage.Rolling Drawdown Kill Switch:Logic: Monitors drawdown (rollingPeak - strategy.equity) over 100 bars (default). Stops trading if > $1000 (rollingKill).Impact: Prevents prolonged losing streaks, preserving capital for better setups.Dynamic Stop-Loss and Take-Profit:Logic: Stops = entry ± ATR * multiplier (default: 1.0x, stopDist). TPs = entry ± ATR * 1.5x (profitDist). Longs: stop below, TP above; shorts: vice versa.Impact: Adapts to volatility, keeping stops tight but realistic, with TPs targeting 1.5:1 reward/risk.Max Bars in Trade:Logic: Closes trades after 8 bars (default) if not already exited.Impact: Frees capital from stagnant trades, maintaining efficiency.Kill Switch Buffer Dashboard:Logic: Shows smallest buffer ($300 - daily loss or $1000 - rolling DD). Displays 0 (red) if kill switch active, else buffer (green).Impact: Real-time risk visibility, letting traders adjust dynamically.Why It’s Brilliant:- Kill switches and ATR-based exits create a safety net, rare in generic scripts.- Customizable risk inputs (maxDailyLoss, dynamicStopMult) suit different account sizes.- Buffer metric empowers disciplined trading, a DAFE signature.4. Trade Entry and Exit LogicThe entry/exit rules are precise, filtered, and adaptive, ensuring trades are deliberate and profitable.Entry Conditions:Long Entry: bullDiv2, cooldown passed (canSignal), ATR filter passed (tradeOk), in US session (inSession), no kill switches (not killSwitchActive, not rollingKill), z-score OK (zOk), HTF trend bullish (bullTrendOK), no existing long (lastDirection != 1, position_size <= 0). Closes shorts first.Short Entry: Same, but for bearDiv2, bearTrendOK, no long (lastDirection != -1, position_size >= 0). Closes longs first.Adaptive Cooldown: Default 2 bars (cooldownBars). Doubles (up to 10) after a losing trade, resets after wins (dynamicCooldown).Exit Conditions:Stop-Loss/Take-Profit: Set per trade (ATR-based). Exits on stop/TP hits.Other Exits: Closes if maxBarsInTrade reached, ATR filter fails, or kill switch activates.Position Management: Ensures no conflicting positions, closing opposites before new entries.Built To Be Reliable and Consistent:- Multi-filtered entries minimize false signals, a stark contrast to basic scripts.- Adaptive cooldown prevents overtrading, especially after losses.- Clean position handling ensures smooth execution, even in fast markets.5. DAFE VisualsThe visuals are a DAFE hallmark, blending function with clean flair to make signals intuitive and charts stunning.Aurora Bands:Display: Bands around price during divergences (bullish: below low, bearish: above high), sized by ATR * bandwidth (default: 0.5).Colors: Aqua (bullish), fuchsia (bearish), with transparency tied to divStrengthNorm.Purpose: Highlights divergence zones with a glowing, futuristic vibe.Divergence Orbs:Display: Large/small circles (aqua below for bullish, fuchsia above for bearish) when bullDiv2/bearDiv2 and canSignal. Labels show strength (0–1).Purpose: Pinpoints entries with eye-catching clarity.Gradient Background:Display: Green (bullish), red (bearish), or gray (neutral), 90–95% transparent.Purpose: Sets the market mood without clutter.Strategy Plots:- Stop/TP Lines: Red (stops), green (TPs) for active trades.- HTF MA: Yellow line for trend context.- Z-Score: Blue step-line (if enabled).- Kill Switch Warning: Red background flash when active.What Makes This Next-Level?:- Visuals make complex signals (divergences, filters) instantly clear, even for beginners.- DAFE’s unique aesthetic (orbs, bands) sets it apart from generic scripts, reinforcing originality.- Functional plots (stops, TPs) enhance trade management.6. Metrics DashboardThe top-right dashboard (2x8 table) is your command center, delivering real-time insights.Metrics:Daily Loss ($): Current loss vs. day’s start, red if > $300.Rolling DD ($): Drawdown vs. 100-bar peak, red if > $1000.ATR Threshold: Current percATR, green if ATR exceeds, red if not.Z-Score: Current value, green if within threshold, red if not.Signal: “Bullish Div” (aqua), “Bearish Div” (fuchsia), or “None” (gray).Action: “Consider Buying”/“Consider Selling” (signal color) or “Wait” (gray).Kill Switch Buffer ($): Smallest buffer to kill switch, green if > 0, red if 0.Why This Is Important?:- Consolidates critical data, making decisions effortless.- Color-coded metrics guide beginners (e.g., green action = go).- Buffer metric adds transparency, rare in off-the-shelf scripts.7. Beginner GuideBeginner Guide: Middle-right table (shown once on chart load), explains aqua orbs (bullish, buy) and fuchsia orbs (bearish, sell).Key Features:Futures-Optimized: Tailored for MNQ, NQ, MES, ES with point-value adjustments.Highly Customizable: Inputs for lookback, sensitivity, filters, and risk settings.Real-Time Insights: Dashboard and visuals update every bar.Backtest-Ready: Fixed qty and tick calc for accurate historical testing.User-Friendly: Guide, visuals, and dashboard make it accessible yet powerful.Original Design: DAFE’s unique logic and visuals stand out from generic scripts.How to UseAdd to Chart: Load on a 5min MNQ/ES chart in TradingView.Configure Inputs: Adjust instrument, filters, or risk (defaults optimized for MNQ).Monitor Dashboard: Watch signals, actions, and risk metrics (top-right).Backtest: Run in strategy tester to evaluate performance.Live Trade: Connect to a broker (e.g., Tradovate) for automation. Watch for slippage (e.g., April 27, 2025 ES issues).Replay Test: Use bar replay (e.g., April 28, 2025 NQ drop) to test volatility handling.DisclaimerTrading futures involves significant risk of loss and is not suitable for all investors. Past performance is not indicative of future results. Backtest results may not reflect live trading due to slippage, fees, or market conditions. Use this strategy at your own risk, and consult a financial advisor before trading. Dskyz (DAFE) Trading Systems is not responsible for any losses incurred.Backtesting:Frame: 2023-09-20 - 2025-04-29Fee\tTypical Range (per side, per contract)CME Exchange\t$1.14 – $1.20Clearing\t$0.10 – $0.30NFA Regulatory\t$0.02Firm/Broker Commis.\t$0.25 – $0.80 (retail prop)TOTAL\t$1.60 – $2.30 per sideRound Turn: (enter+exit) = $3.20 – $4.60 per contractFinal NotesThe Dskyz (DAFE) Aurora Divergence – Quant Master isn’t just a strategy—it’s a movement. Crafted with originality and driven by community passion, it rises above the flood of generic scripts to deliver a system that’s as powerful as it is beautiful. With its quant-grade logic, DAFE visuals, and robust risk controls, it empowers traders to tackle futures with confidence and style. Join the DAFE crew, light up your charts, and let’s outsmart the markets together!(This publishing will most likely be taken down do to some miscellaneous rule about properly displaying charting symbols, or whatever. Once I've identified what part of the publishing they want to pick on, I'll adjust and repost.)Use it with discipline. Use it with clarity. Trade smarter.**I will continue to release incredible strategies and indicators until I turn this into a brand or until someone offers me a contract.Created by Dskyz, powered by DAFE Trading Systems. Trade fast, trade bold.",
         "{'multitimeframe', 'On Balance Volume (OBV)', 'Average True Range (ATR)'}",
         "0",
         "+14,601.80",
         "32,509.20",
         "17,907.40",
         "423.20",
         "−53,750.00",
         "19,619.60",
         "5,160.00",
         "1",
         "46",
         "0.0",
         "24",
         "22",
         "52.17%",
         "317.43",
         "1,354.55",
         "813.97",
         "1.664",
         "3,860.80",
         "1.07%",
         "1,824.20",
         "0.49%",
         "7",
         "8",
         "5",
         "0.476",
         "0.761",
         "1.815",
         "0.0",
         "{'Trading range': 'Jan 13, 2025, 10:40 — Apr 29, 2025, 15:10', 'Backtesting range': 'Jan 12, 2025, 17:00 — Apr 29, 2025, 15:10', 'Symbol': 'CME_MINI:NQ1!', 'Timeframe': '5 minutes', 'Point value': '20', 'Chart type': 'Candles', 'Currency': 'USD', 'Tick size': '0.25', 'Precision': 'Default', 'Instrument': 'InstrumentMNQ', 'Base Signal Cooldown (Bars)': 'Base Signal Cooldown (Bars)2', 'Divergence Lookback': 'Divergence Lookback6', 'Z-Score Lookback': 'Z-Score Lookback51', 'Max |Z-Score| to Enter': 'Max |Z-Score| to Enter1.5', 'Enable Z-Score Filter': 'Enable Z-Score FilterOn', 'HTF Trend TF': 'HTF Trend TF10', 'HTF MA Length': 'HTF MA Length50', 'ATR Percentile Window': 'ATR Percentile Window100', 'ATR Percentile Threshold': 'ATR Percentile Threshold53', 'Stop ATR Multiplier': 'Stop ATR Multiplier2', 'Profit ATR Multiplier': 'Profit ATR Multiplier2', 'Max Bars in Trade': 'Max Bars in Trade11', 'Enable Max Daily Loss Kill Switch': 'Enable Max Daily Loss Kill SwitchOn', 'Max Daily Loss ($)': 'Max Daily Loss ($)300', 'Max Rolling Drawdown ($)': 'Max Rolling Drawdown ($)1000', 'Rolling Window (Bars)': 'Rolling Window (Bars)100', 'Restrict to US Session Only': 'Restrict to US Session OnlyOn', 'Aurora Band Width (% of ATR)': 'Aurora Band Width (% of ATR)0.5', 'Divergence Sensitivity': 'Divergence Sensitivity1', 'Minimum Strength': 'Minimum Strength0.3', 'Initial capital': '1,000,000.00USD', 'Order size': '1 contracts', 'Pyramiding': '1 orders', 'Commission': '4.60USD\\xa0per contract', 'Slippage': '3 ticks', 'Verify price for limit orders': '0 ticks', 'Margin for long positions': '100%', 'Margin for short positions': '100%', 'Recalculate after order is filled': 'Off', 'Recalculate on every tick': 'On', 'Recalculate on bar close': 'Off', 'Backtesting precision. Use bar magnifier': 'Off'}"
        ],
        [
         "33",
         "ZLSMACE Strategy",
         "ZLSMACE StrategyThis is a trend-following strategy that combines:-Zero-Lag LSMA (ZLSMA): A smoothed, low-lag moving average used to confirm trend direction.-Chandelier Exit (CE): A volatility-based trailing stop used to detect reversals and shift trade direction.🟢 Entry Conditions:Long: CE direction turns bullish and price is above ZLSMAShort: CE direction turns bearish and price is below ZLSMAThe strategy exits any opposite position before opening a new one, ensuring clean direction switching.🕒 Best TimeframeOptimized for 15-minute charts (15m)Good balance between signal speed and trend filtering",
         "{'options', 'strategy', 'Pine utilities', 'chandelierexit', 'Trend Analysis', 'futures', '15min', 'zlsma', 'spot'}",
         "0",
         "−261,772.79",
         "2,870,733.67",
         "3,132,506.46",
         "0",
         "+38,811.18",
         "303,620.85",
         "637,454.05",
         "7,338",
         "809",
         "0.0",
         "187",
         "622",
         "23.11%",
         "−323.58",
         "15,351.52",
         "5,036.18",
         "3.048",
         "96,032.72",
         "14.52%",
         "98,017.55",
         "9.82%",
         "14",
         "30",
         "9",
         "−0.24",
         "−0.298",
         "0.916",
         "320.0",
         "{'Trading range': 'Oct 05, 2024, 15:45 — Apr 29, 2025, 22:45', 'Backtesting range': 'Oct 01, 2024, 02:00 — Apr 29, 2025, 22:45', 'Symbol': 'BINANCE:SOLUSDT', 'Timeframe': '15 minutes', 'Point value': '1', 'Chart type': 'Candles', 'Currency': 'USDT', 'Tick size': '0.01', 'Precision': 'Default', 'Length of ZLSMA': 'Length of ZLSMA200', 'Offset of ZLSMA': 'Offset of ZLSMA0', 'Source of ZLSMA': 'Source of ZLSMAclose', 'ATR Period of CE': 'ATR Period of CE1', 'ATR Multiplier of CE': 'ATR Multiplier of CE2', 'Use Close Price for Extremums': 'Use Close Price for ExtremumsOn', 'Initial capital': '1,000,000.00USDT', 'Order size': '100% of equity', 'Pyramiding': '1 orders', 'Commission': '0\\xa0%', 'Slippage': '0 ticks', 'Verify price for limit orders': '0 ticks', 'Margin for long positions': '100%', 'Margin for short positions': '100%', 'Recalculate after order is filled': 'Off', 'Recalculate on every tick': 'Off', 'Recalculate on bar close': 'Off', 'Backtesting precision. Use bar magnifier': 'Off'}"
        ],
        [
         "34",
         "Nexus Trade Bot",
         "The Nexus Trade Bot is a sophisticated TradingView Pine Script™ v6 strategy designed for automated trading across forex, futures, stocks, and crypto. It combines trend analysis (using ROC and SMA), Squeeze Momentum, and EMA signals to identify high-probability trade entries and exits. Key features include customizable higher timeframe (HTF) trend confirmation (default 30-min), ATR-based trailing or fixed stop-loss, and robust session management with UTC-based trading hours. JSON alerts integrate seamlessly with webhooks for external apps, providing detailed trade and session data. Ideal for traders seeking a reliable, adaptable automation tool. Defaults and data are tested only for MNQ1! on the 5M timeframe.",
         "{'Trend Analysis'}",
         "0",
         "+5,107.50",
         "9,928.00",
         "4,820.50",
         "0",
         "−44,112.00",
         "5,845.50",
         "629.00",
         "1",
         "145",
         "0.0",
         "70",
         "75",
         "48.28%",
         "35.22",
         "141.83",
         "64.27",
         "2.207",
         "2,121.00",
         "6.02%",
         "270.00",
         "0.73%",
         "8",
         "11",
         "6",
         "0.1",
         "0.304",
         "2.06",
         "0.0",
         "{'Trading range': 'Mar 04, 2025, 00:05 — Apr 29, 2025, 16:25', 'Backtesting range': 'Mar 02, 2025, 18:00 — Apr 29, 2025, 16:25', 'Symbol': 'CME_MINI:MNQ1!', 'Timeframe': '5 minutes', 'Point value': '2', 'Chart type': 'Candles', 'Currency': 'USD', 'Tick size': '0.25', 'Precision': 'Default', 'Source': 'Sourceclose', 'Signal SMA Length': 'Signal SMA Length98', 'Trend Rounding Threshold': 'Trend Rounding Threshold0.5', 'Use Trend Rounding': 'Use Trend RoundingOff', 'Use Higher Timeframe Trend': 'Use Higher Timeframe TrendOn', 'Higher Timeframe': 'Higher Timeframe30', 'Cooldown Bars': 'Cooldown Bars10', 'BB Length': 'BB Length20', 'BB Multiplier': 'BB Multiplier2', 'KC Length': 'KC Length24', 'KC Multiplier': 'KC Multiplier1.5', 'ATR Length': 'ATR Length14', 'Trailing Stop ATR Multiplier': 'Trailing Stop ATR Multiplier1', 'Use Trailing Stop': 'Use Trailing StopOn', 'Trading Session (UTC)': 'Trading Session (UTC)00:00 — 23:59', 'Early Close Dates (YYYYMMDD, comma-separated)': 'Early Close Dates (YYYYMMDD, comma-separated)', 'Maintenance Hours (UTC)': 'Maintenance Hours (UTC)', 'Initial capital': '1,000,000.00USD', 'Order size': '1 contracts', 'Pyramiding': '1 orders', 'Commission': '0\\xa0%', 'Slippage': '0 ticks', 'Verify price for limit orders': '0 ticks', 'Margin for long positions': '100%', 'Margin for short positions': '100%', 'Recalculate after order is filled': 'Off', 'Recalculate on every tick': 'Off', 'Recalculate on bar close': 'Off', 'Backtesting precision. Use bar magnifier': 'Off'}"
        ],
        [
         "35",
         "Dskyz (DAFE) Quantum Sentiment Flux - Beginners",
         "                            Dskyz (DAFE) Quantum Sentiment Flux - Beginners: Welcome to the Dskyz (DAFE) Quantum Sentiment Flux - Beginners, a strategy and concept that’s your ultimate wingman for trading futures like MNQ, NQ, MES, and ES. This gem combines lightning-fast momentum signals, market sentiment smarts, and bulletproof risk management into a system so intuitive, even newbies can trade like pros. With clean DAFE visuals, preset modes for every vibe, and a revamped dashboard that’s basically a market GPS, this strategy makes futures trading feel like a high-octane sci-fi mission.Built on the Dskyz (DAFE) legacy of Aurora Divergence, the Quantum Sentiment Flux is designed to empower beginners while giving seasoned traders a lean, sentiment-driven edge. It uses fast/slow EMA crossovers for entries, filters trades with VIX, SPX trends, and sector breadth, and keeps your account safe with adaptive stops and cooldowns. Tuned for more action with faster signals and a slick bottom-left dashboard, this updated version is ready to light up your charts and outsmart institutional traps. Let’s dive into why this strat’s a must-have and break down its brilliance.Why Traders Need This StrategyFutures markets are a wild ride—fast moves, volatility spikes (like the April 28, 2025 NQ 1k-point drop), and institutional games that can wreck unprepared traders. Beginners often get lost in complex systems or burned by impulsive trades. The Quantum Sentiment Flux is the antidote, offering:Dead-Simple Setup: Preset modes (Aggressive, Balanced, Conservative) auto-tune signals, risk, and sizing, so you can trade without a quant degree.Sentiment Superpower: VIX filter, SPX trend, and sector breadth visuals keep you aligned with market health, dodging chop and riding trends.Ironclad Safety: Tighter ATR-based stops, 2:1 take-profits, and preset cooldowns protect your capital, even in chaotic sessions.Next-Level Visuals: Green/red entry triangles, vibrant EMAs, a sector breadth background, and a beefed-up dashboard make signals and context pop.DAFE Swagger: The clean aesthetics, sleek dashboard—ties it to Dskyz’s elite brand, making your charts a work of art.Traders need this because it’s a plug-and-play system that blends beginner-friendly simplicity with pro-level market awareness. Whether you’re just starting or scalping 5min MNQ, this strat’s your key to trading with confidence and style.Strategy Components1. Core Signal Logic (High-Speed Momentum)The strategy’s engine is a momentum-based system using fast and slow Exponential Moving Averages (EMAs), now tuned for faster, more frequent trades.How It Works:Fast/Slow EMAs: Fast EMA (Aggressive: 5, Balanced: 7, Conservative: 9 bars) and slow EMA (12/14/18 bars) track short-term vs. longer-term momentum.Crossover Signals:Buy: Fast EMA crosses above slow EMA, and trend_dir = 1 (fast EMA > slow EMA + ATR * strength threshold).Sell: Fast EMA crosses below slow EMA, and trend_dir = -1 (fast EMA < slow EMA - ATR * strength threshold).Strength Filter: ma_strength = fast EMA - slow EMA must exceed an ATR-scaled threshold (Aggressive: 0.15, Balanced: 0.18, Conservative: 0.25) for robust signals.Trend Direction: trend_dir confirms momentum, filtering out weak crossovers in choppy markets.Evolution:Faster EMAs (down from 7–10/21–50) catch short-term trends, perfect for active futures markets.Lower strength thresholds (0.15–0.25 vs. 0.3–0.5) make signals more sensitive, boosting trade frequency without sacrificing quality.Preset tuning ensures beginners get optimized settings, while pros can tweak via mode selection.2. Market Sentiment FiltersThe strategy leans hard into market sentiment with a VIX filter, SPX trend analysis, and sector breadth visuals, keeping trades aligned with the big picture.VIX Filter:Logic: Blocks long entries if VIX > threshold (default: 20, can_long = vix_close < vix_limit). Shorts are always allowed (can_short = true).Impact: Prevents longs during high-fear markets (e.g., VIX spikes in crashes), while allowing shorts to capitalize on downturns.SPX Trend Filter:Logic: Compares S&P 500 (SPX) close to its SMA (Aggressive: 5, Balanced: 8, Conservative: 12 bars). spx_trend = 1 (UP) if close > SMA, -1 (DOWN) if < SMA, 0 (FLAT) if neutral.Impact: Provides dashboard context, encouraging trades that align with market direction (e.g., longs in UP trend).Sector Breadth (Visual):Logic: Tracks 10 sector ETFs (XLK, XLF, XLE, etc.) vs. their SMAs (same lengths as SPX). Each sector scores +1 (bullish), -1 (bearish), or 0 (neutral), summed as breadth (-10 to +10).Display: Green background if breadth > 4, red if breadth < -4, else neutral. Dashboard shows sector trends (↑/↓/-).Impact: Faster SMA lengths make breadth more responsive, reflecting sector rotations (e.g., tech surging, energy lagging).Why It’s Brilliant:- VIX filter adds pro-level volatility awareness, saving beginners from panic-driven losses.- SPX and sector breadth give a 360° view of market health, boosting signal confidence (e.g., green BG + buy signal = high-probability trade).- Shorter SMAs make sentiment visuals react faster, perfect for 5min charts.3. Risk ManagementThe risk controls are a fortress, now tighter and more dynamic to support frequent trading while keeping accounts safe.Preset-Based Risk:Aggressive: Fast EMAs (5/12), tight stops (1.1x ATR), 1-bar cooldown. High trade frequency, higher risk.Balanced: EMAs (7/14), 1.2x ATR stops, 1-bar cooldown. Versatile for most traders.Conservative: EMAs (9/18), 1.3x ATR stops, 2-bar cooldown. Safer, fewer trades.Impact: Auto-scales risk to match style, making it foolproof for beginners.Adaptive Stops and Take-Profits:Logic: Stops = entry ± ATR * atr_mult (1.1–1.3x, down from 1.2–2.0x). Take-profits = entry ± ATR * take_mult (2x stop distance, 2:1 reward/risk). Longs: stop below entry, TP above; shorts: vice versa.Impact: Tighter stops increase trade turnover while maintaining solid risk/reward, adapting to volatility.Trade Cooldown:Logic: Preset-driven (Aggressive/Balanced: 1 bar, Conservative: 2 bars vs. old user-input 2). Ensures bar_index - last_trade_bar >= cooldown.Impact: Faster cooldowns (especially Aggressive/Balanced) allow more trades, balanced by VIX and strength filters.Contract Sizing:Logic: User sets contracts (default: 1, max: 10), no preset cap (unlike old 7/5/3 suggestion).Impact: Flexible but risks over-leverage; beginners should stick to low contracts.Built To Be Reliable and Consistent:- Tighter stops and faster cooldowns make it a high-octane system without blowing up accounts.- Preset-driven risk removes guesswork, letting newbies trade confidently.- 2:1 TPs ensure profitable trades outweigh losses, even in volatile sessions like April 27, 2025 ES slippage.4. Trade Entry and Exit LogicThe entry/exit rules are simple yet razor-sharp, now with VIX filtering and faster signals:Entry Conditions:Long Entry: buy_signal (fast EMA crosses above slow EMA, trend_dir = 1), no position (strategy.position_size = 0), cooldown passed (can_trade), and VIX < 20 (can_long). Enters with user-defined contracts.Short Entry: sell_signal (fast EMA crosses below slow EMA, trend_dir = -1), no position, cooldown passed, can_short (always true).Logic: Tracks last_entry_bar for visuals, last_trade_bar for cooldowns.Exit Conditions:Stop-Loss/Take-Profit: ATR-based stops (1.1–1.3x) and TPs (2x stop distance). Longs exit if price hits stop (below) or TP (above); shorts vice versa.No Other Exits: Keeps it straightforward, relying on stops/TPs.5. DAFE VisualsThe visuals are pure DAFE magic, blending clean function with informative metrics utilized by professionals, now enhanced by faster signals and a responsive breadth background:EMA Plots:Display: Fast EMA (blue, 2px), slow EMA (orange, 2px), using faster lengths (5–9/12–18).Purpose: Highlights momentum shifts, with crossovers signaling entries.Sector Breadth Background:Display: Green (90% transparent) if breadth > 4, red (90%) if breadth < -4, else neutral.Purpose: Faster breadth_sma_len (5–12 vs. 10–50) reflects sector shifts in real-time, reinforcing signal strength.- Visuals are intuitive, turning complex signals into clear buy/sell cues.- Faster breadth background reacts to market rotations (e.g., tech vs. energy), giving a pro-level edge.6. Sector Breadth DashboardThe new bottom-left dashboard is a game-changer, a 3x16 table (black/gray theme) that’s your market command center:Metrics:VIX: Current VIX (red if > 20, gray if not).SPX: Trend as “UP” (green), “DOWN” (red), or “FLAT” (gray).Trade Longs: “OK” (green) if VIX < 20, “BLOCK” (red) if not.Sector Breadth: 10 sectors (Tech, Financial, etc.) with trend arrows (↑ green, ↓ red, - gray).Placeholder Row: Empty for future metrics (e.g., ATR, breadth score).Purpose: Consolidates regime, volatility, market trend, and sector data, making decisions a breeze.- VIX and SPX metrics add context, helping beginners avoid bad trades (e.g., no longs if “BLOCK”).Sector arrows show market health at a glance, like a cheat code for sentiment.Key FeaturesBeginner-Ready: Preset modes and clear visuals make futures trading a breeze.Sentiment-Driven: VIX filter, SPX trend, and sector breadth keep you in sync with the market.High-Frequency: Faster EMAs, tighter stops, and short cooldowns boost trade volume.Safe and Smart: Adaptive stops/TPs and cooldowns protect capital while maximizing wins.Visual Mastery: DAFE’s clean flair, EMAs, dashboard—makes trading fun and clear.Backtestable: Lean code and fixed qty ensure accurate historical testing.How to UseAdd to Chart: Load on a 5min MNQ/ES chart in TradingView.Pick Preset: Aggressive (scalping), Balanced (versatile), or Conservative (safe). Balanced is default.Set Contracts: Default 1, max 10. Stick low for safety.Check Dashboard: Bottom-left shows preset, VIX, SPX, and sectors. “OK” + green breadth = strong buy.Backtest: Run in strategy tester to compare modes.Live Trade: Connect to Tradovate or similar. Watch for slippage (e.g., April 27, 2025 ES issues).Replay Test: Try April 28, 2025 NQ drop to see VIX filter and stops in action.Why It’s BrilliantThe Dskyz (DAFE) Quantum Sentiment Flux - Beginners is a masterpiece of simplicity and power. It takes pro-level tools—momentum, VIX, sector breadth—and wraps them in a system anyone can run. Faster signals and tighter stops make it a trading machine, while the VIX filter and dashboard keep you ahead of market chaos. The DAFE visuals and bottom-left command center turn your chart into a futuristic cockpit, guiding you through every trade. For beginners, it’s a safe entry to futures; for pros, it’s a scalping beast with sentiment smarts. This strat doesn’t just trade—it transforms how you see the market.Final NotesThis is more than a strategy—it’s your launchpad to mastering futures with Dskyz (DAFE) flair. The Quantum Sentiment Flux blends accessibility, speed, and market savvy to help you outsmart the game. Load it, watch those triangles glow, and let’s make the markets your canvas!Official Statement from Pine Script Team(see TradingView help docs and forums):\"This warning may appear when you call functions such as ta.sma inside a request.security in a loop. There is no runtime impact. If you need to loop through a dynamic list of tickers, this cannot be avoided in the present version... Values will still be correct. Ignore this warning in such contexts.\"(This publishing will most likely be taken down do to some miscellaneous rule about properly displaying charting symbols, or whatever. Once I've identified what part of the publishing they want to pick on, I'll adjust and repost.) Use it with discipline. Use it with clarity. Trade smarter.**I will continue to release incredible strategies and indicators until I turn this into a brand or until someone offers me a contract.Created by Dskyz, powered by DAFE Trading Systems. Trade fast, trade bold.",
         "{'Trend Analysis', 'sentiment', 'Moving Averages'}",
         "0",
         "+25,135.00",
         "43,725.00",
         "18,590.00",
         "0",
         "−63,530.00",
         "31,565.00",
         "5,210.00",
         "1",
         "60",
         "0.0",
         "33",
         "27",
         "55.00%",
         "418.92",
         "1,325.00",
         "688.52",
         "1.924",
         "8,700.00",
         "2.48%",
         "2,655.00",
         "0.61%",
         "17",
         "19",
         "16",
         "0.855",
         "4.26",
         "2.352",
         "0.0",
         "{'Trading range': 'Jan 13, 2025, 21:00 — Apr 29, 2025, 13:50', 'Backtesting range': 'Jan 12, 2025, 17:00 — Apr 29, 2025, 13:50', 'Symbol': 'CME_MINI:NQ1!', 'Timeframe': '5 minutes', 'Point value': '20', 'Chart type': 'Candles', 'Currency': 'USD', 'Tick size': '0.25', 'Precision': 'Default', 'Mode Preset 🎛️': 'Mode Preset 🎛️Balanced', 'Contracts Per Trade': 'Contracts Per Trade1', 'VIX Block Threshold': 'VIX Block Threshold60', 'Initial capital': '1,000,000.00USD', 'Order size': '1 contracts', 'Pyramiding': '1 orders', 'Commission': '0\\xa0%', 'Slippage': '0 ticks', 'Verify price for limit orders': '0 ticks', 'Margin for long positions': '100%', 'Margin for short positions': '100%', 'Recalculate after order is filled': 'Off', 'Recalculate on every tick': 'Off', 'Recalculate on bar close': 'Off', 'Backtesting precision. Use bar magnifier': 'Off'}"
        ],
        [
         "36",
         "IMPOSSIBLE IS IN",
         "My Curiosity about all the trading Strategies and mindset came to an end. It has cost me a lot more than money to reach to this point, but with no regrets I present you the unbeatable🚩 inevitable dream strategy that could create unbelievable a& catastrophic changes in your whole lifetime. This has cost me  far more than any material value. A taste of lost luck and merely only my passion for my trading journey. I never stopped. Thank you.And remember one thing age is just a number. I made this being a 23 year old Guy, whose was just dreaming along Situations that were totally depressing but life has its own ways Try these setting on one hour time frame=🎴BB Length 27🎴BB StdDev 1.2🎴Basis MA Type@ SMMA (…)🎴Source: close🎴Offset: 3🕦Start Date: 2018-01-01🏁05:30🕦End Date: 2069-12-31🏁23:59🎴ATR Length🚩10🎴ATR Multiplier for Trailing Stop🚩1.7🤝Properties-🎴Initial capital- 100000🎴Base currency USD💵👉🏻Order size: 25% of equity👉🏻Pyramiding: 1🎴 COST SIMULATION:👉🏻Commission: 0.05🎴MARGIN:👉🏻Margin for long positions: 25%👉🏻Margin for short positions: 25%🎴RECALCULATE:👉🏻 After order is filled:✅👉🏻On every tick:✅🎴FILL ORDERS:👉🏻On bar close:✅👉🏻 Using standard OHLC✅",
         "{'educational', 'Chart patterns', 'Moving Averages'}",
         null,
         null,
         null,
         null,
         null,
         null,
         null,
         null,
         null,
         null,
         null,
         null,
         null,
         null,
         null,
         null,
         null,
         null,
         null,
         null,
         null,
         null,
         null,
         null,
         null,
         null,
         null,
         null,
         null,
         "{}"
        ],
        [
         "37",
         "3-Day Breakout Strategy with Trend Change Exit",
         "//version=5strategy(\"3-Day Breakout Strategy with Trend Change Exit\", overlay=true, default_qty_type=strategy.percent_of_equity, default_qty_value=100)// === Calculate 3-day high/low (excluding current bar) ===high3 = ta.highest(high[1], 3)low3 = ta.lowest(low[1], 3)// === Entry conditions ===longEntry  = close > high3shortEntry = close < low3// === Track position state ===isLong   = strategy.position_size > 0isShort  = strategy.position_size < 0wasLong  = nz(strategy.position_size[1] > 0)wasShort = nz(strategy.position_size[1] < 0)// === Exit conditions ===// Exit on trend reversal (new signal)longExit  = shortEntry  // Exit long position when a short signal occursshortExit = longEntry   // Exit short position when a long signal occurs// === Execute entries ===buySignal  = longEntry and not isLong and not isShortsellSignal = shortEntry and not isLong and not isShortif (buySignal)    strategy.entry(\"Long\", strategy.long)if (sellSignal)    strategy.entry(\"Short\", strategy.short)// === Execute exits on opposite signal (trend change) ===if (isLong and longExit)    strategy.close(\"Long\")if (isShort and shortExit)    strategy.close(\"Short\")// === Exit markers (on actual exit bar only) ===exitLongSignal  = wasLong and not isLongexitShortSignal = wasShort and not isShort// === Plot entry signals only on the entry bar ===plotshape(buySignal,  title=\"Buy Signal\",  location=location.belowbar, color=color.green,  style=shape.labelup,   text=\"BUY\")plotshape(sellSignal, title=\"Sell Signal\", location=location.abovebar, color=color.red,    style=shape.labeldown, text=\"SELL\")// === Plot exit signals only on the exit bar ===plotshape(exitLongSignal,  title=\"Exit Long\",  location=location.abovebar, color=color.orange, style=shape.labeldown, text=\"EXIT\")plotshape(exitShortSignal, title=\"Exit Short\", location=location.belowbar, color=color.orange, style=shape.labelup,   text=\"EXIT\")",
         "{'options', 'Breadth Indicators', 'Oscillators'}",
         "+2,790.00",
         "+128,679.00",
         "332,140.50",
         "203,461.50",
         "0",
         "+180,931.50",
         "219,637.50",
         "63,571.50",
         "1",
         "68",
         "1.0",
         "25",
         "43",
         "36.76%",
         "1,892.34",
         "13,285.62",
         "4,731.66",
         "2.808",
         "93,054.00",
         "5.92%",
         "29,403.00",
         "1.91%",
         "12",
         "20",
         "7",
         "0.13",
         "0.377",
         "1.632",
         "0.0",
         "{'Trading range': 'Feb 28, 2025, 11:30 — Apr 29, 2025, 15:15', 'Backtesting range': 'Feb 28, 2025, 09:15 — Apr 29, 2025, 15:15', 'Symbol': 'NSE:BANKNIFTYK2025', 'Timeframe': '15 minutes', 'Point value': '30', 'Chart type': 'Candles', 'Currency': 'INR', 'Tick size': '0.05', 'Precision': 'Default', 'Initial capital': '1,000,000.00INR', 'Order size': '1 contracts', 'Pyramiding': '1 orders', 'Commission': '0\\xa0%', 'Slippage': '0 ticks', 'Verify price for limit orders': '0 ticks', 'Margin for long positions': '0%', 'Margin for short positions': '0%', 'Recalculate after order is filled': 'Off', 'Recalculate on every tick': 'Off', 'Recalculate on bar close': 'Off', 'Backtesting precision. Use bar magnifier': 'Off'}"
        ],
        [
         "38",
         "SuperTrade Ichimoku Cloud Strategy",
         "Unlike SuperTrade's Super Trend the Ichimoku Cloud Strategy is a trend-following system derived from the Ichimoku Kinko Hyo indicator. It helps identify market direction, momentum, and potential support/resistance zones. This strategy uses key components of the Ichimoku Cloud to determine bullish or bearish trends and executes trades accordingly.🔍 Key Components UsedConversion Line (Tenkan-sen) – short-term average (9-period Donchian midpoint by default)Base Line (Kijun-sen) – medium-term average (26-period Donchian midpoint)Leading Span A (Senkou Span A) – average of Conversion Line and Base Line, plotted forward by 26 periods.Leading Span B (Senkou Span B) – 52-period Donchian midpoint, plotted forward by 26 periods.Lagging Span (Chikou Span) – current close price, plotted backward by 26 periods (for visual reference only in this version).The cloud (Kumo) is the area between Leading Span A and B, representing trend direction and potential support/resistance.📈 Entry Rules (Buy Condition)A long trade is entered when:LeadLine1 > LeadLine2 → This implies a bullish cloud.Close > LeadLine1 and Close > LeadLine2 → The price is trading above the cloud, confirming upward momentum.This combination indicates a strong bullish trend, so the strategy enters a long position.📉 Exit Rules (Sell Condition / Close Position)The long trade is closed when:LeadLine1 < LeadLine2 → This implies a bearish cloud.Close < LeadLine1 and Close < LeadLine2 → The price has fallen below the cloud, signaling trend weakness or reversal.This confirms a bearish trend, prompting the strategy to exit the long position.✅ Must-Have Elements in This StrategyEntry Logic – based on price position relative to the cloud and cloud direction.Exit Logic – closes the position when price shifts to a bearish trend.Overlay Enabled – plotted over price for visual confirmation of signals.Dynamic Parameters – inputs for conversion/base/cloud lengths and displacement.Visualization – plots all Ichimoku components including cloud fill for clarity.No Shorting Logic Yet – this version only handles long trades; shorting can be added optionally.No Stop-Loss or Take-Profit – trades are closed purely based on Ichimoku trend reversal.",
         "{'Volume', 'Pine utilities', 'Chart patterns'}",
         "+2,726.96",
         "+3,699.80",
         "105,714.58",
         "102,014.78",
         "0",
         "−131,557.47",
         "21,851.11",
         "22,459.58",
         "89,932",
         "203",
         "1.0",
         "72",
         "131",
         "35.47%",
         "18.23",
         "1,468.26",
         "778.74",
         "1.885",
         "5,239.84",
         "5.27%",
         "9,464.14",
         "9.49%",
         "51",
         "91",
         "29",
         "−1.056",
         "−0.742",
         "1.036",
         "0.0",
         "{'Trading range': 'Jan 19, 2012, 10:00 — Apr 29, 2025, 17:00', 'Backtesting range': 'Jan 01, 2012, 22:00 — Apr 29, 2025, 17:00', 'Symbol': 'OANDA:GBPUSD', 'Timeframe': '4 hours', 'Point value': '1', 'Chart type': 'Candles', 'Currency': 'USD', 'Tick size': '0.00001', 'Precision': 'Default', 'Conversion Line Length': 'Conversion Line Length9', 'Base Line Length': 'Base Line Length26', 'Leading Span B Length': 'Leading Span B Length52', 'Lagging Span': 'Lagging Span26', 'Initial capital': '1,000,000.00USD', 'Order size': '10% of equity', 'Pyramiding': '1 orders', 'Commission': '0\\xa0%', 'Slippage': '0 ticks', 'Verify price for limit orders': '0 ticks', 'Margin for long positions': '100%', 'Margin for short positions': '100%', 'Recalculate after order is filled': 'Off', 'Recalculate on every tick': 'Off', 'Recalculate on bar close': 'Off', 'Backtesting precision. Use bar magnifier': 'Off'}"
        ],
        [
         "39",
         "RTB - Momentum Breakout Strategy V3",
         "📈 RTB - Momentum Breakout Strategy V3 is a directional breakout strategy based on momentum. It combines exponential moving averages (EMAs), RSI, and recent support/resistance levels to detect breakout entries with trend confirmation. The system includes dynamic risk management using ATR-based stop-loss and trailing stop levels. Webhook alerts are supported for external automated trading integrations.🔎 The strategy was backtested using default parameters on BTCUSDT Futures (Bybit) with 4-hour timeframe and a 0.05% commission per trade.⚠️ This script is for educational purposes only and does not constitute financial advice. Always do your own research before trading.",
         "{'BTCUSDT', 'Bitcoin (Cryptocurrency)', 'Exponential Moving Average (EMA)', 'breakouts', 'bybit', 'Support and Resistance', 'EMAS', 'Relative Strength Index (RSI)'}",
         "0",
         "+1,184.46",
         "3,960.34",
         "2,775.88",
         "509.27",
         "+12,941.17",
         "1,277.97",
         "165.09",
         "0",
         "601",
         "0.0",
         "434",
         "167",
         "72.21%",
         "1.97",
         "9.13",
         "16.62",
         "0.549",
         "63.66",
         "11.73%",
         "68.35",
         "10.45%",
         "3",
         "3",
         "4",
         "0.407",
         "1.23",
         "1.427",
         "0.0",
         "{'Trading range': 'Apr 02, 2020, 12:00 — Apr 29, 2025, 12:00', 'Backtesting range': 'Mar 25, 2020, 04:00 — Apr 29, 2025, 12:00', 'Symbol': 'BYBIT:BTCUSDT.P', 'Timeframe': '4 hours', 'Point value': '1', 'Chart type': 'Bars', 'Currency': 'USDT', 'Tick size': '0.1', 'Precision': 'Default', 'EMA Rápida': 'EMA Rápida20', 'EMA Lenta': 'EMA Lenta50', 'Periodo RSI': 'Periodo RSI14', 'RSI Sobrecompra': 'RSI Sobrecompra70', 'RSI Sobreventa': 'RSI Sobreventa30', 'Periodos para Breakout': 'Periodos para Breakout5', 'Periodo ATR': 'Periodo ATR14', 'Multiplicador ATR Stop-Loss': 'Multiplicador ATR Stop-Loss1.5', 'Multiplicador ATR Trailing Stop': 'Multiplicador ATR Trailing Stop1.5', 'Initial capital': '1,000.00USDT', 'Order size': '50% of equity', 'Pyramiding': '1 orders', 'Commission': '0.055\\xa0%', 'Slippage': '0 ticks', 'Verify price for limit orders': '0 ticks', 'Margin for long positions': '100%', 'Margin for short positions': '100%', 'Recalculate after order is filled': 'Off', 'Recalculate on every tick': 'Off', 'Recalculate on bar close': 'Off', 'Backtesting precision. Use bar magnifier': 'Off'}"
        ],
        [
         "40",
         "Accurate Swing Trading System - Strategy",
         "//version=5strategy(\"Accurate Swing Trading System - Strategy\", overlay=true)// Inputsno = input.int(3, title=\"Swing\")Barcolor = input.bool(true, title=\"Barcolor\")Bgcolor = input.bool(false, title=\"Bgcolor\")// Logicres = ta.highest(high, no)sup = ta.lowest(low, no)avd = close > res[1] ? 1 : close < sup[1] ? -1 : 0avn = ta.valuewhen(avd != 0, avd, 0)tsl = avn == 1 ? sup : resBuy = ta.crossover(close, tsl)Sell = ta.crossunder(close, tsl)// Plottingplotshape(Buy, title=\"BUY\", style=shape.labelup, location=location.belowbar, color=color.green, text=\"BUY\", textcolor=color.black)plotshape(Sell, title=\"SELL\", style=shape.labeldown, location=location.abovebar, color=color.red, text=\"SELL\", textcolor=color.black)colr = close >= tsl ? color.green : close <= tsl ? color.red : naplot(tsl, color=colr, linewidth=3, title=\"TSL\")barcolor(Barcolor ? colr : na)bgcolor(Bgcolor ? colr : na)// Alertsalertcondition(Buy, title=\"Buy Signal\", message=\"Buy\")alertcondition(Sell, title=\"Sell Signal\", message=\"Sell\")// Strategy Ordersif Buy    strategy.entry(\"Buy\", strategy.long)if Sell    strategy.close(\"Buy\")",
         "{'Cycles', 'ATR', 'Candlestick analysis', 'Chart patterns'}",
         "+2,790.00",
         "+114,271.50",
         "383,556.00",
         "269,284.50",
         "0",
         "+180,931.50",
         "230,017.50",
         "63,873.00",
         "1",
         "89",
         "1.0",
         "27",
         "62",
         "30.34%",
         "1,283.95",
         "14,205.78",
         "4,343.30",
         "3.271",
         "89,466.00",
         "5.68%",
         "25,965.00",
         "1.68%",
         "12",
         "21",
         "8",
         "0.116",
         "0.273",
         "1.424",
         "0.0",
         "{'Trading range': 'Feb 28, 2025, 11:30 — Apr 29, 2025, 15:15', 'Backtesting range': 'Feb 28, 2025, 09:15 — Apr 29, 2025, 15:15', 'Symbol': 'NSE:BANKNIFTYK2025', 'Timeframe': '15 minutes', 'Point value': '30', 'Chart type': 'Candles', 'Currency': 'INR', 'Tick size': '0.05', 'Precision': 'Default', 'Swing': 'Swing3', 'Barcolor': 'BarcolorOff', 'Bgcolor': 'BgcolorOff', 'Initial capital': '1,000,000.00INR', 'Order size': '1 contracts', 'Pyramiding': '1 orders', 'Commission': '0\\xa0%', 'Slippage': '0 ticks', 'Verify price for limit orders': '0 ticks', 'Margin for long positions': '0%', 'Margin for short positions': '0%', 'Recalculate after order is filled': 'Off', 'Recalculate on every tick': 'Off', 'Recalculate on bar close': 'Off', 'Backtesting precision. Use bar magnifier': 'Off'}"
        ],
        [
         "41",
         "EMA Crossover Strategy with Alerts",
         "EMA Crossover Strategy with AlertsOverviewThe EMA Crossover Strategy is a popular trend-following trading strategy that utilizes two Exponential Moving Averages (EMAs) to identify potential buy and sell signals. This strategy is designed to help traders capture significant market trends by generating alerts when a crossover or crossunder occurs between the short-term and long-term EMAs.Strategy DetailsShort EMA Length: 9 periodsLong EMA Length: 21 periodsHow It WorksCalculation of EMAs:The strategy calculates two EMAs: a short-term EMA (9 periods) and a long-term EMA (21 periods).Crossover and Crossunder Conditions:Crossover Condition: A buy signal is generated when the short-term EMA crosses above the long-term EMA.Crossunder Condition: A sell signal is generated when the short-term EMA crosses below the long-term EMA.Buy and Sell Signals:Buy Signal: Plotted below the bar with a green label when the crossover condition is met.Sell Signal: Plotted above the bar with a red label when the crossunder condition is met.Alerts:Alerts are set up to notify traders when a buy or sell signal is generated:Buy Alert: Triggered when the short-term EMA crosses above the long-term EMA.Sell Alert: Triggered when the short-term EMA crosses below the long-term EMA.Strategy Execution:Buy Entry: The strategy enters a long position when the buy condition is met.Sell Entry: The strategy enters a short position when the sell condition is met.BenefitsTrend Identification: Helps traders identify and follow strong market trends.Clear Signals: Provides clear buy and sell signals based on EMA crossovers.Alerts: Keeps traders informed with real-time alerts for buy and sell signals.UsageThis strategy is suitable for various markets and timeframes. Traders can customize the EMA lengths to fit their specific trading style and market conditions.",
         "{'forecasting', 'Trend Analysis', 'Moving Averages'}",
         "+4,050.00",
         "+672,480.00",
         "2,723,902.50",
         "2,051,422.50",
         "0",
         "+14,441.90",
         "717,780.00",
         "240,412.50",
         "15",
         "418",
         "1.0",
         "141",
         "256",
         "33.73%",
         "1,608.80",
         "19,318.46",
         "8,013.37",
         "2.411",
         "106,470.00",
         "7.44%",
         "50,902.50",
         "3.75%",
         "28",
         "58",
         "14",
         "2.701",
         null,
         null,
         null,
         "{'Trading range': 'Jan 01, 2025, 18:15 — Apr 29, 2025, 17:15', 'Backtesting range': 'Jan 01, 2025, 05:30 — Apr 29, 2025, 17:15', 'Symbol': 'DELTAIN:BTCUSD.P', 'Timeframe': '15 minutes', 'Point value': '1', 'Chart type': 'Candles', 'Currency': 'USD', 'Tick size': '0.1', 'Precision': 'Default', 'Short EMA Length': 'Short EMA Length10', 'Long EMA Length': 'Long EMA Length25', 'Initial capital': '1,000,000.00USD', 'Order size': '15 contracts', 'Pyramiding': '1 orders', 'Commission': '0\\xa0%', 'Slippage': '0 ticks', 'Verify price for limit orders': '0 ticks', 'Margin for long positions': '2%', 'Margin for short positions': '2%', 'Recalculate after order is filled': 'On', 'Recalculate on every tick': 'Off', 'Recalculate on bar close': 'Off', 'Backtesting precision. Use bar magnifier': 'Off'}"
        ],
        [
         "42",
         "DCA Strategy Tester",
         "Backtest DCA method. Choose start and end date, monthly amount and see graph, buys orders and stats.",
         "{'educational', 'statistics', 'Chart patterns'}",
         "+53,944.81",
         "0",
         "0",
         "0",
         "0",
         "+1,405,482.68",
         "84,367.99",
         "808.72",
         "1,067",
         "0",
         "119.0",
         "0",
         "0",
         null,
         null,
         null,
         null,
         null,
         null,
         null,
         null,
         null,
         null,
         null,
         null,
         "−0.345",
         "−0.825",
         null,
         null,
         "{'Trading range': 'Jan 05, 2010 — Apr 28, 2025', 'Backtesting range': 'Jan 02, 1968 — Apr 28, 2025', 'Symbol': 'NYSE:JNJ', 'Timeframe': '1 day', 'Point value': '1', 'Chart type': 'Candles', 'Currency': 'USD', 'Tick size': '0.0100', 'Precision': 'Default', 'DCA Frequency': 'DCA FrequencyMonthly', 'Investment Amount': 'Investment Amount1000', 'Start Date': 'Start DateJan 01, 2010', 'End Date': 'End DateDec 31, 2100', 'Monthly DCA Day': 'Monthly DCA Day4', 'Initial capital': '1,000,000.00USD', 'Order size': '100% of equity', 'Pyramiding': '999999 orders', 'Commission': '0\\xa0%', 'Slippage': '0 ticks', 'Verify price for limit orders': '0 ticks', 'Margin for long positions': '100%', 'Margin for short positions': '100%', 'Recalculate after order is filled': 'Off', 'Recalculate on every tick': 'Off', 'Recalculate on bar close': 'Off', 'Backtesting precision. Use bar magnifier': 'Off'}"
        ],
        [
         "43",
         "Market Mafia Sniper Strategy - XOTWOD",
         "The Market Mafia Sniper is a professional-grade, multi-timeframe precision trading system designed for scalping, intraday, swing, and position trading across any Forex, Crypto, Indices, and Metals market.🚀 Core Features:Entry Bias Detection: Trades only in the direction of major trend bias using EMA 200 and VWAP confluence.Advanced Confirmation: Confirms entries with MACD crossovers and RSI momentum filtering.Multi-Timeframe Power: Simultaneously scans 15 minutes, 1 hour, 4 hours, and Daily timeframes for sniper signals.Dynamic Take Profit: Adjusts Risk:Reward dynamically based on timeframe-specific ATR measurements.",
         "{'Chart patterns'}",
         "−29.39",
         "+8,109.74",
         "23,085.75",
         "14,976.00",
         "0",
         "+205,053.02",
         "10,260.16",
         "4,407.91",
         "39",
         "129",
         "1.0",
         "108",
         "21",
         "83.72%",
         "62.87",
         "213.76",
         "713.14",
         "0.3",
         "596.02",
         "0.59%",
         "2,390.57",
         "2.38%",
         "32",
         "17",
         "108",
         "−0.146",
         "−0.177",
         "1.542",
         "0.0",
         "{'Trading range': 'Nov 01, 2024, 02:15 — Apr 28, 2025, 23:45', 'Backtesting range': 'Oct 31, 2024, 15:00 — Apr 28, 2025, 23:45', 'Symbol': 'FX:XAUUSD', 'Timeframe': '15 minutes', 'Point value': '1', 'Chart type': 'Candles', 'Currency': 'USD', 'Tick size': '0.01', 'Precision': 'Default', 'Risk to Reward Ratio (TP2)': 'Risk to Reward Ratio (TP2)1.8', 'TP1 Risk to Reward': 'TP1 Risk to Reward1.4', 'Enable Trailing Stop After TP1?': 'Enable Trailing Stop After TP1?On', 'Enable Short Trades': 'Enable Short TradesOn', 'Use Higher Timeframe Trend Filter?': 'Use Higher Timeframe Trend Filter?On', 'HTF Trend Timeframe': 'HTF Trend Timeframe60', 'Enable Volatility Filter?': 'Enable Volatility Filter?On', 'Enable Liquidity Sweep Filter?': 'Enable Liquidity Sweep Filter?Off', 'Use Session Filter?': 'Use Session Filter?On', 'MACD Fast Length': 'MACD Fast Length12', 'MACD Slow Length': 'MACD Slow Length26', 'MACD Signal Length': 'MACD Signal Length9', 'RSI Length': 'RSI Length14', 'RSI Min for Long': 'RSI Min for Long50', 'RSI Max for Long': 'RSI Max for Long70', 'RSI Max for Short': 'RSI Max for Short50', 'RSI Min for Short': 'RSI Min for Short30', 'Initial capital': '1,000,000.00USD', 'Order size': '10% of equity', 'Pyramiding': '1 orders', 'Commission': '0\\xa0%', 'Slippage': '0 ticks', 'Verify price for limit orders': '0 ticks', 'Margin for long positions': '100%', 'Margin for short positions': '100%', 'Recalculate after order is filled': 'Off', 'Recalculate on every tick': 'Off', 'Recalculate on bar close': 'Off', 'Backtesting precision. Use bar magnifier': 'Off'}"
        ],
        [
         "44",
         "Advanced MACD Strategy (EURUSD 5min)",
         "This is an advanced MACD-based trading strategy designed specifically for the EURUSD forex pair on the 5-minute timeframe. It combines traditional MACD crossovers with powerful trend, momentum, volume, and volatility filters to increase trade quality and reduce false signals.Key Features:MACD Cross + Histogram Confirmation:Entries occur only when MACD line crosses the Signal line with supporting momentum from the MACD histogram.200 EMA Trend Filter:Trades are allowed only in the direction of the dominant market trend (above EMA for longs, below EMA for shorts).Volume Filter:Ensures entries only happen when volume is above its 20-period average, helping avoid illiquid market conditions.ATR-Based Dynamic Risk Management:Stop-loss set at 1× ATR from entry price.Take-profit set at 2× ATR from entry price.Emergency exits are triggered after 4 hours if neither TP nor SL is hit.Trading Hours Filter:Trades are only allowed between 01:00 and 22:00 UTC to avoid low-liquidity periods.Fully Adjustable Inputs:All key parameters (MACD settings, EMA length, volume lookback, ATR multipliers, session hours) can be optimized for individual preferences.Best Use:Ideal for active traders who prefer high-frequency trading styles.Designed for automated execution and easy integration with external bots (such as PineConnector).Works best during London and New York trading sessions due to higher liquidity.Disclaimer:Past performance does not guarantee future results. Always backtest and forward-test on demo accounts before trading live capital. Trading forex involves substantial risk.",
         "{'Simple Moving Average (SMA)', 'Moving Average Convergence / Divergence (MACD)'}",
         "0",
         "−0.67",
         "4.84",
         "5.51",
         "0",
         "+510.87",
         "0.83",
         "0.90",
         "93",
         "167",
         "0.0",
         "52",
         "113",
         "31.14%",
         "−0.004",
         "0.09",
         "0.05",
         "1.908",
         "0.23",
         "0.23%",
         "0.19",
         "0.19%",
         "4",
         "5",
         "4",
         "−4.005",
         "−0.97",
         "0.878",
         "0.0",
         "{'Trading range': 'Mar 10, 2025, 20:05 — Apr 29, 2025, 10:10', 'Backtesting range': 'Mar 10, 2025, 02:30 — Apr 29, 2025, 10:10', 'Symbol': 'OANDA:EURUSD', 'Timeframe': '5 minutes', 'Point value': '1', 'Chart type': 'Candles', 'Currency': 'USD', 'Tick size': '0.00001', 'Precision': 'Default', 'MACD Fast Length': 'MACD Fast Length12', 'MACD Slow Length': 'MACD Slow Length26', 'MACD Signal Smoothing': 'MACD Signal Smoothing9', 'EMA Length': 'EMA Length200', 'Volume MA Length': 'Volume MA Length20', 'ATR Length': 'ATR Length14', 'Take Profit ATR Multiplier': 'Take Profit ATR Multiplier2', 'Stop Loss ATR Multiplier': 'Stop Loss ATR Multiplier1', 'Trade Timeout Minutes': 'Trade Timeout Minutes240', 'Start Trading Hour (UTC)': 'Start Trading Hour (UTC)1', 'End Trading Hour (UTC)': 'End Trading Hour (UTC)22', 'Initial capital': '10,000.00USD', 'Order size': '1% of equity', 'Pyramiding': '1 orders', 'Commission': '0\\xa0%', 'Slippage': '0 ticks', 'Verify price for limit orders': '0 ticks', 'Margin for long positions': '0%', 'Margin for short positions': '0%', 'Recalculate after order is filled': 'Off', 'Recalculate on every tick': 'Off', 'Recalculate on bar close': 'Off', 'Backtesting precision. Use bar magnifier': 'Off'}"
        ],
        [
         "45",
         " Breakout Trend Follower with MACD v2",
         "This is a breakout trend following strategy that uses MACD and ADX to help optimize.  I like to use this against SOL on the 1D chart   It is yield about 2200% profit from the inital start date on Coinbase   Would love feedback   ",
         "{'Chart patterns', 'Candlestick analysis', 'Bands and Channels'}",
         "0",
         "+2,274,471.03",
         "3,689,123.14",
         "1,414,652.11",
         "1,030,430.70",
         "+274,405.61",
         "2,291,551.92",
         "603,335.28",
         "73,418",
         "876",
         "0.0",
         "221",
         "655",
         "25.23%",
         "2,596.43",
         "16,692.86",
         "2,159.77",
         "7.729",
         "213,695.47",
         "14.94%",
         "91,641.44",
         "20.04%",
         "1",
         "1",
         "1",
         "0.485",
         "1.893",
         "2.608",
         "290.0",
         "{'Trading range': 'Aug 07, 2021 — Apr 28, 2025', 'Backtesting range': 'Jun 16, 2021 — Apr 28, 2025', 'Symbol': 'COINBASE:SOLUSD', 'Timeframe': '1 day', 'Point value': '1', 'Chart type': 'Candles', 'Currency': 'USD', 'Tick size': '0.01', 'Precision': 'Default', 'Allow Longs?': 'Allow Longs?On', 'Allow Shorts?': 'Allow Shorts?On', 'Start Time': 'Start TimeDec 31, 2018', 'End Time': 'End TimeJan 01, 2100', 'Use MA Filter': 'Use MA FilterOn', 'MA Type': 'MA TypeEMA', 'MA Length': 'MA Length50', 'Use ADX Filter': 'Use ADX FilterOn', 'ADX Length': 'ADX Length14', 'Min ADX': 'Min ADX20', 'Pivot Left': 'Pivot Left3', 'Pivot Right': 'Pivot Right3', 'ATR Length': 'ATR Length14', 'ATR SL ×': 'ATR SL ×1.5', 'ATR TP ×': 'ATR TP ×3', 'ATR Trail ×': 'ATR Trail ×1', 'Use Time-Exit': 'Use Time-ExitOn', 'Max Bars to Hold': 'Max Bars to Hold5', 'MACD Fast Length': 'MACD Fast Length12', 'MACD Slow Length': 'MACD Slow Length26', 'MACD Signal Length': 'MACD Signal Length9', 'Initial capital': '100,000.00USD', 'Order size': '100% of equity', 'Pyramiding': '1 orders', 'Commission': '0.1\\xa0%', 'Slippage': '3 ticks', 'Verify price for limit orders': '0 ticks', 'Margin for long positions': '100%', 'Margin for short positions': '100%', 'Recalculate after order is filled': 'Off', 'Recalculate on every tick': 'Off', 'Recalculate on bar close': 'Off', 'Backtesting precision. Use bar magnifier': 'Off'}"
        ],
        [
         "46",
         "Rawstocks 15 Minute Model",
         "Rawstocks 15-Minute ModelThe Rawstocks 15-Minute Model is a precision intraday trading strategy designed for the US stock market (9:30 AM - 4:00 PM ET), optimized for the 15-minute timeframe. It combines institutional order flow concepts with Fibonacci retracements to identify high-probability reversal setups while enforcing strict risk management and session-based rules.Key FeaturesTime-Based ExecutionTrading Hours: 9:30 AM - 4:00 PM ET (no new entries after 4:00 PM)Force Close: All positions auto-exit at 4:30 PM ET (prevents overnight risk)Entry LogicOrder Block + Fib Confluence:Identifies institutional order blocks (previous swing highs/lows)Requires price pullback to 61.8% or 79% Fibonacci levelLiquidity Confirmation:Waits for stop runs (liquidity sweeps) before reversal entriesExit RulesStop Loss: 1x ATR (14) from entryTake Profit: 2:1 Risk-Reward (adjustable)Visual SignalsGreen Triangle: Valid long setup (pullback to bullish OB + Fib)Red Triangle: Valid short setup (pullback to bearish OB + Fib)Blue/Purple Background: Highlights active trading vs. close periodHow It WorksIdentify the SetupWait for a strong impulse move (break of structure)Mark the order block (institutional zone)Confirm PullbackPrice must retrace to 61.8% or 79% Fib levelMust occur within trading hours (9:30 AM - 4:00 PM)Enter on ConfirmationLong: Break of pullback candle high (stop below recent swing low)Short: Break of pullback candle low (stop above recent swing high)Manage the TradeTrail stop or exit at 2R (risk-to-reward)All positions close at 4:30 PM sharp",
         "{'Cycles', 'Candlestick analysis'}",
         "0",
         "+5,912.00",
         "13,915.50",
         "8,003.50",
         "0",
         "−58,500.00",
         "8,072.50",
         "2,441.50",
         "1",
         "79",
         "0.0",
         "38",
         "37",
         "48.10%",
         "74.84",
         "366.20",
         "216.31",
         "1.693",
         "1,648.00",
         "3.74%",
         "1,800.50",
         "4.33%",
         "17",
         "20",
         "16",
         "−0.483",
         "−0.46",
         "1.739",
         "0.0",
         "{'Trading range': 'Oct 23, 2024, 10:00 — Apr 28, 2025, 22:30', 'Backtesting range': 'Mar 20, 2024, 19:45 — Apr 28, 2025, 22:30', 'Symbol': 'CME_MINI:MNQM2025', 'Timeframe': '15 minutes', 'Point value': '2', 'Chart type': 'Candles', 'Currency': 'USD', 'Tick size': '0.25', 'Precision': 'Default', 'Start Hour (ET)': 'Start Hour (ET)9', 'Start Minute': 'Start Minute30', 'Last Entry Hour (ET)': 'Last Entry Hour (ET)16', 'Last Entry Minute': 'Last Entry Minute0', 'Force Close Hour (ET)': 'Force Close Hour (ET)16', 'Force Close Minute': 'Force Close Minute30', 'Fib Level (%)': 'Fib Level (%)61.8', 'Min Swing Size (%)': 'Min Swing Size (%)1', 'Risk/Reward': 'Risk/Reward2', 'Initial capital': '1,000,000.00USD', 'Order size': '1 contracts', 'Pyramiding': '0 orders', 'Commission': '0\\xa0%', 'Slippage': '0 ticks', 'Verify price for limit orders': '0 ticks', 'Margin for long positions': '100%', 'Margin for short positions': '100%', 'Recalculate after order is filled': 'Off', 'Recalculate on every tick': 'Off', 'Recalculate on bar close': 'Off', 'Backtesting precision. Use bar magnifier': 'Off'}"
        ],
        [
         "47",
         "EMA Trend Trading Strategy - Full",
         "Trend Identification:Uptrend when price > EMA150 on H4Downtrend when price < EMA150 on H4Entry Conditions:For BUY: EMA36 > EMA54/89/150 + price tests an EMA + bullish candlestick patternFor SELL: EMA36 < EMA54/89/150 + price tests an EMA + bearish candlestick patternExit Conditions:Close position when price crosses EMA150 on M15Volume spike detection (colored purple)Risk Management:Stop loss at 1.5x ATRTake profit at 3x ATR (risk-reward 1:2)Visual Indicators:EMAs plotted with different colorsBuy/sell signals marked with trianglesTrend direction indicatorWin rate display",
         "{'Fundamental Analysis'}",
         "+0.03",
         "+3.29",
         "4.86",
         "1.58",
         "0.10",
         "+53.13",
         "3.80",
         "0.58",
         "0",
         "26",
         "1.0",
         "10",
         "16",
         "38.46%",
         "0.13",
         "0.49",
         "0.10",
         "4.934",
         "2.39",
         "49.17%",
         "0.23",
         "5.25%",
         "693",
         "1,266",
         "335",
         "0.429",
         "2.596",
         "3.084",
         "0.0",
         "{'Trading range': 'Oct 02, 2024, 23:30 — Apr 29, 2025, 07:45', 'Backtesting range': 'Oct 01, 2024, 07:00 — Apr 29, 2025, 07:45', 'Symbol': 'BINANCE:BTCUSDT', 'Timeframe': '15 minutes', 'Point value': '1', 'Chart type': 'Candles', 'Currency': 'USDT', 'Tick size': '0.01', 'Precision': 'Default', 'Initial capital': '100.00USDT', 'Order size': '5% of equity', 'Pyramiding': '1 orders', 'Commission': '0.04\\xa0%', 'Slippage': '0 ticks', 'Verify price for limit orders': '0 ticks', 'Margin for long positions': '0%', 'Margin for short positions': '0%', 'Recalculate after order is filled': 'Off', 'Recalculate on every tick': 'Off', 'Recalculate on bar close': 'Off', 'Backtesting precision. Use bar magnifier': 'Off'}"
        ],
        [
         "48",
         "RSI SR OB Breakouts Strategy PRO (coffeshopcrypto)",
         "This was originally an indicator that I took from coffeshopcrypto, all credit to them. I simply turned it into a strategy. Only additions are TP/SL Levels based off of ticks and an optional EMA Filter Original Script: ",
         "{'Relative Strength Index (RSI)'}",
         "0",
         "+4,725.00",
         "54,275.00",
         "49,550.00",
         "0",
         "+97,760.00",
         "14,245.00",
         "10,510.00",
         "1",
         "162",
         "0.0",
         "63",
         "99",
         "38.89%",
         "29.17",
         "861.51",
         "500.51",
         "1.721",
         "2,115.00",
         "0.60%",
         "1,505.00",
         "0.41%",
         "5",
         "5",
         "5",
         "0.091",
         "0.155",
         "1.095",
         "0.0",
         "{'Trading range': 'Apr 07, 2025, 06:52 — Apr 28, 2025, 12:28', 'Backtesting range': 'Apr 06, 2025, 15:00 — Apr 28, 2025, 12:28', 'Symbol': 'CME_MINI:NQ1!', 'Timeframe': '1 minute', 'Point value': '20', 'Chart type': 'Candles', 'Currency': 'USD', 'Tick size': '0.25', 'Precision': 'Default', 'Show Ranges': 'Show RangesOn', 'Show Orderblocks': 'Show OrderblocksOn', 'Use Breakout Bar Colors': 'Use Breakout Bar ColorsOn', 'RSI Length': 'RSI Length14', 'Take Profit (Ticks)': 'Take Profit (Ticks)168', 'Use Stop Loss Instead of Only TP?': 'Use Stop Loss Instead of Only TP?On', 'Stop Loss (Ticks)': 'Stop Loss (Ticks)84', 'Trading Start Hour (EST)': 'Trading Start Hour (EST)8', 'Trading Start Minute (EST)': 'Trading Start Minute (EST)35', 'Trading End Hour (EST)': 'Trading End Hour (EST)11', 'Trading End Minute (EST)': 'Trading End Minute (EST)0', 'Enable Daily Trade Limit?': 'Enable Daily Trade Limit?Off', 'Max Trades Per Day': 'Max Trades Per Day5', 'Use EMA Filter?': 'Use EMA Filter?On', 'EMA Length': 'EMA Length200', 'Show Session Trading Panel?': 'Show Session Trading Panel?Off', 'Initial capital': '1,000,000.00USD', 'Order size': '1 contracts', 'Pyramiding': '1 orders', 'Commission': '0\\xa0%', 'Slippage': '0 ticks', 'Verify price for limit orders': '0 ticks', 'Margin for long positions': '100%', 'Margin for short positions': '100%', 'Recalculate after order is filled': 'Off', 'Recalculate on every tick': 'Off', 'Recalculate on bar close': 'On', 'Backtesting precision. Use bar magnifier': 'On'}"
        ],
        [
         "49",
         "SuperTrade ST1 Strategy",
         "This strategy leverages the Supertrend indicator to identify trend direction and capture key entry and exit points in the market. By utilizing ATR (Average True Range) for dynamic stop-loss and take-profit levels, this script adapts to varying market conditions for improved risk management. Key FeaturesSupertrend Indicator: Defines the trend direction and generates buy/sell signals based on trend reversal points.ATR-based Exits: Take Profit and Stop Loss are dynamically calculated using ATR multipliers to accommodate market volatility.Customizable Inputs: Fine-tune the ATR Length, Supertrend Factor, and ATR multipliers for take-profit and stop-loss according to your strategy preferences.Visual Indicators: Buy and Sell signals are clearly marked with labels on the chart, and the Supertrend line is color-coded for easy trend identification.Background Trend Highlighting: The chart background changes color based on the prevailing trend to make it easier to follow the market direction.This strategy is perfect for traders looking to ride trends while managing risk with smart, automated exits.",
         "{'Cycles', 'Candlestick analysis', 'Chart patterns'}",
         "0",
         "+199.34",
         "779.28",
         "579.94",
         "0",
         "+800,386.34",
         "255.69",
         "202.37",
         "1",
         "29",
         "0.0",
         "13",
         "16",
         "44.83%",
         "6.87",
         "59.94",
         "36.25",
         "1.654",
         "133.88",
         "4.22%",
         "90.60",
         "3.35%",
         "6",
         "9",
         "4",
         "−40.027",
         "−1",
         "1.344",
         "0.0",
         "{'Trading range': 'Feb 13, 2022 — Apr 27, 2025', 'Backtesting range': 'Jan 12, 2022 — Apr 27, 2025', 'Symbol': 'PYTH:XAUUSD', 'Timeframe': '1 day', 'Point value': '1', 'Chart type': 'Candles', 'Currency': 'USD', 'Tick size': '0.001', 'Precision': 'Default', 'ATR Length': 'ATR Length10', 'Supertrend Factor': 'Supertrend Factor3', 'Take Profit ATR Multiplier': 'Take Profit ATR Multiplier2', 'Stop Loss ATR Multiplier': 'Stop Loss ATR Multiplier1', 'Initial capital': '1,000,000.00USD', 'Order size': '1 contracts', 'Pyramiding': '1 orders', 'Commission': '0\\xa0%', 'Slippage': '0 ticks', 'Verify price for limit orders': '0 ticks', 'Margin for long positions': '100%', 'Margin for short positions': '100%', 'Recalculate after order is filled': 'Off', 'Recalculate on every tick': 'Off', 'Recalculate on bar close': 'Off', 'Backtesting precision. Use bar magnifier': 'Off'}"
        ]
       ],
       "shape": {
        "columns": 33,
        "rows": 959
       }
      },
      "text/html": [
       "<div>\n",
       "<style scoped>\n",
       "    .dataframe tbody tr th:only-of-type {\n",
       "        vertical-align: middle;\n",
       "    }\n",
       "\n",
       "    .dataframe tbody tr th {\n",
       "        vertical-align: top;\n",
       "    }\n",
       "\n",
       "    .dataframe thead th {\n",
       "        text-align: right;\n",
       "    }\n",
       "</style>\n",
       "<table border=\"1\" class=\"dataframe\">\n",
       "  <thead>\n",
       "    <tr style=\"text-align: right;\">\n",
       "      <th></th>\n",
       "      <th>title</th>\n",
       "      <th>strategy_description</th>\n",
       "      <th>tags</th>\n",
       "      <th>Open P&amp;L</th>\n",
       "      <th>Net profit</th>\n",
       "      <th>Gross profit</th>\n",
       "      <th>Gross loss</th>\n",
       "      <th>Commission paid</th>\n",
       "      <th>Buy &amp; hold return</th>\n",
       "      <th>Max equity run-up</th>\n",
       "      <th>...</th>\n",
       "      <th>Largest losing trade</th>\n",
       "      <th>Largest losing trade percent</th>\n",
       "      <th>Avg # bars in trades</th>\n",
       "      <th>Avg # bars in winning trades</th>\n",
       "      <th>Avg # bars in losing trades</th>\n",
       "      <th>Sharpe ratio</th>\n",
       "      <th>Sortino ratio</th>\n",
       "      <th>Profit factor</th>\n",
       "      <th>Margin calls</th>\n",
       "      <th>properties</th>\n",
       "    </tr>\n",
       "  </thead>\n",
       "  <tbody>\n",
       "    <tr>\n",
       "      <th>0</th>\n",
       "      <td>Daily Breakout + Daily Shadow By Rouro</td>\n",
       "      <td>This script is a Pine v5 strategy designed to ...</td>\n",
       "      <td>{'statistics', 'Candlestick analysis', 'Chart ...</td>\n",
       "      <td>0</td>\n",
       "      <td>+8,375.00</td>\n",
       "      <td>9,973.00</td>\n",
       "      <td>1,598.00</td>\n",
       "      <td>0</td>\n",
       "      <td>+117,304.17</td>\n",
       "      <td>8,375.00</td>\n",
       "      <td>...</td>\n",
       "      <td>1,598.00</td>\n",
       "      <td>0.51%</td>\n",
       "      <td>50</td>\n",
       "      <td>63</td>\n",
       "      <td>1</td>\n",
       "      <td>0.203</td>\n",
       "      <td>0.453</td>\n",
       "      <td>6.241</td>\n",
       "      <td>0.0</td>\n",
       "      <td>{'Trading range': 'Mar 10, 2025, 23:05 — May 0...</td>\n",
       "    </tr>\n",
       "    <tr>\n",
       "      <th>1</th>\n",
       "      <td>Order Block Strategy</td>\n",
       "      <td>Strategy OverviewKey FeaturesOrder Block Detec...</td>\n",
       "      <td>{'Pivot points and levels', 'Pine utilities', ...</td>\n",
       "      <td>−1,453.09</td>\n",
       "      <td>+9,783.49</td>\n",
       "      <td>9,783.49</td>\n",
       "      <td>0.00001</td>\n",
       "      <td>0</td>\n",
       "      <td>−72.38</td>\n",
       "      <td>10,667.89</td>\n",
       "      <td>...</td>\n",
       "      <td>0.000004</td>\n",
       "      <td>3.49%</td>\n",
       "      <td>1,152</td>\n",
       "      <td>1,348</td>\n",
       "      <td>71</td>\n",
       "      <td>0.616</td>\n",
       "      <td>9.392</td>\n",
       "      <td>1,426,164,099.778</td>\n",
       "      <td>0.0</td>\n",
       "      <td>{'Trading range': 'Oct 01, 2024, 15:30 — May 0...</td>\n",
       "    </tr>\n",
       "    <tr>\n",
       "      <th>2</th>\n",
       "      <td>EXODUS</td>\n",
       "      <td>EXODUS by (D...</td>\n",
       "      <td>{'Volume', 'Volatility', 'Oscillators'}</td>\n",
       "      <td>0</td>\n",
       "      <td>+14,293.23</td>\n",
       "      <td>68,836.40</td>\n",
       "      <td>54,543.18</td>\n",
       "      <td>1,672.77</td>\n",
       "      <td>+5,593,815.28</td>\n",
       "      <td>20,726.51</td>\n",
       "      <td>...</td>\n",
       "      <td>1,767.68</td>\n",
       "      <td>4.71%</td>\n",
       "      <td>4</td>\n",
       "      <td>5</td>\n",
       "      <td>3</td>\n",
       "      <td>−1.136</td>\n",
       "      <td>−0.782</td>\n",
       "      <td>1.262</td>\n",
       "      <td>0.0</td>\n",
       "      <td>{'Trading range': 'Jan 30, 2020, 11:00 — May 0...</td>\n",
       "    </tr>\n",
       "    <tr>\n",
       "      <th>3</th>\n",
       "      <td>External Signals Strategy Tester v5</td>\n",
       "      <td>External Signals Strategy Tester v5 – User Gui...</td>\n",
       "      <td>{'educational', 'Bollinger Bands (BB)', 'Bands...</td>\n",
       "      <td>0</td>\n",
       "      <td>0</td>\n",
       "      <td>0</td>\n",
       "      <td>0</td>\n",
       "      <td>0</td>\n",
       "      <td>0</td>\n",
       "      <td>0</td>\n",
       "      <td>...</td>\n",
       "      <td>NaN</td>\n",
       "      <td>NaN</td>\n",
       "      <td>NaN</td>\n",
       "      <td>NaN</td>\n",
       "      <td>NaN</td>\n",
       "      <td>NaN</td>\n",
       "      <td>NaN</td>\n",
       "      <td>NaN</td>\n",
       "      <td>NaN</td>\n",
       "      <td>{'Trading range': ' — ', 'Backtesting range': ...</td>\n",
       "    </tr>\n",
       "    <tr>\n",
       "      <th>4</th>\n",
       "      <td>Guaranteed Entry Strategy (Every 5 Bars)</td>\n",
       "      <td>//version=5strategy(\"Guaranteed Entry Strategy...</td>\n",
       "      <td>{'regressions'}</td>\n",
       "      <td>NaN</td>\n",
       "      <td>NaN</td>\n",
       "      <td>NaN</td>\n",
       "      <td>NaN</td>\n",
       "      <td>NaN</td>\n",
       "      <td>NaN</td>\n",
       "      <td>NaN</td>\n",
       "      <td>...</td>\n",
       "      <td>NaN</td>\n",
       "      <td>NaN</td>\n",
       "      <td>NaN</td>\n",
       "      <td>NaN</td>\n",
       "      <td>NaN</td>\n",
       "      <td>NaN</td>\n",
       "      <td>NaN</td>\n",
       "      <td>NaN</td>\n",
       "      <td>NaN</td>\n",
       "      <td>{}</td>\n",
       "    </tr>\n",
       "    <tr>\n",
       "      <th>...</th>\n",
       "      <td>...</td>\n",
       "      <td>...</td>\n",
       "      <td>...</td>\n",
       "      <td>...</td>\n",
       "      <td>...</td>\n",
       "      <td>...</td>\n",
       "      <td>...</td>\n",
       "      <td>...</td>\n",
       "      <td>...</td>\n",
       "      <td>...</td>\n",
       "      <td>...</td>\n",
       "      <td>...</td>\n",
       "      <td>...</td>\n",
       "      <td>...</td>\n",
       "      <td>...</td>\n",
       "      <td>...</td>\n",
       "      <td>...</td>\n",
       "      <td>...</td>\n",
       "      <td>...</td>\n",
       "      <td>...</td>\n",
       "      <td>...</td>\n",
       "    </tr>\n",
       "    <tr>\n",
       "      <th>954</th>\n",
       "      <td>rt maax EMA cross strategy</td>\n",
       "      <td>this just sample of our strategies we publishe...</td>\n",
       "      <td>{'BTC', 'sma', 'trend', 'Trend Analysis', 'For...</td>\n",
       "      <td>+39,115.55</td>\n",
       "      <td>+1,066,063.89</td>\n",
       "      <td>1,108,975.30</td>\n",
       "      <td>42,911.41</td>\n",
       "      <td>12,611.77</td>\n",
       "      <td>+9,960,471.92</td>\n",
       "      <td>1,106,625.50</td>\n",
       "      <td>...</td>\n",
       "      <td>11,085.32</td>\n",
       "      <td>10.95%</td>\n",
       "      <td>766</td>\n",
       "      <td>952</td>\n",
       "      <td>282</td>\n",
       "      <td>0.024</td>\n",
       "      <td>2.104</td>\n",
       "      <td>25.843</td>\n",
       "      <td>0.0</td>\n",
       "      <td>{'Trading range': 'Feb 01, 1933 — Oct 01, 2024...</td>\n",
       "    </tr>\n",
       "    <tr>\n",
       "      <th>955</th>\n",
       "      <td>SPX Fair Value Strategy Ultimate</td>\n",
       "      <td>This is a strategy using the SPX Fair Value de...</td>\n",
       "      <td>{'Oscillators'}</td>\n",
       "      <td>0</td>\n",
       "      <td>+469,888.27</td>\n",
       "      <td>469,888.27</td>\n",
       "      <td>0</td>\n",
       "      <td>0</td>\n",
       "      <td>−167,001.45</td>\n",
       "      <td>469,888.27</td>\n",
       "      <td>...</td>\n",
       "      <td>NaN</td>\n",
       "      <td>NaN</td>\n",
       "      <td>NaN</td>\n",
       "      <td>NaN</td>\n",
       "      <td>NaN</td>\n",
       "      <td>0.607</td>\n",
       "      <td>28.369</td>\n",
       "      <td>NaN</td>\n",
       "      <td>NaN</td>\n",
       "      <td>{'Trading range': 'Jan 03, 2022 — Nov 22, 2022...</td>\n",
       "    </tr>\n",
       "    <tr>\n",
       "      <th>956</th>\n",
       "      <td>Multi Trend Cross Strategy Template</td>\n",
       "      <td>Today I am sharing with the community trend cr...</td>\n",
       "      <td>{'regressions', 'strategy', 'Trend Analysis', ...</td>\n",
       "      <td>0</td>\n",
       "      <td>+28,127,665.94</td>\n",
       "      <td>31,327,842.85</td>\n",
       "      <td>3,200,176.91</td>\n",
       "      <td>125,781.93</td>\n",
       "      <td>+13,648,918.30</td>\n",
       "      <td>28,133,021.71</td>\n",
       "      <td>...</td>\n",
       "      <td>1,242,107.46</td>\n",
       "      <td>15.16%</td>\n",
       "      <td>151</td>\n",
       "      <td>262</td>\n",
       "      <td>40</td>\n",
       "      <td>0.137</td>\n",
       "      <td>1.885</td>\n",
       "      <td>9.789</td>\n",
       "      <td>0.0</td>\n",
       "      <td>{'Trading range': 'Nov 03, 2010 — Oct 26, 2022...</td>\n",
       "    </tr>\n",
       "    <tr>\n",
       "      <th>957</th>\n",
       "      <td>BOLLY Bands</td>\n",
       "      <td>This is a strategy using Bollinger Bands. The ...</td>\n",
       "      <td>{'bollingerbandstrategy', 'Bollinger Bands (BB...</td>\n",
       "      <td>0</td>\n",
       "      <td>+7,998.34</td>\n",
       "      <td>11,559.50</td>\n",
       "      <td>3,561.16</td>\n",
       "      <td>1,448.00</td>\n",
       "      <td>+3,159.02</td>\n",
       "      <td>8,014.34</td>\n",
       "      <td>...</td>\n",
       "      <td>224.51</td>\n",
       "      <td>0.22%</td>\n",
       "      <td>57</td>\n",
       "      <td>51</td>\n",
       "      <td>72</td>\n",
       "      <td>1.367</td>\n",
       "      <td>443.519</td>\n",
       "      <td>3.246</td>\n",
       "      <td>0.0</td>\n",
       "      <td>{'Trading range': 'Oct 17, 2022, 00:35 — Oct 2...</td>\n",
       "    </tr>\n",
       "    <tr>\n",
       "      <th>958</th>\n",
       "      <td>Trading range display with Box</td>\n",
       "      <td>This script is just for reference to see the t...</td>\n",
       "      <td>{'period', 'candle', 'educational', 'trading',...</td>\n",
       "      <td>−0.03</td>\n",
       "      <td>−132.76</td>\n",
       "      <td>298.05</td>\n",
       "      <td>430.81</td>\n",
       "      <td>54.97</td>\n",
       "      <td>−537.35</td>\n",
       "      <td>24.26</td>\n",
       "      <td>...</td>\n",
       "      <td>8.07</td>\n",
       "      <td>8.52%</td>\n",
       "      <td>16</td>\n",
       "      <td>23</td>\n",
       "      <td>12</td>\n",
       "      <td>−1.34</td>\n",
       "      <td>−0.813</td>\n",
       "      <td>0.692</td>\n",
       "      <td>0.0</td>\n",
       "      <td>{'Trading range': 'Mar 01, 2022, 15:45 — Oct 2...</td>\n",
       "    </tr>\n",
       "  </tbody>\n",
       "</table>\n",
       "<p>959 rows × 33 columns</p>\n",
       "</div>"
      ],
      "text/plain": [
       "                                        title  \\\n",
       "0      Daily Breakout + Daily Shadow By Rouro   \n",
       "1                        Order Block Strategy   \n",
       "2                                      EXODUS   \n",
       "3         External Signals Strategy Tester v5   \n",
       "4    Guaranteed Entry Strategy (Every 5 Bars)   \n",
       "..                                        ...   \n",
       "954                rt maax EMA cross strategy   \n",
       "955          SPX Fair Value Strategy Ultimate   \n",
       "956       Multi Trend Cross Strategy Template   \n",
       "957                               BOLLY Bands   \n",
       "958            Trading range display with Box   \n",
       "\n",
       "                                  strategy_description  \\\n",
       "0    This script is a Pine v5 strategy designed to ...   \n",
       "1    Strategy OverviewKey FeaturesOrder Block Detec...   \n",
       "2                                      EXODUS by (D...   \n",
       "3    External Signals Strategy Tester v5 – User Gui...   \n",
       "4    //version=5strategy(\"Guaranteed Entry Strategy...   \n",
       "..                                                 ...   \n",
       "954  this just sample of our strategies we publishe...   \n",
       "955  This is a strategy using the SPX Fair Value de...   \n",
       "956  Today I am sharing with the community trend cr...   \n",
       "957  This is a strategy using Bollinger Bands. The ...   \n",
       "958  This script is just for reference to see the t...   \n",
       "\n",
       "                                                  tags    Open P&L  \\\n",
       "0    {'statistics', 'Candlestick analysis', 'Chart ...           0   \n",
       "1    {'Pivot points and levels', 'Pine utilities', ...   −1,453.09   \n",
       "2              {'Volume', 'Volatility', 'Oscillators'}           0   \n",
       "3    {'educational', 'Bollinger Bands (BB)', 'Bands...           0   \n",
       "4                                      {'regressions'}         NaN   \n",
       "..                                                 ...         ...   \n",
       "954  {'BTC', 'sma', 'trend', 'Trend Analysis', 'For...  +39,115.55   \n",
       "955                                    {'Oscillators'}           0   \n",
       "956  {'regressions', 'strategy', 'Trend Analysis', ...           0   \n",
       "957  {'bollingerbandstrategy', 'Bollinger Bands (BB...           0   \n",
       "958  {'period', 'candle', 'educational', 'trading',...       −0.03   \n",
       "\n",
       "         Net profit   Gross profit    Gross loss Commission paid  \\\n",
       "0         +8,375.00       9,973.00      1,598.00               0   \n",
       "1         +9,783.49       9,783.49       0.00001               0   \n",
       "2        +14,293.23      68,836.40     54,543.18        1,672.77   \n",
       "3                 0              0             0               0   \n",
       "4               NaN            NaN           NaN             NaN   \n",
       "..              ...            ...           ...             ...   \n",
       "954   +1,066,063.89   1,108,975.30     42,911.41       12,611.77   \n",
       "955     +469,888.27     469,888.27             0               0   \n",
       "956  +28,127,665.94  31,327,842.85  3,200,176.91      125,781.93   \n",
       "957       +7,998.34      11,559.50      3,561.16        1,448.00   \n",
       "958         −132.76         298.05        430.81           54.97   \n",
       "\n",
       "    Buy & hold return Max equity run-up  ... Largest losing trade  \\\n",
       "0         +117,304.17          8,375.00  ...             1,598.00   \n",
       "1              −72.38         10,667.89  ...             0.000004   \n",
       "2       +5,593,815.28         20,726.51  ...             1,767.68   \n",
       "3                   0                 0  ...                  NaN   \n",
       "4                 NaN               NaN  ...                  NaN   \n",
       "..                ...               ...  ...                  ...   \n",
       "954     +9,960,471.92      1,106,625.50  ...            11,085.32   \n",
       "955       −167,001.45        469,888.27  ...                  NaN   \n",
       "956    +13,648,918.30     28,133,021.71  ...         1,242,107.46   \n",
       "957         +3,159.02          8,014.34  ...               224.51   \n",
       "958           −537.35             24.26  ...                 8.07   \n",
       "\n",
       "    Largest losing trade percent Avg # bars in trades  \\\n",
       "0                          0.51%                   50   \n",
       "1                          3.49%                1,152   \n",
       "2                          4.71%                    4   \n",
       "3                            NaN                  NaN   \n",
       "4                            NaN                  NaN   \n",
       "..                           ...                  ...   \n",
       "954                       10.95%                  766   \n",
       "955                          NaN                  NaN   \n",
       "956                       15.16%                  151   \n",
       "957                        0.22%                   57   \n",
       "958                        8.52%                   16   \n",
       "\n",
       "     Avg # bars in winning trades Avg # bars in losing trades Sharpe ratio  \\\n",
       "0                              63                           1        0.203   \n",
       "1                           1,348                          71        0.616   \n",
       "2                               5                           3       −1.136   \n",
       "3                             NaN                         NaN          NaN   \n",
       "4                             NaN                         NaN          NaN   \n",
       "..                            ...                         ...          ...   \n",
       "954                           952                         282        0.024   \n",
       "955                           NaN                         NaN        0.607   \n",
       "956                           262                          40        0.137   \n",
       "957                            51                          72        1.367   \n",
       "958                            23                          12        −1.34   \n",
       "\n",
       "    Sortino ratio      Profit factor Margin calls  \\\n",
       "0           0.453              6.241          0.0   \n",
       "1           9.392  1,426,164,099.778          0.0   \n",
       "2          −0.782              1.262          0.0   \n",
       "3             NaN                NaN          NaN   \n",
       "4             NaN                NaN          NaN   \n",
       "..            ...                ...          ...   \n",
       "954         2.104             25.843          0.0   \n",
       "955        28.369                NaN          NaN   \n",
       "956         1.885              9.789          0.0   \n",
       "957       443.519              3.246          0.0   \n",
       "958        −0.813              0.692          0.0   \n",
       "\n",
       "                                            properties  \n",
       "0    {'Trading range': 'Mar 10, 2025, 23:05 — May 0...  \n",
       "1    {'Trading range': 'Oct 01, 2024, 15:30 — May 0...  \n",
       "2    {'Trading range': 'Jan 30, 2020, 11:00 — May 0...  \n",
       "3    {'Trading range': ' — ', 'Backtesting range': ...  \n",
       "4                                                   {}  \n",
       "..                                                 ...  \n",
       "954  {'Trading range': 'Feb 01, 1933 — Oct 01, 2024...  \n",
       "955  {'Trading range': 'Jan 03, 2022 — Nov 22, 2022...  \n",
       "956  {'Trading range': 'Nov 03, 2010 — Oct 26, 2022...  \n",
       "957  {'Trading range': 'Oct 17, 2022, 00:35 — Oct 2...  \n",
       "958  {'Trading range': 'Mar 01, 2022, 15:45 — Oct 2...  \n",
       "\n",
       "[959 rows x 33 columns]"
      ]
     },
     "execution_count": 82,
     "metadata": {},
     "output_type": "execute_result"
    }
   ],
   "source": [
    "df"
   ]
  },
  {
   "cell_type": "markdown",
   "id": "6ccb070c",
   "metadata": {},
   "source": [
    "<div class=\"alert alert-info\">\n",
    "    \n",
    "Разберемся, что с пропусками"
   ]
  },
  {
   "cell_type": "markdown",
   "id": "3814e902",
   "metadata": {},
   "source": [
    "<div class=\"alert alert-danger\">\n",
    "    \n",
    "Пропуска есть, но обусловимся тем, что у каждой стратегии может быть индивидуальные показатели, и внесение средних, медианных, категориальных данных может ухудшить результаты на обучении. Поэтому мы просто почистим строки где есть пропуска. В случае, если не итоги будут не корректными вернемся на этап пропусков и попробуем их заполнить."
   ]
  },
  {
   "cell_type": "code",
   "execution_count": 83,
   "id": "a022434f",
   "metadata": {},
   "outputs": [],
   "source": [
    "# Почистим от пропусков\n",
    "df.dropna(inplace=True)"
   ]
  },
  {
   "cell_type": "markdown",
   "id": "2fc02d9e",
   "metadata": {},
   "source": [
    "--------------------------------"
   ]
  },
  {
   "cell_type": "code",
   "execution_count": 84,
   "id": "6ad9f2d6",
   "metadata": {},
   "outputs": [],
   "source": [
    "# Сохраним почищенный датафрейм, потому что наверняка его разрушим\n",
    "data = df.copy() "
   ]
  },
  {
   "cell_type": "markdown",
   "id": "f5a096dc",
   "metadata": {},
   "source": [
    "<p style = \"background-color : #95f59ff2; border-radius: 5px 5px; padding : 10px\"><strong>\n",
    "<span style=\"color:#000\">Приведем текстовые колонки в нормальный вид:</span>"
   ]
  },
  {
   "cell_type": "code",
   "execution_count": 85,
   "id": "992de39e",
   "metadata": {},
   "outputs": [],
   "source": [
    "# Применим функцию\n",
    "# Применяем функцию к каждой колонке отдельно\n",
    "df['title'] = df['title'].apply(clean_text)\n",
    "df['strategy_description'] = df['strategy_description'].apply(clean_text)\n",
    "df['tags'] = df['tags'].apply(clean_text)  # Если 'tags' - это строка, иначе нужно будет обработать по-другому\n"
   ]
  },
  {
   "cell_type": "markdown",
   "id": "acddd9a8",
   "metadata": {},
   "source": [
    "<div class='alert alert-info'>\n",
    "Разберемся с тем, как нам разделять стратегии"
   ]
  },
  {
   "cell_type": "markdown",
   "id": "2bddfbd2",
   "metadata": {},
   "source": [
    "##### **По временным интервалам** \n",
    "\n",
    "- <span style=\"color:#00FA9A\">**Краткосрочные (скальпинг, внутридневная торговля)**</span>\n",
    "- <span style=\"color:#00FA9A\">**Среднесрочные (свинг-трейдинг)**</span>\n",
    "- <span style=\"color:#00FA9A\">**Долгосрочные (позиционная торговля)**</span>\n",
    "\n",
    "##### **По методам анализа**\n",
    "- <span style=\"color:#00FA9A\">**Стратегии на основе технического анализа (индикаторы, паттерны)**</span>\n",
    "- <span style=\"color:#00FA9A\">**Стратегии на основе объема**</span>\n",
    "- <span style=\"color:#00FA9A\">**Стратегии на основе ценового действия (Price Action)**</span>\n",
    "- <span style=\"color:#00FA9A\">**Комбинированные стратегии**</span>\n",
    "\n",
    "##### **По применяемым индикаторам**\n",
    "- <span style=\"color:#00FA9A\">**Трендовые (MA, MACD, ADX)**</span>\n",
    "- <span style=\"color:#00FA9A\">**Осцилляторы (RSI, Stochastic)**</span>\n",
    "- <span style=\"color:#00FA9A\">**Волатильность (Bollinger Bands, ATR)**</span>\n",
    "- <span style=\"color:#00FA9A\">**Объемные (OBV, Money Flow Index)**</span>\n",
    "\n",
    "##### **По механизму входа/выхода**\n",
    "- <span style=\"color:#00FA9A\">**Пробойные стратегии**</span>\n",
    "- <span style=\"color:#00FA9A\">**Стратегии возврата к среднему**</span>\n",
    "- <span style=\"color:#00FA9A\">**Стратегии следования за трендом**</span>\n",
    "- <span style=\"color:#00FA9A\">**Контртрендовые стратегии**</span>\n",
    "##### **По типу рынк**\n",
    "- <span style=\"color:#00FA9A\">**Для акций**</span>\n",
    "- <span style=\"color:#00FA9A\">**Для криптовалют**</span>\n",
    "- <span style=\"color:#00FA9A\">**Для фьючерсов**</span>\n",
    "- <span style=\"color:#00FA9A\">**Для форекс**</span>"
   ]
  },
  {
   "cell_type": "markdown",
   "id": "a09b0413",
   "metadata": {},
   "source": [
    "<a id='1'></a>\n",
    "<p style = \"background-color : #79d1ff; border-radius: 5px 5px; padding : 10px\"><strong>\n",
    "\n",
    "# Описание стратегий\n",
    "\n",
    "<p style = \"background-color : #79d1ff; border-radius: 5px 5px; padding : 10px\"><strong>"
   ]
  },
  {
   "cell_type": "markdown",
   "id": "86496da0",
   "metadata": {},
   "source": [
    "<div class='alert alert-info'>\n",
    "\n",
    "Внутри каждой стратегии находятся дополнительный подтипы, разделения на внутренние подтипы не увенчались успехом и получилось много различных и сложных комбинаций разделений стратегий. В связи с этим мы оставили только основные типы, без внутренних разделений и **создали словарь для классификации стратегий со всеми возможными тегами и словам**.\n",
    "\n",
    "*Ранее этот словарь был наполнен большим количеством тегов, но после анализа и исключений неопределенных слов приобрел данный вид*"
   ]
  },
  {
   "cell_type": "code",
   "execution_count": 86,
   "id": "e7ef071e",
   "metadata": {},
   "outputs": [],
   "source": [
    "# Новый словарь тегов\n",
    "tags = {\n",
    "    \"time\": ['position', 'momentum', 'shortterm', 'trendfollowing', 'swing', 'longterm',\n",
    "             'intraday', 'mediumterm', 'scalp', 'invest', 'highfrequency', 'daytrade', \n",
    "             'multiday', 'trendfollow'],\n",
    "    'analysis_Method': ['indicator', 'atr', 'technical', 'volume', 'candlestick', 'liquidity',\n",
    "                        'fundamental', 'fibonacci', 'vwap', 'supportresistance', 'engulfing', \n",
    "                        'earnings', 'obv', 'priceaction', 'harmonic', 'sr', 'cvd', 'pe', \n",
    "                        'valuation', 'financials'],\n",
    "    'indicators': ['ema', 'atr', 'rsi', 'sma', 'ma', 'macd', 'bollinger', 'oscillator',\n",
    "                   'supertrend', 'adx', 'stochastic', 'breadth', 'fibonacci', 'cci', \n",
    "                   'keltner', 'ichimoku', 'distribution', 'roc', 'decline', 'obv', \n",
    "                   'sar', 'advance', 'accumulation', 'zlsma', 'mfi', 'dpo', \n",
    "                   'movingaverage', 'chaikin'],\n",
    "    'mechanism': ['reversal', 'oversold', 'overbought', 'breakout', 'divergence', \n",
    "                       'reversion', 'countertrend', 'movingaveragecrossover', 'channelbreak', \n",
    "                       'trendfollow'],\n",
    "    'market': ['future', 'equity', 'crypto', 'forex', 'bitcoin', 'currency', \n",
    "                    'fx', 'contango', 'backwardation', 'liquidation', 'hodl', 'altcoin']\n",
    "}"
   ]
  },
  {
   "cell_type": "code",
   "execution_count": 87,
   "id": "73f46adf",
   "metadata": {},
   "outputs": [],
   "source": [
    "# Выполним классификацию стратегий на основе тегов\n",
    "df['classification'] = df.apply(lambda x: classify_tags(x, tags), axis=1)"
   ]
  },
  {
   "cell_type": "code",
   "execution_count": 88,
   "id": "00ba89a8",
   "metadata": {},
   "outputs": [
    {
     "data": {
      "application/vnd.plotly.v1+json": {
       "config": {
        "plotlyServerURL": "https://plot.ly"
       },
       "data": [
        {
         "hoverinfo": "label+value",
         "labels": [
          "combined strategy",
          "indicators",
          "analysis_Method",
          "time",
          "No classification",
          "market",
          "mechanism"
         ],
         "marker": {
          "line": {
           "color": "#000000",
           "width": 2
          }
         },
         "pull": [
          0.1,
          0.1,
          0.1,
          0.1,
          0.1,
          0.1,
          0.1
         ],
         "textfont": {
          "size": 15
         },
         "textinfo": "percent",
         "type": "pie",
         "values": [
          735,
          31,
          19,
          18,
          17,
          7,
          2
         ]
        }
       ],
       "layout": {
        "height": 600,
        "legend": {
         "font": {
          "size": 20
         }
        },
        "template": {
         "data": {
          "bar": [
           {
            "error_x": {
             "color": "#2a3f5f"
            },
            "error_y": {
             "color": "#2a3f5f"
            },
            "marker": {
             "line": {
              "color": "#E5ECF6",
              "width": 0.5
             },
             "pattern": {
              "fillmode": "overlay",
              "size": 10,
              "solidity": 0.2
             }
            },
            "type": "bar"
           }
          ],
          "barpolar": [
           {
            "marker": {
             "line": {
              "color": "#E5ECF6",
              "width": 0.5
             },
             "pattern": {
              "fillmode": "overlay",
              "size": 10,
              "solidity": 0.2
             }
            },
            "type": "barpolar"
           }
          ],
          "carpet": [
           {
            "aaxis": {
             "endlinecolor": "#2a3f5f",
             "gridcolor": "white",
             "linecolor": "white",
             "minorgridcolor": "white",
             "startlinecolor": "#2a3f5f"
            },
            "baxis": {
             "endlinecolor": "#2a3f5f",
             "gridcolor": "white",
             "linecolor": "white",
             "minorgridcolor": "white",
             "startlinecolor": "#2a3f5f"
            },
            "type": "carpet"
           }
          ],
          "choropleth": [
           {
            "colorbar": {
             "outlinewidth": 0,
             "ticks": ""
            },
            "type": "choropleth"
           }
          ],
          "contour": [
           {
            "colorbar": {
             "outlinewidth": 0,
             "ticks": ""
            },
            "colorscale": [
             [
              0,
              "#0d0887"
             ],
             [
              0.1111111111111111,
              "#46039f"
             ],
             [
              0.2222222222222222,
              "#7201a8"
             ],
             [
              0.3333333333333333,
              "#9c179e"
             ],
             [
              0.4444444444444444,
              "#bd3786"
             ],
             [
              0.5555555555555556,
              "#d8576b"
             ],
             [
              0.6666666666666666,
              "#ed7953"
             ],
             [
              0.7777777777777778,
              "#fb9f3a"
             ],
             [
              0.8888888888888888,
              "#fdca26"
             ],
             [
              1,
              "#f0f921"
             ]
            ],
            "type": "contour"
           }
          ],
          "contourcarpet": [
           {
            "colorbar": {
             "outlinewidth": 0,
             "ticks": ""
            },
            "type": "contourcarpet"
           }
          ],
          "heatmap": [
           {
            "colorbar": {
             "outlinewidth": 0,
             "ticks": ""
            },
            "colorscale": [
             [
              0,
              "#0d0887"
             ],
             [
              0.1111111111111111,
              "#46039f"
             ],
             [
              0.2222222222222222,
              "#7201a8"
             ],
             [
              0.3333333333333333,
              "#9c179e"
             ],
             [
              0.4444444444444444,
              "#bd3786"
             ],
             [
              0.5555555555555556,
              "#d8576b"
             ],
             [
              0.6666666666666666,
              "#ed7953"
             ],
             [
              0.7777777777777778,
              "#fb9f3a"
             ],
             [
              0.8888888888888888,
              "#fdca26"
             ],
             [
              1,
              "#f0f921"
             ]
            ],
            "type": "heatmap"
           }
          ],
          "heatmapgl": [
           {
            "colorbar": {
             "outlinewidth": 0,
             "ticks": ""
            },
            "colorscale": [
             [
              0,
              "#0d0887"
             ],
             [
              0.1111111111111111,
              "#46039f"
             ],
             [
              0.2222222222222222,
              "#7201a8"
             ],
             [
              0.3333333333333333,
              "#9c179e"
             ],
             [
              0.4444444444444444,
              "#bd3786"
             ],
             [
              0.5555555555555556,
              "#d8576b"
             ],
             [
              0.6666666666666666,
              "#ed7953"
             ],
             [
              0.7777777777777778,
              "#fb9f3a"
             ],
             [
              0.8888888888888888,
              "#fdca26"
             ],
             [
              1,
              "#f0f921"
             ]
            ],
            "type": "heatmapgl"
           }
          ],
          "histogram": [
           {
            "marker": {
             "pattern": {
              "fillmode": "overlay",
              "size": 10,
              "solidity": 0.2
             }
            },
            "type": "histogram"
           }
          ],
          "histogram2d": [
           {
            "colorbar": {
             "outlinewidth": 0,
             "ticks": ""
            },
            "colorscale": [
             [
              0,
              "#0d0887"
             ],
             [
              0.1111111111111111,
              "#46039f"
             ],
             [
              0.2222222222222222,
              "#7201a8"
             ],
             [
              0.3333333333333333,
              "#9c179e"
             ],
             [
              0.4444444444444444,
              "#bd3786"
             ],
             [
              0.5555555555555556,
              "#d8576b"
             ],
             [
              0.6666666666666666,
              "#ed7953"
             ],
             [
              0.7777777777777778,
              "#fb9f3a"
             ],
             [
              0.8888888888888888,
              "#fdca26"
             ],
             [
              1,
              "#f0f921"
             ]
            ],
            "type": "histogram2d"
           }
          ],
          "histogram2dcontour": [
           {
            "colorbar": {
             "outlinewidth": 0,
             "ticks": ""
            },
            "colorscale": [
             [
              0,
              "#0d0887"
             ],
             [
              0.1111111111111111,
              "#46039f"
             ],
             [
              0.2222222222222222,
              "#7201a8"
             ],
             [
              0.3333333333333333,
              "#9c179e"
             ],
             [
              0.4444444444444444,
              "#bd3786"
             ],
             [
              0.5555555555555556,
              "#d8576b"
             ],
             [
              0.6666666666666666,
              "#ed7953"
             ],
             [
              0.7777777777777778,
              "#fb9f3a"
             ],
             [
              0.8888888888888888,
              "#fdca26"
             ],
             [
              1,
              "#f0f921"
             ]
            ],
            "type": "histogram2dcontour"
           }
          ],
          "mesh3d": [
           {
            "colorbar": {
             "outlinewidth": 0,
             "ticks": ""
            },
            "type": "mesh3d"
           }
          ],
          "parcoords": [
           {
            "line": {
             "colorbar": {
              "outlinewidth": 0,
              "ticks": ""
             }
            },
            "type": "parcoords"
           }
          ],
          "pie": [
           {
            "automargin": true,
            "type": "pie"
           }
          ],
          "scatter": [
           {
            "fillpattern": {
             "fillmode": "overlay",
             "size": 10,
             "solidity": 0.2
            },
            "type": "scatter"
           }
          ],
          "scatter3d": [
           {
            "line": {
             "colorbar": {
              "outlinewidth": 0,
              "ticks": ""
             }
            },
            "marker": {
             "colorbar": {
              "outlinewidth": 0,
              "ticks": ""
             }
            },
            "type": "scatter3d"
           }
          ],
          "scattercarpet": [
           {
            "marker": {
             "colorbar": {
              "outlinewidth": 0,
              "ticks": ""
             }
            },
            "type": "scattercarpet"
           }
          ],
          "scattergeo": [
           {
            "marker": {
             "colorbar": {
              "outlinewidth": 0,
              "ticks": ""
             }
            },
            "type": "scattergeo"
           }
          ],
          "scattergl": [
           {
            "marker": {
             "colorbar": {
              "outlinewidth": 0,
              "ticks": ""
             }
            },
            "type": "scattergl"
           }
          ],
          "scattermapbox": [
           {
            "marker": {
             "colorbar": {
              "outlinewidth": 0,
              "ticks": ""
             }
            },
            "type": "scattermapbox"
           }
          ],
          "scatterpolar": [
           {
            "marker": {
             "colorbar": {
              "outlinewidth": 0,
              "ticks": ""
             }
            },
            "type": "scatterpolar"
           }
          ],
          "scatterpolargl": [
           {
            "marker": {
             "colorbar": {
              "outlinewidth": 0,
              "ticks": ""
             }
            },
            "type": "scatterpolargl"
           }
          ],
          "scatterternary": [
           {
            "marker": {
             "colorbar": {
              "outlinewidth": 0,
              "ticks": ""
             }
            },
            "type": "scatterternary"
           }
          ],
          "surface": [
           {
            "colorbar": {
             "outlinewidth": 0,
             "ticks": ""
            },
            "colorscale": [
             [
              0,
              "#0d0887"
             ],
             [
              0.1111111111111111,
              "#46039f"
             ],
             [
              0.2222222222222222,
              "#7201a8"
             ],
             [
              0.3333333333333333,
              "#9c179e"
             ],
             [
              0.4444444444444444,
              "#bd3786"
             ],
             [
              0.5555555555555556,
              "#d8576b"
             ],
             [
              0.6666666666666666,
              "#ed7953"
             ],
             [
              0.7777777777777778,
              "#fb9f3a"
             ],
             [
              0.8888888888888888,
              "#fdca26"
             ],
             [
              1,
              "#f0f921"
             ]
            ],
            "type": "surface"
           }
          ],
          "table": [
           {
            "cells": {
             "fill": {
              "color": "#EBF0F8"
             },
             "line": {
              "color": "white"
             }
            },
            "header": {
             "fill": {
              "color": "#C8D4E3"
             },
             "line": {
              "color": "white"
             }
            },
            "type": "table"
           }
          ]
         },
         "layout": {
          "annotationdefaults": {
           "arrowcolor": "#2a3f5f",
           "arrowhead": 0,
           "arrowwidth": 1
          },
          "autotypenumbers": "strict",
          "coloraxis": {
           "colorbar": {
            "outlinewidth": 0,
            "ticks": ""
           }
          },
          "colorscale": {
           "diverging": [
            [
             0,
             "#8e0152"
            ],
            [
             0.1,
             "#c51b7d"
            ],
            [
             0.2,
             "#de77ae"
            ],
            [
             0.3,
             "#f1b6da"
            ],
            [
             0.4,
             "#fde0ef"
            ],
            [
             0.5,
             "#f7f7f7"
            ],
            [
             0.6,
             "#e6f5d0"
            ],
            [
             0.7,
             "#b8e186"
            ],
            [
             0.8,
             "#7fbc41"
            ],
            [
             0.9,
             "#4d9221"
            ],
            [
             1,
             "#276419"
            ]
           ],
           "sequential": [
            [
             0,
             "#0d0887"
            ],
            [
             0.1111111111111111,
             "#46039f"
            ],
            [
             0.2222222222222222,
             "#7201a8"
            ],
            [
             0.3333333333333333,
             "#9c179e"
            ],
            [
             0.4444444444444444,
             "#bd3786"
            ],
            [
             0.5555555555555556,
             "#d8576b"
            ],
            [
             0.6666666666666666,
             "#ed7953"
            ],
            [
             0.7777777777777778,
             "#fb9f3a"
            ],
            [
             0.8888888888888888,
             "#fdca26"
            ],
            [
             1,
             "#f0f921"
            ]
           ],
           "sequentialminus": [
            [
             0,
             "#0d0887"
            ],
            [
             0.1111111111111111,
             "#46039f"
            ],
            [
             0.2222222222222222,
             "#7201a8"
            ],
            [
             0.3333333333333333,
             "#9c179e"
            ],
            [
             0.4444444444444444,
             "#bd3786"
            ],
            [
             0.5555555555555556,
             "#d8576b"
            ],
            [
             0.6666666666666666,
             "#ed7953"
            ],
            [
             0.7777777777777778,
             "#fb9f3a"
            ],
            [
             0.8888888888888888,
             "#fdca26"
            ],
            [
             1,
             "#f0f921"
            ]
           ]
          },
          "colorway": [
           "#636efa",
           "#EF553B",
           "#00cc96",
           "#ab63fa",
           "#FFA15A",
           "#19d3f3",
           "#FF6692",
           "#B6E880",
           "#FF97FF",
           "#FECB52"
          ],
          "font": {
           "color": "#2a3f5f"
          },
          "geo": {
           "bgcolor": "white",
           "lakecolor": "white",
           "landcolor": "#E5ECF6",
           "showlakes": true,
           "showland": true,
           "subunitcolor": "white"
          },
          "hoverlabel": {
           "align": "left"
          },
          "hovermode": "closest",
          "mapbox": {
           "style": "light"
          },
          "paper_bgcolor": "white",
          "plot_bgcolor": "#E5ECF6",
          "polar": {
           "angularaxis": {
            "gridcolor": "white",
            "linecolor": "white",
            "ticks": ""
           },
           "bgcolor": "#E5ECF6",
           "radialaxis": {
            "gridcolor": "white",
            "linecolor": "white",
            "ticks": ""
           }
          },
          "scene": {
           "xaxis": {
            "backgroundcolor": "#E5ECF6",
            "gridcolor": "white",
            "gridwidth": 2,
            "linecolor": "white",
            "showbackground": true,
            "ticks": "",
            "zerolinecolor": "white"
           },
           "yaxis": {
            "backgroundcolor": "#E5ECF6",
            "gridcolor": "white",
            "gridwidth": 2,
            "linecolor": "white",
            "showbackground": true,
            "ticks": "",
            "zerolinecolor": "white"
           },
           "zaxis": {
            "backgroundcolor": "#E5ECF6",
            "gridcolor": "white",
            "gridwidth": 2,
            "linecolor": "white",
            "showbackground": true,
            "ticks": "",
            "zerolinecolor": "white"
           }
          },
          "shapedefaults": {
           "line": {
            "color": "#2a3f5f"
           }
          },
          "ternary": {
           "aaxis": {
            "gridcolor": "white",
            "linecolor": "white",
            "ticks": ""
           },
           "baxis": {
            "gridcolor": "white",
            "linecolor": "white",
            "ticks": ""
           },
           "bgcolor": "#E5ECF6",
           "caxis": {
            "gridcolor": "white",
            "linecolor": "white",
            "ticks": ""
           }
          },
          "title": {
           "x": 0.05
          },
          "xaxis": {
           "automargin": true,
           "gridcolor": "white",
           "linecolor": "white",
           "ticks": "",
           "title": {
            "standoff": 15
           },
           "zerolinecolor": "white",
           "zerolinewidth": 2
          },
          "yaxis": {
           "automargin": true,
           "gridcolor": "white",
           "linecolor": "white",
           "ticks": "",
           "title": {
            "standoff": 15
           },
           "zerolinecolor": "white",
           "zerolinewidth": 2
          }
         }
        },
        "title": {
         "font": {
          "size": 20
         },
         "text": "Соотношение типов стратегий"
        },
        "width": 800
       }
      }
     },
     "metadata": {},
     "output_type": "display_data"
    }
   ],
   "source": [
    "# Узнаем сколько в каждом классе находится стартегий\n",
    "cl_df = df['classification'].value_counts()\n",
    "# Строим график\n",
    "pie_graph(cl_df, 'Соотношение типов стратегий')"
   ]
  },
  {
   "cell_type": "markdown",
   "id": "fcc6fe7f",
   "metadata": {},
   "source": [
    "<div class=\"alert alert-success\">\n",
    "    \n",
    "**Как мы видим из графика чаще всего типы стартегий комбинируются, и сложно выделить стратегию в определенный класс.**\n",
    "\n",
    "*Данное утверждение опирается исключительно из информации по описанию стратегии.Ну и в целом, логично комбинировать разные типы, чтобы достичь лучшего результата.*"
   ]
  },
  {
   "cell_type": "markdown",
   "id": "414717ab",
   "metadata": {},
   "source": [
    "<div class='alert alert-info'>\n",
    "Теперь разберем вхождение терминов по отдельным направлениям стратегий:"
   ]
  },
  {
   "cell_type": "code",
   "execution_count": 89,
   "id": "9b01ffad",
   "metadata": {},
   "outputs": [],
   "source": [
    "# Вызовем раннюю написанную функцию, для разделения\n",
    "tag_counts_results = process_tags(df, tags)\n",
    "\n",
    "# Создадим новые датафреймы для удобства по каждому классу\n",
    "df_time = tag_counts_results['time']\n",
    "df_method = tag_counts_results['analysis_Method']\n",
    "df_indicator = tag_counts_results['indicators']\n",
    "df_mechanism = tag_counts_results['mechanism']\n",
    "df_market = tag_counts_results['market']"
   ]
  },
  {
   "cell_type": "code",
   "execution_count": 90,
   "id": "7dc7a377",
   "metadata": {},
   "outputs": [
    {
     "data": {
      "application/vnd.plotly.v1+json": {
       "config": {
        "plotlyServerURL": "https://plot.ly"
       },
       "data": [
        {
         "alignmentgroup": "True",
         "hovertemplate": "tag=%{x}<br>count=%{y}<extra></extra>",
         "legendgroup": "position",
         "marker": {
          "color": "#636efa",
          "pattern": {
           "shape": ""
          }
         },
         "name": "position",
         "offsetgroup": "position",
         "orientation": "v",
         "showlegend": true,
         "textposition": "auto",
         "type": "bar",
         "x": [
          "position"
         ],
         "xaxis": "x",
         "y": [
          515
         ],
         "yaxis": "y"
        },
        {
         "alignmentgroup": "True",
         "hovertemplate": "tag=%{x}<br>count=%{y}<extra></extra>",
         "legendgroup": "momentum",
         "marker": {
          "color": "#EF553B",
          "pattern": {
           "shape": ""
          }
         },
         "name": "momentum",
         "offsetgroup": "momentum",
         "orientation": "v",
         "showlegend": true,
         "textposition": "auto",
         "type": "bar",
         "x": [
          "momentum"
         ],
         "xaxis": "x",
         "y": [
          285
         ],
         "yaxis": "y"
        },
        {
         "alignmentgroup": "True",
         "hovertemplate": "tag=%{x}<br>count=%{y}<extra></extra>",
         "legendgroup": "shortterm",
         "marker": {
          "color": "#00cc96",
          "pattern": {
           "shape": ""
          }
         },
         "name": "shortterm",
         "offsetgroup": "shortterm",
         "orientation": "v",
         "showlegend": true,
         "textposition": "auto",
         "type": "bar",
         "x": [
          "shortterm"
         ],
         "xaxis": "x",
         "y": [
          148
         ],
         "yaxis": "y"
        },
        {
         "alignmentgroup": "True",
         "hovertemplate": "tag=%{x}<br>count=%{y}<extra></extra>",
         "legendgroup": "trendfollow",
         "marker": {
          "color": "#ab63fa",
          "pattern": {
           "shape": ""
          }
         },
         "name": "trendfollow",
         "offsetgroup": "trendfollow",
         "orientation": "v",
         "showlegend": true,
         "textposition": "auto",
         "type": "bar",
         "x": [
          "trendfollow"
         ],
         "xaxis": "x",
         "y": [
          138
         ],
         "yaxis": "y"
        },
        {
         "alignmentgroup": "True",
         "hovertemplate": "tag=%{x}<br>count=%{y}<extra></extra>",
         "legendgroup": "trendfollowing",
         "marker": {
          "color": "#FFA15A",
          "pattern": {
           "shape": ""
          }
         },
         "name": "trendfollowing",
         "offsetgroup": "trendfollowing",
         "orientation": "v",
         "showlegend": true,
         "textposition": "auto",
         "type": "bar",
         "x": [
          "trendfollowing"
         ],
         "xaxis": "x",
         "y": [
          134
         ],
         "yaxis": "y"
        },
        {
         "alignmentgroup": "True",
         "hovertemplate": "tag=%{x}<br>count=%{y}<extra></extra>",
         "legendgroup": "swing",
         "marker": {
          "color": "#19d3f3",
          "pattern": {
           "shape": ""
          }
         },
         "name": "swing",
         "offsetgroup": "swing",
         "orientation": "v",
         "showlegend": true,
         "textposition": "auto",
         "type": "bar",
         "x": [
          "swing"
         ],
         "xaxis": "x",
         "y": [
          128
         ],
         "yaxis": "y"
        },
        {
         "alignmentgroup": "True",
         "hovertemplate": "tag=%{x}<br>count=%{y}<extra></extra>",
         "legendgroup": "longterm",
         "marker": {
          "color": "#FF6692",
          "pattern": {
           "shape": ""
          }
         },
         "name": "longterm",
         "offsetgroup": "longterm",
         "orientation": "v",
         "showlegend": true,
         "textposition": "auto",
         "type": "bar",
         "x": [
          "longterm"
         ],
         "xaxis": "x",
         "y": [
          95
         ],
         "yaxis": "y"
        },
        {
         "alignmentgroup": "True",
         "hovertemplate": "tag=%{x}<br>count=%{y}<extra></extra>",
         "legendgroup": "invest",
         "marker": {
          "color": "#B6E880",
          "pattern": {
           "shape": ""
          }
         },
         "name": "invest",
         "offsetgroup": "invest",
         "orientation": "v",
         "showlegend": true,
         "textposition": "auto",
         "type": "bar",
         "x": [
          "invest"
         ],
         "xaxis": "x",
         "y": [
          93
         ],
         "yaxis": "y"
        },
        {
         "alignmentgroup": "True",
         "hovertemplate": "tag=%{x}<br>count=%{y}<extra></extra>",
         "legendgroup": "scalp",
         "marker": {
          "color": "#FF97FF",
          "pattern": {
           "shape": ""
          }
         },
         "name": "scalp",
         "offsetgroup": "scalp",
         "orientation": "v",
         "showlegend": true,
         "textposition": "auto",
         "type": "bar",
         "x": [
          "scalp"
         ],
         "xaxis": "x",
         "y": [
          58
         ],
         "yaxis": "y"
        },
        {
         "alignmentgroup": "True",
         "hovertemplate": "tag=%{x}<br>count=%{y}<extra></extra>",
         "legendgroup": "intraday",
         "marker": {
          "color": "#FECB52",
          "pattern": {
           "shape": ""
          }
         },
         "name": "intraday",
         "offsetgroup": "intraday",
         "orientation": "v",
         "showlegend": true,
         "textposition": "auto",
         "type": "bar",
         "x": [
          "intraday"
         ],
         "xaxis": "x",
         "y": [
          57
         ],
         "yaxis": "y"
        },
        {
         "alignmentgroup": "True",
         "hovertemplate": "tag=%{x}<br>count=%{y}<extra></extra>",
         "legendgroup": "mediumterm",
         "marker": {
          "color": "#636efa",
          "pattern": {
           "shape": ""
          }
         },
         "name": "mediumterm",
         "offsetgroup": "mediumterm",
         "orientation": "v",
         "showlegend": true,
         "textposition": "auto",
         "type": "bar",
         "x": [
          "mediumterm"
         ],
         "xaxis": "x",
         "y": [
          15
         ],
         "yaxis": "y"
        },
        {
         "alignmentgroup": "True",
         "hovertemplate": "tag=%{x}<br>count=%{y}<extra></extra>",
         "legendgroup": "highfrequency",
         "marker": {
          "color": "#EF553B",
          "pattern": {
           "shape": ""
          }
         },
         "name": "highfrequency",
         "offsetgroup": "highfrequency",
         "orientation": "v",
         "showlegend": true,
         "textposition": "auto",
         "type": "bar",
         "x": [
          "highfrequency"
         ],
         "xaxis": "x",
         "y": [
          7
         ],
         "yaxis": "y"
        },
        {
         "alignmentgroup": "True",
         "hovertemplate": "tag=%{x}<br>count=%{y}<extra></extra>",
         "legendgroup": "daytrade",
         "marker": {
          "color": "#00cc96",
          "pattern": {
           "shape": ""
          }
         },
         "name": "daytrade",
         "offsetgroup": "daytrade",
         "orientation": "v",
         "showlegend": true,
         "textposition": "auto",
         "type": "bar",
         "x": [
          "daytrade"
         ],
         "xaxis": "x",
         "y": [
          5
         ],
         "yaxis": "y"
        },
        {
         "alignmentgroup": "True",
         "hovertemplate": "tag=%{x}<br>count=%{y}<extra></extra>",
         "legendgroup": "multiday",
         "marker": {
          "color": "#ab63fa",
          "pattern": {
           "shape": ""
          }
         },
         "name": "multiday",
         "offsetgroup": "multiday",
         "orientation": "v",
         "showlegend": true,
         "textposition": "auto",
         "type": "bar",
         "x": [
          "multiday"
         ],
         "xaxis": "x",
         "y": [
          1
         ],
         "yaxis": "y"
        }
       ],
       "layout": {
        "barmode": "relative",
        "legend": {
         "title": {},
         "tracegroupgap": 0
        },
        "margin": {
         "b": 0,
         "l": 0,
         "r": 0,
         "t": 30
        },
        "template": {
         "data": {
          "bar": [
           {
            "error_x": {
             "color": "#2a3f5f"
            },
            "error_y": {
             "color": "#2a3f5f"
            },
            "marker": {
             "line": {
              "color": "#E5ECF6",
              "width": 0.5
             },
             "pattern": {
              "fillmode": "overlay",
              "size": 10,
              "solidity": 0.2
             }
            },
            "type": "bar"
           }
          ],
          "barpolar": [
           {
            "marker": {
             "line": {
              "color": "#E5ECF6",
              "width": 0.5
             },
             "pattern": {
              "fillmode": "overlay",
              "size": 10,
              "solidity": 0.2
             }
            },
            "type": "barpolar"
           }
          ],
          "carpet": [
           {
            "aaxis": {
             "endlinecolor": "#2a3f5f",
             "gridcolor": "white",
             "linecolor": "white",
             "minorgridcolor": "white",
             "startlinecolor": "#2a3f5f"
            },
            "baxis": {
             "endlinecolor": "#2a3f5f",
             "gridcolor": "white",
             "linecolor": "white",
             "minorgridcolor": "white",
             "startlinecolor": "#2a3f5f"
            },
            "type": "carpet"
           }
          ],
          "choropleth": [
           {
            "colorbar": {
             "outlinewidth": 0,
             "ticks": ""
            },
            "type": "choropleth"
           }
          ],
          "contour": [
           {
            "colorbar": {
             "outlinewidth": 0,
             "ticks": ""
            },
            "colorscale": [
             [
              0,
              "#0d0887"
             ],
             [
              0.1111111111111111,
              "#46039f"
             ],
             [
              0.2222222222222222,
              "#7201a8"
             ],
             [
              0.3333333333333333,
              "#9c179e"
             ],
             [
              0.4444444444444444,
              "#bd3786"
             ],
             [
              0.5555555555555556,
              "#d8576b"
             ],
             [
              0.6666666666666666,
              "#ed7953"
             ],
             [
              0.7777777777777778,
              "#fb9f3a"
             ],
             [
              0.8888888888888888,
              "#fdca26"
             ],
             [
              1,
              "#f0f921"
             ]
            ],
            "type": "contour"
           }
          ],
          "contourcarpet": [
           {
            "colorbar": {
             "outlinewidth": 0,
             "ticks": ""
            },
            "type": "contourcarpet"
           }
          ],
          "heatmap": [
           {
            "colorbar": {
             "outlinewidth": 0,
             "ticks": ""
            },
            "colorscale": [
             [
              0,
              "#0d0887"
             ],
             [
              0.1111111111111111,
              "#46039f"
             ],
             [
              0.2222222222222222,
              "#7201a8"
             ],
             [
              0.3333333333333333,
              "#9c179e"
             ],
             [
              0.4444444444444444,
              "#bd3786"
             ],
             [
              0.5555555555555556,
              "#d8576b"
             ],
             [
              0.6666666666666666,
              "#ed7953"
             ],
             [
              0.7777777777777778,
              "#fb9f3a"
             ],
             [
              0.8888888888888888,
              "#fdca26"
             ],
             [
              1,
              "#f0f921"
             ]
            ],
            "type": "heatmap"
           }
          ],
          "heatmapgl": [
           {
            "colorbar": {
             "outlinewidth": 0,
             "ticks": ""
            },
            "colorscale": [
             [
              0,
              "#0d0887"
             ],
             [
              0.1111111111111111,
              "#46039f"
             ],
             [
              0.2222222222222222,
              "#7201a8"
             ],
             [
              0.3333333333333333,
              "#9c179e"
             ],
             [
              0.4444444444444444,
              "#bd3786"
             ],
             [
              0.5555555555555556,
              "#d8576b"
             ],
             [
              0.6666666666666666,
              "#ed7953"
             ],
             [
              0.7777777777777778,
              "#fb9f3a"
             ],
             [
              0.8888888888888888,
              "#fdca26"
             ],
             [
              1,
              "#f0f921"
             ]
            ],
            "type": "heatmapgl"
           }
          ],
          "histogram": [
           {
            "marker": {
             "pattern": {
              "fillmode": "overlay",
              "size": 10,
              "solidity": 0.2
             }
            },
            "type": "histogram"
           }
          ],
          "histogram2d": [
           {
            "colorbar": {
             "outlinewidth": 0,
             "ticks": ""
            },
            "colorscale": [
             [
              0,
              "#0d0887"
             ],
             [
              0.1111111111111111,
              "#46039f"
             ],
             [
              0.2222222222222222,
              "#7201a8"
             ],
             [
              0.3333333333333333,
              "#9c179e"
             ],
             [
              0.4444444444444444,
              "#bd3786"
             ],
             [
              0.5555555555555556,
              "#d8576b"
             ],
             [
              0.6666666666666666,
              "#ed7953"
             ],
             [
              0.7777777777777778,
              "#fb9f3a"
             ],
             [
              0.8888888888888888,
              "#fdca26"
             ],
             [
              1,
              "#f0f921"
             ]
            ],
            "type": "histogram2d"
           }
          ],
          "histogram2dcontour": [
           {
            "colorbar": {
             "outlinewidth": 0,
             "ticks": ""
            },
            "colorscale": [
             [
              0,
              "#0d0887"
             ],
             [
              0.1111111111111111,
              "#46039f"
             ],
             [
              0.2222222222222222,
              "#7201a8"
             ],
             [
              0.3333333333333333,
              "#9c179e"
             ],
             [
              0.4444444444444444,
              "#bd3786"
             ],
             [
              0.5555555555555556,
              "#d8576b"
             ],
             [
              0.6666666666666666,
              "#ed7953"
             ],
             [
              0.7777777777777778,
              "#fb9f3a"
             ],
             [
              0.8888888888888888,
              "#fdca26"
             ],
             [
              1,
              "#f0f921"
             ]
            ],
            "type": "histogram2dcontour"
           }
          ],
          "mesh3d": [
           {
            "colorbar": {
             "outlinewidth": 0,
             "ticks": ""
            },
            "type": "mesh3d"
           }
          ],
          "parcoords": [
           {
            "line": {
             "colorbar": {
              "outlinewidth": 0,
              "ticks": ""
             }
            },
            "type": "parcoords"
           }
          ],
          "pie": [
           {
            "automargin": true,
            "type": "pie"
           }
          ],
          "scatter": [
           {
            "fillpattern": {
             "fillmode": "overlay",
             "size": 10,
             "solidity": 0.2
            },
            "type": "scatter"
           }
          ],
          "scatter3d": [
           {
            "line": {
             "colorbar": {
              "outlinewidth": 0,
              "ticks": ""
             }
            },
            "marker": {
             "colorbar": {
              "outlinewidth": 0,
              "ticks": ""
             }
            },
            "type": "scatter3d"
           }
          ],
          "scattercarpet": [
           {
            "marker": {
             "colorbar": {
              "outlinewidth": 0,
              "ticks": ""
             }
            },
            "type": "scattercarpet"
           }
          ],
          "scattergeo": [
           {
            "marker": {
             "colorbar": {
              "outlinewidth": 0,
              "ticks": ""
             }
            },
            "type": "scattergeo"
           }
          ],
          "scattergl": [
           {
            "marker": {
             "colorbar": {
              "outlinewidth": 0,
              "ticks": ""
             }
            },
            "type": "scattergl"
           }
          ],
          "scattermapbox": [
           {
            "marker": {
             "colorbar": {
              "outlinewidth": 0,
              "ticks": ""
             }
            },
            "type": "scattermapbox"
           }
          ],
          "scatterpolar": [
           {
            "marker": {
             "colorbar": {
              "outlinewidth": 0,
              "ticks": ""
             }
            },
            "type": "scatterpolar"
           }
          ],
          "scatterpolargl": [
           {
            "marker": {
             "colorbar": {
              "outlinewidth": 0,
              "ticks": ""
             }
            },
            "type": "scatterpolargl"
           }
          ],
          "scatterternary": [
           {
            "marker": {
             "colorbar": {
              "outlinewidth": 0,
              "ticks": ""
             }
            },
            "type": "scatterternary"
           }
          ],
          "surface": [
           {
            "colorbar": {
             "outlinewidth": 0,
             "ticks": ""
            },
            "colorscale": [
             [
              0,
              "#0d0887"
             ],
             [
              0.1111111111111111,
              "#46039f"
             ],
             [
              0.2222222222222222,
              "#7201a8"
             ],
             [
              0.3333333333333333,
              "#9c179e"
             ],
             [
              0.4444444444444444,
              "#bd3786"
             ],
             [
              0.5555555555555556,
              "#d8576b"
             ],
             [
              0.6666666666666666,
              "#ed7953"
             ],
             [
              0.7777777777777778,
              "#fb9f3a"
             ],
             [
              0.8888888888888888,
              "#fdca26"
             ],
             [
              1,
              "#f0f921"
             ]
            ],
            "type": "surface"
           }
          ],
          "table": [
           {
            "cells": {
             "fill": {
              "color": "#EBF0F8"
             },
             "line": {
              "color": "white"
             }
            },
            "header": {
             "fill": {
              "color": "#C8D4E3"
             },
             "line": {
              "color": "white"
             }
            },
            "type": "table"
           }
          ]
         },
         "layout": {
          "annotationdefaults": {
           "arrowcolor": "#2a3f5f",
           "arrowhead": 0,
           "arrowwidth": 1
          },
          "autotypenumbers": "strict",
          "coloraxis": {
           "colorbar": {
            "outlinewidth": 0,
            "ticks": ""
           }
          },
          "colorscale": {
           "diverging": [
            [
             0,
             "#8e0152"
            ],
            [
             0.1,
             "#c51b7d"
            ],
            [
             0.2,
             "#de77ae"
            ],
            [
             0.3,
             "#f1b6da"
            ],
            [
             0.4,
             "#fde0ef"
            ],
            [
             0.5,
             "#f7f7f7"
            ],
            [
             0.6,
             "#e6f5d0"
            ],
            [
             0.7,
             "#b8e186"
            ],
            [
             0.8,
             "#7fbc41"
            ],
            [
             0.9,
             "#4d9221"
            ],
            [
             1,
             "#276419"
            ]
           ],
           "sequential": [
            [
             0,
             "#0d0887"
            ],
            [
             0.1111111111111111,
             "#46039f"
            ],
            [
             0.2222222222222222,
             "#7201a8"
            ],
            [
             0.3333333333333333,
             "#9c179e"
            ],
            [
             0.4444444444444444,
             "#bd3786"
            ],
            [
             0.5555555555555556,
             "#d8576b"
            ],
            [
             0.6666666666666666,
             "#ed7953"
            ],
            [
             0.7777777777777778,
             "#fb9f3a"
            ],
            [
             0.8888888888888888,
             "#fdca26"
            ],
            [
             1,
             "#f0f921"
            ]
           ],
           "sequentialminus": [
            [
             0,
             "#0d0887"
            ],
            [
             0.1111111111111111,
             "#46039f"
            ],
            [
             0.2222222222222222,
             "#7201a8"
            ],
            [
             0.3333333333333333,
             "#9c179e"
            ],
            [
             0.4444444444444444,
             "#bd3786"
            ],
            [
             0.5555555555555556,
             "#d8576b"
            ],
            [
             0.6666666666666666,
             "#ed7953"
            ],
            [
             0.7777777777777778,
             "#fb9f3a"
            ],
            [
             0.8888888888888888,
             "#fdca26"
            ],
            [
             1,
             "#f0f921"
            ]
           ]
          },
          "colorway": [
           "#636efa",
           "#EF553B",
           "#00cc96",
           "#ab63fa",
           "#FFA15A",
           "#19d3f3",
           "#FF6692",
           "#B6E880",
           "#FF97FF",
           "#FECB52"
          ],
          "font": {
           "color": "#2a3f5f"
          },
          "geo": {
           "bgcolor": "white",
           "lakecolor": "white",
           "landcolor": "#E5ECF6",
           "showlakes": true,
           "showland": true,
           "subunitcolor": "white"
          },
          "hoverlabel": {
           "align": "left"
          },
          "hovermode": "closest",
          "mapbox": {
           "style": "light"
          },
          "paper_bgcolor": "white",
          "plot_bgcolor": "#E5ECF6",
          "polar": {
           "angularaxis": {
            "gridcolor": "white",
            "linecolor": "white",
            "ticks": ""
           },
           "bgcolor": "#E5ECF6",
           "radialaxis": {
            "gridcolor": "white",
            "linecolor": "white",
            "ticks": ""
           }
          },
          "scene": {
           "xaxis": {
            "backgroundcolor": "#E5ECF6",
            "gridcolor": "white",
            "gridwidth": 2,
            "linecolor": "white",
            "showbackground": true,
            "ticks": "",
            "zerolinecolor": "white"
           },
           "yaxis": {
            "backgroundcolor": "#E5ECF6",
            "gridcolor": "white",
            "gridwidth": 2,
            "linecolor": "white",
            "showbackground": true,
            "ticks": "",
            "zerolinecolor": "white"
           },
           "zaxis": {
            "backgroundcolor": "#E5ECF6",
            "gridcolor": "white",
            "gridwidth": 2,
            "linecolor": "white",
            "showbackground": true,
            "ticks": "",
            "zerolinecolor": "white"
           }
          },
          "shapedefaults": {
           "line": {
            "color": "#2a3f5f"
           }
          },
          "ternary": {
           "aaxis": {
            "gridcolor": "white",
            "linecolor": "white",
            "ticks": ""
           },
           "baxis": {
            "gridcolor": "white",
            "linecolor": "white",
            "ticks": ""
           },
           "bgcolor": "#E5ECF6",
           "caxis": {
            "gridcolor": "white",
            "linecolor": "white",
            "ticks": ""
           }
          },
          "title": {
           "x": 0.05
          },
          "xaxis": {
           "automargin": true,
           "gridcolor": "white",
           "linecolor": "white",
           "ticks": "",
           "title": {
            "standoff": 15
           },
           "zerolinecolor": "white",
           "zerolinewidth": 2
          },
          "yaxis": {
           "automargin": true,
           "gridcolor": "white",
           "linecolor": "white",
           "ticks": "",
           "title": {
            "standoff": 15
           },
           "zerolinecolor": "white",
           "zerolinewidth": 2
          }
         }
        },
        "title": {
         "text": "time_tags",
         "x": 0.5,
         "xanchor": "center"
        },
        "xaxis": {
         "anchor": "y",
         "categoryarray": [
          "position",
          "momentum",
          "shortterm",
          "trendfollow",
          "trendfollowing",
          "swing",
          "longterm",
          "invest",
          "scalp",
          "intraday",
          "mediumterm",
          "highfrequency",
          "daytrade",
          "multiday"
         ],
         "categoryorder": "array",
         "domain": [
          0,
          1
         ],
         "title": {
          "text": "Теги"
         }
        },
        "yaxis": {
         "anchor": "x",
         "domain": [
          0,
          1
         ],
         "title": {
          "text": "Количество"
         }
        }
       }
      }
     },
     "metadata": {},
     "output_type": "display_data"
    },
    {
     "data": {
      "application/vnd.plotly.v1+json": {
       "config": {
        "plotlyServerURL": "https://plot.ly"
       },
       "data": [
        {
         "alignmentgroup": "True",
         "hovertemplate": "tag=%{x}<br>count=%{y}<extra></extra>",
         "legendgroup": "ma",
         "marker": {
          "color": "#636efa",
          "pattern": {
           "shape": ""
          }
         },
         "name": "ma",
         "offsetgroup": "ma",
         "orientation": "v",
         "showlegend": true,
         "textposition": "auto",
         "type": "bar",
         "x": [
          "ma"
         ],
         "xaxis": "x",
         "y": [
          795
         ],
         "yaxis": "y"
        },
        {
         "alignmentgroup": "True",
         "hovertemplate": "tag=%{x}<br>count=%{y}<extra></extra>",
         "legendgroup": "ema",
         "marker": {
          "color": "#EF553B",
          "pattern": {
           "shape": ""
          }
         },
         "name": "ema",
         "offsetgroup": "ema",
         "orientation": "v",
         "showlegend": true,
         "textposition": "auto",
         "type": "bar",
         "x": [
          "ema"
         ],
         "xaxis": "x",
         "y": [
          381
         ],
         "yaxis": "y"
        },
        {
         "alignmentgroup": "True",
         "hovertemplate": "tag=%{x}<br>count=%{y}<extra></extra>",
         "legendgroup": "rsi",
         "marker": {
          "color": "#00cc96",
          "pattern": {
           "shape": ""
          }
         },
         "name": "rsi",
         "offsetgroup": "rsi",
         "orientation": "v",
         "showlegend": true,
         "textposition": "auto",
         "type": "bar",
         "x": [
          "rsi"
         ],
         "xaxis": "x",
         "y": [
          351
         ],
         "yaxis": "y"
        },
        {
         "alignmentgroup": "True",
         "hovertemplate": "tag=%{x}<br>count=%{y}<extra></extra>",
         "legendgroup": "sma",
         "marker": {
          "color": "#ab63fa",
          "pattern": {
           "shape": ""
          }
         },
         "name": "sma",
         "offsetgroup": "sma",
         "orientation": "v",
         "showlegend": true,
         "textposition": "auto",
         "type": "bar",
         "x": [
          "sma"
         ],
         "xaxis": "x",
         "y": [
          319
         ],
         "yaxis": "y"
        },
        {
         "alignmentgroup": "True",
         "hovertemplate": "tag=%{x}<br>count=%{y}<extra></extra>",
         "legendgroup": "atr",
         "marker": {
          "color": "#FFA15A",
          "pattern": {
           "shape": ""
          }
         },
         "name": "atr",
         "offsetgroup": "atr",
         "orientation": "v",
         "showlegend": true,
         "textposition": "auto",
         "type": "bar",
         "x": [
          "atr"
         ],
         "xaxis": "x",
         "y": [
          258
         ],
         "yaxis": "y"
        },
        {
         "alignmentgroup": "True",
         "hovertemplate": "tag=%{x}<br>count=%{y}<extra></extra>",
         "legendgroup": "oscillator",
         "marker": {
          "color": "#19d3f3",
          "pattern": {
           "shape": ""
          }
         },
         "name": "oscillator",
         "offsetgroup": "oscillator",
         "orientation": "v",
         "showlegend": true,
         "textposition": "auto",
         "type": "bar",
         "x": [
          "oscillator"
         ],
         "xaxis": "x",
         "y": [
          120
         ],
         "yaxis": "y"
        },
        {
         "alignmentgroup": "True",
         "hovertemplate": "tag=%{x}<br>count=%{y}<extra></extra>",
         "legendgroup": "macd",
         "marker": {
          "color": "#FF6692",
          "pattern": {
           "shape": ""
          }
         },
         "name": "macd",
         "offsetgroup": "macd",
         "orientation": "v",
         "showlegend": true,
         "textposition": "auto",
         "type": "bar",
         "x": [
          "macd"
         ],
         "xaxis": "x",
         "y": [
          88
         ],
         "yaxis": "y"
        },
        {
         "alignmentgroup": "True",
         "hovertemplate": "tag=%{x}<br>count=%{y}<extra></extra>",
         "legendgroup": "bollinger",
         "marker": {
          "color": "#B6E880",
          "pattern": {
           "shape": ""
          }
         },
         "name": "bollinger",
         "offsetgroup": "bollinger",
         "orientation": "v",
         "showlegend": true,
         "textposition": "auto",
         "type": "bar",
         "x": [
          "bollinger"
         ],
         "xaxis": "x",
         "y": [
          84
         ],
         "yaxis": "y"
        },
        {
         "alignmentgroup": "True",
         "hovertemplate": "tag=%{x}<br>count=%{y}<extra></extra>",
         "legendgroup": "supertrend",
         "marker": {
          "color": "#FF97FF",
          "pattern": {
           "shape": ""
          }
         },
         "name": "supertrend",
         "offsetgroup": "supertrend",
         "orientation": "v",
         "showlegend": true,
         "textposition": "auto",
         "type": "bar",
         "x": [
          "supertrend"
         ],
         "xaxis": "x",
         "y": [
          79
         ],
         "yaxis": "y"
        },
        {
         "alignmentgroup": "True",
         "hovertemplate": "tag=%{x}<br>count=%{y}<extra></extra>",
         "legendgroup": "roc",
         "marker": {
          "color": "#FECB52",
          "pattern": {
           "shape": ""
          }
         },
         "name": "roc",
         "offsetgroup": "roc",
         "orientation": "v",
         "showlegend": true,
         "textposition": "auto",
         "type": "bar",
         "x": [
          "roc"
         ],
         "xaxis": "x",
         "y": [
          77
         ],
         "yaxis": "y"
        },
        {
         "alignmentgroup": "True",
         "hovertemplate": "tag=%{x}<br>count=%{y}<extra></extra>",
         "legendgroup": "advance",
         "marker": {
          "color": "#636efa",
          "pattern": {
           "shape": ""
          }
         },
         "name": "advance",
         "offsetgroup": "advance",
         "orientation": "v",
         "showlegend": true,
         "textposition": "auto",
         "type": "bar",
         "x": [
          "advance"
         ],
         "xaxis": "x",
         "y": [
          68
         ],
         "yaxis": "y"
        },
        {
         "alignmentgroup": "True",
         "hovertemplate": "tag=%{x}<br>count=%{y}<extra></extra>",
         "legendgroup": "cci",
         "marker": {
          "color": "#EF553B",
          "pattern": {
           "shape": ""
          }
         },
         "name": "cci",
         "offsetgroup": "cci",
         "orientation": "v",
         "showlegend": true,
         "textposition": "auto",
         "type": "bar",
         "x": [
          "cci"
         ],
         "xaxis": "x",
         "y": [
          55
         ],
         "yaxis": "y"
        },
        {
         "alignmentgroup": "True",
         "hovertemplate": "tag=%{x}<br>count=%{y}<extra></extra>",
         "legendgroup": "sar",
         "marker": {
          "color": "#00cc96",
          "pattern": {
           "shape": ""
          }
         },
         "name": "sar",
         "offsetgroup": "sar",
         "orientation": "v",
         "showlegend": true,
         "textposition": "auto",
         "type": "bar",
         "x": [
          "sar"
         ],
         "xaxis": "x",
         "y": [
          53
         ],
         "yaxis": "y"
        },
        {
         "alignmentgroup": "True",
         "hovertemplate": "tag=%{x}<br>count=%{y}<extra></extra>",
         "legendgroup": "adx",
         "marker": {
          "color": "#ab63fa",
          "pattern": {
           "shape": ""
          }
         },
         "name": "adx",
         "offsetgroup": "adx",
         "orientation": "v",
         "showlegend": true,
         "textposition": "auto",
         "type": "bar",
         "x": [
          "adx"
         ],
         "xaxis": "x",
         "y": [
          50
         ],
         "yaxis": "y"
        },
        {
         "alignmentgroup": "True",
         "hovertemplate": "tag=%{x}<br>count=%{y}<extra></extra>",
         "legendgroup": "stochastic",
         "marker": {
          "color": "#FFA15A",
          "pattern": {
           "shape": ""
          }
         },
         "name": "stochastic",
         "offsetgroup": "stochastic",
         "orientation": "v",
         "showlegend": true,
         "textposition": "auto",
         "type": "bar",
         "x": [
          "stochastic"
         ],
         "xaxis": "x",
         "y": [
          41
         ],
         "yaxis": "y"
        },
        {
         "alignmentgroup": "True",
         "hovertemplate": "tag=%{x}<br>count=%{y}<extra></extra>",
         "legendgroup": "breadth",
         "marker": {
          "color": "#19d3f3",
          "pattern": {
           "shape": ""
          }
         },
         "name": "breadth",
         "offsetgroup": "breadth",
         "orientation": "v",
         "showlegend": true,
         "textposition": "auto",
         "type": "bar",
         "x": [
          "breadth"
         ],
         "xaxis": "x",
         "y": [
          35
         ],
         "yaxis": "y"
        },
        {
         "alignmentgroup": "True",
         "hovertemplate": "tag=%{x}<br>count=%{y}<extra></extra>",
         "legendgroup": "fibonacci",
         "marker": {
          "color": "#FF6692",
          "pattern": {
           "shape": ""
          }
         },
         "name": "fibonacci",
         "offsetgroup": "fibonacci",
         "orientation": "v",
         "showlegend": true,
         "textposition": "auto",
         "type": "bar",
         "x": [
          "fibonacci"
         ],
         "xaxis": "x",
         "y": [
          31
         ],
         "yaxis": "y"
        },
        {
         "alignmentgroup": "True",
         "hovertemplate": "tag=%{x}<br>count=%{y}<extra></extra>",
         "legendgroup": "keltner",
         "marker": {
          "color": "#B6E880",
          "pattern": {
           "shape": ""
          }
         },
         "name": "keltner",
         "offsetgroup": "keltner",
         "orientation": "v",
         "showlegend": true,
         "textposition": "auto",
         "type": "bar",
         "x": [
          "keltner"
         ],
         "xaxis": "x",
         "y": [
          19
         ],
         "yaxis": "y"
        },
        {
         "alignmentgroup": "True",
         "hovertemplate": "tag=%{x}<br>count=%{y}<extra></extra>",
         "legendgroup": "dpo",
         "marker": {
          "color": "#FF97FF",
          "pattern": {
           "shape": ""
          }
         },
         "name": "dpo",
         "offsetgroup": "dpo",
         "orientation": "v",
         "showlegend": true,
         "textposition": "auto",
         "type": "bar",
         "x": [
          "dpo"
         ],
         "xaxis": "x",
         "y": [
          18
         ],
         "yaxis": "y"
        },
        {
         "alignmentgroup": "True",
         "hovertemplate": "tag=%{x}<br>count=%{y}<extra></extra>",
         "legendgroup": "movingaverage",
         "marker": {
          "color": "#FECB52",
          "pattern": {
           "shape": ""
          }
         },
         "name": "movingaverage",
         "offsetgroup": "movingaverage",
         "orientation": "v",
         "showlegend": true,
         "textposition": "auto",
         "type": "bar",
         "x": [
          "movingaverage"
         ],
         "xaxis": "x",
         "y": [
          18
         ],
         "yaxis": "y"
        },
        {
         "alignmentgroup": "True",
         "hovertemplate": "tag=%{x}<br>count=%{y}<extra></extra>",
         "legendgroup": "distribution",
         "marker": {
          "color": "#636efa",
          "pattern": {
           "shape": ""
          }
         },
         "name": "distribution",
         "offsetgroup": "distribution",
         "orientation": "v",
         "showlegend": true,
         "textposition": "auto",
         "type": "bar",
         "x": [
          "distribution"
         ],
         "xaxis": "x",
         "y": [
          17
         ],
         "yaxis": "y"
        },
        {
         "alignmentgroup": "True",
         "hovertemplate": "tag=%{x}<br>count=%{y}<extra></extra>",
         "legendgroup": "decline",
         "marker": {
          "color": "#EF553B",
          "pattern": {
           "shape": ""
          }
         },
         "name": "decline",
         "offsetgroup": "decline",
         "orientation": "v",
         "showlegend": true,
         "textposition": "auto",
         "type": "bar",
         "x": [
          "decline"
         ],
         "xaxis": "x",
         "y": [
          16
         ],
         "yaxis": "y"
        },
        {
         "alignmentgroup": "True",
         "hovertemplate": "tag=%{x}<br>count=%{y}<extra></extra>",
         "legendgroup": "ichimoku",
         "marker": {
          "color": "#00cc96",
          "pattern": {
           "shape": ""
          }
         },
         "name": "ichimoku",
         "offsetgroup": "ichimoku",
         "orientation": "v",
         "showlegend": true,
         "textposition": "auto",
         "type": "bar",
         "x": [
          "ichimoku"
         ],
         "xaxis": "x",
         "y": [
          14
         ],
         "yaxis": "y"
        },
        {
         "alignmentgroup": "True",
         "hovertemplate": "tag=%{x}<br>count=%{y}<extra></extra>",
         "legendgroup": "obv",
         "marker": {
          "color": "#ab63fa",
          "pattern": {
           "shape": ""
          }
         },
         "name": "obv",
         "offsetgroup": "obv",
         "orientation": "v",
         "showlegend": true,
         "textposition": "auto",
         "type": "bar",
         "x": [
          "obv"
         ],
         "xaxis": "x",
         "y": [
          12
         ],
         "yaxis": "y"
        },
        {
         "alignmentgroup": "True",
         "hovertemplate": "tag=%{x}<br>count=%{y}<extra></extra>",
         "legendgroup": "accumulation",
         "marker": {
          "color": "#FFA15A",
          "pattern": {
           "shape": ""
          }
         },
         "name": "accumulation",
         "offsetgroup": "accumulation",
         "orientation": "v",
         "showlegend": true,
         "textposition": "auto",
         "type": "bar",
         "x": [
          "accumulation"
         ],
         "xaxis": "x",
         "y": [
          8
         ],
         "yaxis": "y"
        },
        {
         "alignmentgroup": "True",
         "hovertemplate": "tag=%{x}<br>count=%{y}<extra></extra>",
         "legendgroup": "zlsma",
         "marker": {
          "color": "#19d3f3",
          "pattern": {
           "shape": ""
          }
         },
         "name": "zlsma",
         "offsetgroup": "zlsma",
         "orientation": "v",
         "showlegend": true,
         "textposition": "auto",
         "type": "bar",
         "x": [
          "zlsma"
         ],
         "xaxis": "x",
         "y": [
          5
         ],
         "yaxis": "y"
        },
        {
         "alignmentgroup": "True",
         "hovertemplate": "tag=%{x}<br>count=%{y}<extra></extra>",
         "legendgroup": "mfi",
         "marker": {
          "color": "#FF6692",
          "pattern": {
           "shape": ""
          }
         },
         "name": "mfi",
         "offsetgroup": "mfi",
         "orientation": "v",
         "showlegend": true,
         "textposition": "auto",
         "type": "bar",
         "x": [
          "mfi"
         ],
         "xaxis": "x",
         "y": [
          4
         ],
         "yaxis": "y"
        },
        {
         "alignmentgroup": "True",
         "hovertemplate": "tag=%{x}<br>count=%{y}<extra></extra>",
         "legendgroup": "chaikin",
         "marker": {
          "color": "#B6E880",
          "pattern": {
           "shape": ""
          }
         },
         "name": "chaikin",
         "offsetgroup": "chaikin",
         "orientation": "v",
         "showlegend": true,
         "textposition": "auto",
         "type": "bar",
         "x": [
          "chaikin"
         ],
         "xaxis": "x",
         "y": [
          1
         ],
         "yaxis": "y"
        }
       ],
       "layout": {
        "barmode": "relative",
        "legend": {
         "title": {},
         "tracegroupgap": 0
        },
        "margin": {
         "b": 0,
         "l": 0,
         "r": 0,
         "t": 30
        },
        "template": {
         "data": {
          "bar": [
           {
            "error_x": {
             "color": "#2a3f5f"
            },
            "error_y": {
             "color": "#2a3f5f"
            },
            "marker": {
             "line": {
              "color": "#E5ECF6",
              "width": 0.5
             },
             "pattern": {
              "fillmode": "overlay",
              "size": 10,
              "solidity": 0.2
             }
            },
            "type": "bar"
           }
          ],
          "barpolar": [
           {
            "marker": {
             "line": {
              "color": "#E5ECF6",
              "width": 0.5
             },
             "pattern": {
              "fillmode": "overlay",
              "size": 10,
              "solidity": 0.2
             }
            },
            "type": "barpolar"
           }
          ],
          "carpet": [
           {
            "aaxis": {
             "endlinecolor": "#2a3f5f",
             "gridcolor": "white",
             "linecolor": "white",
             "minorgridcolor": "white",
             "startlinecolor": "#2a3f5f"
            },
            "baxis": {
             "endlinecolor": "#2a3f5f",
             "gridcolor": "white",
             "linecolor": "white",
             "minorgridcolor": "white",
             "startlinecolor": "#2a3f5f"
            },
            "type": "carpet"
           }
          ],
          "choropleth": [
           {
            "colorbar": {
             "outlinewidth": 0,
             "ticks": ""
            },
            "type": "choropleth"
           }
          ],
          "contour": [
           {
            "colorbar": {
             "outlinewidth": 0,
             "ticks": ""
            },
            "colorscale": [
             [
              0,
              "#0d0887"
             ],
             [
              0.1111111111111111,
              "#46039f"
             ],
             [
              0.2222222222222222,
              "#7201a8"
             ],
             [
              0.3333333333333333,
              "#9c179e"
             ],
             [
              0.4444444444444444,
              "#bd3786"
             ],
             [
              0.5555555555555556,
              "#d8576b"
             ],
             [
              0.6666666666666666,
              "#ed7953"
             ],
             [
              0.7777777777777778,
              "#fb9f3a"
             ],
             [
              0.8888888888888888,
              "#fdca26"
             ],
             [
              1,
              "#f0f921"
             ]
            ],
            "type": "contour"
           }
          ],
          "contourcarpet": [
           {
            "colorbar": {
             "outlinewidth": 0,
             "ticks": ""
            },
            "type": "contourcarpet"
           }
          ],
          "heatmap": [
           {
            "colorbar": {
             "outlinewidth": 0,
             "ticks": ""
            },
            "colorscale": [
             [
              0,
              "#0d0887"
             ],
             [
              0.1111111111111111,
              "#46039f"
             ],
             [
              0.2222222222222222,
              "#7201a8"
             ],
             [
              0.3333333333333333,
              "#9c179e"
             ],
             [
              0.4444444444444444,
              "#bd3786"
             ],
             [
              0.5555555555555556,
              "#d8576b"
             ],
             [
              0.6666666666666666,
              "#ed7953"
             ],
             [
              0.7777777777777778,
              "#fb9f3a"
             ],
             [
              0.8888888888888888,
              "#fdca26"
             ],
             [
              1,
              "#f0f921"
             ]
            ],
            "type": "heatmap"
           }
          ],
          "heatmapgl": [
           {
            "colorbar": {
             "outlinewidth": 0,
             "ticks": ""
            },
            "colorscale": [
             [
              0,
              "#0d0887"
             ],
             [
              0.1111111111111111,
              "#46039f"
             ],
             [
              0.2222222222222222,
              "#7201a8"
             ],
             [
              0.3333333333333333,
              "#9c179e"
             ],
             [
              0.4444444444444444,
              "#bd3786"
             ],
             [
              0.5555555555555556,
              "#d8576b"
             ],
             [
              0.6666666666666666,
              "#ed7953"
             ],
             [
              0.7777777777777778,
              "#fb9f3a"
             ],
             [
              0.8888888888888888,
              "#fdca26"
             ],
             [
              1,
              "#f0f921"
             ]
            ],
            "type": "heatmapgl"
           }
          ],
          "histogram": [
           {
            "marker": {
             "pattern": {
              "fillmode": "overlay",
              "size": 10,
              "solidity": 0.2
             }
            },
            "type": "histogram"
           }
          ],
          "histogram2d": [
           {
            "colorbar": {
             "outlinewidth": 0,
             "ticks": ""
            },
            "colorscale": [
             [
              0,
              "#0d0887"
             ],
             [
              0.1111111111111111,
              "#46039f"
             ],
             [
              0.2222222222222222,
              "#7201a8"
             ],
             [
              0.3333333333333333,
              "#9c179e"
             ],
             [
              0.4444444444444444,
              "#bd3786"
             ],
             [
              0.5555555555555556,
              "#d8576b"
             ],
             [
              0.6666666666666666,
              "#ed7953"
             ],
             [
              0.7777777777777778,
              "#fb9f3a"
             ],
             [
              0.8888888888888888,
              "#fdca26"
             ],
             [
              1,
              "#f0f921"
             ]
            ],
            "type": "histogram2d"
           }
          ],
          "histogram2dcontour": [
           {
            "colorbar": {
             "outlinewidth": 0,
             "ticks": ""
            },
            "colorscale": [
             [
              0,
              "#0d0887"
             ],
             [
              0.1111111111111111,
              "#46039f"
             ],
             [
              0.2222222222222222,
              "#7201a8"
             ],
             [
              0.3333333333333333,
              "#9c179e"
             ],
             [
              0.4444444444444444,
              "#bd3786"
             ],
             [
              0.5555555555555556,
              "#d8576b"
             ],
             [
              0.6666666666666666,
              "#ed7953"
             ],
             [
              0.7777777777777778,
              "#fb9f3a"
             ],
             [
              0.8888888888888888,
              "#fdca26"
             ],
             [
              1,
              "#f0f921"
             ]
            ],
            "type": "histogram2dcontour"
           }
          ],
          "mesh3d": [
           {
            "colorbar": {
             "outlinewidth": 0,
             "ticks": ""
            },
            "type": "mesh3d"
           }
          ],
          "parcoords": [
           {
            "line": {
             "colorbar": {
              "outlinewidth": 0,
              "ticks": ""
             }
            },
            "type": "parcoords"
           }
          ],
          "pie": [
           {
            "automargin": true,
            "type": "pie"
           }
          ],
          "scatter": [
           {
            "fillpattern": {
             "fillmode": "overlay",
             "size": 10,
             "solidity": 0.2
            },
            "type": "scatter"
           }
          ],
          "scatter3d": [
           {
            "line": {
             "colorbar": {
              "outlinewidth": 0,
              "ticks": ""
             }
            },
            "marker": {
             "colorbar": {
              "outlinewidth": 0,
              "ticks": ""
             }
            },
            "type": "scatter3d"
           }
          ],
          "scattercarpet": [
           {
            "marker": {
             "colorbar": {
              "outlinewidth": 0,
              "ticks": ""
             }
            },
            "type": "scattercarpet"
           }
          ],
          "scattergeo": [
           {
            "marker": {
             "colorbar": {
              "outlinewidth": 0,
              "ticks": ""
             }
            },
            "type": "scattergeo"
           }
          ],
          "scattergl": [
           {
            "marker": {
             "colorbar": {
              "outlinewidth": 0,
              "ticks": ""
             }
            },
            "type": "scattergl"
           }
          ],
          "scattermapbox": [
           {
            "marker": {
             "colorbar": {
              "outlinewidth": 0,
              "ticks": ""
             }
            },
            "type": "scattermapbox"
           }
          ],
          "scatterpolar": [
           {
            "marker": {
             "colorbar": {
              "outlinewidth": 0,
              "ticks": ""
             }
            },
            "type": "scatterpolar"
           }
          ],
          "scatterpolargl": [
           {
            "marker": {
             "colorbar": {
              "outlinewidth": 0,
              "ticks": ""
             }
            },
            "type": "scatterpolargl"
           }
          ],
          "scatterternary": [
           {
            "marker": {
             "colorbar": {
              "outlinewidth": 0,
              "ticks": ""
             }
            },
            "type": "scatterternary"
           }
          ],
          "surface": [
           {
            "colorbar": {
             "outlinewidth": 0,
             "ticks": ""
            },
            "colorscale": [
             [
              0,
              "#0d0887"
             ],
             [
              0.1111111111111111,
              "#46039f"
             ],
             [
              0.2222222222222222,
              "#7201a8"
             ],
             [
              0.3333333333333333,
              "#9c179e"
             ],
             [
              0.4444444444444444,
              "#bd3786"
             ],
             [
              0.5555555555555556,
              "#d8576b"
             ],
             [
              0.6666666666666666,
              "#ed7953"
             ],
             [
              0.7777777777777778,
              "#fb9f3a"
             ],
             [
              0.8888888888888888,
              "#fdca26"
             ],
             [
              1,
              "#f0f921"
             ]
            ],
            "type": "surface"
           }
          ],
          "table": [
           {
            "cells": {
             "fill": {
              "color": "#EBF0F8"
             },
             "line": {
              "color": "white"
             }
            },
            "header": {
             "fill": {
              "color": "#C8D4E3"
             },
             "line": {
              "color": "white"
             }
            },
            "type": "table"
           }
          ]
         },
         "layout": {
          "annotationdefaults": {
           "arrowcolor": "#2a3f5f",
           "arrowhead": 0,
           "arrowwidth": 1
          },
          "autotypenumbers": "strict",
          "coloraxis": {
           "colorbar": {
            "outlinewidth": 0,
            "ticks": ""
           }
          },
          "colorscale": {
           "diverging": [
            [
             0,
             "#8e0152"
            ],
            [
             0.1,
             "#c51b7d"
            ],
            [
             0.2,
             "#de77ae"
            ],
            [
             0.3,
             "#f1b6da"
            ],
            [
             0.4,
             "#fde0ef"
            ],
            [
             0.5,
             "#f7f7f7"
            ],
            [
             0.6,
             "#e6f5d0"
            ],
            [
             0.7,
             "#b8e186"
            ],
            [
             0.8,
             "#7fbc41"
            ],
            [
             0.9,
             "#4d9221"
            ],
            [
             1,
             "#276419"
            ]
           ],
           "sequential": [
            [
             0,
             "#0d0887"
            ],
            [
             0.1111111111111111,
             "#46039f"
            ],
            [
             0.2222222222222222,
             "#7201a8"
            ],
            [
             0.3333333333333333,
             "#9c179e"
            ],
            [
             0.4444444444444444,
             "#bd3786"
            ],
            [
             0.5555555555555556,
             "#d8576b"
            ],
            [
             0.6666666666666666,
             "#ed7953"
            ],
            [
             0.7777777777777778,
             "#fb9f3a"
            ],
            [
             0.8888888888888888,
             "#fdca26"
            ],
            [
             1,
             "#f0f921"
            ]
           ],
           "sequentialminus": [
            [
             0,
             "#0d0887"
            ],
            [
             0.1111111111111111,
             "#46039f"
            ],
            [
             0.2222222222222222,
             "#7201a8"
            ],
            [
             0.3333333333333333,
             "#9c179e"
            ],
            [
             0.4444444444444444,
             "#bd3786"
            ],
            [
             0.5555555555555556,
             "#d8576b"
            ],
            [
             0.6666666666666666,
             "#ed7953"
            ],
            [
             0.7777777777777778,
             "#fb9f3a"
            ],
            [
             0.8888888888888888,
             "#fdca26"
            ],
            [
             1,
             "#f0f921"
            ]
           ]
          },
          "colorway": [
           "#636efa",
           "#EF553B",
           "#00cc96",
           "#ab63fa",
           "#FFA15A",
           "#19d3f3",
           "#FF6692",
           "#B6E880",
           "#FF97FF",
           "#FECB52"
          ],
          "font": {
           "color": "#2a3f5f"
          },
          "geo": {
           "bgcolor": "white",
           "lakecolor": "white",
           "landcolor": "#E5ECF6",
           "showlakes": true,
           "showland": true,
           "subunitcolor": "white"
          },
          "hoverlabel": {
           "align": "left"
          },
          "hovermode": "closest",
          "mapbox": {
           "style": "light"
          },
          "paper_bgcolor": "white",
          "plot_bgcolor": "#E5ECF6",
          "polar": {
           "angularaxis": {
            "gridcolor": "white",
            "linecolor": "white",
            "ticks": ""
           },
           "bgcolor": "#E5ECF6",
           "radialaxis": {
            "gridcolor": "white",
            "linecolor": "white",
            "ticks": ""
           }
          },
          "scene": {
           "xaxis": {
            "backgroundcolor": "#E5ECF6",
            "gridcolor": "white",
            "gridwidth": 2,
            "linecolor": "white",
            "showbackground": true,
            "ticks": "",
            "zerolinecolor": "white"
           },
           "yaxis": {
            "backgroundcolor": "#E5ECF6",
            "gridcolor": "white",
            "gridwidth": 2,
            "linecolor": "white",
            "showbackground": true,
            "ticks": "",
            "zerolinecolor": "white"
           },
           "zaxis": {
            "backgroundcolor": "#E5ECF6",
            "gridcolor": "white",
            "gridwidth": 2,
            "linecolor": "white",
            "showbackground": true,
            "ticks": "",
            "zerolinecolor": "white"
           }
          },
          "shapedefaults": {
           "line": {
            "color": "#2a3f5f"
           }
          },
          "ternary": {
           "aaxis": {
            "gridcolor": "white",
            "linecolor": "white",
            "ticks": ""
           },
           "baxis": {
            "gridcolor": "white",
            "linecolor": "white",
            "ticks": ""
           },
           "bgcolor": "#E5ECF6",
           "caxis": {
            "gridcolor": "white",
            "linecolor": "white",
            "ticks": ""
           }
          },
          "title": {
           "x": 0.05
          },
          "xaxis": {
           "automargin": true,
           "gridcolor": "white",
           "linecolor": "white",
           "ticks": "",
           "title": {
            "standoff": 15
           },
           "zerolinecolor": "white",
           "zerolinewidth": 2
          },
          "yaxis": {
           "automargin": true,
           "gridcolor": "white",
           "linecolor": "white",
           "ticks": "",
           "title": {
            "standoff": 15
           },
           "zerolinecolor": "white",
           "zerolinewidth": 2
          }
         }
        },
        "title": {
         "text": "indicator_tags",
         "x": 0.5,
         "xanchor": "center"
        },
        "xaxis": {
         "anchor": "y",
         "categoryarray": [
          "ma",
          "ema",
          "rsi",
          "sma",
          "atr",
          "oscillator",
          "macd",
          "bollinger",
          "supertrend",
          "roc",
          "advance",
          "cci",
          "sar",
          "adx",
          "stochastic",
          "breadth",
          "fibonacci",
          "keltner",
          "dpo",
          "movingaverage",
          "distribution",
          "decline",
          "ichimoku",
          "obv",
          "accumulation",
          "zlsma",
          "mfi",
          "chaikin"
         ],
         "categoryorder": "array",
         "domain": [
          0,
          1
         ],
         "title": {
          "text": "Теги"
         }
        },
        "yaxis": {
         "anchor": "x",
         "domain": [
          0,
          1
         ],
         "title": {
          "text": "Количество"
         }
        }
       }
      }
     },
     "metadata": {},
     "output_type": "display_data"
    },
    {
     "data": {
      "application/vnd.plotly.v1+json": {
       "config": {
        "plotlyServerURL": "https://plot.ly"
       },
       "data": [
        {
         "alignmentgroup": "True",
         "hovertemplate": "tag=%{x}<br>count=%{y}<extra></extra>",
         "legendgroup": "future",
         "marker": {
          "color": "#636efa",
          "pattern": {
           "shape": ""
          }
         },
         "name": "future",
         "offsetgroup": "future",
         "orientation": "v",
         "showlegend": true,
         "textposition": "auto",
         "type": "bar",
         "x": [
          "future"
         ],
         "xaxis": "x",
         "y": [
          203
         ],
         "yaxis": "y"
        },
        {
         "alignmentgroup": "True",
         "hovertemplate": "tag=%{x}<br>count=%{y}<extra></extra>",
         "legendgroup": "equity",
         "marker": {
          "color": "#EF553B",
          "pattern": {
           "shape": ""
          }
         },
         "name": "equity",
         "offsetgroup": "equity",
         "orientation": "v",
         "showlegend": true,
         "textposition": "auto",
         "type": "bar",
         "x": [
          "equity"
         ],
         "xaxis": "x",
         "y": [
          138
         ],
         "yaxis": "y"
        },
        {
         "alignmentgroup": "True",
         "hovertemplate": "tag=%{x}<br>count=%{y}<extra></extra>",
         "legendgroup": "crypto",
         "marker": {
          "color": "#00cc96",
          "pattern": {
           "shape": ""
          }
         },
         "name": "crypto",
         "offsetgroup": "crypto",
         "orientation": "v",
         "showlegend": true,
         "textposition": "auto",
         "type": "bar",
         "x": [
          "crypto"
         ],
         "xaxis": "x",
         "y": [
          133
         ],
         "yaxis": "y"
        },
        {
         "alignmentgroup": "True",
         "hovertemplate": "tag=%{x}<br>count=%{y}<extra></extra>",
         "legendgroup": "forex",
         "marker": {
          "color": "#ab63fa",
          "pattern": {
           "shape": ""
          }
         },
         "name": "forex",
         "offsetgroup": "forex",
         "orientation": "v",
         "showlegend": true,
         "textposition": "auto",
         "type": "bar",
         "x": [
          "forex"
         ],
         "xaxis": "x",
         "y": [
          70
         ],
         "yaxis": "y"
        },
        {
         "alignmentgroup": "True",
         "hovertemplate": "tag=%{x}<br>count=%{y}<extra></extra>",
         "legendgroup": "currency",
         "marker": {
          "color": "#FFA15A",
          "pattern": {
           "shape": ""
          }
         },
         "name": "currency",
         "offsetgroup": "currency",
         "orientation": "v",
         "showlegend": true,
         "textposition": "auto",
         "type": "bar",
         "x": [
          "currency"
         ],
         "xaxis": "x",
         "y": [
          65
         ],
         "yaxis": "y"
        },
        {
         "alignmentgroup": "True",
         "hovertemplate": "tag=%{x}<br>count=%{y}<extra></extra>",
         "legendgroup": "bitcoin",
         "marker": {
          "color": "#19d3f3",
          "pattern": {
           "shape": ""
          }
         },
         "name": "bitcoin",
         "offsetgroup": "bitcoin",
         "orientation": "v",
         "showlegend": true,
         "textposition": "auto",
         "type": "bar",
         "x": [
          "bitcoin"
         ],
         "xaxis": "x",
         "y": [
          44
         ],
         "yaxis": "y"
        },
        {
         "alignmentgroup": "True",
         "hovertemplate": "tag=%{x}<br>count=%{y}<extra></extra>",
         "legendgroup": "fx",
         "marker": {
          "color": "#FF6692",
          "pattern": {
           "shape": ""
          }
         },
         "name": "fx",
         "offsetgroup": "fx",
         "orientation": "v",
         "showlegend": true,
         "textposition": "auto",
         "type": "bar",
         "x": [
          "fx"
         ],
         "xaxis": "x",
         "y": [
          8
         ],
         "yaxis": "y"
        },
        {
         "alignmentgroup": "True",
         "hovertemplate": "tag=%{x}<br>count=%{y}<extra></extra>",
         "legendgroup": "altcoin",
         "marker": {
          "color": "#B6E880",
          "pattern": {
           "shape": ""
          }
         },
         "name": "altcoin",
         "offsetgroup": "altcoin",
         "orientation": "v",
         "showlegend": true,
         "textposition": "auto",
         "type": "bar",
         "x": [
          "altcoin"
         ],
         "xaxis": "x",
         "y": [
          5
         ],
         "yaxis": "y"
        },
        {
         "alignmentgroup": "True",
         "hovertemplate": "tag=%{x}<br>count=%{y}<extra></extra>",
         "legendgroup": "liquidation",
         "marker": {
          "color": "#FF97FF",
          "pattern": {
           "shape": ""
          }
         },
         "name": "liquidation",
         "offsetgroup": "liquidation",
         "orientation": "v",
         "showlegend": true,
         "textposition": "auto",
         "type": "bar",
         "x": [
          "liquidation"
         ],
         "xaxis": "x",
         "y": [
          3
         ],
         "yaxis": "y"
        },
        {
         "alignmentgroup": "True",
         "hovertemplate": "tag=%{x}<br>count=%{y}<extra></extra>",
         "legendgroup": "contango",
         "marker": {
          "color": "#FECB52",
          "pattern": {
           "shape": ""
          }
         },
         "name": "contango",
         "offsetgroup": "contango",
         "orientation": "v",
         "showlegend": true,
         "textposition": "auto",
         "type": "bar",
         "x": [
          "contango"
         ],
         "xaxis": "x",
         "y": [
          3
         ],
         "yaxis": "y"
        },
        {
         "alignmentgroup": "True",
         "hovertemplate": "tag=%{x}<br>count=%{y}<extra></extra>",
         "legendgroup": "backwardation",
         "marker": {
          "color": "#636efa",
          "pattern": {
           "shape": ""
          }
         },
         "name": "backwardation",
         "offsetgroup": "backwardation",
         "orientation": "v",
         "showlegend": true,
         "textposition": "auto",
         "type": "bar",
         "x": [
          "backwardation"
         ],
         "xaxis": "x",
         "y": [
          3
         ],
         "yaxis": "y"
        },
        {
         "alignmentgroup": "True",
         "hovertemplate": "tag=%{x}<br>count=%{y}<extra></extra>",
         "legendgroup": "hodl",
         "marker": {
          "color": "#EF553B",
          "pattern": {
           "shape": ""
          }
         },
         "name": "hodl",
         "offsetgroup": "hodl",
         "orientation": "v",
         "showlegend": true,
         "textposition": "auto",
         "type": "bar",
         "x": [
          "hodl"
         ],
         "xaxis": "x",
         "y": [
          2
         ],
         "yaxis": "y"
        }
       ],
       "layout": {
        "barmode": "relative",
        "legend": {
         "title": {},
         "tracegroupgap": 0
        },
        "margin": {
         "b": 0,
         "l": 0,
         "r": 0,
         "t": 30
        },
        "template": {
         "data": {
          "bar": [
           {
            "error_x": {
             "color": "#2a3f5f"
            },
            "error_y": {
             "color": "#2a3f5f"
            },
            "marker": {
             "line": {
              "color": "#E5ECF6",
              "width": 0.5
             },
             "pattern": {
              "fillmode": "overlay",
              "size": 10,
              "solidity": 0.2
             }
            },
            "type": "bar"
           }
          ],
          "barpolar": [
           {
            "marker": {
             "line": {
              "color": "#E5ECF6",
              "width": 0.5
             },
             "pattern": {
              "fillmode": "overlay",
              "size": 10,
              "solidity": 0.2
             }
            },
            "type": "barpolar"
           }
          ],
          "carpet": [
           {
            "aaxis": {
             "endlinecolor": "#2a3f5f",
             "gridcolor": "white",
             "linecolor": "white",
             "minorgridcolor": "white",
             "startlinecolor": "#2a3f5f"
            },
            "baxis": {
             "endlinecolor": "#2a3f5f",
             "gridcolor": "white",
             "linecolor": "white",
             "minorgridcolor": "white",
             "startlinecolor": "#2a3f5f"
            },
            "type": "carpet"
           }
          ],
          "choropleth": [
           {
            "colorbar": {
             "outlinewidth": 0,
             "ticks": ""
            },
            "type": "choropleth"
           }
          ],
          "contour": [
           {
            "colorbar": {
             "outlinewidth": 0,
             "ticks": ""
            },
            "colorscale": [
             [
              0,
              "#0d0887"
             ],
             [
              0.1111111111111111,
              "#46039f"
             ],
             [
              0.2222222222222222,
              "#7201a8"
             ],
             [
              0.3333333333333333,
              "#9c179e"
             ],
             [
              0.4444444444444444,
              "#bd3786"
             ],
             [
              0.5555555555555556,
              "#d8576b"
             ],
             [
              0.6666666666666666,
              "#ed7953"
             ],
             [
              0.7777777777777778,
              "#fb9f3a"
             ],
             [
              0.8888888888888888,
              "#fdca26"
             ],
             [
              1,
              "#f0f921"
             ]
            ],
            "type": "contour"
           }
          ],
          "contourcarpet": [
           {
            "colorbar": {
             "outlinewidth": 0,
             "ticks": ""
            },
            "type": "contourcarpet"
           }
          ],
          "heatmap": [
           {
            "colorbar": {
             "outlinewidth": 0,
             "ticks": ""
            },
            "colorscale": [
             [
              0,
              "#0d0887"
             ],
             [
              0.1111111111111111,
              "#46039f"
             ],
             [
              0.2222222222222222,
              "#7201a8"
             ],
             [
              0.3333333333333333,
              "#9c179e"
             ],
             [
              0.4444444444444444,
              "#bd3786"
             ],
             [
              0.5555555555555556,
              "#d8576b"
             ],
             [
              0.6666666666666666,
              "#ed7953"
             ],
             [
              0.7777777777777778,
              "#fb9f3a"
             ],
             [
              0.8888888888888888,
              "#fdca26"
             ],
             [
              1,
              "#f0f921"
             ]
            ],
            "type": "heatmap"
           }
          ],
          "heatmapgl": [
           {
            "colorbar": {
             "outlinewidth": 0,
             "ticks": ""
            },
            "colorscale": [
             [
              0,
              "#0d0887"
             ],
             [
              0.1111111111111111,
              "#46039f"
             ],
             [
              0.2222222222222222,
              "#7201a8"
             ],
             [
              0.3333333333333333,
              "#9c179e"
             ],
             [
              0.4444444444444444,
              "#bd3786"
             ],
             [
              0.5555555555555556,
              "#d8576b"
             ],
             [
              0.6666666666666666,
              "#ed7953"
             ],
             [
              0.7777777777777778,
              "#fb9f3a"
             ],
             [
              0.8888888888888888,
              "#fdca26"
             ],
             [
              1,
              "#f0f921"
             ]
            ],
            "type": "heatmapgl"
           }
          ],
          "histogram": [
           {
            "marker": {
             "pattern": {
              "fillmode": "overlay",
              "size": 10,
              "solidity": 0.2
             }
            },
            "type": "histogram"
           }
          ],
          "histogram2d": [
           {
            "colorbar": {
             "outlinewidth": 0,
             "ticks": ""
            },
            "colorscale": [
             [
              0,
              "#0d0887"
             ],
             [
              0.1111111111111111,
              "#46039f"
             ],
             [
              0.2222222222222222,
              "#7201a8"
             ],
             [
              0.3333333333333333,
              "#9c179e"
             ],
             [
              0.4444444444444444,
              "#bd3786"
             ],
             [
              0.5555555555555556,
              "#d8576b"
             ],
             [
              0.6666666666666666,
              "#ed7953"
             ],
             [
              0.7777777777777778,
              "#fb9f3a"
             ],
             [
              0.8888888888888888,
              "#fdca26"
             ],
             [
              1,
              "#f0f921"
             ]
            ],
            "type": "histogram2d"
           }
          ],
          "histogram2dcontour": [
           {
            "colorbar": {
             "outlinewidth": 0,
             "ticks": ""
            },
            "colorscale": [
             [
              0,
              "#0d0887"
             ],
             [
              0.1111111111111111,
              "#46039f"
             ],
             [
              0.2222222222222222,
              "#7201a8"
             ],
             [
              0.3333333333333333,
              "#9c179e"
             ],
             [
              0.4444444444444444,
              "#bd3786"
             ],
             [
              0.5555555555555556,
              "#d8576b"
             ],
             [
              0.6666666666666666,
              "#ed7953"
             ],
             [
              0.7777777777777778,
              "#fb9f3a"
             ],
             [
              0.8888888888888888,
              "#fdca26"
             ],
             [
              1,
              "#f0f921"
             ]
            ],
            "type": "histogram2dcontour"
           }
          ],
          "mesh3d": [
           {
            "colorbar": {
             "outlinewidth": 0,
             "ticks": ""
            },
            "type": "mesh3d"
           }
          ],
          "parcoords": [
           {
            "line": {
             "colorbar": {
              "outlinewidth": 0,
              "ticks": ""
             }
            },
            "type": "parcoords"
           }
          ],
          "pie": [
           {
            "automargin": true,
            "type": "pie"
           }
          ],
          "scatter": [
           {
            "fillpattern": {
             "fillmode": "overlay",
             "size": 10,
             "solidity": 0.2
            },
            "type": "scatter"
           }
          ],
          "scatter3d": [
           {
            "line": {
             "colorbar": {
              "outlinewidth": 0,
              "ticks": ""
             }
            },
            "marker": {
             "colorbar": {
              "outlinewidth": 0,
              "ticks": ""
             }
            },
            "type": "scatter3d"
           }
          ],
          "scattercarpet": [
           {
            "marker": {
             "colorbar": {
              "outlinewidth": 0,
              "ticks": ""
             }
            },
            "type": "scattercarpet"
           }
          ],
          "scattergeo": [
           {
            "marker": {
             "colorbar": {
              "outlinewidth": 0,
              "ticks": ""
             }
            },
            "type": "scattergeo"
           }
          ],
          "scattergl": [
           {
            "marker": {
             "colorbar": {
              "outlinewidth": 0,
              "ticks": ""
             }
            },
            "type": "scattergl"
           }
          ],
          "scattermapbox": [
           {
            "marker": {
             "colorbar": {
              "outlinewidth": 0,
              "ticks": ""
             }
            },
            "type": "scattermapbox"
           }
          ],
          "scatterpolar": [
           {
            "marker": {
             "colorbar": {
              "outlinewidth": 0,
              "ticks": ""
             }
            },
            "type": "scatterpolar"
           }
          ],
          "scatterpolargl": [
           {
            "marker": {
             "colorbar": {
              "outlinewidth": 0,
              "ticks": ""
             }
            },
            "type": "scatterpolargl"
           }
          ],
          "scatterternary": [
           {
            "marker": {
             "colorbar": {
              "outlinewidth": 0,
              "ticks": ""
             }
            },
            "type": "scatterternary"
           }
          ],
          "surface": [
           {
            "colorbar": {
             "outlinewidth": 0,
             "ticks": ""
            },
            "colorscale": [
             [
              0,
              "#0d0887"
             ],
             [
              0.1111111111111111,
              "#46039f"
             ],
             [
              0.2222222222222222,
              "#7201a8"
             ],
             [
              0.3333333333333333,
              "#9c179e"
             ],
             [
              0.4444444444444444,
              "#bd3786"
             ],
             [
              0.5555555555555556,
              "#d8576b"
             ],
             [
              0.6666666666666666,
              "#ed7953"
             ],
             [
              0.7777777777777778,
              "#fb9f3a"
             ],
             [
              0.8888888888888888,
              "#fdca26"
             ],
             [
              1,
              "#f0f921"
             ]
            ],
            "type": "surface"
           }
          ],
          "table": [
           {
            "cells": {
             "fill": {
              "color": "#EBF0F8"
             },
             "line": {
              "color": "white"
             }
            },
            "header": {
             "fill": {
              "color": "#C8D4E3"
             },
             "line": {
              "color": "white"
             }
            },
            "type": "table"
           }
          ]
         },
         "layout": {
          "annotationdefaults": {
           "arrowcolor": "#2a3f5f",
           "arrowhead": 0,
           "arrowwidth": 1
          },
          "autotypenumbers": "strict",
          "coloraxis": {
           "colorbar": {
            "outlinewidth": 0,
            "ticks": ""
           }
          },
          "colorscale": {
           "diverging": [
            [
             0,
             "#8e0152"
            ],
            [
             0.1,
             "#c51b7d"
            ],
            [
             0.2,
             "#de77ae"
            ],
            [
             0.3,
             "#f1b6da"
            ],
            [
             0.4,
             "#fde0ef"
            ],
            [
             0.5,
             "#f7f7f7"
            ],
            [
             0.6,
             "#e6f5d0"
            ],
            [
             0.7,
             "#b8e186"
            ],
            [
             0.8,
             "#7fbc41"
            ],
            [
             0.9,
             "#4d9221"
            ],
            [
             1,
             "#276419"
            ]
           ],
           "sequential": [
            [
             0,
             "#0d0887"
            ],
            [
             0.1111111111111111,
             "#46039f"
            ],
            [
             0.2222222222222222,
             "#7201a8"
            ],
            [
             0.3333333333333333,
             "#9c179e"
            ],
            [
             0.4444444444444444,
             "#bd3786"
            ],
            [
             0.5555555555555556,
             "#d8576b"
            ],
            [
             0.6666666666666666,
             "#ed7953"
            ],
            [
             0.7777777777777778,
             "#fb9f3a"
            ],
            [
             0.8888888888888888,
             "#fdca26"
            ],
            [
             1,
             "#f0f921"
            ]
           ],
           "sequentialminus": [
            [
             0,
             "#0d0887"
            ],
            [
             0.1111111111111111,
             "#46039f"
            ],
            [
             0.2222222222222222,
             "#7201a8"
            ],
            [
             0.3333333333333333,
             "#9c179e"
            ],
            [
             0.4444444444444444,
             "#bd3786"
            ],
            [
             0.5555555555555556,
             "#d8576b"
            ],
            [
             0.6666666666666666,
             "#ed7953"
            ],
            [
             0.7777777777777778,
             "#fb9f3a"
            ],
            [
             0.8888888888888888,
             "#fdca26"
            ],
            [
             1,
             "#f0f921"
            ]
           ]
          },
          "colorway": [
           "#636efa",
           "#EF553B",
           "#00cc96",
           "#ab63fa",
           "#FFA15A",
           "#19d3f3",
           "#FF6692",
           "#B6E880",
           "#FF97FF",
           "#FECB52"
          ],
          "font": {
           "color": "#2a3f5f"
          },
          "geo": {
           "bgcolor": "white",
           "lakecolor": "white",
           "landcolor": "#E5ECF6",
           "showlakes": true,
           "showland": true,
           "subunitcolor": "white"
          },
          "hoverlabel": {
           "align": "left"
          },
          "hovermode": "closest",
          "mapbox": {
           "style": "light"
          },
          "paper_bgcolor": "white",
          "plot_bgcolor": "#E5ECF6",
          "polar": {
           "angularaxis": {
            "gridcolor": "white",
            "linecolor": "white",
            "ticks": ""
           },
           "bgcolor": "#E5ECF6",
           "radialaxis": {
            "gridcolor": "white",
            "linecolor": "white",
            "ticks": ""
           }
          },
          "scene": {
           "xaxis": {
            "backgroundcolor": "#E5ECF6",
            "gridcolor": "white",
            "gridwidth": 2,
            "linecolor": "white",
            "showbackground": true,
            "ticks": "",
            "zerolinecolor": "white"
           },
           "yaxis": {
            "backgroundcolor": "#E5ECF6",
            "gridcolor": "white",
            "gridwidth": 2,
            "linecolor": "white",
            "showbackground": true,
            "ticks": "",
            "zerolinecolor": "white"
           },
           "zaxis": {
            "backgroundcolor": "#E5ECF6",
            "gridcolor": "white",
            "gridwidth": 2,
            "linecolor": "white",
            "showbackground": true,
            "ticks": "",
            "zerolinecolor": "white"
           }
          },
          "shapedefaults": {
           "line": {
            "color": "#2a3f5f"
           }
          },
          "ternary": {
           "aaxis": {
            "gridcolor": "white",
            "linecolor": "white",
            "ticks": ""
           },
           "baxis": {
            "gridcolor": "white",
            "linecolor": "white",
            "ticks": ""
           },
           "bgcolor": "#E5ECF6",
           "caxis": {
            "gridcolor": "white",
            "linecolor": "white",
            "ticks": ""
           }
          },
          "title": {
           "x": 0.05
          },
          "xaxis": {
           "automargin": true,
           "gridcolor": "white",
           "linecolor": "white",
           "ticks": "",
           "title": {
            "standoff": 15
           },
           "zerolinecolor": "white",
           "zerolinewidth": 2
          },
          "yaxis": {
           "automargin": true,
           "gridcolor": "white",
           "linecolor": "white",
           "ticks": "",
           "title": {
            "standoff": 15
           },
           "zerolinecolor": "white",
           "zerolinewidth": 2
          }
         }
        },
        "title": {
         "text": "market_tags",
         "x": 0.5,
         "xanchor": "center"
        },
        "xaxis": {
         "anchor": "y",
         "categoryarray": [
          "future",
          "equity",
          "crypto",
          "forex",
          "currency",
          "bitcoin",
          "fx",
          "altcoin",
          "liquidation",
          "contango",
          "backwardation",
          "hodl"
         ],
         "categoryorder": "array",
         "domain": [
          0,
          1
         ],
         "title": {
          "text": "Теги"
         }
        },
        "yaxis": {
         "anchor": "x",
         "domain": [
          0,
          1
         ],
         "title": {
          "text": "Количество"
         }
        }
       }
      }
     },
     "metadata": {},
     "output_type": "display_data"
    },
    {
     "data": {
      "application/vnd.plotly.v1+json": {
       "config": {
        "plotlyServerURL": "https://plot.ly"
       },
       "data": [
        {
         "alignmentgroup": "True",
         "hovertemplate": "tag=%{x}<br>count=%{y}<extra></extra>",
         "legendgroup": "reversal",
         "marker": {
          "color": "#636efa",
          "pattern": {
           "shape": ""
          }
         },
         "name": "reversal",
         "offsetgroup": "reversal",
         "orientation": "v",
         "showlegend": true,
         "textposition": "auto",
         "type": "bar",
         "x": [
          "reversal"
         ],
         "xaxis": "x",
         "y": [
          250
         ],
         "yaxis": "y"
        },
        {
         "alignmentgroup": "True",
         "hovertemplate": "tag=%{x}<br>count=%{y}<extra></extra>",
         "legendgroup": "oversold",
         "marker": {
          "color": "#EF553B",
          "pattern": {
           "shape": ""
          }
         },
         "name": "oversold",
         "offsetgroup": "oversold",
         "orientation": "v",
         "showlegend": true,
         "textposition": "auto",
         "type": "bar",
         "x": [
          "oversold"
         ],
         "xaxis": "x",
         "y": [
          151
         ],
         "yaxis": "y"
        },
        {
         "alignmentgroup": "True",
         "hovertemplate": "tag=%{x}<br>count=%{y}<extra></extra>",
         "legendgroup": "overbought",
         "marker": {
          "color": "#00cc96",
          "pattern": {
           "shape": ""
          }
         },
         "name": "overbought",
         "offsetgroup": "overbought",
         "orientation": "v",
         "showlegend": true,
         "textposition": "auto",
         "type": "bar",
         "x": [
          "overbought"
         ],
         "xaxis": "x",
         "y": [
          147
         ],
         "yaxis": "y"
        },
        {
         "alignmentgroup": "True",
         "hovertemplate": "tag=%{x}<br>count=%{y}<extra></extra>",
         "legendgroup": "trendfollow",
         "marker": {
          "color": "#ab63fa",
          "pattern": {
           "shape": ""
          }
         },
         "name": "trendfollow",
         "offsetgroup": "trendfollow",
         "orientation": "v",
         "showlegend": true,
         "textposition": "auto",
         "type": "bar",
         "x": [
          "trendfollow"
         ],
         "xaxis": "x",
         "y": [
          138
         ],
         "yaxis": "y"
        },
        {
         "alignmentgroup": "True",
         "hovertemplate": "tag=%{x}<br>count=%{y}<extra></extra>",
         "legendgroup": "breakout",
         "marker": {
          "color": "#FFA15A",
          "pattern": {
           "shape": ""
          }
         },
         "name": "breakout",
         "offsetgroup": "breakout",
         "orientation": "v",
         "showlegend": true,
         "textposition": "auto",
         "type": "bar",
         "x": [
          "breakout"
         ],
         "xaxis": "x",
         "y": [
          126
         ],
         "yaxis": "y"
        },
        {
         "alignmentgroup": "True",
         "hovertemplate": "tag=%{x}<br>count=%{y}<extra></extra>",
         "legendgroup": "divergence",
         "marker": {
          "color": "#19d3f3",
          "pattern": {
           "shape": ""
          }
         },
         "name": "divergence",
         "offsetgroup": "divergence",
         "orientation": "v",
         "showlegend": true,
         "textposition": "auto",
         "type": "bar",
         "x": [
          "divergence"
         ],
         "xaxis": "x",
         "y": [
          79
         ],
         "yaxis": "y"
        },
        {
         "alignmentgroup": "True",
         "hovertemplate": "tag=%{x}<br>count=%{y}<extra></extra>",
         "legendgroup": "reversion",
         "marker": {
          "color": "#FF6692",
          "pattern": {
           "shape": ""
          }
         },
         "name": "reversion",
         "offsetgroup": "reversion",
         "orientation": "v",
         "showlegend": true,
         "textposition": "auto",
         "type": "bar",
         "x": [
          "reversion"
         ],
         "xaxis": "x",
         "y": [
          71
         ],
         "yaxis": "y"
        },
        {
         "alignmentgroup": "True",
         "hovertemplate": "tag=%{x}<br>count=%{y}<extra></extra>",
         "legendgroup": "countertrend",
         "marker": {
          "color": "#B6E880",
          "pattern": {
           "shape": ""
          }
         },
         "name": "countertrend",
         "offsetgroup": "countertrend",
         "orientation": "v",
         "showlegend": true,
         "textposition": "auto",
         "type": "bar",
         "x": [
          "countertrend"
         ],
         "xaxis": "x",
         "y": [
          13
         ],
         "yaxis": "y"
        },
        {
         "alignmentgroup": "True",
         "hovertemplate": "tag=%{x}<br>count=%{y}<extra></extra>",
         "legendgroup": "movingaveragecrossover",
         "marker": {
          "color": "#FF97FF",
          "pattern": {
           "shape": ""
          }
         },
         "name": "movingaveragecrossover",
         "offsetgroup": "movingaveragecrossover",
         "orientation": "v",
         "showlegend": true,
         "textposition": "auto",
         "type": "bar",
         "x": [
          "movingaveragecrossover"
         ],
         "xaxis": "x",
         "y": [
          6
         ],
         "yaxis": "y"
        },
        {
         "alignmentgroup": "True",
         "hovertemplate": "tag=%{x}<br>count=%{y}<extra></extra>",
         "legendgroup": "channelbreak",
         "marker": {
          "color": "#FECB52",
          "pattern": {
           "shape": ""
          }
         },
         "name": "channelbreak",
         "offsetgroup": "channelbreak",
         "orientation": "v",
         "showlegend": true,
         "textposition": "auto",
         "type": "bar",
         "x": [
          "channelbreak"
         ],
         "xaxis": "x",
         "y": [
          1
         ],
         "yaxis": "y"
        }
       ],
       "layout": {
        "barmode": "relative",
        "legend": {
         "title": {},
         "tracegroupgap": 0
        },
        "margin": {
         "b": 0,
         "l": 0,
         "r": 0,
         "t": 30
        },
        "template": {
         "data": {
          "bar": [
           {
            "error_x": {
             "color": "#2a3f5f"
            },
            "error_y": {
             "color": "#2a3f5f"
            },
            "marker": {
             "line": {
              "color": "#E5ECF6",
              "width": 0.5
             },
             "pattern": {
              "fillmode": "overlay",
              "size": 10,
              "solidity": 0.2
             }
            },
            "type": "bar"
           }
          ],
          "barpolar": [
           {
            "marker": {
             "line": {
              "color": "#E5ECF6",
              "width": 0.5
             },
             "pattern": {
              "fillmode": "overlay",
              "size": 10,
              "solidity": 0.2
             }
            },
            "type": "barpolar"
           }
          ],
          "carpet": [
           {
            "aaxis": {
             "endlinecolor": "#2a3f5f",
             "gridcolor": "white",
             "linecolor": "white",
             "minorgridcolor": "white",
             "startlinecolor": "#2a3f5f"
            },
            "baxis": {
             "endlinecolor": "#2a3f5f",
             "gridcolor": "white",
             "linecolor": "white",
             "minorgridcolor": "white",
             "startlinecolor": "#2a3f5f"
            },
            "type": "carpet"
           }
          ],
          "choropleth": [
           {
            "colorbar": {
             "outlinewidth": 0,
             "ticks": ""
            },
            "type": "choropleth"
           }
          ],
          "contour": [
           {
            "colorbar": {
             "outlinewidth": 0,
             "ticks": ""
            },
            "colorscale": [
             [
              0,
              "#0d0887"
             ],
             [
              0.1111111111111111,
              "#46039f"
             ],
             [
              0.2222222222222222,
              "#7201a8"
             ],
             [
              0.3333333333333333,
              "#9c179e"
             ],
             [
              0.4444444444444444,
              "#bd3786"
             ],
             [
              0.5555555555555556,
              "#d8576b"
             ],
             [
              0.6666666666666666,
              "#ed7953"
             ],
             [
              0.7777777777777778,
              "#fb9f3a"
             ],
             [
              0.8888888888888888,
              "#fdca26"
             ],
             [
              1,
              "#f0f921"
             ]
            ],
            "type": "contour"
           }
          ],
          "contourcarpet": [
           {
            "colorbar": {
             "outlinewidth": 0,
             "ticks": ""
            },
            "type": "contourcarpet"
           }
          ],
          "heatmap": [
           {
            "colorbar": {
             "outlinewidth": 0,
             "ticks": ""
            },
            "colorscale": [
             [
              0,
              "#0d0887"
             ],
             [
              0.1111111111111111,
              "#46039f"
             ],
             [
              0.2222222222222222,
              "#7201a8"
             ],
             [
              0.3333333333333333,
              "#9c179e"
             ],
             [
              0.4444444444444444,
              "#bd3786"
             ],
             [
              0.5555555555555556,
              "#d8576b"
             ],
             [
              0.6666666666666666,
              "#ed7953"
             ],
             [
              0.7777777777777778,
              "#fb9f3a"
             ],
             [
              0.8888888888888888,
              "#fdca26"
             ],
             [
              1,
              "#f0f921"
             ]
            ],
            "type": "heatmap"
           }
          ],
          "heatmapgl": [
           {
            "colorbar": {
             "outlinewidth": 0,
             "ticks": ""
            },
            "colorscale": [
             [
              0,
              "#0d0887"
             ],
             [
              0.1111111111111111,
              "#46039f"
             ],
             [
              0.2222222222222222,
              "#7201a8"
             ],
             [
              0.3333333333333333,
              "#9c179e"
             ],
             [
              0.4444444444444444,
              "#bd3786"
             ],
             [
              0.5555555555555556,
              "#d8576b"
             ],
             [
              0.6666666666666666,
              "#ed7953"
             ],
             [
              0.7777777777777778,
              "#fb9f3a"
             ],
             [
              0.8888888888888888,
              "#fdca26"
             ],
             [
              1,
              "#f0f921"
             ]
            ],
            "type": "heatmapgl"
           }
          ],
          "histogram": [
           {
            "marker": {
             "pattern": {
              "fillmode": "overlay",
              "size": 10,
              "solidity": 0.2
             }
            },
            "type": "histogram"
           }
          ],
          "histogram2d": [
           {
            "colorbar": {
             "outlinewidth": 0,
             "ticks": ""
            },
            "colorscale": [
             [
              0,
              "#0d0887"
             ],
             [
              0.1111111111111111,
              "#46039f"
             ],
             [
              0.2222222222222222,
              "#7201a8"
             ],
             [
              0.3333333333333333,
              "#9c179e"
             ],
             [
              0.4444444444444444,
              "#bd3786"
             ],
             [
              0.5555555555555556,
              "#d8576b"
             ],
             [
              0.6666666666666666,
              "#ed7953"
             ],
             [
              0.7777777777777778,
              "#fb9f3a"
             ],
             [
              0.8888888888888888,
              "#fdca26"
             ],
             [
              1,
              "#f0f921"
             ]
            ],
            "type": "histogram2d"
           }
          ],
          "histogram2dcontour": [
           {
            "colorbar": {
             "outlinewidth": 0,
             "ticks": ""
            },
            "colorscale": [
             [
              0,
              "#0d0887"
             ],
             [
              0.1111111111111111,
              "#46039f"
             ],
             [
              0.2222222222222222,
              "#7201a8"
             ],
             [
              0.3333333333333333,
              "#9c179e"
             ],
             [
              0.4444444444444444,
              "#bd3786"
             ],
             [
              0.5555555555555556,
              "#d8576b"
             ],
             [
              0.6666666666666666,
              "#ed7953"
             ],
             [
              0.7777777777777778,
              "#fb9f3a"
             ],
             [
              0.8888888888888888,
              "#fdca26"
             ],
             [
              1,
              "#f0f921"
             ]
            ],
            "type": "histogram2dcontour"
           }
          ],
          "mesh3d": [
           {
            "colorbar": {
             "outlinewidth": 0,
             "ticks": ""
            },
            "type": "mesh3d"
           }
          ],
          "parcoords": [
           {
            "line": {
             "colorbar": {
              "outlinewidth": 0,
              "ticks": ""
             }
            },
            "type": "parcoords"
           }
          ],
          "pie": [
           {
            "automargin": true,
            "type": "pie"
           }
          ],
          "scatter": [
           {
            "fillpattern": {
             "fillmode": "overlay",
             "size": 10,
             "solidity": 0.2
            },
            "type": "scatter"
           }
          ],
          "scatter3d": [
           {
            "line": {
             "colorbar": {
              "outlinewidth": 0,
              "ticks": ""
             }
            },
            "marker": {
             "colorbar": {
              "outlinewidth": 0,
              "ticks": ""
             }
            },
            "type": "scatter3d"
           }
          ],
          "scattercarpet": [
           {
            "marker": {
             "colorbar": {
              "outlinewidth": 0,
              "ticks": ""
             }
            },
            "type": "scattercarpet"
           }
          ],
          "scattergeo": [
           {
            "marker": {
             "colorbar": {
              "outlinewidth": 0,
              "ticks": ""
             }
            },
            "type": "scattergeo"
           }
          ],
          "scattergl": [
           {
            "marker": {
             "colorbar": {
              "outlinewidth": 0,
              "ticks": ""
             }
            },
            "type": "scattergl"
           }
          ],
          "scattermapbox": [
           {
            "marker": {
             "colorbar": {
              "outlinewidth": 0,
              "ticks": ""
             }
            },
            "type": "scattermapbox"
           }
          ],
          "scatterpolar": [
           {
            "marker": {
             "colorbar": {
              "outlinewidth": 0,
              "ticks": ""
             }
            },
            "type": "scatterpolar"
           }
          ],
          "scatterpolargl": [
           {
            "marker": {
             "colorbar": {
              "outlinewidth": 0,
              "ticks": ""
             }
            },
            "type": "scatterpolargl"
           }
          ],
          "scatterternary": [
           {
            "marker": {
             "colorbar": {
              "outlinewidth": 0,
              "ticks": ""
             }
            },
            "type": "scatterternary"
           }
          ],
          "surface": [
           {
            "colorbar": {
             "outlinewidth": 0,
             "ticks": ""
            },
            "colorscale": [
             [
              0,
              "#0d0887"
             ],
             [
              0.1111111111111111,
              "#46039f"
             ],
             [
              0.2222222222222222,
              "#7201a8"
             ],
             [
              0.3333333333333333,
              "#9c179e"
             ],
             [
              0.4444444444444444,
              "#bd3786"
             ],
             [
              0.5555555555555556,
              "#d8576b"
             ],
             [
              0.6666666666666666,
              "#ed7953"
             ],
             [
              0.7777777777777778,
              "#fb9f3a"
             ],
             [
              0.8888888888888888,
              "#fdca26"
             ],
             [
              1,
              "#f0f921"
             ]
            ],
            "type": "surface"
           }
          ],
          "table": [
           {
            "cells": {
             "fill": {
              "color": "#EBF0F8"
             },
             "line": {
              "color": "white"
             }
            },
            "header": {
             "fill": {
              "color": "#C8D4E3"
             },
             "line": {
              "color": "white"
             }
            },
            "type": "table"
           }
          ]
         },
         "layout": {
          "annotationdefaults": {
           "arrowcolor": "#2a3f5f",
           "arrowhead": 0,
           "arrowwidth": 1
          },
          "autotypenumbers": "strict",
          "coloraxis": {
           "colorbar": {
            "outlinewidth": 0,
            "ticks": ""
           }
          },
          "colorscale": {
           "diverging": [
            [
             0,
             "#8e0152"
            ],
            [
             0.1,
             "#c51b7d"
            ],
            [
             0.2,
             "#de77ae"
            ],
            [
             0.3,
             "#f1b6da"
            ],
            [
             0.4,
             "#fde0ef"
            ],
            [
             0.5,
             "#f7f7f7"
            ],
            [
             0.6,
             "#e6f5d0"
            ],
            [
             0.7,
             "#b8e186"
            ],
            [
             0.8,
             "#7fbc41"
            ],
            [
             0.9,
             "#4d9221"
            ],
            [
             1,
             "#276419"
            ]
           ],
           "sequential": [
            [
             0,
             "#0d0887"
            ],
            [
             0.1111111111111111,
             "#46039f"
            ],
            [
             0.2222222222222222,
             "#7201a8"
            ],
            [
             0.3333333333333333,
             "#9c179e"
            ],
            [
             0.4444444444444444,
             "#bd3786"
            ],
            [
             0.5555555555555556,
             "#d8576b"
            ],
            [
             0.6666666666666666,
             "#ed7953"
            ],
            [
             0.7777777777777778,
             "#fb9f3a"
            ],
            [
             0.8888888888888888,
             "#fdca26"
            ],
            [
             1,
             "#f0f921"
            ]
           ],
           "sequentialminus": [
            [
             0,
             "#0d0887"
            ],
            [
             0.1111111111111111,
             "#46039f"
            ],
            [
             0.2222222222222222,
             "#7201a8"
            ],
            [
             0.3333333333333333,
             "#9c179e"
            ],
            [
             0.4444444444444444,
             "#bd3786"
            ],
            [
             0.5555555555555556,
             "#d8576b"
            ],
            [
             0.6666666666666666,
             "#ed7953"
            ],
            [
             0.7777777777777778,
             "#fb9f3a"
            ],
            [
             0.8888888888888888,
             "#fdca26"
            ],
            [
             1,
             "#f0f921"
            ]
           ]
          },
          "colorway": [
           "#636efa",
           "#EF553B",
           "#00cc96",
           "#ab63fa",
           "#FFA15A",
           "#19d3f3",
           "#FF6692",
           "#B6E880",
           "#FF97FF",
           "#FECB52"
          ],
          "font": {
           "color": "#2a3f5f"
          },
          "geo": {
           "bgcolor": "white",
           "lakecolor": "white",
           "landcolor": "#E5ECF6",
           "showlakes": true,
           "showland": true,
           "subunitcolor": "white"
          },
          "hoverlabel": {
           "align": "left"
          },
          "hovermode": "closest",
          "mapbox": {
           "style": "light"
          },
          "paper_bgcolor": "white",
          "plot_bgcolor": "#E5ECF6",
          "polar": {
           "angularaxis": {
            "gridcolor": "white",
            "linecolor": "white",
            "ticks": ""
           },
           "bgcolor": "#E5ECF6",
           "radialaxis": {
            "gridcolor": "white",
            "linecolor": "white",
            "ticks": ""
           }
          },
          "scene": {
           "xaxis": {
            "backgroundcolor": "#E5ECF6",
            "gridcolor": "white",
            "gridwidth": 2,
            "linecolor": "white",
            "showbackground": true,
            "ticks": "",
            "zerolinecolor": "white"
           },
           "yaxis": {
            "backgroundcolor": "#E5ECF6",
            "gridcolor": "white",
            "gridwidth": 2,
            "linecolor": "white",
            "showbackground": true,
            "ticks": "",
            "zerolinecolor": "white"
           },
           "zaxis": {
            "backgroundcolor": "#E5ECF6",
            "gridcolor": "white",
            "gridwidth": 2,
            "linecolor": "white",
            "showbackground": true,
            "ticks": "",
            "zerolinecolor": "white"
           }
          },
          "shapedefaults": {
           "line": {
            "color": "#2a3f5f"
           }
          },
          "ternary": {
           "aaxis": {
            "gridcolor": "white",
            "linecolor": "white",
            "ticks": ""
           },
           "baxis": {
            "gridcolor": "white",
            "linecolor": "white",
            "ticks": ""
           },
           "bgcolor": "#E5ECF6",
           "caxis": {
            "gridcolor": "white",
            "linecolor": "white",
            "ticks": ""
           }
          },
          "title": {
           "x": 0.05
          },
          "xaxis": {
           "automargin": true,
           "gridcolor": "white",
           "linecolor": "white",
           "ticks": "",
           "title": {
            "standoff": 15
           },
           "zerolinecolor": "white",
           "zerolinewidth": 2
          },
          "yaxis": {
           "automargin": true,
           "gridcolor": "white",
           "linecolor": "white",
           "ticks": "",
           "title": {
            "standoff": 15
           },
           "zerolinecolor": "white",
           "zerolinewidth": 2
          }
         }
        },
        "title": {
         "text": "mechanism_tags",
         "x": 0.5,
         "xanchor": "center"
        },
        "xaxis": {
         "anchor": "y",
         "categoryarray": [
          "reversal",
          "oversold",
          "overbought",
          "trendfollow",
          "breakout",
          "divergence",
          "reversion",
          "countertrend",
          "movingaveragecrossover",
          "channelbreak"
         ],
         "categoryorder": "array",
         "domain": [
          0,
          1
         ],
         "title": {
          "text": "Теги"
         }
        },
        "yaxis": {
         "anchor": "x",
         "domain": [
          0,
          1
         ],
         "title": {
          "text": "Количество"
         }
        }
       }
      }
     },
     "metadata": {},
     "output_type": "display_data"
    },
    {
     "data": {
      "application/vnd.plotly.v1+json": {
       "config": {
        "plotlyServerURL": "https://plot.ly"
       },
       "data": [
        {
         "alignmentgroup": "True",
         "hovertemplate": "tag=%{x}<br>count=%{y}<extra></extra>",
         "legendgroup": "pe",
         "marker": {
          "color": "#636efa",
          "pattern": {
           "shape": ""
          }
         },
         "name": "pe",
         "offsetgroup": "pe",
         "orientation": "v",
         "showlegend": true,
         "textposition": "auto",
         "type": "bar",
         "x": [
          "pe"
         ],
         "xaxis": "x",
         "y": [
          765
         ],
         "yaxis": "y"
        },
        {
         "alignmentgroup": "True",
         "hovertemplate": "tag=%{x}<br>count=%{y}<extra></extra>",
         "legendgroup": "indicator",
         "marker": {
          "color": "#EF553B",
          "pattern": {
           "shape": ""
          }
         },
         "name": "indicator",
         "offsetgroup": "indicator",
         "orientation": "v",
         "showlegend": true,
         "textposition": "auto",
         "type": "bar",
         "x": [
          "indicator"
         ],
         "xaxis": "x",
         "y": [
          507
         ],
         "yaxis": "y"
        },
        {
         "alignmentgroup": "True",
         "hovertemplate": "tag=%{x}<br>count=%{y}<extra></extra>",
         "legendgroup": "atr",
         "marker": {
          "color": "#00cc96",
          "pattern": {
           "shape": ""
          }
         },
         "name": "atr",
         "offsetgroup": "atr",
         "orientation": "v",
         "showlegend": true,
         "textposition": "auto",
         "type": "bar",
         "x": [
          "atr"
         ],
         "xaxis": "x",
         "y": [
          258
         ],
         "yaxis": "y"
        },
        {
         "alignmentgroup": "True",
         "hovertemplate": "tag=%{x}<br>count=%{y}<extra></extra>",
         "legendgroup": "technical",
         "marker": {
          "color": "#ab63fa",
          "pattern": {
           "shape": ""
          }
         },
         "name": "technical",
         "offsetgroup": "technical",
         "orientation": "v",
         "showlegend": true,
         "textposition": "auto",
         "type": "bar",
         "x": [
          "technical"
         ],
         "xaxis": "x",
         "y": [
          170
         ],
         "yaxis": "y"
        },
        {
         "alignmentgroup": "True",
         "hovertemplate": "tag=%{x}<br>count=%{y}<extra></extra>",
         "legendgroup": "sr",
         "marker": {
          "color": "#FFA15A",
          "pattern": {
           "shape": ""
          }
         },
         "name": "sr",
         "offsetgroup": "sr",
         "orientation": "v",
         "showlegend": true,
         "textposition": "auto",
         "type": "bar",
         "x": [
          "sr"
         ],
         "xaxis": "x",
         "y": [
          159
         ],
         "yaxis": "y"
        },
        {
         "alignmentgroup": "True",
         "hovertemplate": "tag=%{x}<br>count=%{y}<extra></extra>",
         "legendgroup": "volume",
         "marker": {
          "color": "#19d3f3",
          "pattern": {
           "shape": ""
          }
         },
         "name": "volume",
         "offsetgroup": "volume",
         "orientation": "v",
         "showlegend": true,
         "textposition": "auto",
         "type": "bar",
         "x": [
          "volume"
         ],
         "xaxis": "x",
         "y": [
          157
         ],
         "yaxis": "y"
        },
        {
         "alignmentgroup": "True",
         "hovertemplate": "tag=%{x}<br>count=%{y}<extra></extra>",
         "legendgroup": "candlestick",
         "marker": {
          "color": "#FF6692",
          "pattern": {
           "shape": ""
          }
         },
         "name": "candlestick",
         "offsetgroup": "candlestick",
         "orientation": "v",
         "showlegend": true,
         "textposition": "auto",
         "type": "bar",
         "x": [
          "candlestick"
         ],
         "xaxis": "x",
         "y": [
          142
         ],
         "yaxis": "y"
        },
        {
         "alignmentgroup": "True",
         "hovertemplate": "tag=%{x}<br>count=%{y}<extra></extra>",
         "legendgroup": "liquidity",
         "marker": {
          "color": "#B6E880",
          "pattern": {
           "shape": ""
          }
         },
         "name": "liquidity",
         "offsetgroup": "liquidity",
         "orientation": "v",
         "showlegend": true,
         "textposition": "auto",
         "type": "bar",
         "x": [
          "liquidity"
         ],
         "xaxis": "x",
         "y": [
          54
         ],
         "yaxis": "y"
        },
        {
         "alignmentgroup": "True",
         "hovertemplate": "tag=%{x}<br>count=%{y}<extra></extra>",
         "legendgroup": "fundamental",
         "marker": {
          "color": "#FF97FF",
          "pattern": {
           "shape": ""
          }
         },
         "name": "fundamental",
         "offsetgroup": "fundamental",
         "orientation": "v",
         "showlegend": true,
         "textposition": "auto",
         "type": "bar",
         "x": [
          "fundamental"
         ],
         "xaxis": "x",
         "y": [
          34
         ],
         "yaxis": "y"
        },
        {
         "alignmentgroup": "True",
         "hovertemplate": "tag=%{x}<br>count=%{y}<extra></extra>",
         "legendgroup": "fibonacci",
         "marker": {
          "color": "#FECB52",
          "pattern": {
           "shape": ""
          }
         },
         "name": "fibonacci",
         "offsetgroup": "fibonacci",
         "orientation": "v",
         "showlegend": true,
         "textposition": "auto",
         "type": "bar",
         "x": [
          "fibonacci"
         ],
         "xaxis": "x",
         "y": [
          31
         ],
         "yaxis": "y"
        },
        {
         "alignmentgroup": "True",
         "hovertemplate": "tag=%{x}<br>count=%{y}<extra></extra>",
         "legendgroup": "supportresistance",
         "marker": {
          "color": "#636efa",
          "pattern": {
           "shape": ""
          }
         },
         "name": "supportresistance",
         "offsetgroup": "supportresistance",
         "orientation": "v",
         "showlegend": true,
         "textposition": "auto",
         "type": "bar",
         "x": [
          "supportresistance"
         ],
         "xaxis": "x",
         "y": [
          24
         ],
         "yaxis": "y"
        },
        {
         "alignmentgroup": "True",
         "hovertemplate": "tag=%{x}<br>count=%{y}<extra></extra>",
         "legendgroup": "vwap",
         "marker": {
          "color": "#EF553B",
          "pattern": {
           "shape": ""
          }
         },
         "name": "vwap",
         "offsetgroup": "vwap",
         "orientation": "v",
         "showlegend": true,
         "textposition": "auto",
         "type": "bar",
         "x": [
          "vwap"
         ],
         "xaxis": "x",
         "y": [
          22
         ],
         "yaxis": "y"
        },
        {
         "alignmentgroup": "True",
         "hovertemplate": "tag=%{x}<br>count=%{y}<extra></extra>",
         "legendgroup": "engulfing",
         "marker": {
          "color": "#00cc96",
          "pattern": {
           "shape": ""
          }
         },
         "name": "engulfing",
         "offsetgroup": "engulfing",
         "orientation": "v",
         "showlegend": true,
         "textposition": "auto",
         "type": "bar",
         "x": [
          "engulfing"
         ],
         "xaxis": "x",
         "y": [
          16
         ],
         "yaxis": "y"
        },
        {
         "alignmentgroup": "True",
         "hovertemplate": "tag=%{x}<br>count=%{y}<extra></extra>",
         "legendgroup": "valuation",
         "marker": {
          "color": "#ab63fa",
          "pattern": {
           "shape": ""
          }
         },
         "name": "valuation",
         "offsetgroup": "valuation",
         "orientation": "v",
         "showlegend": true,
         "textposition": "auto",
         "type": "bar",
         "x": [
          "valuation"
         ],
         "xaxis": "x",
         "y": [
          15
         ],
         "yaxis": "y"
        },
        {
         "alignmentgroup": "True",
         "hovertemplate": "tag=%{x}<br>count=%{y}<extra></extra>",
         "legendgroup": "obv",
         "marker": {
          "color": "#FFA15A",
          "pattern": {
           "shape": ""
          }
         },
         "name": "obv",
         "offsetgroup": "obv",
         "orientation": "v",
         "showlegend": true,
         "textposition": "auto",
         "type": "bar",
         "x": [
          "obv"
         ],
         "xaxis": "x",
         "y": [
          12
         ],
         "yaxis": "y"
        },
        {
         "alignmentgroup": "True",
         "hovertemplate": "tag=%{x}<br>count=%{y}<extra></extra>",
         "legendgroup": "earnings",
         "marker": {
          "color": "#19d3f3",
          "pattern": {
           "shape": ""
          }
         },
         "name": "earnings",
         "offsetgroup": "earnings",
         "orientation": "v",
         "showlegend": true,
         "textposition": "auto",
         "type": "bar",
         "x": [
          "earnings"
         ],
         "xaxis": "x",
         "y": [
          9
         ],
         "yaxis": "y"
        },
        {
         "alignmentgroup": "True",
         "hovertemplate": "tag=%{x}<br>count=%{y}<extra></extra>",
         "legendgroup": "priceaction",
         "marker": {
          "color": "#FF6692",
          "pattern": {
           "shape": ""
          }
         },
         "name": "priceaction",
         "offsetgroup": "priceaction",
         "orientation": "v",
         "showlegend": true,
         "textposition": "auto",
         "type": "bar",
         "x": [
          "priceaction"
         ],
         "xaxis": "x",
         "y": [
          7
         ],
         "yaxis": "y"
        },
        {
         "alignmentgroup": "True",
         "hovertemplate": "tag=%{x}<br>count=%{y}<extra></extra>",
         "legendgroup": "harmonic",
         "marker": {
          "color": "#B6E880",
          "pattern": {
           "shape": ""
          }
         },
         "name": "harmonic",
         "offsetgroup": "harmonic",
         "orientation": "v",
         "showlegend": true,
         "textposition": "auto",
         "type": "bar",
         "x": [
          "harmonic"
         ],
         "xaxis": "x",
         "y": [
          5
         ],
         "yaxis": "y"
        },
        {
         "alignmentgroup": "True",
         "hovertemplate": "tag=%{x}<br>count=%{y}<extra></extra>",
         "legendgroup": "cvd",
         "marker": {
          "color": "#FF97FF",
          "pattern": {
           "shape": ""
          }
         },
         "name": "cvd",
         "offsetgroup": "cvd",
         "orientation": "v",
         "showlegend": true,
         "textposition": "auto",
         "type": "bar",
         "x": [
          "cvd"
         ],
         "xaxis": "x",
         "y": [
          3
         ],
         "yaxis": "y"
        },
        {
         "alignmentgroup": "True",
         "hovertemplate": "tag=%{x}<br>count=%{y}<extra></extra>",
         "legendgroup": "financials",
         "marker": {
          "color": "#FECB52",
          "pattern": {
           "shape": ""
          }
         },
         "name": "financials",
         "offsetgroup": "financials",
         "orientation": "v",
         "showlegend": true,
         "textposition": "auto",
         "type": "bar",
         "x": [
          "financials"
         ],
         "xaxis": "x",
         "y": [
          1
         ],
         "yaxis": "y"
        }
       ],
       "layout": {
        "barmode": "relative",
        "legend": {
         "title": {},
         "tracegroupgap": 0
        },
        "margin": {
         "b": 0,
         "l": 0,
         "r": 0,
         "t": 30
        },
        "template": {
         "data": {
          "bar": [
           {
            "error_x": {
             "color": "#2a3f5f"
            },
            "error_y": {
             "color": "#2a3f5f"
            },
            "marker": {
             "line": {
              "color": "#E5ECF6",
              "width": 0.5
             },
             "pattern": {
              "fillmode": "overlay",
              "size": 10,
              "solidity": 0.2
             }
            },
            "type": "bar"
           }
          ],
          "barpolar": [
           {
            "marker": {
             "line": {
              "color": "#E5ECF6",
              "width": 0.5
             },
             "pattern": {
              "fillmode": "overlay",
              "size": 10,
              "solidity": 0.2
             }
            },
            "type": "barpolar"
           }
          ],
          "carpet": [
           {
            "aaxis": {
             "endlinecolor": "#2a3f5f",
             "gridcolor": "white",
             "linecolor": "white",
             "minorgridcolor": "white",
             "startlinecolor": "#2a3f5f"
            },
            "baxis": {
             "endlinecolor": "#2a3f5f",
             "gridcolor": "white",
             "linecolor": "white",
             "minorgridcolor": "white",
             "startlinecolor": "#2a3f5f"
            },
            "type": "carpet"
           }
          ],
          "choropleth": [
           {
            "colorbar": {
             "outlinewidth": 0,
             "ticks": ""
            },
            "type": "choropleth"
           }
          ],
          "contour": [
           {
            "colorbar": {
             "outlinewidth": 0,
             "ticks": ""
            },
            "colorscale": [
             [
              0,
              "#0d0887"
             ],
             [
              0.1111111111111111,
              "#46039f"
             ],
             [
              0.2222222222222222,
              "#7201a8"
             ],
             [
              0.3333333333333333,
              "#9c179e"
             ],
             [
              0.4444444444444444,
              "#bd3786"
             ],
             [
              0.5555555555555556,
              "#d8576b"
             ],
             [
              0.6666666666666666,
              "#ed7953"
             ],
             [
              0.7777777777777778,
              "#fb9f3a"
             ],
             [
              0.8888888888888888,
              "#fdca26"
             ],
             [
              1,
              "#f0f921"
             ]
            ],
            "type": "contour"
           }
          ],
          "contourcarpet": [
           {
            "colorbar": {
             "outlinewidth": 0,
             "ticks": ""
            },
            "type": "contourcarpet"
           }
          ],
          "heatmap": [
           {
            "colorbar": {
             "outlinewidth": 0,
             "ticks": ""
            },
            "colorscale": [
             [
              0,
              "#0d0887"
             ],
             [
              0.1111111111111111,
              "#46039f"
             ],
             [
              0.2222222222222222,
              "#7201a8"
             ],
             [
              0.3333333333333333,
              "#9c179e"
             ],
             [
              0.4444444444444444,
              "#bd3786"
             ],
             [
              0.5555555555555556,
              "#d8576b"
             ],
             [
              0.6666666666666666,
              "#ed7953"
             ],
             [
              0.7777777777777778,
              "#fb9f3a"
             ],
             [
              0.8888888888888888,
              "#fdca26"
             ],
             [
              1,
              "#f0f921"
             ]
            ],
            "type": "heatmap"
           }
          ],
          "heatmapgl": [
           {
            "colorbar": {
             "outlinewidth": 0,
             "ticks": ""
            },
            "colorscale": [
             [
              0,
              "#0d0887"
             ],
             [
              0.1111111111111111,
              "#46039f"
             ],
             [
              0.2222222222222222,
              "#7201a8"
             ],
             [
              0.3333333333333333,
              "#9c179e"
             ],
             [
              0.4444444444444444,
              "#bd3786"
             ],
             [
              0.5555555555555556,
              "#d8576b"
             ],
             [
              0.6666666666666666,
              "#ed7953"
             ],
             [
              0.7777777777777778,
              "#fb9f3a"
             ],
             [
              0.8888888888888888,
              "#fdca26"
             ],
             [
              1,
              "#f0f921"
             ]
            ],
            "type": "heatmapgl"
           }
          ],
          "histogram": [
           {
            "marker": {
             "pattern": {
              "fillmode": "overlay",
              "size": 10,
              "solidity": 0.2
             }
            },
            "type": "histogram"
           }
          ],
          "histogram2d": [
           {
            "colorbar": {
             "outlinewidth": 0,
             "ticks": ""
            },
            "colorscale": [
             [
              0,
              "#0d0887"
             ],
             [
              0.1111111111111111,
              "#46039f"
             ],
             [
              0.2222222222222222,
              "#7201a8"
             ],
             [
              0.3333333333333333,
              "#9c179e"
             ],
             [
              0.4444444444444444,
              "#bd3786"
             ],
             [
              0.5555555555555556,
              "#d8576b"
             ],
             [
              0.6666666666666666,
              "#ed7953"
             ],
             [
              0.7777777777777778,
              "#fb9f3a"
             ],
             [
              0.8888888888888888,
              "#fdca26"
             ],
             [
              1,
              "#f0f921"
             ]
            ],
            "type": "histogram2d"
           }
          ],
          "histogram2dcontour": [
           {
            "colorbar": {
             "outlinewidth": 0,
             "ticks": ""
            },
            "colorscale": [
             [
              0,
              "#0d0887"
             ],
             [
              0.1111111111111111,
              "#46039f"
             ],
             [
              0.2222222222222222,
              "#7201a8"
             ],
             [
              0.3333333333333333,
              "#9c179e"
             ],
             [
              0.4444444444444444,
              "#bd3786"
             ],
             [
              0.5555555555555556,
              "#d8576b"
             ],
             [
              0.6666666666666666,
              "#ed7953"
             ],
             [
              0.7777777777777778,
              "#fb9f3a"
             ],
             [
              0.8888888888888888,
              "#fdca26"
             ],
             [
              1,
              "#f0f921"
             ]
            ],
            "type": "histogram2dcontour"
           }
          ],
          "mesh3d": [
           {
            "colorbar": {
             "outlinewidth": 0,
             "ticks": ""
            },
            "type": "mesh3d"
           }
          ],
          "parcoords": [
           {
            "line": {
             "colorbar": {
              "outlinewidth": 0,
              "ticks": ""
             }
            },
            "type": "parcoords"
           }
          ],
          "pie": [
           {
            "automargin": true,
            "type": "pie"
           }
          ],
          "scatter": [
           {
            "fillpattern": {
             "fillmode": "overlay",
             "size": 10,
             "solidity": 0.2
            },
            "type": "scatter"
           }
          ],
          "scatter3d": [
           {
            "line": {
             "colorbar": {
              "outlinewidth": 0,
              "ticks": ""
             }
            },
            "marker": {
             "colorbar": {
              "outlinewidth": 0,
              "ticks": ""
             }
            },
            "type": "scatter3d"
           }
          ],
          "scattercarpet": [
           {
            "marker": {
             "colorbar": {
              "outlinewidth": 0,
              "ticks": ""
             }
            },
            "type": "scattercarpet"
           }
          ],
          "scattergeo": [
           {
            "marker": {
             "colorbar": {
              "outlinewidth": 0,
              "ticks": ""
             }
            },
            "type": "scattergeo"
           }
          ],
          "scattergl": [
           {
            "marker": {
             "colorbar": {
              "outlinewidth": 0,
              "ticks": ""
             }
            },
            "type": "scattergl"
           }
          ],
          "scattermapbox": [
           {
            "marker": {
             "colorbar": {
              "outlinewidth": 0,
              "ticks": ""
             }
            },
            "type": "scattermapbox"
           }
          ],
          "scatterpolar": [
           {
            "marker": {
             "colorbar": {
              "outlinewidth": 0,
              "ticks": ""
             }
            },
            "type": "scatterpolar"
           }
          ],
          "scatterpolargl": [
           {
            "marker": {
             "colorbar": {
              "outlinewidth": 0,
              "ticks": ""
             }
            },
            "type": "scatterpolargl"
           }
          ],
          "scatterternary": [
           {
            "marker": {
             "colorbar": {
              "outlinewidth": 0,
              "ticks": ""
             }
            },
            "type": "scatterternary"
           }
          ],
          "surface": [
           {
            "colorbar": {
             "outlinewidth": 0,
             "ticks": ""
            },
            "colorscale": [
             [
              0,
              "#0d0887"
             ],
             [
              0.1111111111111111,
              "#46039f"
             ],
             [
              0.2222222222222222,
              "#7201a8"
             ],
             [
              0.3333333333333333,
              "#9c179e"
             ],
             [
              0.4444444444444444,
              "#bd3786"
             ],
             [
              0.5555555555555556,
              "#d8576b"
             ],
             [
              0.6666666666666666,
              "#ed7953"
             ],
             [
              0.7777777777777778,
              "#fb9f3a"
             ],
             [
              0.8888888888888888,
              "#fdca26"
             ],
             [
              1,
              "#f0f921"
             ]
            ],
            "type": "surface"
           }
          ],
          "table": [
           {
            "cells": {
             "fill": {
              "color": "#EBF0F8"
             },
             "line": {
              "color": "white"
             }
            },
            "header": {
             "fill": {
              "color": "#C8D4E3"
             },
             "line": {
              "color": "white"
             }
            },
            "type": "table"
           }
          ]
         },
         "layout": {
          "annotationdefaults": {
           "arrowcolor": "#2a3f5f",
           "arrowhead": 0,
           "arrowwidth": 1
          },
          "autotypenumbers": "strict",
          "coloraxis": {
           "colorbar": {
            "outlinewidth": 0,
            "ticks": ""
           }
          },
          "colorscale": {
           "diverging": [
            [
             0,
             "#8e0152"
            ],
            [
             0.1,
             "#c51b7d"
            ],
            [
             0.2,
             "#de77ae"
            ],
            [
             0.3,
             "#f1b6da"
            ],
            [
             0.4,
             "#fde0ef"
            ],
            [
             0.5,
             "#f7f7f7"
            ],
            [
             0.6,
             "#e6f5d0"
            ],
            [
             0.7,
             "#b8e186"
            ],
            [
             0.8,
             "#7fbc41"
            ],
            [
             0.9,
             "#4d9221"
            ],
            [
             1,
             "#276419"
            ]
           ],
           "sequential": [
            [
             0,
             "#0d0887"
            ],
            [
             0.1111111111111111,
             "#46039f"
            ],
            [
             0.2222222222222222,
             "#7201a8"
            ],
            [
             0.3333333333333333,
             "#9c179e"
            ],
            [
             0.4444444444444444,
             "#bd3786"
            ],
            [
             0.5555555555555556,
             "#d8576b"
            ],
            [
             0.6666666666666666,
             "#ed7953"
            ],
            [
             0.7777777777777778,
             "#fb9f3a"
            ],
            [
             0.8888888888888888,
             "#fdca26"
            ],
            [
             1,
             "#f0f921"
            ]
           ],
           "sequentialminus": [
            [
             0,
             "#0d0887"
            ],
            [
             0.1111111111111111,
             "#46039f"
            ],
            [
             0.2222222222222222,
             "#7201a8"
            ],
            [
             0.3333333333333333,
             "#9c179e"
            ],
            [
             0.4444444444444444,
             "#bd3786"
            ],
            [
             0.5555555555555556,
             "#d8576b"
            ],
            [
             0.6666666666666666,
             "#ed7953"
            ],
            [
             0.7777777777777778,
             "#fb9f3a"
            ],
            [
             0.8888888888888888,
             "#fdca26"
            ],
            [
             1,
             "#f0f921"
            ]
           ]
          },
          "colorway": [
           "#636efa",
           "#EF553B",
           "#00cc96",
           "#ab63fa",
           "#FFA15A",
           "#19d3f3",
           "#FF6692",
           "#B6E880",
           "#FF97FF",
           "#FECB52"
          ],
          "font": {
           "color": "#2a3f5f"
          },
          "geo": {
           "bgcolor": "white",
           "lakecolor": "white",
           "landcolor": "#E5ECF6",
           "showlakes": true,
           "showland": true,
           "subunitcolor": "white"
          },
          "hoverlabel": {
           "align": "left"
          },
          "hovermode": "closest",
          "mapbox": {
           "style": "light"
          },
          "paper_bgcolor": "white",
          "plot_bgcolor": "#E5ECF6",
          "polar": {
           "angularaxis": {
            "gridcolor": "white",
            "linecolor": "white",
            "ticks": ""
           },
           "bgcolor": "#E5ECF6",
           "radialaxis": {
            "gridcolor": "white",
            "linecolor": "white",
            "ticks": ""
           }
          },
          "scene": {
           "xaxis": {
            "backgroundcolor": "#E5ECF6",
            "gridcolor": "white",
            "gridwidth": 2,
            "linecolor": "white",
            "showbackground": true,
            "ticks": "",
            "zerolinecolor": "white"
           },
           "yaxis": {
            "backgroundcolor": "#E5ECF6",
            "gridcolor": "white",
            "gridwidth": 2,
            "linecolor": "white",
            "showbackground": true,
            "ticks": "",
            "zerolinecolor": "white"
           },
           "zaxis": {
            "backgroundcolor": "#E5ECF6",
            "gridcolor": "white",
            "gridwidth": 2,
            "linecolor": "white",
            "showbackground": true,
            "ticks": "",
            "zerolinecolor": "white"
           }
          },
          "shapedefaults": {
           "line": {
            "color": "#2a3f5f"
           }
          },
          "ternary": {
           "aaxis": {
            "gridcolor": "white",
            "linecolor": "white",
            "ticks": ""
           },
           "baxis": {
            "gridcolor": "white",
            "linecolor": "white",
            "ticks": ""
           },
           "bgcolor": "#E5ECF6",
           "caxis": {
            "gridcolor": "white",
            "linecolor": "white",
            "ticks": ""
           }
          },
          "title": {
           "x": 0.05
          },
          "xaxis": {
           "automargin": true,
           "gridcolor": "white",
           "linecolor": "white",
           "ticks": "",
           "title": {
            "standoff": 15
           },
           "zerolinecolor": "white",
           "zerolinewidth": 2
          },
          "yaxis": {
           "automargin": true,
           "gridcolor": "white",
           "linecolor": "white",
           "ticks": "",
           "title": {
            "standoff": 15
           },
           "zerolinecolor": "white",
           "zerolinewidth": 2
          }
         }
        },
        "title": {
         "text": "method_tags",
         "x": 0.5,
         "xanchor": "center"
        },
        "xaxis": {
         "anchor": "y",
         "categoryarray": [
          "pe",
          "indicator",
          "atr",
          "technical",
          "sr",
          "volume",
          "candlestick",
          "liquidity",
          "fundamental",
          "fibonacci",
          "supportresistance",
          "vwap",
          "engulfing",
          "valuation",
          "obv",
          "earnings",
          "priceaction",
          "harmonic",
          "cvd",
          "financials"
         ],
         "categoryorder": "array",
         "domain": [
          0,
          1
         ],
         "title": {
          "text": "Теги"
         }
        },
        "yaxis": {
         "anchor": "x",
         "domain": [
          0,
          1
         ],
         "title": {
          "text": "Количество"
         }
        }
       }
      }
     },
     "metadata": {},
     "output_type": "display_data"
    }
   ],
   "source": [
    "# Список новых датафреймов\n",
    "list_df = [df_time, df_indicator, df_market, df_mechanism, df_method]\n",
    "# Название графиков\n",
    "title_name = ['time_tags', 'indicator_tags', 'market_tags', 'mechanism_tags', 'method_tags']\n",
    "# Строим графики по новым датафреймам:\n",
    "for list, name in zip(list_df, title_name):\n",
    "    build_graph('px', 'bar', list, 'tag', 'count', 20, 8, name, 'Теги', 'Количество', color='tag')"
   ]
  },
  {
   "cell_type": "markdown",
   "id": "d1c1416c",
   "metadata": {},
   "source": [
    "<div class=\"alert alert-success\">\n",
    "    \n",
    "Из созданных датафреймов получили визуализацию вхождения каждых тегов, какие теги чаще входят в ту или иную стратегию, это нам в будущем поможет определиться с лучшей стратегией. Мы определим, какие стратегии наиболее выгодные с лучшей прибылью, и к чему какая применяется, проанализируем эти эффективные стратегии на вхождение тегов, в большой части на вхождение индикаторов, определим, какие индикаторы и методы чаще используются в этих эффективных стратегиях и сможем дать рекомендации по выбору стратегии и её построению."
   ]
  },
  {
   "cell_type": "markdown",
   "id": "fa481d36",
   "metadata": {},
   "source": [
    "<center><p style = \"background-color : white; border-radius: 2px 2px; padding : 3px\"><strong>\n",
    "<span style=\"color:#000\">Risk / performance ratios (Соотношения риска и доходности)</span>"
   ]
  },
  {
   "cell_type": "code",
   "execution_count": 92,
   "id": "a8ccedbd",
   "metadata": {},
   "outputs": [],
   "source": [
    "df_ratio = data[['title','Sharpe ratio', 'Sortino ratio', 'Profit factor', 'Margin calls']]"
   ]
  },
  {
   "cell_type": "code",
   "execution_count": 93,
   "id": "8795a69c",
   "metadata": {},
   "outputs": [
    {
     "data": {
      "application/vnd.microsoft.datawrangler.viewer.v0+json": {
       "columns": [
        {
         "name": "index",
         "rawType": "int64",
         "type": "integer"
        },
        {
         "name": "title",
         "rawType": "object",
         "type": "string"
        },
        {
         "name": "Sharpe ratio",
         "rawType": "object",
         "type": "string"
        },
        {
         "name": "Sortino ratio",
         "rawType": "object",
         "type": "string"
        },
        {
         "name": "Profit factor",
         "rawType": "object",
         "type": "string"
        },
        {
         "name": "Margin calls",
         "rawType": "float64",
         "type": "float"
        }
       ],
       "conversionMethod": "pd.DataFrame",
       "ref": "631117ce-d987-40a5-94ee-ba32ae9abf41",
       "rows": [
        [
         "0",
         "Daily Breakout + Daily Shadow By Rouro",
         "0.203",
         "0.453",
         "6.241",
         "0.0"
        ],
        [
         "1",
         "Order Block Strategy",
         "0.616",
         "9.392",
         "1,426,164,099.778",
         "0.0"
        ],
        [
         "2",
         "EXODUS",
         "−1.136",
         "−0.782",
         "1.262",
         "0.0"
        ],
        [
         "5",
         "Arrow's Flexible MA Cross Strategy [API Ready]",
         "0.368",
         "0.994",
         "2.046",
         "0.0"
        ],
        [
         "6",
         "1h Liquidity Swings Strategy with 1:2 RR",
         "0.146",
         "0.27",
         "1.158",
         "0.0"
        ],
        [
         "7",
         "🚀 Sniper Entry Finder Enhanced [Backtest Enabled]",
         "−10.172",
         "−0.995",
         "1.164",
         "0.0"
        ],
        [
         "8",
         "30-70 RSI Strategy with Colored Bar",
         "0.007",
         "0.01",
         "1.124",
         "0.0"
        ],
        [
         "10",
         "Parabolic RSI Strategy + MA Filter + TP/SL 【PakunFX】",
         "−0.18",
         "−0.236",
         "1.426",
         "0.0"
        ],
        [
         "11",
         "Likidite Avı + Dönüş Stratejisi (TP/SL + Zaman Bazlı)",
         "0.209",
         "0.465",
         "3.048",
         "0.0"
        ],
        [
         "12",
         "Multi-Indicator Strategy By Arvind Dodke [EMA+MACD+RSI+ADX]",
         "0.012",
         "0.016",
         "1.079",
         "0.0"
        ],
        [
         "13",
         "UT Bot Strategy Backtest with Date Range",
         "−0.099",
         "−0.14",
         "0.921",
         "0.0"
        ],
        [
         "15",
         "Deadzone Pro Strategy (Final & Verified)",
         "−0.888",
         "−0.683",
         "0.537",
         "0.0"
        ],
        [
         "17",
         "BB 20-2  +  RSI-10  +  Stoch 14-3-3  |  5-min",
         "0.524",
         "1.04",
         "1.404",
         "0.0"
        ],
        [
         "18",
         "TUE ADX/MACD Confluence Strategy V1.0",
         "−0.216",
         "−0.271",
         "0.856",
         "0.0"
        ],
        [
         "19",
         "EMA200/EMA7 HA w/ TP/SL & Markdown Alerts",
         "0.015",
         "0.02",
         "1.008",
         "0.0"
        ],
        [
         "20",
         "PowerHouse SwiftEdge AI v2.10 Strategy",
         "0.126",
         "0.228",
         "1.401",
         "0.0"
        ],
        [
         "21",
         "Bollinger + EMA Strategy with Stats",
         "0.148",
         "0.208",
         "1.308",
         "0.0"
        ],
        [
         "22",
         "Bollinger + EMA Strategy with Stats",
         "−3.876",
         "−0.968",
         "1.325",
         "0.0"
        ],
        [
         "23",
         "RSI EMA Candle Size Strategy",
         "−10,806.942",
         "−1",
         "1.233",
         "0.0"
        ],
        [
         "24",
         "ChopFlow ATR Scalp Strategy",
         "−1.05",
         "−0.735",
         "1.057",
         "0.0"
        ],
        [
         "25",
         "SmartScale Envelope DCA",
         "0.492",
         "2.19",
         "2.804",
         "0.0"
        ],
        [
         "26",
         "G-Channel Strategy - Strategy with EMA Filter",
         "−0.827",
         "−0.638",
         "0.537",
         "0.0"
        ],
        [
         "27",
         "15-Min Candlestick Strategy",
         "−2.042",
         "−0.898",
         "0.268",
         "0.0"
        ],
        [
         "28",
         "DDDDD: EBP Strategy (Improved with ATR & Filters) - Long Only",
         "0.049",
         "0.089",
         "1.389",
         "0.0"
        ],
        [
         "29",
         "Dskyz (DAFE) Adaptive Regime - Quant Machine Pro",
         "0.47",
         "1.313",
         "1.295",
         "0.0"
        ],
        [
         "30",
         "JBGBt - Bollinger Bands Strategy v4",
         "0.599",
         "3.969",
         "2.02",
         "235.0"
        ],
        [
         "31",
         "Clarity Strategy: UT Bot + HMA + JCFBV (v6 fixed)",
         "0.032",
         "0.065",
         "1.217",
         "0.0"
        ],
        [
         "32",
         "Dskyz (DAFE) Aurora Divergence – Quant Master",
         "0.476",
         "0.761",
         "1.815",
         "0.0"
        ],
        [
         "33",
         "ZLSMACE Strategy",
         "−0.24",
         "−0.298",
         "0.916",
         "320.0"
        ],
        [
         "34",
         "Nexus Trade Bot",
         "0.1",
         "0.304",
         "2.06",
         "0.0"
        ],
        [
         "35",
         "Dskyz (DAFE) Quantum Sentiment Flux - Beginners",
         "0.855",
         "4.26",
         "2.352",
         "0.0"
        ],
        [
         "37",
         "3-Day Breakout Strategy with Trend Change Exit",
         "0.13",
         "0.377",
         "1.632",
         "0.0"
        ],
        [
         "38",
         "SuperTrade Ichimoku Cloud Strategy",
         "−1.056",
         "−0.742",
         "1.036",
         "0.0"
        ],
        [
         "39",
         "RTB - Momentum Breakout Strategy V3",
         "0.407",
         "1.23",
         "1.427",
         "0.0"
        ],
        [
         "40",
         "Accurate Swing Trading System - Strategy",
         "0.116",
         "0.273",
         "1.424",
         "0.0"
        ],
        [
         "43",
         "Market Mafia Sniper Strategy - XOTWOD",
         "−0.146",
         "−0.177",
         "1.542",
         "0.0"
        ],
        [
         "44",
         "Advanced MACD Strategy (EURUSD 5min)",
         "−4.005",
         "−0.97",
         "0.878",
         "0.0"
        ],
        [
         "45",
         " Breakout Trend Follower with MACD v2",
         "0.485",
         "1.893",
         "2.608",
         "290.0"
        ],
        [
         "46",
         "Rawstocks 15 Minute Model",
         "−0.483",
         "−0.46",
         "1.739",
         "0.0"
        ],
        [
         "47",
         "EMA Trend Trading Strategy - Full",
         "0.429",
         "2.596",
         "3.084",
         "0.0"
        ],
        [
         "48",
         "RSI SR OB Breakouts Strategy PRO (coffeshopcrypto)",
         "0.091",
         "0.155",
         "1.095",
         "0.0"
        ],
        [
         "49",
         "SuperTrade ST1 Strategy",
         "−40.027",
         "−1",
         "1.344",
         "0.0"
        ],
        [
         "50",
         "Nexus Trade Bot",
         "0.175",
         "0.54",
         "1.702",
         "0.0"
        ],
        [
         "51",
         "Williams R Zone Scalper v1.0[BullByte]",
         "0.173",
         "0.364",
         "1.288",
         "0.0"
        ],
        [
         "54",
         "PG MA Crossover Buy and Sell Options Special",
         "0.131",
         "0.289",
         "1.353",
         "0.0"
        ],
        [
         "55",
         " 15-Min ORB Strategy )",
         "0.625",
         "5.7",
         "14.278",
         "0.0"
        ],
        [
         "56",
         "PEAD strategy",
         "0.324",
         "23.16",
         "89.55",
         "0.0"
        ],
        [
         "57",
         "Islamabad Forex Academy Strategy-1",
         "−0.771",
         "−0.636",
         "0.804",
         "0.0"
        ],
        [
         "61",
         "Multi-Indicator Swing [TIAMATCRYPTO]",
         "0.553",
         "1.223",
         "3.781",
         "0.0"
        ],
        [
         "63",
         "Wyckoff Advanced Swing Strategy by TIAMATCRYPTO",
         "−0.369",
         "−0.38",
         "0.783",
         "0.0"
        ]
       ],
       "shape": {
        "columns": 5,
        "rows": 829
       }
      },
      "text/html": [
       "<div>\n",
       "<style scoped>\n",
       "    .dataframe tbody tr th:only-of-type {\n",
       "        vertical-align: middle;\n",
       "    }\n",
       "\n",
       "    .dataframe tbody tr th {\n",
       "        vertical-align: top;\n",
       "    }\n",
       "\n",
       "    .dataframe thead th {\n",
       "        text-align: right;\n",
       "    }\n",
       "</style>\n",
       "<table border=\"1\" class=\"dataframe\">\n",
       "  <thead>\n",
       "    <tr style=\"text-align: right;\">\n",
       "      <th></th>\n",
       "      <th>title</th>\n",
       "      <th>Sharpe ratio</th>\n",
       "      <th>Sortino ratio</th>\n",
       "      <th>Profit factor</th>\n",
       "      <th>Margin calls</th>\n",
       "    </tr>\n",
       "  </thead>\n",
       "  <tbody>\n",
       "    <tr>\n",
       "      <th>0</th>\n",
       "      <td>Daily Breakout + Daily Shadow By Rouro</td>\n",
       "      <td>0.203</td>\n",
       "      <td>0.453</td>\n",
       "      <td>6.241</td>\n",
       "      <td>0.0</td>\n",
       "    </tr>\n",
       "    <tr>\n",
       "      <th>1</th>\n",
       "      <td>Order Block Strategy</td>\n",
       "      <td>0.616</td>\n",
       "      <td>9.392</td>\n",
       "      <td>1,426,164,099.778</td>\n",
       "      <td>0.0</td>\n",
       "    </tr>\n",
       "    <tr>\n",
       "      <th>2</th>\n",
       "      <td>EXODUS</td>\n",
       "      <td>−1.136</td>\n",
       "      <td>−0.782</td>\n",
       "      <td>1.262</td>\n",
       "      <td>0.0</td>\n",
       "    </tr>\n",
       "    <tr>\n",
       "      <th>5</th>\n",
       "      <td>Arrow's Flexible MA Cross Strategy [API Ready]</td>\n",
       "      <td>0.368</td>\n",
       "      <td>0.994</td>\n",
       "      <td>2.046</td>\n",
       "      <td>0.0</td>\n",
       "    </tr>\n",
       "    <tr>\n",
       "      <th>6</th>\n",
       "      <td>1h Liquidity Swings Strategy with 1:2 RR</td>\n",
       "      <td>0.146</td>\n",
       "      <td>0.27</td>\n",
       "      <td>1.158</td>\n",
       "      <td>0.0</td>\n",
       "    </tr>\n",
       "    <tr>\n",
       "      <th>...</th>\n",
       "      <td>...</td>\n",
       "      <td>...</td>\n",
       "      <td>...</td>\n",
       "      <td>...</td>\n",
       "      <td>...</td>\n",
       "    </tr>\n",
       "    <tr>\n",
       "      <th>953</th>\n",
       "      <td>3Commas Bot DCA Backtester &amp; Signals FREE</td>\n",
       "      <td>0.521</td>\n",
       "      <td>21.632</td>\n",
       "      <td>1.806</td>\n",
       "      <td>0.0</td>\n",
       "    </tr>\n",
       "    <tr>\n",
       "      <th>954</th>\n",
       "      <td>rt maax EMA cross strategy</td>\n",
       "      <td>0.024</td>\n",
       "      <td>2.104</td>\n",
       "      <td>25.843</td>\n",
       "      <td>0.0</td>\n",
       "    </tr>\n",
       "    <tr>\n",
       "      <th>956</th>\n",
       "      <td>Multi Trend Cross Strategy Template</td>\n",
       "      <td>0.137</td>\n",
       "      <td>1.885</td>\n",
       "      <td>9.789</td>\n",
       "      <td>0.0</td>\n",
       "    </tr>\n",
       "    <tr>\n",
       "      <th>957</th>\n",
       "      <td>BOLLY Bands</td>\n",
       "      <td>1.367</td>\n",
       "      <td>443.519</td>\n",
       "      <td>3.246</td>\n",
       "      <td>0.0</td>\n",
       "    </tr>\n",
       "    <tr>\n",
       "      <th>958</th>\n",
       "      <td>Trading range display with Box</td>\n",
       "      <td>−1.34</td>\n",
       "      <td>−0.813</td>\n",
       "      <td>0.692</td>\n",
       "      <td>0.0</td>\n",
       "    </tr>\n",
       "  </tbody>\n",
       "</table>\n",
       "<p>829 rows × 5 columns</p>\n",
       "</div>"
      ],
      "text/plain": [
       "                                              title Sharpe ratio  \\\n",
       "0            Daily Breakout + Daily Shadow By Rouro        0.203   \n",
       "1                              Order Block Strategy        0.616   \n",
       "2                                            EXODUS       −1.136   \n",
       "5    Arrow's Flexible MA Cross Strategy [API Ready]        0.368   \n",
       "6          1h Liquidity Swings Strategy with 1:2 RR        0.146   \n",
       "..                                              ...          ...   \n",
       "953       3Commas Bot DCA Backtester & Signals FREE        0.521   \n",
       "954                      rt maax EMA cross strategy        0.024   \n",
       "956             Multi Trend Cross Strategy Template        0.137   \n",
       "957                                     BOLLY Bands        1.367   \n",
       "958                  Trading range display with Box        −1.34   \n",
       "\n",
       "    Sortino ratio      Profit factor  Margin calls  \n",
       "0           0.453              6.241           0.0  \n",
       "1           9.392  1,426,164,099.778           0.0  \n",
       "2          −0.782              1.262           0.0  \n",
       "5           0.994              2.046           0.0  \n",
       "6            0.27              1.158           0.0  \n",
       "..            ...                ...           ...  \n",
       "953        21.632              1.806           0.0  \n",
       "954         2.104             25.843           0.0  \n",
       "956         1.885              9.789           0.0  \n",
       "957       443.519              3.246           0.0  \n",
       "958        −0.813              0.692           0.0  \n",
       "\n",
       "[829 rows x 5 columns]"
      ]
     },
     "execution_count": 93,
     "metadata": {},
     "output_type": "execute_result"
    }
   ],
   "source": [
    "df_ratio"
   ]
  },
  {
   "cell_type": "markdown",
   "id": "012a0f1c",
   "metadata": {},
   "source": [
    "Надо числовые колонки привести подобающий вид.\n",
    "Колонки `['title', 'Margin calls']` - останутся как есть"
   ]
  },
  {
   "cell_type": "code",
   "execution_count": 94,
   "id": "a2a20725",
   "metadata": {},
   "outputs": [
    {
     "name": "stderr",
     "output_type": "stream",
     "text": [
      "C:\\Users\\xndrf\\AppData\\Local\\Temp\\ipykernel_3488\\2312526999.py:1: SettingWithCopyWarning:\n",
      "\n",
      "\n",
      "A value is trying to be set on a copy of a slice from a DataFrame.\n",
      "Try using .loc[row_indexer,col_indexer] = value instead\n",
      "\n",
      "See the caveats in the documentation: https://pandas.pydata.org/pandas-docs/stable/user_guide/indexing.html#returning-a-view-versus-a-copy\n",
      "\n"
     ]
    }
   ],
   "source": [
    "df_ratio[['Sharpe ratio', 'Sortino ratio', 'Profit factor']] = df_ratio[['Sharpe ratio', 'Sortino ratio', 'Profit factor']].map(convert_to_numeric)"
   ]
  },
  {
   "cell_type": "code",
   "execution_count": 95,
   "id": "a6380252",
   "metadata": {},
   "outputs": [
    {
     "data": {
      "application/vnd.microsoft.datawrangler.viewer.v0+json": {
       "columns": [
        {
         "name": "index",
         "rawType": "object",
         "type": "string"
        },
        {
         "name": "Sharpe ratio",
         "rawType": "float64",
         "type": "float"
        },
        {
         "name": "Sortino ratio",
         "rawType": "float64",
         "type": "float"
        },
        {
         "name": "Profit factor",
         "rawType": "float64",
         "type": "float"
        },
        {
         "name": "Margin calls",
         "rawType": "float64",
         "type": "float"
        }
       ],
       "conversionMethod": "pd.DataFrame",
       "ref": "7b4f4c67-f6e5-4d0c-a90b-9d669fbc61e8",
       "rows": [
        [
         "count",
         "829.0",
         "829.0",
         "829.0",
         "829.0"
        ],
        [
         "mean",
         "-169890.37253075995",
         "5.168712907117008",
         "1720355.6716936075",
         "2.3112183353437876"
        ],
        [
         "std",
         "4847814.583302946",
         "38.91137037947626",
         "49532726.11046914",
         "27.72653087015352"
        ],
        [
         "min",
         "-139579576.596",
         "-1.0",
         "0.188",
         "0.0"
        ],
        [
         "25%",
         "-0.276",
         "-0.351",
         "1.2",
         "0.0"
        ],
        [
         "50%",
         "0.131",
         "0.291",
         "1.595",
         "0.0"
        ],
        [
         "75%",
         "0.323",
         "1.156",
         "2.312",
         "0.0"
        ],
        [
         "max",
         "1.583",
         "637.51",
         "1426164099.778",
         "567.0"
        ]
       ],
       "shape": {
        "columns": 4,
        "rows": 8
       }
      },
      "text/html": [
       "<div>\n",
       "<style scoped>\n",
       "    .dataframe tbody tr th:only-of-type {\n",
       "        vertical-align: middle;\n",
       "    }\n",
       "\n",
       "    .dataframe tbody tr th {\n",
       "        vertical-align: top;\n",
       "    }\n",
       "\n",
       "    .dataframe thead th {\n",
       "        text-align: right;\n",
       "    }\n",
       "</style>\n",
       "<table border=\"1\" class=\"dataframe\">\n",
       "  <thead>\n",
       "    <tr style=\"text-align: right;\">\n",
       "      <th></th>\n",
       "      <th>Sharpe ratio</th>\n",
       "      <th>Sortino ratio</th>\n",
       "      <th>Profit factor</th>\n",
       "      <th>Margin calls</th>\n",
       "    </tr>\n",
       "  </thead>\n",
       "  <tbody>\n",
       "    <tr>\n",
       "      <th>count</th>\n",
       "      <td>8.290000e+02</td>\n",
       "      <td>829.000000</td>\n",
       "      <td>8.290000e+02</td>\n",
       "      <td>829.000000</td>\n",
       "    </tr>\n",
       "    <tr>\n",
       "      <th>mean</th>\n",
       "      <td>-1.698904e+05</td>\n",
       "      <td>5.168713</td>\n",
       "      <td>1.720356e+06</td>\n",
       "      <td>2.311218</td>\n",
       "    </tr>\n",
       "    <tr>\n",
       "      <th>std</th>\n",
       "      <td>4.847815e+06</td>\n",
       "      <td>38.911370</td>\n",
       "      <td>4.953273e+07</td>\n",
       "      <td>27.726531</td>\n",
       "    </tr>\n",
       "    <tr>\n",
       "      <th>min</th>\n",
       "      <td>-1.395796e+08</td>\n",
       "      <td>-1.000000</td>\n",
       "      <td>1.880000e-01</td>\n",
       "      <td>0.000000</td>\n",
       "    </tr>\n",
       "    <tr>\n",
       "      <th>25%</th>\n",
       "      <td>-2.760000e-01</td>\n",
       "      <td>-0.351000</td>\n",
       "      <td>1.200000e+00</td>\n",
       "      <td>0.000000</td>\n",
       "    </tr>\n",
       "    <tr>\n",
       "      <th>50%</th>\n",
       "      <td>1.310000e-01</td>\n",
       "      <td>0.291000</td>\n",
       "      <td>1.595000e+00</td>\n",
       "      <td>0.000000</td>\n",
       "    </tr>\n",
       "    <tr>\n",
       "      <th>75%</th>\n",
       "      <td>3.230000e-01</td>\n",
       "      <td>1.156000</td>\n",
       "      <td>2.312000e+00</td>\n",
       "      <td>0.000000</td>\n",
       "    </tr>\n",
       "    <tr>\n",
       "      <th>max</th>\n",
       "      <td>1.583000e+00</td>\n",
       "      <td>637.510000</td>\n",
       "      <td>1.426164e+09</td>\n",
       "      <td>567.000000</td>\n",
       "    </tr>\n",
       "  </tbody>\n",
       "</table>\n",
       "</div>"
      ],
      "text/plain": [
       "       Sharpe ratio  Sortino ratio  Profit factor  Margin calls\n",
       "count  8.290000e+02     829.000000   8.290000e+02    829.000000\n",
       "mean  -1.698904e+05       5.168713   1.720356e+06      2.311218\n",
       "std    4.847815e+06      38.911370   4.953273e+07     27.726531\n",
       "min   -1.395796e+08      -1.000000   1.880000e-01      0.000000\n",
       "25%   -2.760000e-01      -0.351000   1.200000e+00      0.000000\n",
       "50%    1.310000e-01       0.291000   1.595000e+00      0.000000\n",
       "75%    3.230000e-01       1.156000   2.312000e+00      0.000000\n",
       "max    1.583000e+00     637.510000   1.426164e+09    567.000000"
      ]
     },
     "execution_count": 95,
     "metadata": {},
     "output_type": "execute_result"
    }
   ],
   "source": [
    "df_ratio.describe()"
   ]
  },
  {
   "cell_type": "markdown",
   "id": "d5e50a56",
   "metadata": {},
   "source": [
    "<div class=\"alert alert-danger\">\n",
    "Анализируя статистические показатели Коэффициента Шарпа, Сортино и профит фактора, можно сказать что в данных присутвуют Аномально высокие значения стандартного отклонения и отрицательные минимумы указывают на наличие серьезных проблем с данными или расчетами. Надо либо исключать эти стратегии из анализа, либо проверить корректность работы и расчёта формул на сайте по этим коэффициентам.\n",
    "\n",
    "\n",
    "**В связи с этим, выполним работу по чистке стратегий с аномальными значениями, не смотря на то, что для этих коэффициентов нормальные диапазоны находятся в пределах от -1 до 2. Мы сделаем скидку и оставим стратегии с пределами коэффициентов от -3 до 3**"
   ]
  },
  {
   "cell_type": "code",
   "execution_count": 96,
   "id": "9c9d2cd4",
   "metadata": {},
   "outputs": [
    {
     "name": "stdout",
     "output_type": "stream",
     "text": [
      "Количество аномальных стратегий: 269\n"
     ]
    }
   ],
   "source": [
    "df_r = df_ratio[\n",
    "    (df_ratio['Sharpe ratio'].between(-3, 3)) &\n",
    "    (df_ratio['Sortino ratio'].between(-3, 3)) &\n",
    "    (df_ratio['Profit factor'].between(-3, 3))\n",
    "]\n",
    "\n",
    "print(f'Количество аномальных стратегий: {df_ratio.shape[0]-df_r.shape[0]}')"
   ]
  },
  {
   "cell_type": "code",
   "execution_count": 97,
   "id": "a7d57351",
   "metadata": {},
   "outputs": [
    {
     "data": {
      "text/plain": [
       "Margin calls\n",
       "0.0      550\n",
       "1.0        3\n",
       "320.0      1\n",
       "290.0      1\n",
       "567.0      1\n",
       "28.0       1\n",
       "209.0      1\n",
       "7.0        1\n",
       "38.0       1\n",
       "Name: count, dtype: int64"
      ]
     },
     "execution_count": 97,
     "metadata": {},
     "output_type": "execute_result"
    }
   ],
   "source": [
    "df_r['Margin calls'].value_counts()"
   ]
  },
  {
   "cell_type": "markdown",
   "id": "194b75f6",
   "metadata": {},
   "source": [
    "<div class=\"alert alert-danger\">\n",
    "\n",
    "\n",
    "**В целом у Margin calls не особо много разных значений, в основном все нулевые, и я бы дропнул эту колонку и убрал с изучения**"
   ]
  },
  {
   "cell_type": "markdown",
   "id": "ec23af78",
   "metadata": {},
   "source": [
    "<div class=\"alert alert-info\">\n",
    "    \n",
    "Разберемся теперь с остальными коэффициентами и глянем, что из себя представляют"
   ]
  },
  {
   "cell_type": "code",
   "execution_count": 98,
   "id": "06c4b422",
   "metadata": {},
   "outputs": [
    {
     "data": {
      "application/vnd.plotly.v1+json": {
       "config": {
        "plotlyServerURL": "https://plot.ly"
       },
       "data": [
        {
         "alignmentgroup": "True",
         "bingroup": "x",
         "hoverinfo": "all",
         "hovertemplate": "Диапазон размера коэффициента: %{x}",
         "legendgroup": "",
         "marker": {
          "color": "Orangered",
          "line": {
           "color": "black",
           "width": 1
          },
          "pattern": {
           "shape": ""
          }
         },
         "name": "",
         "nbinsx": 200,
         "offsetgroup": "",
         "opacity": 0.9,
         "orientation": "v",
         "showlegend": false,
         "type": "histogram",
         "x": [
          -1.136,
          0.368,
          0.146,
          0.007,
          -0.18,
          0.012,
          -0.099,
          -0.888,
          0.524,
          -0.216,
          0.015,
          0.126,
          0.148,
          -1.05,
          0.492,
          -0.827,
          -2.042,
          0.049,
          0.47,
          0.032,
          0.476,
          -0.24,
          0.1,
          0.13,
          -1.056,
          0.407,
          0.116,
          -0.146,
          0.485,
          -0.483,
          0.091,
          0.175,
          0.173,
          0.131,
          -0.771,
          -0.369,
          0.205,
          -0.276,
          -0.161,
          -0.161,
          -1.138,
          0.618,
          0.086,
          0.185,
          0.221,
          -0.407,
          -1.139,
          -0.475,
          0.123,
          0.188,
          0.217,
          0.174,
          -0.011,
          -1.629,
          0.107,
          -1.244,
          -0.377,
          0.221,
          0.131,
          0.197,
          -0.976,
          0.154,
          0.407,
          0.304,
          -0.823,
          0.083,
          0.381,
          0.064,
          0.134,
          0.347,
          0.263,
          -1.533,
          0.182,
          -2.345,
          -0.033,
          -0.037,
          0.618,
          -0.315,
          -0.614,
          0.086,
          0.398,
          0.164,
          0.046,
          0.316,
          0.071,
          -1.04,
          0.174,
          0.252,
          0.319,
          0.094,
          0.263,
          0.195,
          -1.767,
          0.189,
          0.249,
          0.079,
          -0.144,
          -1.914,
          -1.004,
          -0.314,
          0.234,
          0.219,
          -0.458,
          -0.006,
          0.283,
          0.454,
          -0.699,
          0.001,
          0.1,
          0.019,
          0.007,
          0.244,
          0.473,
          0.352,
          0.348,
          0.215,
          -0.092,
          -0.345,
          -0.167,
          0.004,
          -0.095,
          0.389,
          -0.356,
          0.195,
          -0.643,
          0.164,
          0.413,
          0.216,
          -1.252,
          0.052,
          0.261,
          -0.097,
          -0.473,
          0.184,
          0.401,
          0.323,
          0.184,
          0.354,
          -1.077,
          -0.072,
          -0.927,
          0.359,
          0.141,
          0.154,
          0.145,
          -0.854,
          0.224,
          -0.178,
          0.141,
          0.196,
          0.272,
          0.015,
          0.363,
          -0.159,
          0.098,
          -0.205,
          0.138,
          -0.137,
          0.331,
          -0.781,
          0.573,
          -0.094,
          -0.278,
          0.233,
          0.052,
          -0.014,
          -2.016,
          -0.058,
          0.215,
          -0.081,
          0.035,
          0.267,
          0.032,
          0.113,
          0.297,
          0.243,
          0.237,
          0.207,
          0.148,
          0.295,
          0.317,
          0.246,
          0.304,
          0.118,
          0.586,
          0.133,
          0.167,
          0.067,
          0.092,
          -0.064,
          0.336,
          -0.305,
          0.077,
          0.214,
          -0.057,
          0.269,
          -1.123,
          0.469,
          0.028,
          -1.094,
          -0.039,
          -0.1,
          -1.598,
          -0.527,
          -0.336,
          0.037,
          0.11,
          0.136,
          0.113,
          -0.528,
          0.169,
          0.422,
          -0.029,
          -0.486,
          0.07,
          -0.273,
          -0.273,
          0.273,
          0.799,
          0.466,
          0.328,
          -0.567,
          -0.551,
          0.334,
          -0.467,
          -0.368,
          0.068,
          0.364,
          0.394,
          0.379,
          0.564,
          0.766,
          0.17,
          0.323,
          0.202,
          0.346,
          0.335,
          -1.253,
          -0.15,
          -0.356,
          0.077,
          -0.243,
          -0.289,
          0.132,
          -0.359,
          0.158,
          -1.762,
          0.142,
          0.265,
          0.338,
          0.708,
          0.006,
          0.019,
          -0.017,
          -0.024,
          0.245,
          0.08,
          0.01,
          0.363,
          -1.067,
          0.44,
          0.179,
          0.123,
          0.097,
          -0.164,
          -0.282,
          0.203,
          -0.696,
          0.098,
          -0.251,
          0.43,
          -0.099,
          0.268,
          0.122,
          0.192,
          0.363,
          0.049,
          0.432,
          -0.407,
          0.093,
          -0.001,
          0.173,
          0.612,
          -1.291,
          0.419,
          0.14,
          -0.454,
          -0.026,
          -1.372,
          -1.278,
          -0.247,
          0.048,
          0.18,
          -0.197,
          -0.03,
          0.035,
          -0.348,
          -0.176,
          0.229,
          0.37,
          0.214,
          0.204,
          0.171,
          0.595,
          0.131,
          0.059,
          0.137,
          0.094,
          0.144,
          0.446,
          0.273,
          0.279,
          0.386,
          0.407,
          0.512,
          0.149,
          0.217,
          0.537,
          0.073,
          0.312,
          0.023,
          0.417,
          0.409,
          -0.112,
          0.658,
          -0.157,
          0.689,
          -0.968,
          0.195,
          0.416,
          0.164,
          0.259,
          0.143,
          0.211,
          0.058,
          -0.395,
          -0.007,
          0.129,
          0.287,
          -0.794,
          0.217,
          0.255,
          0.024,
          0.043,
          -0.346,
          0.142,
          -1.255,
          0.549,
          0.206,
          0.326,
          0.327,
          0.213,
          0.158,
          -0.134,
          0.289,
          0.342,
          0.459,
          0.133,
          0.008,
          0.301,
          0.26,
          0.515,
          -0.408,
          0.205,
          0.015,
          -0.924,
          0.212,
          -0.134,
          0.129,
          -0.151,
          0.036,
          0.332,
          0.248,
          -1.57,
          0.375,
          0.213,
          0.303,
          0.326,
          0.31,
          0.114,
          0.06,
          -0.128,
          0.137,
          -0.066,
          0.499,
          0.283,
          0.206,
          -1.593,
          0.087,
          -0.399,
          0.161,
          0.157,
          0.344,
          0.089,
          -2.296,
          -0.091,
          0.319,
          0.491,
          0.431,
          -1.553,
          0.211,
          0.238,
          0.223,
          0.456,
          -0.053,
          0.465,
          0.603,
          -0.184,
          0.443,
          0.096,
          -1.301,
          0.044,
          -0.322,
          -2.296,
          -2.665,
          -0.64,
          -0.404,
          0.135,
          0.355,
          0.245,
          0.154,
          0.269,
          0.206,
          0.431,
          0.147,
          0.385,
          -0.387,
          -0.076,
          -1.067,
          -0.56,
          0.097,
          0.536,
          -0.249,
          0.008,
          0.281,
          0.027,
          -0.045,
          0.045,
          0.624,
          0.509,
          0.081,
          -0.13,
          -0.582,
          0.202,
          0.28,
          0.367,
          0.416,
          0.279,
          0.457,
          0.385,
          -0.935,
          0.212,
          0.634,
          0.542,
          -0.067,
          0.094,
          -0.273,
          -1.354,
          0.193,
          -0.034,
          0.144,
          0.293,
          0.154,
          0.188,
          0.066,
          -0.042,
          0.397,
          -2.057,
          -0.172,
          -0.122,
          -0.117,
          -0.522,
          0.057,
          0.375,
          -0.018,
          -0.149,
          0.723,
          -1.255,
          0.5,
          -0.394,
          0.352,
          0.365,
          -1.05,
          -0.845,
          0.396,
          0.043,
          0.524,
          -0.595,
          0.118,
          0.375,
          0.195,
          0.099,
          0.392,
          0.116,
          -0.009,
          0.236,
          0.124,
          0.234,
          0.261,
          0.497,
          0.041,
          -0.188,
          0.024,
          -0.794,
          0.377,
          0.419,
          0.129,
          0.511,
          0.049,
          0.344,
          -1.227,
          -2.644,
          -0.595,
          0.036,
          -1.87,
          0.296,
          0.341,
          0.63,
          0.133,
          0.433,
          0.113,
          0.383,
          -0.632,
          0.891,
          -0.557,
          0.416,
          0.551,
          -0.054,
          -1.71,
          0.055,
          0.286,
          -0.417,
          -0.748,
          0.316,
          0.07,
          0.443,
          0.508,
          0.3,
          0.214,
          -0.646,
          0.404,
          0.473,
          0.155,
          0.442,
          0.588,
          0.34,
          -0.281,
          0.235,
          0.273,
          0.08,
          0.381,
          0.371,
          0.316,
          0.149,
          0.069,
          0.234,
          -0.038,
          0.197,
          0.312,
          -1.34
         ],
         "xaxis": "x",
         "yaxis": "y"
        },
        {
         "alignmentgroup": "True",
         "hoverinfo": "all",
         "hovertemplate": "Диапазон размера коэффициента: %{x}",
         "legendgroup": "",
         "marker": {
          "color": "Orangered",
          "line": {
           "color": "black",
           "width": 1
          }
         },
         "name": "",
         "notched": true,
         "offsetgroup": "",
         "opacity": 0.9,
         "showlegend": false,
         "type": "box",
         "x": [
          -1.136,
          0.368,
          0.146,
          0.007,
          -0.18,
          0.012,
          -0.099,
          -0.888,
          0.524,
          -0.216,
          0.015,
          0.126,
          0.148,
          -1.05,
          0.492,
          -0.827,
          -2.042,
          0.049,
          0.47,
          0.032,
          0.476,
          -0.24,
          0.1,
          0.13,
          -1.056,
          0.407,
          0.116,
          -0.146,
          0.485,
          -0.483,
          0.091,
          0.175,
          0.173,
          0.131,
          -0.771,
          -0.369,
          0.205,
          -0.276,
          -0.161,
          -0.161,
          -1.138,
          0.618,
          0.086,
          0.185,
          0.221,
          -0.407,
          -1.139,
          -0.475,
          0.123,
          0.188,
          0.217,
          0.174,
          -0.011,
          -1.629,
          0.107,
          -1.244,
          -0.377,
          0.221,
          0.131,
          0.197,
          -0.976,
          0.154,
          0.407,
          0.304,
          -0.823,
          0.083,
          0.381,
          0.064,
          0.134,
          0.347,
          0.263,
          -1.533,
          0.182,
          -2.345,
          -0.033,
          -0.037,
          0.618,
          -0.315,
          -0.614,
          0.086,
          0.398,
          0.164,
          0.046,
          0.316,
          0.071,
          -1.04,
          0.174,
          0.252,
          0.319,
          0.094,
          0.263,
          0.195,
          -1.767,
          0.189,
          0.249,
          0.079,
          -0.144,
          -1.914,
          -1.004,
          -0.314,
          0.234,
          0.219,
          -0.458,
          -0.006,
          0.283,
          0.454,
          -0.699,
          0.001,
          0.1,
          0.019,
          0.007,
          0.244,
          0.473,
          0.352,
          0.348,
          0.215,
          -0.092,
          -0.345,
          -0.167,
          0.004,
          -0.095,
          0.389,
          -0.356,
          0.195,
          -0.643,
          0.164,
          0.413,
          0.216,
          -1.252,
          0.052,
          0.261,
          -0.097,
          -0.473,
          0.184,
          0.401,
          0.323,
          0.184,
          0.354,
          -1.077,
          -0.072,
          -0.927,
          0.359,
          0.141,
          0.154,
          0.145,
          -0.854,
          0.224,
          -0.178,
          0.141,
          0.196,
          0.272,
          0.015,
          0.363,
          -0.159,
          0.098,
          -0.205,
          0.138,
          -0.137,
          0.331,
          -0.781,
          0.573,
          -0.094,
          -0.278,
          0.233,
          0.052,
          -0.014,
          -2.016,
          -0.058,
          0.215,
          -0.081,
          0.035,
          0.267,
          0.032,
          0.113,
          0.297,
          0.243,
          0.237,
          0.207,
          0.148,
          0.295,
          0.317,
          0.246,
          0.304,
          0.118,
          0.586,
          0.133,
          0.167,
          0.067,
          0.092,
          -0.064,
          0.336,
          -0.305,
          0.077,
          0.214,
          -0.057,
          0.269,
          -1.123,
          0.469,
          0.028,
          -1.094,
          -0.039,
          -0.1,
          -1.598,
          -0.527,
          -0.336,
          0.037,
          0.11,
          0.136,
          0.113,
          -0.528,
          0.169,
          0.422,
          -0.029,
          -0.486,
          0.07,
          -0.273,
          -0.273,
          0.273,
          0.799,
          0.466,
          0.328,
          -0.567,
          -0.551,
          0.334,
          -0.467,
          -0.368,
          0.068,
          0.364,
          0.394,
          0.379,
          0.564,
          0.766,
          0.17,
          0.323,
          0.202,
          0.346,
          0.335,
          -1.253,
          -0.15,
          -0.356,
          0.077,
          -0.243,
          -0.289,
          0.132,
          -0.359,
          0.158,
          -1.762,
          0.142,
          0.265,
          0.338,
          0.708,
          0.006,
          0.019,
          -0.017,
          -0.024,
          0.245,
          0.08,
          0.01,
          0.363,
          -1.067,
          0.44,
          0.179,
          0.123,
          0.097,
          -0.164,
          -0.282,
          0.203,
          -0.696,
          0.098,
          -0.251,
          0.43,
          -0.099,
          0.268,
          0.122,
          0.192,
          0.363,
          0.049,
          0.432,
          -0.407,
          0.093,
          -0.001,
          0.173,
          0.612,
          -1.291,
          0.419,
          0.14,
          -0.454,
          -0.026,
          -1.372,
          -1.278,
          -0.247,
          0.048,
          0.18,
          -0.197,
          -0.03,
          0.035,
          -0.348,
          -0.176,
          0.229,
          0.37,
          0.214,
          0.204,
          0.171,
          0.595,
          0.131,
          0.059,
          0.137,
          0.094,
          0.144,
          0.446,
          0.273,
          0.279,
          0.386,
          0.407,
          0.512,
          0.149,
          0.217,
          0.537,
          0.073,
          0.312,
          0.023,
          0.417,
          0.409,
          -0.112,
          0.658,
          -0.157,
          0.689,
          -0.968,
          0.195,
          0.416,
          0.164,
          0.259,
          0.143,
          0.211,
          0.058,
          -0.395,
          -0.007,
          0.129,
          0.287,
          -0.794,
          0.217,
          0.255,
          0.024,
          0.043,
          -0.346,
          0.142,
          -1.255,
          0.549,
          0.206,
          0.326,
          0.327,
          0.213,
          0.158,
          -0.134,
          0.289,
          0.342,
          0.459,
          0.133,
          0.008,
          0.301,
          0.26,
          0.515,
          -0.408,
          0.205,
          0.015,
          -0.924,
          0.212,
          -0.134,
          0.129,
          -0.151,
          0.036,
          0.332,
          0.248,
          -1.57,
          0.375,
          0.213,
          0.303,
          0.326,
          0.31,
          0.114,
          0.06,
          -0.128,
          0.137,
          -0.066,
          0.499,
          0.283,
          0.206,
          -1.593,
          0.087,
          -0.399,
          0.161,
          0.157,
          0.344,
          0.089,
          -2.296,
          -0.091,
          0.319,
          0.491,
          0.431,
          -1.553,
          0.211,
          0.238,
          0.223,
          0.456,
          -0.053,
          0.465,
          0.603,
          -0.184,
          0.443,
          0.096,
          -1.301,
          0.044,
          -0.322,
          -2.296,
          -2.665,
          -0.64,
          -0.404,
          0.135,
          0.355,
          0.245,
          0.154,
          0.269,
          0.206,
          0.431,
          0.147,
          0.385,
          -0.387,
          -0.076,
          -1.067,
          -0.56,
          0.097,
          0.536,
          -0.249,
          0.008,
          0.281,
          0.027,
          -0.045,
          0.045,
          0.624,
          0.509,
          0.081,
          -0.13,
          -0.582,
          0.202,
          0.28,
          0.367,
          0.416,
          0.279,
          0.457,
          0.385,
          -0.935,
          0.212,
          0.634,
          0.542,
          -0.067,
          0.094,
          -0.273,
          -1.354,
          0.193,
          -0.034,
          0.144,
          0.293,
          0.154,
          0.188,
          0.066,
          -0.042,
          0.397,
          -2.057,
          -0.172,
          -0.122,
          -0.117,
          -0.522,
          0.057,
          0.375,
          -0.018,
          -0.149,
          0.723,
          -1.255,
          0.5,
          -0.394,
          0.352,
          0.365,
          -1.05,
          -0.845,
          0.396,
          0.043,
          0.524,
          -0.595,
          0.118,
          0.375,
          0.195,
          0.099,
          0.392,
          0.116,
          -0.009,
          0.236,
          0.124,
          0.234,
          0.261,
          0.497,
          0.041,
          -0.188,
          0.024,
          -0.794,
          0.377,
          0.419,
          0.129,
          0.511,
          0.049,
          0.344,
          -1.227,
          -2.644,
          -0.595,
          0.036,
          -1.87,
          0.296,
          0.341,
          0.63,
          0.133,
          0.433,
          0.113,
          0.383,
          -0.632,
          0.891,
          -0.557,
          0.416,
          0.551,
          -0.054,
          -1.71,
          0.055,
          0.286,
          -0.417,
          -0.748,
          0.316,
          0.07,
          0.443,
          0.508,
          0.3,
          0.214,
          -0.646,
          0.404,
          0.473,
          0.155,
          0.442,
          0.588,
          0.34,
          -0.281,
          0.235,
          0.273,
          0.08,
          0.381,
          0.371,
          0.316,
          0.149,
          0.069,
          0.234,
          -0.038,
          0.197,
          0.312,
          -1.34
         ],
         "xaxis": "x2",
         "yaxis": "y2"
        }
       ],
       "layout": {
        "annotations": [
         {
          "showarrow": false,
          "text": "Мода распределения: 0.154",
          "x": 0.154,
          "xanchor": "right",
          "xref": "x",
          "y": 0,
          "yanchor": "bottom",
          "yref": "y domain"
         },
         {
          "showarrow": false,
          "text": "Мода распределения: 0.154",
          "x": 0.154,
          "xanchor": "right",
          "xref": "x2",
          "y": 0,
          "yanchor": "bottom",
          "yref": "y2 domain"
         }
        ],
        "barmode": "relative",
        "height": 500,
        "legend": {
         "tracegroupgap": 0
        },
        "margin": {
         "t": 60
        },
        "shapes": [
         {
          "line": {
           "color": "black",
           "width": 2
          },
          "type": "line",
          "x0": 0.154,
          "x1": 0.154,
          "xref": "x",
          "y0": 0,
          "y1": 1,
          "yref": "y domain"
         },
         {
          "line": {
           "color": "black",
           "width": 2
          },
          "type": "line",
          "x0": 0.154,
          "x1": 0.154,
          "xref": "x2",
          "y0": 0,
          "y1": 1,
          "yref": "y2 domain"
         }
        ],
        "template": {
         "data": {
          "bar": [
           {
            "error_x": {
             "color": "#2a3f5f"
            },
            "error_y": {
             "color": "#2a3f5f"
            },
            "marker": {
             "line": {
              "color": "#E5ECF6",
              "width": 0.5
             },
             "pattern": {
              "fillmode": "overlay",
              "size": 10,
              "solidity": 0.2
             }
            },
            "type": "bar"
           }
          ],
          "barpolar": [
           {
            "marker": {
             "line": {
              "color": "#E5ECF6",
              "width": 0.5
             },
             "pattern": {
              "fillmode": "overlay",
              "size": 10,
              "solidity": 0.2
             }
            },
            "type": "barpolar"
           }
          ],
          "carpet": [
           {
            "aaxis": {
             "endlinecolor": "#2a3f5f",
             "gridcolor": "white",
             "linecolor": "white",
             "minorgridcolor": "white",
             "startlinecolor": "#2a3f5f"
            },
            "baxis": {
             "endlinecolor": "#2a3f5f",
             "gridcolor": "white",
             "linecolor": "white",
             "minorgridcolor": "white",
             "startlinecolor": "#2a3f5f"
            },
            "type": "carpet"
           }
          ],
          "choropleth": [
           {
            "colorbar": {
             "outlinewidth": 0,
             "ticks": ""
            },
            "type": "choropleth"
           }
          ],
          "contour": [
           {
            "colorbar": {
             "outlinewidth": 0,
             "ticks": ""
            },
            "colorscale": [
             [
              0,
              "#0d0887"
             ],
             [
              0.1111111111111111,
              "#46039f"
             ],
             [
              0.2222222222222222,
              "#7201a8"
             ],
             [
              0.3333333333333333,
              "#9c179e"
             ],
             [
              0.4444444444444444,
              "#bd3786"
             ],
             [
              0.5555555555555556,
              "#d8576b"
             ],
             [
              0.6666666666666666,
              "#ed7953"
             ],
             [
              0.7777777777777778,
              "#fb9f3a"
             ],
             [
              0.8888888888888888,
              "#fdca26"
             ],
             [
              1,
              "#f0f921"
             ]
            ],
            "type": "contour"
           }
          ],
          "contourcarpet": [
           {
            "colorbar": {
             "outlinewidth": 0,
             "ticks": ""
            },
            "type": "contourcarpet"
           }
          ],
          "heatmap": [
           {
            "colorbar": {
             "outlinewidth": 0,
             "ticks": ""
            },
            "colorscale": [
             [
              0,
              "#0d0887"
             ],
             [
              0.1111111111111111,
              "#46039f"
             ],
             [
              0.2222222222222222,
              "#7201a8"
             ],
             [
              0.3333333333333333,
              "#9c179e"
             ],
             [
              0.4444444444444444,
              "#bd3786"
             ],
             [
              0.5555555555555556,
              "#d8576b"
             ],
             [
              0.6666666666666666,
              "#ed7953"
             ],
             [
              0.7777777777777778,
              "#fb9f3a"
             ],
             [
              0.8888888888888888,
              "#fdca26"
             ],
             [
              1,
              "#f0f921"
             ]
            ],
            "type": "heatmap"
           }
          ],
          "heatmapgl": [
           {
            "colorbar": {
             "outlinewidth": 0,
             "ticks": ""
            },
            "colorscale": [
             [
              0,
              "#0d0887"
             ],
             [
              0.1111111111111111,
              "#46039f"
             ],
             [
              0.2222222222222222,
              "#7201a8"
             ],
             [
              0.3333333333333333,
              "#9c179e"
             ],
             [
              0.4444444444444444,
              "#bd3786"
             ],
             [
              0.5555555555555556,
              "#d8576b"
             ],
             [
              0.6666666666666666,
              "#ed7953"
             ],
             [
              0.7777777777777778,
              "#fb9f3a"
             ],
             [
              0.8888888888888888,
              "#fdca26"
             ],
             [
              1,
              "#f0f921"
             ]
            ],
            "type": "heatmapgl"
           }
          ],
          "histogram": [
           {
            "marker": {
             "pattern": {
              "fillmode": "overlay",
              "size": 10,
              "solidity": 0.2
             }
            },
            "type": "histogram"
           }
          ],
          "histogram2d": [
           {
            "colorbar": {
             "outlinewidth": 0,
             "ticks": ""
            },
            "colorscale": [
             [
              0,
              "#0d0887"
             ],
             [
              0.1111111111111111,
              "#46039f"
             ],
             [
              0.2222222222222222,
              "#7201a8"
             ],
             [
              0.3333333333333333,
              "#9c179e"
             ],
             [
              0.4444444444444444,
              "#bd3786"
             ],
             [
              0.5555555555555556,
              "#d8576b"
             ],
             [
              0.6666666666666666,
              "#ed7953"
             ],
             [
              0.7777777777777778,
              "#fb9f3a"
             ],
             [
              0.8888888888888888,
              "#fdca26"
             ],
             [
              1,
              "#f0f921"
             ]
            ],
            "type": "histogram2d"
           }
          ],
          "histogram2dcontour": [
           {
            "colorbar": {
             "outlinewidth": 0,
             "ticks": ""
            },
            "colorscale": [
             [
              0,
              "#0d0887"
             ],
             [
              0.1111111111111111,
              "#46039f"
             ],
             [
              0.2222222222222222,
              "#7201a8"
             ],
             [
              0.3333333333333333,
              "#9c179e"
             ],
             [
              0.4444444444444444,
              "#bd3786"
             ],
             [
              0.5555555555555556,
              "#d8576b"
             ],
             [
              0.6666666666666666,
              "#ed7953"
             ],
             [
              0.7777777777777778,
              "#fb9f3a"
             ],
             [
              0.8888888888888888,
              "#fdca26"
             ],
             [
              1,
              "#f0f921"
             ]
            ],
            "type": "histogram2dcontour"
           }
          ],
          "mesh3d": [
           {
            "colorbar": {
             "outlinewidth": 0,
             "ticks": ""
            },
            "type": "mesh3d"
           }
          ],
          "parcoords": [
           {
            "line": {
             "colorbar": {
              "outlinewidth": 0,
              "ticks": ""
             }
            },
            "type": "parcoords"
           }
          ],
          "pie": [
           {
            "automargin": true,
            "type": "pie"
           }
          ],
          "scatter": [
           {
            "fillpattern": {
             "fillmode": "overlay",
             "size": 10,
             "solidity": 0.2
            },
            "type": "scatter"
           }
          ],
          "scatter3d": [
           {
            "line": {
             "colorbar": {
              "outlinewidth": 0,
              "ticks": ""
             }
            },
            "marker": {
             "colorbar": {
              "outlinewidth": 0,
              "ticks": ""
             }
            },
            "type": "scatter3d"
           }
          ],
          "scattercarpet": [
           {
            "marker": {
             "colorbar": {
              "outlinewidth": 0,
              "ticks": ""
             }
            },
            "type": "scattercarpet"
           }
          ],
          "scattergeo": [
           {
            "marker": {
             "colorbar": {
              "outlinewidth": 0,
              "ticks": ""
             }
            },
            "type": "scattergeo"
           }
          ],
          "scattergl": [
           {
            "marker": {
             "colorbar": {
              "outlinewidth": 0,
              "ticks": ""
             }
            },
            "type": "scattergl"
           }
          ],
          "scattermapbox": [
           {
            "marker": {
             "colorbar": {
              "outlinewidth": 0,
              "ticks": ""
             }
            },
            "type": "scattermapbox"
           }
          ],
          "scatterpolar": [
           {
            "marker": {
             "colorbar": {
              "outlinewidth": 0,
              "ticks": ""
             }
            },
            "type": "scatterpolar"
           }
          ],
          "scatterpolargl": [
           {
            "marker": {
             "colorbar": {
              "outlinewidth": 0,
              "ticks": ""
             }
            },
            "type": "scatterpolargl"
           }
          ],
          "scatterternary": [
           {
            "marker": {
             "colorbar": {
              "outlinewidth": 0,
              "ticks": ""
             }
            },
            "type": "scatterternary"
           }
          ],
          "surface": [
           {
            "colorbar": {
             "outlinewidth": 0,
             "ticks": ""
            },
            "colorscale": [
             [
              0,
              "#0d0887"
             ],
             [
              0.1111111111111111,
              "#46039f"
             ],
             [
              0.2222222222222222,
              "#7201a8"
             ],
             [
              0.3333333333333333,
              "#9c179e"
             ],
             [
              0.4444444444444444,
              "#bd3786"
             ],
             [
              0.5555555555555556,
              "#d8576b"
             ],
             [
              0.6666666666666666,
              "#ed7953"
             ],
             [
              0.7777777777777778,
              "#fb9f3a"
             ],
             [
              0.8888888888888888,
              "#fdca26"
             ],
             [
              1,
              "#f0f921"
             ]
            ],
            "type": "surface"
           }
          ],
          "table": [
           {
            "cells": {
             "fill": {
              "color": "#EBF0F8"
             },
             "line": {
              "color": "white"
             }
            },
            "header": {
             "fill": {
              "color": "#C8D4E3"
             },
             "line": {
              "color": "white"
             }
            },
            "type": "table"
           }
          ]
         },
         "layout": {
          "annotationdefaults": {
           "arrowcolor": "#2a3f5f",
           "arrowhead": 0,
           "arrowwidth": 1
          },
          "autotypenumbers": "strict",
          "coloraxis": {
           "colorbar": {
            "outlinewidth": 0,
            "ticks": ""
           }
          },
          "colorscale": {
           "diverging": [
            [
             0,
             "#8e0152"
            ],
            [
             0.1,
             "#c51b7d"
            ],
            [
             0.2,
             "#de77ae"
            ],
            [
             0.3,
             "#f1b6da"
            ],
            [
             0.4,
             "#fde0ef"
            ],
            [
             0.5,
             "#f7f7f7"
            ],
            [
             0.6,
             "#e6f5d0"
            ],
            [
             0.7,
             "#b8e186"
            ],
            [
             0.8,
             "#7fbc41"
            ],
            [
             0.9,
             "#4d9221"
            ],
            [
             1,
             "#276419"
            ]
           ],
           "sequential": [
            [
             0,
             "#0d0887"
            ],
            [
             0.1111111111111111,
             "#46039f"
            ],
            [
             0.2222222222222222,
             "#7201a8"
            ],
            [
             0.3333333333333333,
             "#9c179e"
            ],
            [
             0.4444444444444444,
             "#bd3786"
            ],
            [
             0.5555555555555556,
             "#d8576b"
            ],
            [
             0.6666666666666666,
             "#ed7953"
            ],
            [
             0.7777777777777778,
             "#fb9f3a"
            ],
            [
             0.8888888888888888,
             "#fdca26"
            ],
            [
             1,
             "#f0f921"
            ]
           ],
           "sequentialminus": [
            [
             0,
             "#0d0887"
            ],
            [
             0.1111111111111111,
             "#46039f"
            ],
            [
             0.2222222222222222,
             "#7201a8"
            ],
            [
             0.3333333333333333,
             "#9c179e"
            ],
            [
             0.4444444444444444,
             "#bd3786"
            ],
            [
             0.5555555555555556,
             "#d8576b"
            ],
            [
             0.6666666666666666,
             "#ed7953"
            ],
            [
             0.7777777777777778,
             "#fb9f3a"
            ],
            [
             0.8888888888888888,
             "#fdca26"
            ],
            [
             1,
             "#f0f921"
            ]
           ]
          },
          "colorway": [
           "#636efa",
           "#EF553B",
           "#00cc96",
           "#ab63fa",
           "#FFA15A",
           "#19d3f3",
           "#FF6692",
           "#B6E880",
           "#FF97FF",
           "#FECB52"
          ],
          "font": {
           "color": "#2a3f5f"
          },
          "geo": {
           "bgcolor": "white",
           "lakecolor": "white",
           "landcolor": "#E5ECF6",
           "showlakes": true,
           "showland": true,
           "subunitcolor": "white"
          },
          "hoverlabel": {
           "align": "left"
          },
          "hovermode": "closest",
          "mapbox": {
           "style": "light"
          },
          "paper_bgcolor": "white",
          "plot_bgcolor": "#E5ECF6",
          "polar": {
           "angularaxis": {
            "gridcolor": "white",
            "linecolor": "white",
            "ticks": ""
           },
           "bgcolor": "#E5ECF6",
           "radialaxis": {
            "gridcolor": "white",
            "linecolor": "white",
            "ticks": ""
           }
          },
          "scene": {
           "xaxis": {
            "backgroundcolor": "#E5ECF6",
            "gridcolor": "white",
            "gridwidth": 2,
            "linecolor": "white",
            "showbackground": true,
            "ticks": "",
            "zerolinecolor": "white"
           },
           "yaxis": {
            "backgroundcolor": "#E5ECF6",
            "gridcolor": "white",
            "gridwidth": 2,
            "linecolor": "white",
            "showbackground": true,
            "ticks": "",
            "zerolinecolor": "white"
           },
           "zaxis": {
            "backgroundcolor": "#E5ECF6",
            "gridcolor": "white",
            "gridwidth": 2,
            "linecolor": "white",
            "showbackground": true,
            "ticks": "",
            "zerolinecolor": "white"
           }
          },
          "shapedefaults": {
           "line": {
            "color": "#2a3f5f"
           }
          },
          "ternary": {
           "aaxis": {
            "gridcolor": "white",
            "linecolor": "white",
            "ticks": ""
           },
           "baxis": {
            "gridcolor": "white",
            "linecolor": "white",
            "ticks": ""
           },
           "bgcolor": "#E5ECF6",
           "caxis": {
            "gridcolor": "white",
            "linecolor": "white",
            "ticks": ""
           }
          },
          "title": {
           "x": 0.05
          },
          "xaxis": {
           "automargin": true,
           "gridcolor": "white",
           "linecolor": "white",
           "ticks": "",
           "title": {
            "standoff": 15
           },
           "zerolinecolor": "white",
           "zerolinewidth": 2
          },
          "yaxis": {
           "automargin": true,
           "gridcolor": "white",
           "linecolor": "white",
           "ticks": "",
           "title": {
            "standoff": 15
           },
           "zerolinecolor": "white",
           "zerolinewidth": 2
          }
         }
        },
        "title": {
         "font": {
          "color": "black",
          "size": 18
         },
         "text": "Sharpe ratio",
         "x": 0.5,
         "xanchor": "center",
         "y": 0.97,
         "yanchor": "top"
        },
        "width": 1000,
        "xaxis": {
         "anchor": "y",
         "domain": [
          0,
          1
         ],
         "showspikes": true,
         "title": {
          "text": "Размер коэффициента"
         }
        },
        "xaxis2": {
         "anchor": "y2",
         "domain": [
          0,
          1
         ],
         "matches": "x",
         "showgrid": true,
         "showspikes": true,
         "showticklabels": false
        },
        "yaxis": {
         "anchor": "x",
         "domain": [
          0,
          0.8316
         ],
         "showspikes": true,
         "title": {
          "text": "Количество вхождений"
         }
        },
        "yaxis2": {
         "anchor": "x2",
         "domain": [
          0.8416,
          1
         ],
         "matches": "y2",
         "showgrid": false,
         "showline": false,
         "showspikes": true,
         "showticklabels": false,
         "ticks": ""
        }
       }
      }
     },
     "metadata": {},
     "output_type": "display_data"
    },
    {
     "data": {
      "application/vnd.plotly.v1+json": {
       "config": {
        "plotlyServerURL": "https://plot.ly"
       },
       "data": [
        {
         "alignmentgroup": "True",
         "bingroup": "x",
         "hoverinfo": "all",
         "hovertemplate": "Диапазон размера коэффициента: %{x}",
         "legendgroup": "",
         "marker": {
          "color": "Orangered",
          "line": {
           "color": "black",
           "width": 1
          },
          "pattern": {
           "shape": ""
          }
         },
         "name": "",
         "nbinsx": 200,
         "offsetgroup": "",
         "opacity": 0.9,
         "orientation": "v",
         "showlegend": false,
         "type": "histogram",
         "x": [
          -0.782,
          0.994,
          0.27,
          0.01,
          -0.236,
          0.016,
          -0.14,
          -0.683,
          1.04,
          -0.271,
          0.02,
          0.228,
          0.208,
          -0.735,
          2.19,
          -0.638,
          -0.898,
          0.089,
          1.313,
          0.065,
          0.761,
          -0.298,
          0.304,
          0.377,
          -0.742,
          1.23,
          0.273,
          -0.177,
          1.893,
          -0.46,
          0.155,
          0.54,
          0.364,
          0.289,
          -0.636,
          -0.38,
          2.009,
          -0.312,
          -0.189,
          -0.189,
          -0.758,
          1.623,
          0.172,
          0.366,
          0.486,
          -0.442,
          -0.778,
          -0.481,
          0.191,
          0.402,
          0.372,
          0.345,
          -0.019,
          -0.86,
          0.195,
          -0.779,
          -0.353,
          0.455,
          0.17,
          0.513,
          -0.707,
          0.212,
          1.596,
          0.602,
          -0.649,
          0.398,
          0.928,
          0.197,
          0.243,
          1.167,
          0.378,
          -0.838,
          0.381,
          -0.945,
          -0.053,
          -0.043,
          1.374,
          -0.362,
          -0.61,
          1.211,
          0.829,
          0.28,
          0.068,
          0.499,
          0.113,
          -0.734,
          0.34,
          0.545,
          0.584,
          0.134,
          0.475,
          0.336,
          -0.872,
          0.52,
          0.834,
          0.184,
          -0.228,
          -0.886,
          -0.719,
          -0.356,
          0.497,
          0.488,
          -0.452,
          -0.009,
          0.588,
          1.024,
          -0.629,
          0.004,
          0.145,
          0.054,
          0.01,
          0.659,
          1.939,
          1.082,
          0.876,
          0.644,
          -0.167,
          -0.429,
          -0.182,
          0.007,
          -0.137,
          0.85,
          -0.434,
          0.494,
          -0.61,
          0.357,
          1.202,
          0.505,
          -0.859,
          0.108,
          0.419,
          -0.147,
          -0.471,
          0.375,
          0.843,
          1.229,
          0.291,
          0.863,
          -0.743,
          -0.086,
          -0.719,
          1.444,
          0.228,
          0.359,
          0.227,
          -0.678,
          1.337,
          -0.198,
          0.245,
          0.569,
          0.493,
          0.027,
          1.328,
          -0.207,
          0.152,
          -0.244,
          0.173,
          -0.284,
          0.649,
          -0.636,
          1.849,
          -0.116,
          -0.304,
          0.385,
          0.075,
          -0.019,
          -0.897,
          -0.086,
          0.348,
          -0.125,
          0.075,
          0.607,
          0.053,
          0.168,
          0.522,
          0.448,
          0.374,
          0.296,
          0.204,
          0.502,
          0.663,
          0.402,
          0.747,
          0.266,
          1.347,
          0.281,
          0.424,
          0.115,
          0.16,
          -0.098,
          1.315,
          -0.362,
          0.23,
          1.96,
          -0.146,
          0.453,
          -0.754,
          1.194,
          0.044,
          -0.753,
          -0.055,
          -0.129,
          -0.871,
          -0.468,
          -0.401,
          0.062,
          0.147,
          0.209,
          0.177,
          -0.537,
          0.28,
          2.609,
          -0.041,
          -0.482,
          0.105,
          -0.338,
          -0.338,
          0.935,
          2.976,
          1.354,
          1.255,
          -0.51,
          -0.604,
          0.676,
          -0.486,
          -0.399,
          0.099,
          1.09,
          1.223,
          0.84,
          1.469,
          2.554,
          1.929,
          0.779,
          0.341,
          1.453,
          0.66,
          -0.911,
          -0.168,
          -0.436,
          0.13,
          -0.309,
          -0.379,
          0.395,
          -0.4,
          0.256,
          -0.87,
          0.748,
          0.793,
          1.095,
          2.609,
          0.007,
          0.025,
          -0.022,
          -0.046,
          0.442,
          1.445,
          0.014,
          0.989,
          -0.738,
          1.058,
          0.283,
          0.184,
          0.16,
          -0.196,
          -0.318,
          0.416,
          -0.643,
          0.313,
          -0.336,
          1.658,
          -0.131,
          0.465,
          2.069,
          0.319,
          1.188,
          0.084,
          0.943,
          -0.453,
          0.195,
          -0.002,
          0.637,
          2.756,
          -0.822,
          0.973,
          0.532,
          -0.524,
          -0.039,
          -0.844,
          -0.894,
          -0.274,
          0.083,
          0.358,
          -0.198,
          -0.035,
          0.046,
          -0.366,
          -0.276,
          0.521,
          0.91,
          0.589,
          1.683,
          0.368,
          1.862,
          0.234,
          0.102,
          0.272,
          0.154,
          0.275,
          2.402,
          1.27,
          1.885,
          1.162,
          0.84,
          2.562,
          0.204,
          0.451,
          1.54,
          0.144,
          1.119,
          0.565,
          1.113,
          2.08,
          -0.174,
          2.327,
          -0.201,
          2.007,
          -0.755,
          0.327,
          0.946,
          1.038,
          0.444,
          0.233,
          1.523,
          0.304,
          -0.457,
          -0.01,
          0.492,
          0.544,
          -0.664,
          0.408,
          0.496,
          0.052,
          0.072,
          -0.376,
          0.232,
          -0.783,
          1.468,
          0.391,
          0.595,
          0.888,
          0.381,
          0.307,
          -0.179,
          1.306,
          1.999,
          0.949,
          0.193,
          0.01,
          0.824,
          0.758,
          1.023,
          -0.422,
          1.415,
          0.023,
          -0.786,
          0.382,
          -0.133,
          0.212,
          -0.203,
          0.062,
          1.632,
          0.435,
          -0.846,
          2.023,
          0.579,
          1.813,
          0.665,
          0.852,
          0.323,
          0.089,
          -0.151,
          0.529,
          -0.068,
          2.485,
          2.864,
          0.554,
          -0.863,
          0.178,
          -0.51,
          0.297,
          0.292,
          0.806,
          0.135,
          -0.917,
          -0.12,
          0.549,
          0.822,
          0.991,
          -0.848,
          0.432,
          0.692,
          0.382,
          1.459,
          -0.067,
          1.853,
          1.379,
          -0.241,
          1.133,
          0.188,
          -0.794,
          0.069,
          -0.356,
          -0.917,
          -0.936,
          -0.579,
          -0.518,
          0.335,
          0.858,
          0.745,
          1.024,
          0.536,
          0.498,
          0.822,
          0.52,
          0.852,
          -0.409,
          -0.126,
          -0.758,
          -0.531,
          0.151,
          1.55,
          -0.313,
          0.015,
          1.039,
          0.047,
          -0.069,
          0.078,
          1.246,
          1.503,
          0.121,
          -0.155,
          -0.546,
          1,
          0.473,
          1.031,
          1.435,
          0.554,
          1.17,
          1.304,
          -0.692,
          0.916,
          2.44,
          1.027,
          -0.074,
          0.166,
          -0.354,
          -0.824,
          0.472,
          -0.097,
          0.195,
          0.523,
          0.23,
          0.48,
          0.099,
          -0.058,
          0.916,
          -0.902,
          -0.247,
          -0.138,
          -0.282,
          -0.497,
          0.079,
          0.835,
          -0.042,
          -0.205,
          2.203,
          -0.785,
          1.32,
          -0.425,
          1.119,
          0.814,
          -0.73,
          -0.659,
          0.963,
          0.101,
          2.601,
          -0.568,
          0.157,
          0.671,
          0.948,
          0.444,
          1.297,
          0.275,
          -0.017,
          1.286,
          0.243,
          0.436,
          0.46,
          2.424,
          0.076,
          -0.231,
          0.031,
          -0.65,
          0.985,
          1.343,
          0.172,
          1.903,
          0.129,
          0.929,
          -0.775,
          -0.935,
          -0.528,
          0.057,
          -0.882,
          0.725,
          0.78,
          1.454,
          0.224,
          1.15,
          0.139,
          1.199,
          -0.553,
          2.82,
          -0.58,
          2.256,
          2.15,
          -0.058,
          -0.863,
          0.097,
          0.682,
          -0.428,
          -0.621,
          1.004,
          0.158,
          1.46,
          1.796,
          0.639,
          1.361,
          -0.573,
          1.519,
          2.989,
          0.296,
          1.62,
          1.47,
          0.62,
          -0.318,
          0.658,
          0.76,
          0.171,
          0.772,
          1.697,
          0.686,
          2.592,
          0.121,
          0.409,
          -0.055,
          0.499,
          2.367,
          -0.813
         ],
         "xaxis": "x",
         "yaxis": "y"
        },
        {
         "alignmentgroup": "True",
         "hoverinfo": "all",
         "hovertemplate": "Диапазон размера коэффициента: %{x}",
         "legendgroup": "",
         "marker": {
          "color": "Orangered",
          "line": {
           "color": "black",
           "width": 1
          }
         },
         "name": "",
         "notched": true,
         "offsetgroup": "",
         "opacity": 0.9,
         "showlegend": false,
         "type": "box",
         "x": [
          -0.782,
          0.994,
          0.27,
          0.01,
          -0.236,
          0.016,
          -0.14,
          -0.683,
          1.04,
          -0.271,
          0.02,
          0.228,
          0.208,
          -0.735,
          2.19,
          -0.638,
          -0.898,
          0.089,
          1.313,
          0.065,
          0.761,
          -0.298,
          0.304,
          0.377,
          -0.742,
          1.23,
          0.273,
          -0.177,
          1.893,
          -0.46,
          0.155,
          0.54,
          0.364,
          0.289,
          -0.636,
          -0.38,
          2.009,
          -0.312,
          -0.189,
          -0.189,
          -0.758,
          1.623,
          0.172,
          0.366,
          0.486,
          -0.442,
          -0.778,
          -0.481,
          0.191,
          0.402,
          0.372,
          0.345,
          -0.019,
          -0.86,
          0.195,
          -0.779,
          -0.353,
          0.455,
          0.17,
          0.513,
          -0.707,
          0.212,
          1.596,
          0.602,
          -0.649,
          0.398,
          0.928,
          0.197,
          0.243,
          1.167,
          0.378,
          -0.838,
          0.381,
          -0.945,
          -0.053,
          -0.043,
          1.374,
          -0.362,
          -0.61,
          1.211,
          0.829,
          0.28,
          0.068,
          0.499,
          0.113,
          -0.734,
          0.34,
          0.545,
          0.584,
          0.134,
          0.475,
          0.336,
          -0.872,
          0.52,
          0.834,
          0.184,
          -0.228,
          -0.886,
          -0.719,
          -0.356,
          0.497,
          0.488,
          -0.452,
          -0.009,
          0.588,
          1.024,
          -0.629,
          0.004,
          0.145,
          0.054,
          0.01,
          0.659,
          1.939,
          1.082,
          0.876,
          0.644,
          -0.167,
          -0.429,
          -0.182,
          0.007,
          -0.137,
          0.85,
          -0.434,
          0.494,
          -0.61,
          0.357,
          1.202,
          0.505,
          -0.859,
          0.108,
          0.419,
          -0.147,
          -0.471,
          0.375,
          0.843,
          1.229,
          0.291,
          0.863,
          -0.743,
          -0.086,
          -0.719,
          1.444,
          0.228,
          0.359,
          0.227,
          -0.678,
          1.337,
          -0.198,
          0.245,
          0.569,
          0.493,
          0.027,
          1.328,
          -0.207,
          0.152,
          -0.244,
          0.173,
          -0.284,
          0.649,
          -0.636,
          1.849,
          -0.116,
          -0.304,
          0.385,
          0.075,
          -0.019,
          -0.897,
          -0.086,
          0.348,
          -0.125,
          0.075,
          0.607,
          0.053,
          0.168,
          0.522,
          0.448,
          0.374,
          0.296,
          0.204,
          0.502,
          0.663,
          0.402,
          0.747,
          0.266,
          1.347,
          0.281,
          0.424,
          0.115,
          0.16,
          -0.098,
          1.315,
          -0.362,
          0.23,
          1.96,
          -0.146,
          0.453,
          -0.754,
          1.194,
          0.044,
          -0.753,
          -0.055,
          -0.129,
          -0.871,
          -0.468,
          -0.401,
          0.062,
          0.147,
          0.209,
          0.177,
          -0.537,
          0.28,
          2.609,
          -0.041,
          -0.482,
          0.105,
          -0.338,
          -0.338,
          0.935,
          2.976,
          1.354,
          1.255,
          -0.51,
          -0.604,
          0.676,
          -0.486,
          -0.399,
          0.099,
          1.09,
          1.223,
          0.84,
          1.469,
          2.554,
          1.929,
          0.779,
          0.341,
          1.453,
          0.66,
          -0.911,
          -0.168,
          -0.436,
          0.13,
          -0.309,
          -0.379,
          0.395,
          -0.4,
          0.256,
          -0.87,
          0.748,
          0.793,
          1.095,
          2.609,
          0.007,
          0.025,
          -0.022,
          -0.046,
          0.442,
          1.445,
          0.014,
          0.989,
          -0.738,
          1.058,
          0.283,
          0.184,
          0.16,
          -0.196,
          -0.318,
          0.416,
          -0.643,
          0.313,
          -0.336,
          1.658,
          -0.131,
          0.465,
          2.069,
          0.319,
          1.188,
          0.084,
          0.943,
          -0.453,
          0.195,
          -0.002,
          0.637,
          2.756,
          -0.822,
          0.973,
          0.532,
          -0.524,
          -0.039,
          -0.844,
          -0.894,
          -0.274,
          0.083,
          0.358,
          -0.198,
          -0.035,
          0.046,
          -0.366,
          -0.276,
          0.521,
          0.91,
          0.589,
          1.683,
          0.368,
          1.862,
          0.234,
          0.102,
          0.272,
          0.154,
          0.275,
          2.402,
          1.27,
          1.885,
          1.162,
          0.84,
          2.562,
          0.204,
          0.451,
          1.54,
          0.144,
          1.119,
          0.565,
          1.113,
          2.08,
          -0.174,
          2.327,
          -0.201,
          2.007,
          -0.755,
          0.327,
          0.946,
          1.038,
          0.444,
          0.233,
          1.523,
          0.304,
          -0.457,
          -0.01,
          0.492,
          0.544,
          -0.664,
          0.408,
          0.496,
          0.052,
          0.072,
          -0.376,
          0.232,
          -0.783,
          1.468,
          0.391,
          0.595,
          0.888,
          0.381,
          0.307,
          -0.179,
          1.306,
          1.999,
          0.949,
          0.193,
          0.01,
          0.824,
          0.758,
          1.023,
          -0.422,
          1.415,
          0.023,
          -0.786,
          0.382,
          -0.133,
          0.212,
          -0.203,
          0.062,
          1.632,
          0.435,
          -0.846,
          2.023,
          0.579,
          1.813,
          0.665,
          0.852,
          0.323,
          0.089,
          -0.151,
          0.529,
          -0.068,
          2.485,
          2.864,
          0.554,
          -0.863,
          0.178,
          -0.51,
          0.297,
          0.292,
          0.806,
          0.135,
          -0.917,
          -0.12,
          0.549,
          0.822,
          0.991,
          -0.848,
          0.432,
          0.692,
          0.382,
          1.459,
          -0.067,
          1.853,
          1.379,
          -0.241,
          1.133,
          0.188,
          -0.794,
          0.069,
          -0.356,
          -0.917,
          -0.936,
          -0.579,
          -0.518,
          0.335,
          0.858,
          0.745,
          1.024,
          0.536,
          0.498,
          0.822,
          0.52,
          0.852,
          -0.409,
          -0.126,
          -0.758,
          -0.531,
          0.151,
          1.55,
          -0.313,
          0.015,
          1.039,
          0.047,
          -0.069,
          0.078,
          1.246,
          1.503,
          0.121,
          -0.155,
          -0.546,
          1,
          0.473,
          1.031,
          1.435,
          0.554,
          1.17,
          1.304,
          -0.692,
          0.916,
          2.44,
          1.027,
          -0.074,
          0.166,
          -0.354,
          -0.824,
          0.472,
          -0.097,
          0.195,
          0.523,
          0.23,
          0.48,
          0.099,
          -0.058,
          0.916,
          -0.902,
          -0.247,
          -0.138,
          -0.282,
          -0.497,
          0.079,
          0.835,
          -0.042,
          -0.205,
          2.203,
          -0.785,
          1.32,
          -0.425,
          1.119,
          0.814,
          -0.73,
          -0.659,
          0.963,
          0.101,
          2.601,
          -0.568,
          0.157,
          0.671,
          0.948,
          0.444,
          1.297,
          0.275,
          -0.017,
          1.286,
          0.243,
          0.436,
          0.46,
          2.424,
          0.076,
          -0.231,
          0.031,
          -0.65,
          0.985,
          1.343,
          0.172,
          1.903,
          0.129,
          0.929,
          -0.775,
          -0.935,
          -0.528,
          0.057,
          -0.882,
          0.725,
          0.78,
          1.454,
          0.224,
          1.15,
          0.139,
          1.199,
          -0.553,
          2.82,
          -0.58,
          2.256,
          2.15,
          -0.058,
          -0.863,
          0.097,
          0.682,
          -0.428,
          -0.621,
          1.004,
          0.158,
          1.46,
          1.796,
          0.639,
          1.361,
          -0.573,
          1.519,
          2.989,
          0.296,
          1.62,
          1.47,
          0.62,
          -0.318,
          0.658,
          0.76,
          0.171,
          0.772,
          1.697,
          0.686,
          2.592,
          0.121,
          0.409,
          -0.055,
          0.499,
          2.367,
          -0.813
         ],
         "xaxis": "x2",
         "yaxis": "y2"
        }
       ],
       "layout": {
        "annotations": [
         {
          "showarrow": false,
          "text": "Мода распределения: 0.01",
          "x": 0.01,
          "xanchor": "right",
          "xref": "x",
          "y": 0,
          "yanchor": "bottom",
          "yref": "y domain"
         },
         {
          "showarrow": false,
          "text": "Мода распределения: 0.01",
          "x": 0.01,
          "xanchor": "right",
          "xref": "x2",
          "y": 0,
          "yanchor": "bottom",
          "yref": "y2 domain"
         }
        ],
        "barmode": "relative",
        "height": 500,
        "legend": {
         "tracegroupgap": 0
        },
        "margin": {
         "t": 60
        },
        "shapes": [
         {
          "line": {
           "color": "black",
           "width": 2
          },
          "type": "line",
          "x0": 0.01,
          "x1": 0.01,
          "xref": "x",
          "y0": 0,
          "y1": 1,
          "yref": "y domain"
         },
         {
          "line": {
           "color": "black",
           "width": 2
          },
          "type": "line",
          "x0": 0.01,
          "x1": 0.01,
          "xref": "x2",
          "y0": 0,
          "y1": 1,
          "yref": "y2 domain"
         }
        ],
        "template": {
         "data": {
          "bar": [
           {
            "error_x": {
             "color": "#2a3f5f"
            },
            "error_y": {
             "color": "#2a3f5f"
            },
            "marker": {
             "line": {
              "color": "#E5ECF6",
              "width": 0.5
             },
             "pattern": {
              "fillmode": "overlay",
              "size": 10,
              "solidity": 0.2
             }
            },
            "type": "bar"
           }
          ],
          "barpolar": [
           {
            "marker": {
             "line": {
              "color": "#E5ECF6",
              "width": 0.5
             },
             "pattern": {
              "fillmode": "overlay",
              "size": 10,
              "solidity": 0.2
             }
            },
            "type": "barpolar"
           }
          ],
          "carpet": [
           {
            "aaxis": {
             "endlinecolor": "#2a3f5f",
             "gridcolor": "white",
             "linecolor": "white",
             "minorgridcolor": "white",
             "startlinecolor": "#2a3f5f"
            },
            "baxis": {
             "endlinecolor": "#2a3f5f",
             "gridcolor": "white",
             "linecolor": "white",
             "minorgridcolor": "white",
             "startlinecolor": "#2a3f5f"
            },
            "type": "carpet"
           }
          ],
          "choropleth": [
           {
            "colorbar": {
             "outlinewidth": 0,
             "ticks": ""
            },
            "type": "choropleth"
           }
          ],
          "contour": [
           {
            "colorbar": {
             "outlinewidth": 0,
             "ticks": ""
            },
            "colorscale": [
             [
              0,
              "#0d0887"
             ],
             [
              0.1111111111111111,
              "#46039f"
             ],
             [
              0.2222222222222222,
              "#7201a8"
             ],
             [
              0.3333333333333333,
              "#9c179e"
             ],
             [
              0.4444444444444444,
              "#bd3786"
             ],
             [
              0.5555555555555556,
              "#d8576b"
             ],
             [
              0.6666666666666666,
              "#ed7953"
             ],
             [
              0.7777777777777778,
              "#fb9f3a"
             ],
             [
              0.8888888888888888,
              "#fdca26"
             ],
             [
              1,
              "#f0f921"
             ]
            ],
            "type": "contour"
           }
          ],
          "contourcarpet": [
           {
            "colorbar": {
             "outlinewidth": 0,
             "ticks": ""
            },
            "type": "contourcarpet"
           }
          ],
          "heatmap": [
           {
            "colorbar": {
             "outlinewidth": 0,
             "ticks": ""
            },
            "colorscale": [
             [
              0,
              "#0d0887"
             ],
             [
              0.1111111111111111,
              "#46039f"
             ],
             [
              0.2222222222222222,
              "#7201a8"
             ],
             [
              0.3333333333333333,
              "#9c179e"
             ],
             [
              0.4444444444444444,
              "#bd3786"
             ],
             [
              0.5555555555555556,
              "#d8576b"
             ],
             [
              0.6666666666666666,
              "#ed7953"
             ],
             [
              0.7777777777777778,
              "#fb9f3a"
             ],
             [
              0.8888888888888888,
              "#fdca26"
             ],
             [
              1,
              "#f0f921"
             ]
            ],
            "type": "heatmap"
           }
          ],
          "heatmapgl": [
           {
            "colorbar": {
             "outlinewidth": 0,
             "ticks": ""
            },
            "colorscale": [
             [
              0,
              "#0d0887"
             ],
             [
              0.1111111111111111,
              "#46039f"
             ],
             [
              0.2222222222222222,
              "#7201a8"
             ],
             [
              0.3333333333333333,
              "#9c179e"
             ],
             [
              0.4444444444444444,
              "#bd3786"
             ],
             [
              0.5555555555555556,
              "#d8576b"
             ],
             [
              0.6666666666666666,
              "#ed7953"
             ],
             [
              0.7777777777777778,
              "#fb9f3a"
             ],
             [
              0.8888888888888888,
              "#fdca26"
             ],
             [
              1,
              "#f0f921"
             ]
            ],
            "type": "heatmapgl"
           }
          ],
          "histogram": [
           {
            "marker": {
             "pattern": {
              "fillmode": "overlay",
              "size": 10,
              "solidity": 0.2
             }
            },
            "type": "histogram"
           }
          ],
          "histogram2d": [
           {
            "colorbar": {
             "outlinewidth": 0,
             "ticks": ""
            },
            "colorscale": [
             [
              0,
              "#0d0887"
             ],
             [
              0.1111111111111111,
              "#46039f"
             ],
             [
              0.2222222222222222,
              "#7201a8"
             ],
             [
              0.3333333333333333,
              "#9c179e"
             ],
             [
              0.4444444444444444,
              "#bd3786"
             ],
             [
              0.5555555555555556,
              "#d8576b"
             ],
             [
              0.6666666666666666,
              "#ed7953"
             ],
             [
              0.7777777777777778,
              "#fb9f3a"
             ],
             [
              0.8888888888888888,
              "#fdca26"
             ],
             [
              1,
              "#f0f921"
             ]
            ],
            "type": "histogram2d"
           }
          ],
          "histogram2dcontour": [
           {
            "colorbar": {
             "outlinewidth": 0,
             "ticks": ""
            },
            "colorscale": [
             [
              0,
              "#0d0887"
             ],
             [
              0.1111111111111111,
              "#46039f"
             ],
             [
              0.2222222222222222,
              "#7201a8"
             ],
             [
              0.3333333333333333,
              "#9c179e"
             ],
             [
              0.4444444444444444,
              "#bd3786"
             ],
             [
              0.5555555555555556,
              "#d8576b"
             ],
             [
              0.6666666666666666,
              "#ed7953"
             ],
             [
              0.7777777777777778,
              "#fb9f3a"
             ],
             [
              0.8888888888888888,
              "#fdca26"
             ],
             [
              1,
              "#f0f921"
             ]
            ],
            "type": "histogram2dcontour"
           }
          ],
          "mesh3d": [
           {
            "colorbar": {
             "outlinewidth": 0,
             "ticks": ""
            },
            "type": "mesh3d"
           }
          ],
          "parcoords": [
           {
            "line": {
             "colorbar": {
              "outlinewidth": 0,
              "ticks": ""
             }
            },
            "type": "parcoords"
           }
          ],
          "pie": [
           {
            "automargin": true,
            "type": "pie"
           }
          ],
          "scatter": [
           {
            "fillpattern": {
             "fillmode": "overlay",
             "size": 10,
             "solidity": 0.2
            },
            "type": "scatter"
           }
          ],
          "scatter3d": [
           {
            "line": {
             "colorbar": {
              "outlinewidth": 0,
              "ticks": ""
             }
            },
            "marker": {
             "colorbar": {
              "outlinewidth": 0,
              "ticks": ""
             }
            },
            "type": "scatter3d"
           }
          ],
          "scattercarpet": [
           {
            "marker": {
             "colorbar": {
              "outlinewidth": 0,
              "ticks": ""
             }
            },
            "type": "scattercarpet"
           }
          ],
          "scattergeo": [
           {
            "marker": {
             "colorbar": {
              "outlinewidth": 0,
              "ticks": ""
             }
            },
            "type": "scattergeo"
           }
          ],
          "scattergl": [
           {
            "marker": {
             "colorbar": {
              "outlinewidth": 0,
              "ticks": ""
             }
            },
            "type": "scattergl"
           }
          ],
          "scattermapbox": [
           {
            "marker": {
             "colorbar": {
              "outlinewidth": 0,
              "ticks": ""
             }
            },
            "type": "scattermapbox"
           }
          ],
          "scatterpolar": [
           {
            "marker": {
             "colorbar": {
              "outlinewidth": 0,
              "ticks": ""
             }
            },
            "type": "scatterpolar"
           }
          ],
          "scatterpolargl": [
           {
            "marker": {
             "colorbar": {
              "outlinewidth": 0,
              "ticks": ""
             }
            },
            "type": "scatterpolargl"
           }
          ],
          "scatterternary": [
           {
            "marker": {
             "colorbar": {
              "outlinewidth": 0,
              "ticks": ""
             }
            },
            "type": "scatterternary"
           }
          ],
          "surface": [
           {
            "colorbar": {
             "outlinewidth": 0,
             "ticks": ""
            },
            "colorscale": [
             [
              0,
              "#0d0887"
             ],
             [
              0.1111111111111111,
              "#46039f"
             ],
             [
              0.2222222222222222,
              "#7201a8"
             ],
             [
              0.3333333333333333,
              "#9c179e"
             ],
             [
              0.4444444444444444,
              "#bd3786"
             ],
             [
              0.5555555555555556,
              "#d8576b"
             ],
             [
              0.6666666666666666,
              "#ed7953"
             ],
             [
              0.7777777777777778,
              "#fb9f3a"
             ],
             [
              0.8888888888888888,
              "#fdca26"
             ],
             [
              1,
              "#f0f921"
             ]
            ],
            "type": "surface"
           }
          ],
          "table": [
           {
            "cells": {
             "fill": {
              "color": "#EBF0F8"
             },
             "line": {
              "color": "white"
             }
            },
            "header": {
             "fill": {
              "color": "#C8D4E3"
             },
             "line": {
              "color": "white"
             }
            },
            "type": "table"
           }
          ]
         },
         "layout": {
          "annotationdefaults": {
           "arrowcolor": "#2a3f5f",
           "arrowhead": 0,
           "arrowwidth": 1
          },
          "autotypenumbers": "strict",
          "coloraxis": {
           "colorbar": {
            "outlinewidth": 0,
            "ticks": ""
           }
          },
          "colorscale": {
           "diverging": [
            [
             0,
             "#8e0152"
            ],
            [
             0.1,
             "#c51b7d"
            ],
            [
             0.2,
             "#de77ae"
            ],
            [
             0.3,
             "#f1b6da"
            ],
            [
             0.4,
             "#fde0ef"
            ],
            [
             0.5,
             "#f7f7f7"
            ],
            [
             0.6,
             "#e6f5d0"
            ],
            [
             0.7,
             "#b8e186"
            ],
            [
             0.8,
             "#7fbc41"
            ],
            [
             0.9,
             "#4d9221"
            ],
            [
             1,
             "#276419"
            ]
           ],
           "sequential": [
            [
             0,
             "#0d0887"
            ],
            [
             0.1111111111111111,
             "#46039f"
            ],
            [
             0.2222222222222222,
             "#7201a8"
            ],
            [
             0.3333333333333333,
             "#9c179e"
            ],
            [
             0.4444444444444444,
             "#bd3786"
            ],
            [
             0.5555555555555556,
             "#d8576b"
            ],
            [
             0.6666666666666666,
             "#ed7953"
            ],
            [
             0.7777777777777778,
             "#fb9f3a"
            ],
            [
             0.8888888888888888,
             "#fdca26"
            ],
            [
             1,
             "#f0f921"
            ]
           ],
           "sequentialminus": [
            [
             0,
             "#0d0887"
            ],
            [
             0.1111111111111111,
             "#46039f"
            ],
            [
             0.2222222222222222,
             "#7201a8"
            ],
            [
             0.3333333333333333,
             "#9c179e"
            ],
            [
             0.4444444444444444,
             "#bd3786"
            ],
            [
             0.5555555555555556,
             "#d8576b"
            ],
            [
             0.6666666666666666,
             "#ed7953"
            ],
            [
             0.7777777777777778,
             "#fb9f3a"
            ],
            [
             0.8888888888888888,
             "#fdca26"
            ],
            [
             1,
             "#f0f921"
            ]
           ]
          },
          "colorway": [
           "#636efa",
           "#EF553B",
           "#00cc96",
           "#ab63fa",
           "#FFA15A",
           "#19d3f3",
           "#FF6692",
           "#B6E880",
           "#FF97FF",
           "#FECB52"
          ],
          "font": {
           "color": "#2a3f5f"
          },
          "geo": {
           "bgcolor": "white",
           "lakecolor": "white",
           "landcolor": "#E5ECF6",
           "showlakes": true,
           "showland": true,
           "subunitcolor": "white"
          },
          "hoverlabel": {
           "align": "left"
          },
          "hovermode": "closest",
          "mapbox": {
           "style": "light"
          },
          "paper_bgcolor": "white",
          "plot_bgcolor": "#E5ECF6",
          "polar": {
           "angularaxis": {
            "gridcolor": "white",
            "linecolor": "white",
            "ticks": ""
           },
           "bgcolor": "#E5ECF6",
           "radialaxis": {
            "gridcolor": "white",
            "linecolor": "white",
            "ticks": ""
           }
          },
          "scene": {
           "xaxis": {
            "backgroundcolor": "#E5ECF6",
            "gridcolor": "white",
            "gridwidth": 2,
            "linecolor": "white",
            "showbackground": true,
            "ticks": "",
            "zerolinecolor": "white"
           },
           "yaxis": {
            "backgroundcolor": "#E5ECF6",
            "gridcolor": "white",
            "gridwidth": 2,
            "linecolor": "white",
            "showbackground": true,
            "ticks": "",
            "zerolinecolor": "white"
           },
           "zaxis": {
            "backgroundcolor": "#E5ECF6",
            "gridcolor": "white",
            "gridwidth": 2,
            "linecolor": "white",
            "showbackground": true,
            "ticks": "",
            "zerolinecolor": "white"
           }
          },
          "shapedefaults": {
           "line": {
            "color": "#2a3f5f"
           }
          },
          "ternary": {
           "aaxis": {
            "gridcolor": "white",
            "linecolor": "white",
            "ticks": ""
           },
           "baxis": {
            "gridcolor": "white",
            "linecolor": "white",
            "ticks": ""
           },
           "bgcolor": "#E5ECF6",
           "caxis": {
            "gridcolor": "white",
            "linecolor": "white",
            "ticks": ""
           }
          },
          "title": {
           "x": 0.05
          },
          "xaxis": {
           "automargin": true,
           "gridcolor": "white",
           "linecolor": "white",
           "ticks": "",
           "title": {
            "standoff": 15
           },
           "zerolinecolor": "white",
           "zerolinewidth": 2
          },
          "yaxis": {
           "automargin": true,
           "gridcolor": "white",
           "linecolor": "white",
           "ticks": "",
           "title": {
            "standoff": 15
           },
           "zerolinecolor": "white",
           "zerolinewidth": 2
          }
         }
        },
        "title": {
         "font": {
          "color": "black",
          "size": 18
         },
         "text": "Sortino ratio",
         "x": 0.5,
         "xanchor": "center",
         "y": 0.97,
         "yanchor": "top"
        },
        "width": 1000,
        "xaxis": {
         "anchor": "y",
         "domain": [
          0,
          1
         ],
         "showspikes": true,
         "title": {
          "text": "Размер коэффициента"
         }
        },
        "xaxis2": {
         "anchor": "y2",
         "domain": [
          0,
          1
         ],
         "matches": "x",
         "showgrid": true,
         "showspikes": true,
         "showticklabels": false
        },
        "yaxis": {
         "anchor": "x",
         "domain": [
          0,
          0.8316
         ],
         "showspikes": true,
         "title": {
          "text": "Количество вхождений"
         }
        },
        "yaxis2": {
         "anchor": "x2",
         "domain": [
          0.8416,
          1
         ],
         "matches": "y2",
         "showgrid": false,
         "showline": false,
         "showspikes": true,
         "showticklabels": false,
         "ticks": ""
        }
       }
      }
     },
     "metadata": {},
     "output_type": "display_data"
    },
    {
     "data": {
      "application/vnd.plotly.v1+json": {
       "config": {
        "plotlyServerURL": "https://plot.ly"
       },
       "data": [
        {
         "alignmentgroup": "True",
         "bingroup": "x",
         "hoverinfo": "all",
         "hovertemplate": "Диапазон размера коэффициента: %{x}",
         "legendgroup": "",
         "marker": {
          "color": "Orangered",
          "line": {
           "color": "black",
           "width": 1
          },
          "pattern": {
           "shape": ""
          }
         },
         "name": "",
         "nbinsx": 200,
         "offsetgroup": "",
         "opacity": 0.9,
         "orientation": "v",
         "showlegend": false,
         "type": "histogram",
         "x": [
          1.262,
          2.046,
          1.158,
          1.124,
          1.426,
          1.079,
          0.921,
          0.537,
          1.404,
          0.856,
          1.008,
          1.401,
          1.308,
          1.057,
          2.804,
          0.537,
          0.268,
          1.389,
          1.295,
          1.217,
          1.815,
          0.916,
          2.06,
          1.632,
          1.036,
          1.427,
          1.424,
          1.542,
          2.608,
          1.739,
          1.095,
          1.702,
          1.288,
          1.353,
          0.804,
          0.783,
          2.276,
          0.923,
          0.925,
          0.925,
          1.17,
          1.579,
          1.517,
          1.307,
          1.666,
          1.252,
          1.859,
          0.993,
          1.827,
          1.213,
          1.155,
          1.302,
          1.813,
          1.018,
          1.076,
          0.55,
          1.024,
          1.998,
          1.158,
          1.423,
          0.233,
          1.537,
          1.866,
          1.381,
          0.789,
          1.892,
          1.802,
          2.289,
          1.329,
          2.328,
          1.225,
          0.728,
          1.734,
          1.766,
          0.952,
          1.337,
          1.297,
          0.924,
          1.105,
          2.878,
          1.541,
          1.445,
          1.709,
          1.408,
          1.244,
          0.498,
          1.297,
          2.175,
          1.211,
          1.167,
          1.349,
          1.107,
          0.813,
          1.961,
          1.402,
          1.832,
          1.065,
          0.534,
          0.75,
          1.812,
          1.518,
          1.432,
          0.818,
          1.021,
          1.855,
          1.366,
          1.301,
          1.062,
          1.4,
          0.743,
          1.17,
          1.852,
          1.56,
          1.561,
          1.289,
          2.496,
          1.185,
          1.461,
          0.904,
          1.36,
          2.058,
          1.575,
          1.07,
          1.817,
          1.704,
          1.33,
          1.728,
          1.837,
          1.579,
          1.054,
          1.18,
          0.696,
          1.15,
          1.171,
          1.529,
          1.621,
          1.095,
          1.53,
          0.679,
          0.937,
          1.347,
          2.203,
          1.653,
          1.38,
          1.688,
          1.035,
          2.091,
          2.121,
          1.52,
          1.067,
          2.008,
          1.257,
          1.142,
          1.131,
          1.539,
          2.154,
          1.083,
          0.338,
          1.354,
          1.577,
          1.396,
          0.996,
          1.532,
          1.2,
          1.726,
          1.007,
          1.411,
          0.995,
          1.412,
          2.898,
          0.991,
          2.954,
          1.498,
          1.587,
          1.996,
          1.96,
          2.014,
          1.947,
          2.605,
          2.539,
          2.981,
          2.004,
          1.24,
          1.035,
          1.159,
          1.186,
          2.943,
          1.067,
          1.184,
          1.747,
          1.634,
          0.572,
          1.57,
          2.734,
          2.306,
          1.373,
          0.971,
          2.015,
          1.492,
          1.488,
          2.153,
          1.459,
          1.369,
          1.31,
          1.647,
          1.433,
          1.886,
          2.042,
          1.282,
          1.814,
          1.218,
          2.868,
          1.134,
          1.197,
          1.024,
          1.134,
          1.134,
          1.587,
          2.048,
          2.035,
          2.391,
          0.83,
          2.407,
          1.075,
          1.455,
          1.204,
          1.067,
          2.006,
          1.859,
          2.141,
          1.577,
          2.074,
          2.147,
          1.181,
          1.755,
          1.544,
          2.023,
          2.135,
          0.876,
          0.917,
          1.305,
          1.209,
          1.857,
          2.312,
          1.093,
          1.616,
          0.262,
          2.293,
          1.905,
          2.66,
          1.263,
          0.599,
          1.591,
          1.085,
          0.964,
          1.187,
          1.81,
          1.059,
          1.262,
          1.111,
          1.87,
          1.549,
          1.085,
          2.167,
          2.193,
          1.537,
          1.416,
          1.8,
          1.858,
          0.928,
          1.93,
          1.681,
          1.336,
          2.044,
          1.276,
          1.615,
          1.511,
          1.18,
          0.782,
          1.773,
          2.402,
          2.974,
          2.144,
          1.921,
          1.475,
          1.307,
          1.395,
          1.006,
          1.344,
          2.878,
          1.069,
          1.634,
          1.686,
          0.712,
          1.94,
          1.432,
          1.64,
          1.366,
          1.413,
          1.528,
          1.658,
          1.732,
          1.636,
          2.398,
          2.626,
          1.428,
          1.945,
          1.516,
          1.547,
          2.365,
          1.707,
          2.092,
          1.623,
          1.636,
          2.312,
          1.452,
          1.261,
          1.165,
          1.601,
          2.065,
          1.507,
          1.366,
          2.181,
          1.64,
          1.576,
          0.814,
          1.276,
          1.472,
          1.256,
          1.953,
          2.112,
          1.134,
          1.233,
          2.748,
          1.946,
          1.149,
          1.492,
          1.821,
          1.917,
          1.46,
          1.225,
          1.689,
          2.838,
          1.549,
          1.01,
          1.86,
          0.198,
          1.796,
          1.595,
          1.655,
          1.922,
          1.213,
          1.429,
          1.13,
          1.856,
          2.375,
          1.882,
          2.191,
          1.459,
          2.969,
          2.827,
          1.589,
          1.617,
          1.739,
          1.052,
          1.175,
          1.07,
          1.421,
          1.216,
          0.827,
          1.443,
          2.057,
          1.258,
          0.498,
          2.246,
          1.934,
          2.753,
          1.905,
          2.271,
          1.905,
          2.586,
          1.019,
          2.082,
          2.325,
          1.775,
          2.71,
          2.417,
          1.329,
          1.56,
          1.936,
          1.289,
          2.69,
          1.818,
          1.448,
          1.073,
          1.028,
          1.162,
          1.606,
          1.638,
          1.58,
          1.11,
          2.384,
          1.2,
          2.029,
          0.987,
          1.447,
          1.767,
          1.758,
          1.455,
          1.101,
          1.223,
          1.379,
          1.197,
          0.806,
          0.272,
          1.443,
          1.438,
          1.16,
          1.203,
          1.343,
          2.729,
          1.517,
          1.619,
          2.794,
          1.799,
          1.8,
          0.833,
          1.063,
          1.693,
          1.593,
          2.247,
          1.696,
          1.643,
          1.484,
          2.256,
          1.326,
          1.291,
          1.041,
          2.028,
          1.445,
          1.212,
          1.542,
          0.377,
          2.876,
          1.592,
          1.769,
          1.957,
          1.784,
          1.763,
          1.909,
          1.507,
          1.994,
          2.368,
          1.492,
          1.048,
          0.858,
          2.262,
          1.514,
          1.788,
          2.237,
          1.643,
          1.768,
          1.511,
          1.478,
          1.416,
          0.947,
          1.215,
          1.338,
          2.316,
          1.568,
          2.254,
          0.991,
          1.011,
          1.373,
          2.29,
          0.964,
          2.346,
          1.081,
          2.109,
          0.489,
          1.816,
          1.931,
          0.586,
          0.585,
          1.528,
          1.502,
          1.068,
          1.197,
          2.027,
          1.289,
          2.228,
          2.215,
          2.538,
          2.688,
          2.302,
          1.797,
          1.47,
          1.319,
          1.378,
          1.2,
          1.163,
          1.151,
          1.523,
          1.203,
          1.222,
          1.742,
          1.071,
          1.74,
          1.609,
          1.888,
          0.431,
          0.22,
          0.574,
          1.064,
          0.325,
          1.395,
          1.092,
          1.612,
          0.984,
          2.053,
          1.312,
          1.15,
          0.657,
          2.608,
          1.528,
          1.475,
          1.745,
          0.188,
          0.867,
          1.557,
          1.867,
          1.166,
          1.013,
          1.18,
          1.37,
          1.072,
          1.891,
          2.757,
          2.648,
          1.119,
          2.13,
          2.46,
          2.061,
          2.443,
          1.246,
          1.657,
          1.14,
          2.581,
          1.684,
          1.65,
          1.997,
          1.626,
          1.445,
          2.218,
          1.187,
          1.356,
          1.058,
          1.14,
          2.255,
          0.692
         ],
         "xaxis": "x",
         "yaxis": "y"
        },
        {
         "alignmentgroup": "True",
         "hoverinfo": "all",
         "hovertemplate": "Диапазон размера коэффициента: %{x}",
         "legendgroup": "",
         "marker": {
          "color": "Orangered",
          "line": {
           "color": "black",
           "width": 1
          }
         },
         "name": "",
         "notched": true,
         "offsetgroup": "",
         "opacity": 0.9,
         "showlegend": false,
         "type": "box",
         "x": [
          1.262,
          2.046,
          1.158,
          1.124,
          1.426,
          1.079,
          0.921,
          0.537,
          1.404,
          0.856,
          1.008,
          1.401,
          1.308,
          1.057,
          2.804,
          0.537,
          0.268,
          1.389,
          1.295,
          1.217,
          1.815,
          0.916,
          2.06,
          1.632,
          1.036,
          1.427,
          1.424,
          1.542,
          2.608,
          1.739,
          1.095,
          1.702,
          1.288,
          1.353,
          0.804,
          0.783,
          2.276,
          0.923,
          0.925,
          0.925,
          1.17,
          1.579,
          1.517,
          1.307,
          1.666,
          1.252,
          1.859,
          0.993,
          1.827,
          1.213,
          1.155,
          1.302,
          1.813,
          1.018,
          1.076,
          0.55,
          1.024,
          1.998,
          1.158,
          1.423,
          0.233,
          1.537,
          1.866,
          1.381,
          0.789,
          1.892,
          1.802,
          2.289,
          1.329,
          2.328,
          1.225,
          0.728,
          1.734,
          1.766,
          0.952,
          1.337,
          1.297,
          0.924,
          1.105,
          2.878,
          1.541,
          1.445,
          1.709,
          1.408,
          1.244,
          0.498,
          1.297,
          2.175,
          1.211,
          1.167,
          1.349,
          1.107,
          0.813,
          1.961,
          1.402,
          1.832,
          1.065,
          0.534,
          0.75,
          1.812,
          1.518,
          1.432,
          0.818,
          1.021,
          1.855,
          1.366,
          1.301,
          1.062,
          1.4,
          0.743,
          1.17,
          1.852,
          1.56,
          1.561,
          1.289,
          2.496,
          1.185,
          1.461,
          0.904,
          1.36,
          2.058,
          1.575,
          1.07,
          1.817,
          1.704,
          1.33,
          1.728,
          1.837,
          1.579,
          1.054,
          1.18,
          0.696,
          1.15,
          1.171,
          1.529,
          1.621,
          1.095,
          1.53,
          0.679,
          0.937,
          1.347,
          2.203,
          1.653,
          1.38,
          1.688,
          1.035,
          2.091,
          2.121,
          1.52,
          1.067,
          2.008,
          1.257,
          1.142,
          1.131,
          1.539,
          2.154,
          1.083,
          0.338,
          1.354,
          1.577,
          1.396,
          0.996,
          1.532,
          1.2,
          1.726,
          1.007,
          1.411,
          0.995,
          1.412,
          2.898,
          0.991,
          2.954,
          1.498,
          1.587,
          1.996,
          1.96,
          2.014,
          1.947,
          2.605,
          2.539,
          2.981,
          2.004,
          1.24,
          1.035,
          1.159,
          1.186,
          2.943,
          1.067,
          1.184,
          1.747,
          1.634,
          0.572,
          1.57,
          2.734,
          2.306,
          1.373,
          0.971,
          2.015,
          1.492,
          1.488,
          2.153,
          1.459,
          1.369,
          1.31,
          1.647,
          1.433,
          1.886,
          2.042,
          1.282,
          1.814,
          1.218,
          2.868,
          1.134,
          1.197,
          1.024,
          1.134,
          1.134,
          1.587,
          2.048,
          2.035,
          2.391,
          0.83,
          2.407,
          1.075,
          1.455,
          1.204,
          1.067,
          2.006,
          1.859,
          2.141,
          1.577,
          2.074,
          2.147,
          1.181,
          1.755,
          1.544,
          2.023,
          2.135,
          0.876,
          0.917,
          1.305,
          1.209,
          1.857,
          2.312,
          1.093,
          1.616,
          0.262,
          2.293,
          1.905,
          2.66,
          1.263,
          0.599,
          1.591,
          1.085,
          0.964,
          1.187,
          1.81,
          1.059,
          1.262,
          1.111,
          1.87,
          1.549,
          1.085,
          2.167,
          2.193,
          1.537,
          1.416,
          1.8,
          1.858,
          0.928,
          1.93,
          1.681,
          1.336,
          2.044,
          1.276,
          1.615,
          1.511,
          1.18,
          0.782,
          1.773,
          2.402,
          2.974,
          2.144,
          1.921,
          1.475,
          1.307,
          1.395,
          1.006,
          1.344,
          2.878,
          1.069,
          1.634,
          1.686,
          0.712,
          1.94,
          1.432,
          1.64,
          1.366,
          1.413,
          1.528,
          1.658,
          1.732,
          1.636,
          2.398,
          2.626,
          1.428,
          1.945,
          1.516,
          1.547,
          2.365,
          1.707,
          2.092,
          1.623,
          1.636,
          2.312,
          1.452,
          1.261,
          1.165,
          1.601,
          2.065,
          1.507,
          1.366,
          2.181,
          1.64,
          1.576,
          0.814,
          1.276,
          1.472,
          1.256,
          1.953,
          2.112,
          1.134,
          1.233,
          2.748,
          1.946,
          1.149,
          1.492,
          1.821,
          1.917,
          1.46,
          1.225,
          1.689,
          2.838,
          1.549,
          1.01,
          1.86,
          0.198,
          1.796,
          1.595,
          1.655,
          1.922,
          1.213,
          1.429,
          1.13,
          1.856,
          2.375,
          1.882,
          2.191,
          1.459,
          2.969,
          2.827,
          1.589,
          1.617,
          1.739,
          1.052,
          1.175,
          1.07,
          1.421,
          1.216,
          0.827,
          1.443,
          2.057,
          1.258,
          0.498,
          2.246,
          1.934,
          2.753,
          1.905,
          2.271,
          1.905,
          2.586,
          1.019,
          2.082,
          2.325,
          1.775,
          2.71,
          2.417,
          1.329,
          1.56,
          1.936,
          1.289,
          2.69,
          1.818,
          1.448,
          1.073,
          1.028,
          1.162,
          1.606,
          1.638,
          1.58,
          1.11,
          2.384,
          1.2,
          2.029,
          0.987,
          1.447,
          1.767,
          1.758,
          1.455,
          1.101,
          1.223,
          1.379,
          1.197,
          0.806,
          0.272,
          1.443,
          1.438,
          1.16,
          1.203,
          1.343,
          2.729,
          1.517,
          1.619,
          2.794,
          1.799,
          1.8,
          0.833,
          1.063,
          1.693,
          1.593,
          2.247,
          1.696,
          1.643,
          1.484,
          2.256,
          1.326,
          1.291,
          1.041,
          2.028,
          1.445,
          1.212,
          1.542,
          0.377,
          2.876,
          1.592,
          1.769,
          1.957,
          1.784,
          1.763,
          1.909,
          1.507,
          1.994,
          2.368,
          1.492,
          1.048,
          0.858,
          2.262,
          1.514,
          1.788,
          2.237,
          1.643,
          1.768,
          1.511,
          1.478,
          1.416,
          0.947,
          1.215,
          1.338,
          2.316,
          1.568,
          2.254,
          0.991,
          1.011,
          1.373,
          2.29,
          0.964,
          2.346,
          1.081,
          2.109,
          0.489,
          1.816,
          1.931,
          0.586,
          0.585,
          1.528,
          1.502,
          1.068,
          1.197,
          2.027,
          1.289,
          2.228,
          2.215,
          2.538,
          2.688,
          2.302,
          1.797,
          1.47,
          1.319,
          1.378,
          1.2,
          1.163,
          1.151,
          1.523,
          1.203,
          1.222,
          1.742,
          1.071,
          1.74,
          1.609,
          1.888,
          0.431,
          0.22,
          0.574,
          1.064,
          0.325,
          1.395,
          1.092,
          1.612,
          0.984,
          2.053,
          1.312,
          1.15,
          0.657,
          2.608,
          1.528,
          1.475,
          1.745,
          0.188,
          0.867,
          1.557,
          1.867,
          1.166,
          1.013,
          1.18,
          1.37,
          1.072,
          1.891,
          2.757,
          2.648,
          1.119,
          2.13,
          2.46,
          2.061,
          2.443,
          1.246,
          1.657,
          1.14,
          2.581,
          1.684,
          1.65,
          1.997,
          1.626,
          1.445,
          2.218,
          1.187,
          1.356,
          1.058,
          1.14,
          2.255,
          0.692
         ],
         "xaxis": "x2",
         "yaxis": "y2"
        }
       ],
       "layout": {
        "annotations": [
         {
          "showarrow": false,
          "text": "Мода распределения: 1.134",
          "x": 1.134,
          "xanchor": "right",
          "xref": "x",
          "y": 0,
          "yanchor": "bottom",
          "yref": "y domain"
         },
         {
          "showarrow": false,
          "text": "Мода распределения: 1.134",
          "x": 1.134,
          "xanchor": "right",
          "xref": "x2",
          "y": 0,
          "yanchor": "bottom",
          "yref": "y2 domain"
         }
        ],
        "barmode": "relative",
        "height": 500,
        "legend": {
         "tracegroupgap": 0
        },
        "margin": {
         "t": 60
        },
        "shapes": [
         {
          "line": {
           "color": "black",
           "width": 2
          },
          "type": "line",
          "x0": 1.134,
          "x1": 1.134,
          "xref": "x",
          "y0": 0,
          "y1": 1,
          "yref": "y domain"
         },
         {
          "line": {
           "color": "black",
           "width": 2
          },
          "type": "line",
          "x0": 1.134,
          "x1": 1.134,
          "xref": "x2",
          "y0": 0,
          "y1": 1,
          "yref": "y2 domain"
         }
        ],
        "template": {
         "data": {
          "bar": [
           {
            "error_x": {
             "color": "#2a3f5f"
            },
            "error_y": {
             "color": "#2a3f5f"
            },
            "marker": {
             "line": {
              "color": "#E5ECF6",
              "width": 0.5
             },
             "pattern": {
              "fillmode": "overlay",
              "size": 10,
              "solidity": 0.2
             }
            },
            "type": "bar"
           }
          ],
          "barpolar": [
           {
            "marker": {
             "line": {
              "color": "#E5ECF6",
              "width": 0.5
             },
             "pattern": {
              "fillmode": "overlay",
              "size": 10,
              "solidity": 0.2
             }
            },
            "type": "barpolar"
           }
          ],
          "carpet": [
           {
            "aaxis": {
             "endlinecolor": "#2a3f5f",
             "gridcolor": "white",
             "linecolor": "white",
             "minorgridcolor": "white",
             "startlinecolor": "#2a3f5f"
            },
            "baxis": {
             "endlinecolor": "#2a3f5f",
             "gridcolor": "white",
             "linecolor": "white",
             "minorgridcolor": "white",
             "startlinecolor": "#2a3f5f"
            },
            "type": "carpet"
           }
          ],
          "choropleth": [
           {
            "colorbar": {
             "outlinewidth": 0,
             "ticks": ""
            },
            "type": "choropleth"
           }
          ],
          "contour": [
           {
            "colorbar": {
             "outlinewidth": 0,
             "ticks": ""
            },
            "colorscale": [
             [
              0,
              "#0d0887"
             ],
             [
              0.1111111111111111,
              "#46039f"
             ],
             [
              0.2222222222222222,
              "#7201a8"
             ],
             [
              0.3333333333333333,
              "#9c179e"
             ],
             [
              0.4444444444444444,
              "#bd3786"
             ],
             [
              0.5555555555555556,
              "#d8576b"
             ],
             [
              0.6666666666666666,
              "#ed7953"
             ],
             [
              0.7777777777777778,
              "#fb9f3a"
             ],
             [
              0.8888888888888888,
              "#fdca26"
             ],
             [
              1,
              "#f0f921"
             ]
            ],
            "type": "contour"
           }
          ],
          "contourcarpet": [
           {
            "colorbar": {
             "outlinewidth": 0,
             "ticks": ""
            },
            "type": "contourcarpet"
           }
          ],
          "heatmap": [
           {
            "colorbar": {
             "outlinewidth": 0,
             "ticks": ""
            },
            "colorscale": [
             [
              0,
              "#0d0887"
             ],
             [
              0.1111111111111111,
              "#46039f"
             ],
             [
              0.2222222222222222,
              "#7201a8"
             ],
             [
              0.3333333333333333,
              "#9c179e"
             ],
             [
              0.4444444444444444,
              "#bd3786"
             ],
             [
              0.5555555555555556,
              "#d8576b"
             ],
             [
              0.6666666666666666,
              "#ed7953"
             ],
             [
              0.7777777777777778,
              "#fb9f3a"
             ],
             [
              0.8888888888888888,
              "#fdca26"
             ],
             [
              1,
              "#f0f921"
             ]
            ],
            "type": "heatmap"
           }
          ],
          "heatmapgl": [
           {
            "colorbar": {
             "outlinewidth": 0,
             "ticks": ""
            },
            "colorscale": [
             [
              0,
              "#0d0887"
             ],
             [
              0.1111111111111111,
              "#46039f"
             ],
             [
              0.2222222222222222,
              "#7201a8"
             ],
             [
              0.3333333333333333,
              "#9c179e"
             ],
             [
              0.4444444444444444,
              "#bd3786"
             ],
             [
              0.5555555555555556,
              "#d8576b"
             ],
             [
              0.6666666666666666,
              "#ed7953"
             ],
             [
              0.7777777777777778,
              "#fb9f3a"
             ],
             [
              0.8888888888888888,
              "#fdca26"
             ],
             [
              1,
              "#f0f921"
             ]
            ],
            "type": "heatmapgl"
           }
          ],
          "histogram": [
           {
            "marker": {
             "pattern": {
              "fillmode": "overlay",
              "size": 10,
              "solidity": 0.2
             }
            },
            "type": "histogram"
           }
          ],
          "histogram2d": [
           {
            "colorbar": {
             "outlinewidth": 0,
             "ticks": ""
            },
            "colorscale": [
             [
              0,
              "#0d0887"
             ],
             [
              0.1111111111111111,
              "#46039f"
             ],
             [
              0.2222222222222222,
              "#7201a8"
             ],
             [
              0.3333333333333333,
              "#9c179e"
             ],
             [
              0.4444444444444444,
              "#bd3786"
             ],
             [
              0.5555555555555556,
              "#d8576b"
             ],
             [
              0.6666666666666666,
              "#ed7953"
             ],
             [
              0.7777777777777778,
              "#fb9f3a"
             ],
             [
              0.8888888888888888,
              "#fdca26"
             ],
             [
              1,
              "#f0f921"
             ]
            ],
            "type": "histogram2d"
           }
          ],
          "histogram2dcontour": [
           {
            "colorbar": {
             "outlinewidth": 0,
             "ticks": ""
            },
            "colorscale": [
             [
              0,
              "#0d0887"
             ],
             [
              0.1111111111111111,
              "#46039f"
             ],
             [
              0.2222222222222222,
              "#7201a8"
             ],
             [
              0.3333333333333333,
              "#9c179e"
             ],
             [
              0.4444444444444444,
              "#bd3786"
             ],
             [
              0.5555555555555556,
              "#d8576b"
             ],
             [
              0.6666666666666666,
              "#ed7953"
             ],
             [
              0.7777777777777778,
              "#fb9f3a"
             ],
             [
              0.8888888888888888,
              "#fdca26"
             ],
             [
              1,
              "#f0f921"
             ]
            ],
            "type": "histogram2dcontour"
           }
          ],
          "mesh3d": [
           {
            "colorbar": {
             "outlinewidth": 0,
             "ticks": ""
            },
            "type": "mesh3d"
           }
          ],
          "parcoords": [
           {
            "line": {
             "colorbar": {
              "outlinewidth": 0,
              "ticks": ""
             }
            },
            "type": "parcoords"
           }
          ],
          "pie": [
           {
            "automargin": true,
            "type": "pie"
           }
          ],
          "scatter": [
           {
            "fillpattern": {
             "fillmode": "overlay",
             "size": 10,
             "solidity": 0.2
            },
            "type": "scatter"
           }
          ],
          "scatter3d": [
           {
            "line": {
             "colorbar": {
              "outlinewidth": 0,
              "ticks": ""
             }
            },
            "marker": {
             "colorbar": {
              "outlinewidth": 0,
              "ticks": ""
             }
            },
            "type": "scatter3d"
           }
          ],
          "scattercarpet": [
           {
            "marker": {
             "colorbar": {
              "outlinewidth": 0,
              "ticks": ""
             }
            },
            "type": "scattercarpet"
           }
          ],
          "scattergeo": [
           {
            "marker": {
             "colorbar": {
              "outlinewidth": 0,
              "ticks": ""
             }
            },
            "type": "scattergeo"
           }
          ],
          "scattergl": [
           {
            "marker": {
             "colorbar": {
              "outlinewidth": 0,
              "ticks": ""
             }
            },
            "type": "scattergl"
           }
          ],
          "scattermapbox": [
           {
            "marker": {
             "colorbar": {
              "outlinewidth": 0,
              "ticks": ""
             }
            },
            "type": "scattermapbox"
           }
          ],
          "scatterpolar": [
           {
            "marker": {
             "colorbar": {
              "outlinewidth": 0,
              "ticks": ""
             }
            },
            "type": "scatterpolar"
           }
          ],
          "scatterpolargl": [
           {
            "marker": {
             "colorbar": {
              "outlinewidth": 0,
              "ticks": ""
             }
            },
            "type": "scatterpolargl"
           }
          ],
          "scatterternary": [
           {
            "marker": {
             "colorbar": {
              "outlinewidth": 0,
              "ticks": ""
             }
            },
            "type": "scatterternary"
           }
          ],
          "surface": [
           {
            "colorbar": {
             "outlinewidth": 0,
             "ticks": ""
            },
            "colorscale": [
             [
              0,
              "#0d0887"
             ],
             [
              0.1111111111111111,
              "#46039f"
             ],
             [
              0.2222222222222222,
              "#7201a8"
             ],
             [
              0.3333333333333333,
              "#9c179e"
             ],
             [
              0.4444444444444444,
              "#bd3786"
             ],
             [
              0.5555555555555556,
              "#d8576b"
             ],
             [
              0.6666666666666666,
              "#ed7953"
             ],
             [
              0.7777777777777778,
              "#fb9f3a"
             ],
             [
              0.8888888888888888,
              "#fdca26"
             ],
             [
              1,
              "#f0f921"
             ]
            ],
            "type": "surface"
           }
          ],
          "table": [
           {
            "cells": {
             "fill": {
              "color": "#EBF0F8"
             },
             "line": {
              "color": "white"
             }
            },
            "header": {
             "fill": {
              "color": "#C8D4E3"
             },
             "line": {
              "color": "white"
             }
            },
            "type": "table"
           }
          ]
         },
         "layout": {
          "annotationdefaults": {
           "arrowcolor": "#2a3f5f",
           "arrowhead": 0,
           "arrowwidth": 1
          },
          "autotypenumbers": "strict",
          "coloraxis": {
           "colorbar": {
            "outlinewidth": 0,
            "ticks": ""
           }
          },
          "colorscale": {
           "diverging": [
            [
             0,
             "#8e0152"
            ],
            [
             0.1,
             "#c51b7d"
            ],
            [
             0.2,
             "#de77ae"
            ],
            [
             0.3,
             "#f1b6da"
            ],
            [
             0.4,
             "#fde0ef"
            ],
            [
             0.5,
             "#f7f7f7"
            ],
            [
             0.6,
             "#e6f5d0"
            ],
            [
             0.7,
             "#b8e186"
            ],
            [
             0.8,
             "#7fbc41"
            ],
            [
             0.9,
             "#4d9221"
            ],
            [
             1,
             "#276419"
            ]
           ],
           "sequential": [
            [
             0,
             "#0d0887"
            ],
            [
             0.1111111111111111,
             "#46039f"
            ],
            [
             0.2222222222222222,
             "#7201a8"
            ],
            [
             0.3333333333333333,
             "#9c179e"
            ],
            [
             0.4444444444444444,
             "#bd3786"
            ],
            [
             0.5555555555555556,
             "#d8576b"
            ],
            [
             0.6666666666666666,
             "#ed7953"
            ],
            [
             0.7777777777777778,
             "#fb9f3a"
            ],
            [
             0.8888888888888888,
             "#fdca26"
            ],
            [
             1,
             "#f0f921"
            ]
           ],
           "sequentialminus": [
            [
             0,
             "#0d0887"
            ],
            [
             0.1111111111111111,
             "#46039f"
            ],
            [
             0.2222222222222222,
             "#7201a8"
            ],
            [
             0.3333333333333333,
             "#9c179e"
            ],
            [
             0.4444444444444444,
             "#bd3786"
            ],
            [
             0.5555555555555556,
             "#d8576b"
            ],
            [
             0.6666666666666666,
             "#ed7953"
            ],
            [
             0.7777777777777778,
             "#fb9f3a"
            ],
            [
             0.8888888888888888,
             "#fdca26"
            ],
            [
             1,
             "#f0f921"
            ]
           ]
          },
          "colorway": [
           "#636efa",
           "#EF553B",
           "#00cc96",
           "#ab63fa",
           "#FFA15A",
           "#19d3f3",
           "#FF6692",
           "#B6E880",
           "#FF97FF",
           "#FECB52"
          ],
          "font": {
           "color": "#2a3f5f"
          },
          "geo": {
           "bgcolor": "white",
           "lakecolor": "white",
           "landcolor": "#E5ECF6",
           "showlakes": true,
           "showland": true,
           "subunitcolor": "white"
          },
          "hoverlabel": {
           "align": "left"
          },
          "hovermode": "closest",
          "mapbox": {
           "style": "light"
          },
          "paper_bgcolor": "white",
          "plot_bgcolor": "#E5ECF6",
          "polar": {
           "angularaxis": {
            "gridcolor": "white",
            "linecolor": "white",
            "ticks": ""
           },
           "bgcolor": "#E5ECF6",
           "radialaxis": {
            "gridcolor": "white",
            "linecolor": "white",
            "ticks": ""
           }
          },
          "scene": {
           "xaxis": {
            "backgroundcolor": "#E5ECF6",
            "gridcolor": "white",
            "gridwidth": 2,
            "linecolor": "white",
            "showbackground": true,
            "ticks": "",
            "zerolinecolor": "white"
           },
           "yaxis": {
            "backgroundcolor": "#E5ECF6",
            "gridcolor": "white",
            "gridwidth": 2,
            "linecolor": "white",
            "showbackground": true,
            "ticks": "",
            "zerolinecolor": "white"
           },
           "zaxis": {
            "backgroundcolor": "#E5ECF6",
            "gridcolor": "white",
            "gridwidth": 2,
            "linecolor": "white",
            "showbackground": true,
            "ticks": "",
            "zerolinecolor": "white"
           }
          },
          "shapedefaults": {
           "line": {
            "color": "#2a3f5f"
           }
          },
          "ternary": {
           "aaxis": {
            "gridcolor": "white",
            "linecolor": "white",
            "ticks": ""
           },
           "baxis": {
            "gridcolor": "white",
            "linecolor": "white",
            "ticks": ""
           },
           "bgcolor": "#E5ECF6",
           "caxis": {
            "gridcolor": "white",
            "linecolor": "white",
            "ticks": ""
           }
          },
          "title": {
           "x": 0.05
          },
          "xaxis": {
           "automargin": true,
           "gridcolor": "white",
           "linecolor": "white",
           "ticks": "",
           "title": {
            "standoff": 15
           },
           "zerolinecolor": "white",
           "zerolinewidth": 2
          },
          "yaxis": {
           "automargin": true,
           "gridcolor": "white",
           "linecolor": "white",
           "ticks": "",
           "title": {
            "standoff": 15
           },
           "zerolinecolor": "white",
           "zerolinewidth": 2
          }
         }
        },
        "title": {
         "font": {
          "color": "black",
          "size": 18
         },
         "text": "Profit factor",
         "x": 0.5,
         "xanchor": "center",
         "y": 0.97,
         "yanchor": "top"
        },
        "width": 1000,
        "xaxis": {
         "anchor": "y",
         "domain": [
          0,
          1
         ],
         "showspikes": true,
         "title": {
          "text": "Размер коэффициента"
         }
        },
        "xaxis2": {
         "anchor": "y2",
         "domain": [
          0,
          1
         ],
         "matches": "x",
         "showgrid": true,
         "showspikes": true,
         "showticklabels": false
        },
        "yaxis": {
         "anchor": "x",
         "domain": [
          0,
          0.8316
         ],
         "showspikes": true,
         "title": {
          "text": "Количество вхождений"
         }
        },
        "yaxis2": {
         "anchor": "x2",
         "domain": [
          0.8416,
          1
         ],
         "matches": "y2",
         "showgrid": false,
         "showline": false,
         "showspikes": true,
         "showticklabels": false,
         "ticks": ""
        }
       }
      }
     },
     "metadata": {},
     "output_type": "display_data"
    }
   ],
   "source": [
    "grap_list = ['Sharpe ratio', 'Sortino ratio', 'Profit factor']\n",
    "for grap in grap_list:\n",
    "    gist_graph(df_r, grap, grap)"
   ]
  },
  {
   "cell_type": "markdown",
   "id": "ed9028f5",
   "metadata": {},
   "source": [
    "<div class=\"alert alert-info\">\n",
    "    \n",
    "Выделим топ 20 стратегий по каждому из показателей"
   ]
  },
  {
   "cell_type": "code",
   "execution_count": 99,
   "id": "f16ed707",
   "metadata": {},
   "outputs": [],
   "source": [
    "sharpe = df_r.sort_values(by = 'Sharpe ratio', ascending=False).head(20)\n",
    "sortino = df_r.sort_values(by = 'Sortino ratio', ascending=False).head(20)\n",
    "profit = df_r.sort_values(by = 'Profit factor', ascending=False).head(20)\n"
   ]
  },
  {
   "cell_type": "code",
   "execution_count": 100,
   "id": "582a6a05",
   "metadata": {},
   "outputs": [
    {
     "data": {
      "application/vnd.plotly.v1+json": {
       "config": {
        "plotlyServerURL": "https://plot.ly"
       },
       "data": [
        {
         "alignmentgroup": "True",
         "hovertemplate": "title=%{x}<br>Sharpe ratio=%{y}<extra></extra>",
         "legendgroup": "PSAR BBPT ZLSMA BTC 1min",
         "marker": {
          "color": "#636efa",
          "pattern": {
           "shape": ""
          }
         },
         "name": "PSAR BBPT ZLSMA BTC 1min",
         "offsetgroup": "PSAR BBPT ZLSMA BTC 1min",
         "orientation": "v",
         "showlegend": true,
         "textposition": "auto",
         "type": "bar",
         "x": [
          "PSAR BBPT ZLSMA BTC 1min"
         ],
         "xaxis": "x",
         "y": [
          0.891
         ],
         "yaxis": "y"
        },
        {
         "alignmentgroup": "True",
         "hovertemplate": "title=%{x}<br>Sharpe ratio=%{y}<extra></extra>",
         "legendgroup": "Overnight Effect High Volatility Crypto (AiBitcoinTrend)",
         "marker": {
          "color": "#EF553B",
          "pattern": {
           "shape": ""
          }
         },
         "name": "Overnight Effect High Volatility Crypto (AiBitcoinTrend)",
         "offsetgroup": "Overnight Effect High Volatility Crypto (AiBitcoinTrend)",
         "orientation": "v",
         "showlegend": true,
         "textposition": "auto",
         "type": "bar",
         "x": [
          "Overnight Effect High Volatility Crypto (AiBitcoinTrend)"
         ],
         "xaxis": "x",
         "y": [
          0.799
         ],
         "yaxis": "y"
        },
        {
         "alignmentgroup": "True",
         "hovertemplate": "title=%{x}<br>Sharpe ratio=%{y}<extra></extra>",
         "legendgroup": "Dual Strategy Selector V2 - Cryptogyani",
         "marker": {
          "color": "#00cc96",
          "pattern": {
           "shape": ""
          }
         },
         "name": "Dual Strategy Selector V2 - Cryptogyani",
         "offsetgroup": "Dual Strategy Selector V2 - Cryptogyani",
         "orientation": "v",
         "showlegend": true,
         "textposition": "auto",
         "type": "bar",
         "x": [
          "Dual Strategy Selector V2 - Cryptogyani"
         ],
         "xaxis": "x",
         "y": [
          0.766
         ],
         "yaxis": "y"
        },
        {
         "alignmentgroup": "True",
         "hovertemplate": "title=%{x}<br>Sharpe ratio=%{y}<extra></extra>",
         "legendgroup": "Bollinger Bands - Breakout Strategy",
         "marker": {
          "color": "#ab63fa",
          "pattern": {
           "shape": ""
          }
         },
         "name": "Bollinger Bands - Breakout Strategy",
         "offsetgroup": "Bollinger Bands - Breakout Strategy",
         "orientation": "v",
         "showlegend": true,
         "textposition": "auto",
         "type": "bar",
         "x": [
          "Bollinger Bands - Breakout Strategy"
         ],
         "xaxis": "x",
         "y": [
          0.723
         ],
         "yaxis": "y"
        },
        {
         "alignmentgroup": "True",
         "hovertemplate": "title=%{x}<br>Sharpe ratio=%{y}<extra></extra>",
         "legendgroup": "TrendGuard Scalper: SSL + Hama Candle with  Consolidation Zones",
         "marker": {
          "color": "#FFA15A",
          "pattern": {
           "shape": ""
          }
         },
         "name": "TrendGuard Scalper: SSL + Hama Candle with  Consolidation Zones",
         "offsetgroup": "TrendGuard Scalper: SSL + Hama Candle with  Consolidation Zones",
         "orientation": "v",
         "showlegend": true,
         "textposition": "auto",
         "type": "bar",
         "x": [
          "TrendGuard Scalper: SSL + Hama Candle with  Consolidation Zones"
         ],
         "xaxis": "x",
         "y": [
          0.708
         ],
         "yaxis": "y"
        },
        {
         "alignmentgroup": "True",
         "hovertemplate": "title=%{x}<br>Sharpe ratio=%{y}<extra></extra>",
         "legendgroup": "FVG Positioning Average with 200EMA Auto Trading [Pakun]",
         "marker": {
          "color": "#19d3f3",
          "pattern": {
           "shape": ""
          }
         },
         "name": "FVG Positioning Average with 200EMA Auto Trading [Pakun]",
         "offsetgroup": "FVG Positioning Average with 200EMA Auto Trading [Pakun]",
         "orientation": "v",
         "showlegend": true,
         "textposition": "auto",
         "type": "bar",
         "x": [
          "FVG Positioning Average with 200EMA Auto Trading [Pakun]"
         ],
         "xaxis": "x",
         "y": [
          0.689
         ],
         "yaxis": "y"
        },
        {
         "alignmentgroup": "True",
         "hovertemplate": "title=%{x}<br>Sharpe ratio=%{y}<extra></extra>",
         "legendgroup": "Strategy SEMA SDI Webhook",
         "marker": {
          "color": "#FF6692",
          "pattern": {
           "shape": ""
          }
         },
         "name": "Strategy SEMA SDI Webhook",
         "offsetgroup": "Strategy SEMA SDI Webhook",
         "orientation": "v",
         "showlegend": true,
         "textposition": "auto",
         "type": "bar",
         "x": [
          "Strategy SEMA SDI Webhook"
         ],
         "xaxis": "x",
         "y": [
          0.658
         ],
         "yaxis": "y"
        },
        {
         "alignmentgroup": "True",
         "hovertemplate": "title=%{x}<br>Sharpe ratio=%{y}<extra></extra>",
         "legendgroup": "Ta Strategy",
         "marker": {
          "color": "#B6E880",
          "pattern": {
           "shape": ""
          }
         },
         "name": "Ta Strategy",
         "offsetgroup": "Ta Strategy",
         "orientation": "v",
         "showlegend": true,
         "textposition": "auto",
         "type": "bar",
         "x": [
          "Ta Strategy"
         ],
         "xaxis": "x",
         "y": [
          0.634
         ],
         "yaxis": "y"
        },
        {
         "alignmentgroup": "True",
         "hovertemplate": "title=%{x}<br>Sharpe ratio=%{y}<extra></extra>",
         "legendgroup": "Strategy: Range Breakout",
         "marker": {
          "color": "#FF97FF",
          "pattern": {
           "shape": ""
          }
         },
         "name": "Strategy: Range Breakout",
         "offsetgroup": "Strategy: Range Breakout",
         "orientation": "v",
         "showlegend": true,
         "textposition": "auto",
         "type": "bar",
         "x": [
          "Strategy: Range Breakout"
         ],
         "xaxis": "x",
         "y": [
          0.63
         ],
         "yaxis": "y"
        },
        {
         "alignmentgroup": "True",
         "hovertemplate": "title=%{x}<br>Sharpe ratio=%{y}<extra></extra>",
         "legendgroup": "CCI+EMA Strategy with Percentage or ATR TP/SL [Alifer]",
         "marker": {
          "color": "#FECB52",
          "pattern": {
           "shape": ""
          }
         },
         "name": "CCI+EMA Strategy with Percentage or ATR TP/SL [Alifer]",
         "offsetgroup": "CCI+EMA Strategy with Percentage or ATR TP/SL [Alifer]",
         "orientation": "v",
         "showlegend": true,
         "textposition": "auto",
         "type": "bar",
         "x": [
          "CCI+EMA Strategy with Percentage or ATR TP/SL [Alifer]"
         ],
         "xaxis": "x",
         "y": [
          0.624
         ],
         "yaxis": "y"
        },
        {
         "alignmentgroup": "True",
         "hovertemplate": "title=%{x}<br>Sharpe ratio=%{y}<extra></extra>",
         "legendgroup": "Price Flip Strategy",
         "marker": {
          "color": "#636efa",
          "pattern": {
           "shape": ""
          }
         },
         "name": "Price Flip Strategy",
         "offsetgroup": "Price Flip Strategy",
         "orientation": "v",
         "showlegend": true,
         "textposition": "auto",
         "type": "bar",
         "x": [
          "Price Flip Strategy"
         ],
         "xaxis": "x",
         "y": [
          0.618
         ],
         "yaxis": "y"
        },
        {
         "alignmentgroup": "True",
         "hovertemplate": "title=%{x}<br>Sharpe ratio=%{y}<extra></extra>",
         "legendgroup": "BB Breakout + Momentum Squeeze [Strategy]",
         "marker": {
          "color": "#EF553B",
          "pattern": {
           "shape": ""
          }
         },
         "name": "BB Breakout + Momentum Squeeze [Strategy]",
         "offsetgroup": "BB Breakout + Momentum Squeeze [Strategy]",
         "orientation": "v",
         "showlegend": true,
         "textposition": "auto",
         "type": "bar",
         "x": [
          "BB Breakout + Momentum Squeeze [Strategy]"
         ],
         "xaxis": "x",
         "y": [
          0.618
         ],
         "yaxis": "y"
        },
        {
         "alignmentgroup": "True",
         "hovertemplate": "title=%{x}<br>Sharpe ratio=%{y}<extra></extra>",
         "legendgroup": "Post-Open Long Strategy with ATR-based Stop Loss and Take Profit",
         "marker": {
          "color": "#00cc96",
          "pattern": {
           "shape": ""
          }
         },
         "name": "Post-Open Long Strategy with ATR-based Stop Loss and Take Profit",
         "offsetgroup": "Post-Open Long Strategy with ATR-based Stop Loss and Take Profit",
         "orientation": "v",
         "showlegend": true,
         "textposition": "auto",
         "type": "bar",
         "x": [
          "Post-Open Long Strategy with ATR-based Stop Loss and Take Profit"
         ],
         "xaxis": "x",
         "y": [
          0.612
         ],
         "yaxis": "y"
        },
        {
         "alignmentgroup": "True",
         "hovertemplate": "title=%{x}<br>Sharpe ratio=%{y}<extra></extra>",
         "legendgroup": "EUR/USD 45 MIN Strategy - FinexBOT",
         "marker": {
          "color": "#ab63fa",
          "pattern": {
           "shape": ""
          }
         },
         "name": "EUR/USD 45 MIN Strategy - FinexBOT",
         "offsetgroup": "EUR/USD 45 MIN Strategy - FinexBOT",
         "orientation": "v",
         "showlegend": true,
         "textposition": "auto",
         "type": "bar",
         "x": [
          "EUR/USD 45 MIN Strategy - FinexBOT"
         ],
         "xaxis": "x",
         "y": [
          0.603
         ],
         "yaxis": "y"
        },
        {
         "alignmentgroup": "True",
         "hovertemplate": "title=%{x}<br>Sharpe ratio=%{y}<extra></extra>",
         "legendgroup": " Rsi Long-Term Strategy [15min]",
         "marker": {
          "color": "#FFA15A",
          "pattern": {
           "shape": ""
          }
         },
         "name": " Rsi Long-Term Strategy [15min]",
         "offsetgroup": " Rsi Long-Term Strategy [15min]",
         "orientation": "v",
         "showlegend": true,
         "textposition": "auto",
         "type": "bar",
         "x": [
          " Rsi Long-Term Strategy [15min]"
         ],
         "xaxis": "x",
         "y": [
          0.595
         ],
         "yaxis": "y"
        },
        {
         "alignmentgroup": "True",
         "hovertemplate": "title=%{x}<br>Sharpe ratio=%{y}<extra></extra>",
         "legendgroup": "Bollinger Band strategy with split, limit, stop",
         "marker": {
          "color": "#19d3f3",
          "pattern": {
           "shape": ""
          }
         },
         "name": "Bollinger Band strategy with split, limit, stop",
         "offsetgroup": "Bollinger Band strategy with split, limit, stop",
         "orientation": "v",
         "showlegend": true,
         "textposition": "auto",
         "type": "bar",
         "x": [
          "Bollinger Band strategy with split, limit, stop"
         ],
         "xaxis": "x",
         "y": [
          0.588
         ],
         "yaxis": "y"
        },
        {
         "alignmentgroup": "True",
         "hovertemplate": "title=%{x}<br>Sharpe ratio=%{y}<extra></extra>",
         "legendgroup": "Multi-Band Comparison Strategy (CRYPTO)",
         "marker": {
          "color": "#FF6692",
          "pattern": {
           "shape": ""
          }
         },
         "name": "Multi-Band Comparison Strategy (CRYPTO)",
         "offsetgroup": "Multi-Band Comparison Strategy (CRYPTO)",
         "orientation": "v",
         "showlegend": true,
         "textposition": "auto",
         "type": "bar",
         "x": [
          "Multi-Band Comparison Strategy (CRYPTO)"
         ],
         "xaxis": "x",
         "y": [
          0.586
         ],
         "yaxis": "y"
        },
        {
         "alignmentgroup": "True",
         "hovertemplate": "title=%{x}<br>Sharpe ratio=%{y}<extra></extra>",
         "legendgroup": "Advanced Multi-Timeframe Trading System (Risk Managed)",
         "marker": {
          "color": "#B6E880",
          "pattern": {
           "shape": ""
          }
         },
         "name": "Advanced Multi-Timeframe Trading System (Risk Managed)",
         "offsetgroup": "Advanced Multi-Timeframe Trading System (Risk Managed)",
         "orientation": "v",
         "showlegend": true,
         "textposition": "auto",
         "type": "bar",
         "x": [
          "Advanced Multi-Timeframe Trading System (Risk Managed)"
         ],
         "xaxis": "x",
         "y": [
          0.573
         ],
         "yaxis": "y"
        },
        {
         "alignmentgroup": "True",
         "hovertemplate": "title=%{x}<br>Sharpe ratio=%{y}<extra></extra>",
         "legendgroup": "16. SMC Strategy with SL - low Timeframe",
         "marker": {
          "color": "#FF97FF",
          "pattern": {
           "shape": ""
          }
         },
         "name": "16. SMC Strategy with SL - low Timeframe",
         "offsetgroup": "16. SMC Strategy with SL - low Timeframe",
         "orientation": "v",
         "showlegend": true,
         "textposition": "auto",
         "type": "bar",
         "x": [
          "16. SMC Strategy with SL - low Timeframe"
         ],
         "xaxis": "x",
         "y": [
          0.564
         ],
         "yaxis": "y"
        },
        {
         "alignmentgroup": "True",
         "hovertemplate": "title=%{x}<br>Sharpe ratio=%{y}<extra></extra>",
         "legendgroup": "Simple SuperTrend Strategy for BTCUSD 4H",
         "marker": {
          "color": "#FECB52",
          "pattern": {
           "shape": ""
          }
         },
         "name": "Simple SuperTrend Strategy for BTCUSD 4H",
         "offsetgroup": "Simple SuperTrend Strategy for BTCUSD 4H",
         "orientation": "v",
         "showlegend": true,
         "textposition": "auto",
         "type": "bar",
         "x": [
          "Simple SuperTrend Strategy for BTCUSD 4H"
         ],
         "xaxis": "x",
         "y": [
          0.551
         ],
         "yaxis": "y"
        }
       ],
       "layout": {
        "barmode": "relative",
        "legend": {
         "title": {},
         "tracegroupgap": 0
        },
        "margin": {
         "b": 0,
         "l": 0,
         "r": 0,
         "t": 30
        },
        "template": {
         "data": {
          "bar": [
           {
            "error_x": {
             "color": "#2a3f5f"
            },
            "error_y": {
             "color": "#2a3f5f"
            },
            "marker": {
             "line": {
              "color": "#E5ECF6",
              "width": 0.5
             },
             "pattern": {
              "fillmode": "overlay",
              "size": 10,
              "solidity": 0.2
             }
            },
            "type": "bar"
           }
          ],
          "barpolar": [
           {
            "marker": {
             "line": {
              "color": "#E5ECF6",
              "width": 0.5
             },
             "pattern": {
              "fillmode": "overlay",
              "size": 10,
              "solidity": 0.2
             }
            },
            "type": "barpolar"
           }
          ],
          "carpet": [
           {
            "aaxis": {
             "endlinecolor": "#2a3f5f",
             "gridcolor": "white",
             "linecolor": "white",
             "minorgridcolor": "white",
             "startlinecolor": "#2a3f5f"
            },
            "baxis": {
             "endlinecolor": "#2a3f5f",
             "gridcolor": "white",
             "linecolor": "white",
             "minorgridcolor": "white",
             "startlinecolor": "#2a3f5f"
            },
            "type": "carpet"
           }
          ],
          "choropleth": [
           {
            "colorbar": {
             "outlinewidth": 0,
             "ticks": ""
            },
            "type": "choropleth"
           }
          ],
          "contour": [
           {
            "colorbar": {
             "outlinewidth": 0,
             "ticks": ""
            },
            "colorscale": [
             [
              0,
              "#0d0887"
             ],
             [
              0.1111111111111111,
              "#46039f"
             ],
             [
              0.2222222222222222,
              "#7201a8"
             ],
             [
              0.3333333333333333,
              "#9c179e"
             ],
             [
              0.4444444444444444,
              "#bd3786"
             ],
             [
              0.5555555555555556,
              "#d8576b"
             ],
             [
              0.6666666666666666,
              "#ed7953"
             ],
             [
              0.7777777777777778,
              "#fb9f3a"
             ],
             [
              0.8888888888888888,
              "#fdca26"
             ],
             [
              1,
              "#f0f921"
             ]
            ],
            "type": "contour"
           }
          ],
          "contourcarpet": [
           {
            "colorbar": {
             "outlinewidth": 0,
             "ticks": ""
            },
            "type": "contourcarpet"
           }
          ],
          "heatmap": [
           {
            "colorbar": {
             "outlinewidth": 0,
             "ticks": ""
            },
            "colorscale": [
             [
              0,
              "#0d0887"
             ],
             [
              0.1111111111111111,
              "#46039f"
             ],
             [
              0.2222222222222222,
              "#7201a8"
             ],
             [
              0.3333333333333333,
              "#9c179e"
             ],
             [
              0.4444444444444444,
              "#bd3786"
             ],
             [
              0.5555555555555556,
              "#d8576b"
             ],
             [
              0.6666666666666666,
              "#ed7953"
             ],
             [
              0.7777777777777778,
              "#fb9f3a"
             ],
             [
              0.8888888888888888,
              "#fdca26"
             ],
             [
              1,
              "#f0f921"
             ]
            ],
            "type": "heatmap"
           }
          ],
          "heatmapgl": [
           {
            "colorbar": {
             "outlinewidth": 0,
             "ticks": ""
            },
            "colorscale": [
             [
              0,
              "#0d0887"
             ],
             [
              0.1111111111111111,
              "#46039f"
             ],
             [
              0.2222222222222222,
              "#7201a8"
             ],
             [
              0.3333333333333333,
              "#9c179e"
             ],
             [
              0.4444444444444444,
              "#bd3786"
             ],
             [
              0.5555555555555556,
              "#d8576b"
             ],
             [
              0.6666666666666666,
              "#ed7953"
             ],
             [
              0.7777777777777778,
              "#fb9f3a"
             ],
             [
              0.8888888888888888,
              "#fdca26"
             ],
             [
              1,
              "#f0f921"
             ]
            ],
            "type": "heatmapgl"
           }
          ],
          "histogram": [
           {
            "marker": {
             "pattern": {
              "fillmode": "overlay",
              "size": 10,
              "solidity": 0.2
             }
            },
            "type": "histogram"
           }
          ],
          "histogram2d": [
           {
            "colorbar": {
             "outlinewidth": 0,
             "ticks": ""
            },
            "colorscale": [
             [
              0,
              "#0d0887"
             ],
             [
              0.1111111111111111,
              "#46039f"
             ],
             [
              0.2222222222222222,
              "#7201a8"
             ],
             [
              0.3333333333333333,
              "#9c179e"
             ],
             [
              0.4444444444444444,
              "#bd3786"
             ],
             [
              0.5555555555555556,
              "#d8576b"
             ],
             [
              0.6666666666666666,
              "#ed7953"
             ],
             [
              0.7777777777777778,
              "#fb9f3a"
             ],
             [
              0.8888888888888888,
              "#fdca26"
             ],
             [
              1,
              "#f0f921"
             ]
            ],
            "type": "histogram2d"
           }
          ],
          "histogram2dcontour": [
           {
            "colorbar": {
             "outlinewidth": 0,
             "ticks": ""
            },
            "colorscale": [
             [
              0,
              "#0d0887"
             ],
             [
              0.1111111111111111,
              "#46039f"
             ],
             [
              0.2222222222222222,
              "#7201a8"
             ],
             [
              0.3333333333333333,
              "#9c179e"
             ],
             [
              0.4444444444444444,
              "#bd3786"
             ],
             [
              0.5555555555555556,
              "#d8576b"
             ],
             [
              0.6666666666666666,
              "#ed7953"
             ],
             [
              0.7777777777777778,
              "#fb9f3a"
             ],
             [
              0.8888888888888888,
              "#fdca26"
             ],
             [
              1,
              "#f0f921"
             ]
            ],
            "type": "histogram2dcontour"
           }
          ],
          "mesh3d": [
           {
            "colorbar": {
             "outlinewidth": 0,
             "ticks": ""
            },
            "type": "mesh3d"
           }
          ],
          "parcoords": [
           {
            "line": {
             "colorbar": {
              "outlinewidth": 0,
              "ticks": ""
             }
            },
            "type": "parcoords"
           }
          ],
          "pie": [
           {
            "automargin": true,
            "type": "pie"
           }
          ],
          "scatter": [
           {
            "fillpattern": {
             "fillmode": "overlay",
             "size": 10,
             "solidity": 0.2
            },
            "type": "scatter"
           }
          ],
          "scatter3d": [
           {
            "line": {
             "colorbar": {
              "outlinewidth": 0,
              "ticks": ""
             }
            },
            "marker": {
             "colorbar": {
              "outlinewidth": 0,
              "ticks": ""
             }
            },
            "type": "scatter3d"
           }
          ],
          "scattercarpet": [
           {
            "marker": {
             "colorbar": {
              "outlinewidth": 0,
              "ticks": ""
             }
            },
            "type": "scattercarpet"
           }
          ],
          "scattergeo": [
           {
            "marker": {
             "colorbar": {
              "outlinewidth": 0,
              "ticks": ""
             }
            },
            "type": "scattergeo"
           }
          ],
          "scattergl": [
           {
            "marker": {
             "colorbar": {
              "outlinewidth": 0,
              "ticks": ""
             }
            },
            "type": "scattergl"
           }
          ],
          "scattermapbox": [
           {
            "marker": {
             "colorbar": {
              "outlinewidth": 0,
              "ticks": ""
             }
            },
            "type": "scattermapbox"
           }
          ],
          "scatterpolar": [
           {
            "marker": {
             "colorbar": {
              "outlinewidth": 0,
              "ticks": ""
             }
            },
            "type": "scatterpolar"
           }
          ],
          "scatterpolargl": [
           {
            "marker": {
             "colorbar": {
              "outlinewidth": 0,
              "ticks": ""
             }
            },
            "type": "scatterpolargl"
           }
          ],
          "scatterternary": [
           {
            "marker": {
             "colorbar": {
              "outlinewidth": 0,
              "ticks": ""
             }
            },
            "type": "scatterternary"
           }
          ],
          "surface": [
           {
            "colorbar": {
             "outlinewidth": 0,
             "ticks": ""
            },
            "colorscale": [
             [
              0,
              "#0d0887"
             ],
             [
              0.1111111111111111,
              "#46039f"
             ],
             [
              0.2222222222222222,
              "#7201a8"
             ],
             [
              0.3333333333333333,
              "#9c179e"
             ],
             [
              0.4444444444444444,
              "#bd3786"
             ],
             [
              0.5555555555555556,
              "#d8576b"
             ],
             [
              0.6666666666666666,
              "#ed7953"
             ],
             [
              0.7777777777777778,
              "#fb9f3a"
             ],
             [
              0.8888888888888888,
              "#fdca26"
             ],
             [
              1,
              "#f0f921"
             ]
            ],
            "type": "surface"
           }
          ],
          "table": [
           {
            "cells": {
             "fill": {
              "color": "#EBF0F8"
             },
             "line": {
              "color": "white"
             }
            },
            "header": {
             "fill": {
              "color": "#C8D4E3"
             },
             "line": {
              "color": "white"
             }
            },
            "type": "table"
           }
          ]
         },
         "layout": {
          "annotationdefaults": {
           "arrowcolor": "#2a3f5f",
           "arrowhead": 0,
           "arrowwidth": 1
          },
          "autotypenumbers": "strict",
          "coloraxis": {
           "colorbar": {
            "outlinewidth": 0,
            "ticks": ""
           }
          },
          "colorscale": {
           "diverging": [
            [
             0,
             "#8e0152"
            ],
            [
             0.1,
             "#c51b7d"
            ],
            [
             0.2,
             "#de77ae"
            ],
            [
             0.3,
             "#f1b6da"
            ],
            [
             0.4,
             "#fde0ef"
            ],
            [
             0.5,
             "#f7f7f7"
            ],
            [
             0.6,
             "#e6f5d0"
            ],
            [
             0.7,
             "#b8e186"
            ],
            [
             0.8,
             "#7fbc41"
            ],
            [
             0.9,
             "#4d9221"
            ],
            [
             1,
             "#276419"
            ]
           ],
           "sequential": [
            [
             0,
             "#0d0887"
            ],
            [
             0.1111111111111111,
             "#46039f"
            ],
            [
             0.2222222222222222,
             "#7201a8"
            ],
            [
             0.3333333333333333,
             "#9c179e"
            ],
            [
             0.4444444444444444,
             "#bd3786"
            ],
            [
             0.5555555555555556,
             "#d8576b"
            ],
            [
             0.6666666666666666,
             "#ed7953"
            ],
            [
             0.7777777777777778,
             "#fb9f3a"
            ],
            [
             0.8888888888888888,
             "#fdca26"
            ],
            [
             1,
             "#f0f921"
            ]
           ],
           "sequentialminus": [
            [
             0,
             "#0d0887"
            ],
            [
             0.1111111111111111,
             "#46039f"
            ],
            [
             0.2222222222222222,
             "#7201a8"
            ],
            [
             0.3333333333333333,
             "#9c179e"
            ],
            [
             0.4444444444444444,
             "#bd3786"
            ],
            [
             0.5555555555555556,
             "#d8576b"
            ],
            [
             0.6666666666666666,
             "#ed7953"
            ],
            [
             0.7777777777777778,
             "#fb9f3a"
            ],
            [
             0.8888888888888888,
             "#fdca26"
            ],
            [
             1,
             "#f0f921"
            ]
           ]
          },
          "colorway": [
           "#636efa",
           "#EF553B",
           "#00cc96",
           "#ab63fa",
           "#FFA15A",
           "#19d3f3",
           "#FF6692",
           "#B6E880",
           "#FF97FF",
           "#FECB52"
          ],
          "font": {
           "color": "#2a3f5f"
          },
          "geo": {
           "bgcolor": "white",
           "lakecolor": "white",
           "landcolor": "#E5ECF6",
           "showlakes": true,
           "showland": true,
           "subunitcolor": "white"
          },
          "hoverlabel": {
           "align": "left"
          },
          "hovermode": "closest",
          "mapbox": {
           "style": "light"
          },
          "paper_bgcolor": "white",
          "plot_bgcolor": "#E5ECF6",
          "polar": {
           "angularaxis": {
            "gridcolor": "white",
            "linecolor": "white",
            "ticks": ""
           },
           "bgcolor": "#E5ECF6",
           "radialaxis": {
            "gridcolor": "white",
            "linecolor": "white",
            "ticks": ""
           }
          },
          "scene": {
           "xaxis": {
            "backgroundcolor": "#E5ECF6",
            "gridcolor": "white",
            "gridwidth": 2,
            "linecolor": "white",
            "showbackground": true,
            "ticks": "",
            "zerolinecolor": "white"
           },
           "yaxis": {
            "backgroundcolor": "#E5ECF6",
            "gridcolor": "white",
            "gridwidth": 2,
            "linecolor": "white",
            "showbackground": true,
            "ticks": "",
            "zerolinecolor": "white"
           },
           "zaxis": {
            "backgroundcolor": "#E5ECF6",
            "gridcolor": "white",
            "gridwidth": 2,
            "linecolor": "white",
            "showbackground": true,
            "ticks": "",
            "zerolinecolor": "white"
           }
          },
          "shapedefaults": {
           "line": {
            "color": "#2a3f5f"
           }
          },
          "ternary": {
           "aaxis": {
            "gridcolor": "white",
            "linecolor": "white",
            "ticks": ""
           },
           "baxis": {
            "gridcolor": "white",
            "linecolor": "white",
            "ticks": ""
           },
           "bgcolor": "#E5ECF6",
           "caxis": {
            "gridcolor": "white",
            "linecolor": "white",
            "ticks": ""
           }
          },
          "title": {
           "x": 0.05
          },
          "xaxis": {
           "automargin": true,
           "gridcolor": "white",
           "linecolor": "white",
           "ticks": "",
           "title": {
            "standoff": 15
           },
           "zerolinecolor": "white",
           "zerolinewidth": 2
          },
          "yaxis": {
           "automargin": true,
           "gridcolor": "white",
           "linecolor": "white",
           "ticks": "",
           "title": {
            "standoff": 15
           },
           "zerolinecolor": "white",
           "zerolinewidth": 2
          }
         }
        },
        "title": {
         "text": "Sharpe ratio",
         "x": 0.5,
         "xanchor": "center"
        },
        "xaxis": {
         "anchor": "y",
         "categoryarray": [
          "PSAR BBPT ZLSMA BTC 1min",
          "Overnight Effect High Volatility Crypto (AiBitcoinTrend)",
          "Dual Strategy Selector V2 - Cryptogyani",
          "Bollinger Bands - Breakout Strategy",
          "TrendGuard Scalper: SSL + Hama Candle with  Consolidation Zones",
          "FVG Positioning Average with 200EMA Auto Trading [Pakun]",
          "Strategy SEMA SDI Webhook",
          "Ta Strategy",
          "Strategy: Range Breakout",
          "CCI+EMA Strategy with Percentage or ATR TP/SL [Alifer]",
          "Price Flip Strategy",
          "BB Breakout + Momentum Squeeze [Strategy]",
          "Post-Open Long Strategy with ATR-based Stop Loss and Take Profit",
          "EUR/USD 45 MIN Strategy - FinexBOT",
          " Rsi Long-Term Strategy [15min]",
          "Bollinger Band strategy with split, limit, stop",
          "Multi-Band Comparison Strategy (CRYPTO)",
          "Advanced Multi-Timeframe Trading System (Risk Managed)",
          "16. SMC Strategy with SL - low Timeframe",
          "Simple SuperTrend Strategy for BTCUSD 4H"
         ],
         "categoryorder": "array",
         "domain": [
          0,
          1
         ],
         "title": {
          "text": ""
         }
        },
        "yaxis": {
         "anchor": "x",
         "domain": [
          0,
          1
         ],
         "title": {
          "text": "Коэффициент"
         }
        }
       }
      }
     },
     "metadata": {},
     "output_type": "display_data"
    },
    {
     "data": {
      "application/vnd.plotly.v1+json": {
       "config": {
        "plotlyServerURL": "https://plot.ly"
       },
       "data": [
        {
         "alignmentgroup": "True",
         "hovertemplate": "title=%{x}<br>Sortino ratio=%{y}<extra></extra>",
         "legendgroup": "Ichimoku Cloud with MACD and Trailing Stop Loss (by Coinrule)",
         "marker": {
          "color": "#636efa",
          "pattern": {
           "shape": ""
          }
         },
         "name": "Ichimoku Cloud with MACD and Trailing Stop Loss (by Coinrule)",
         "offsetgroup": "Ichimoku Cloud with MACD and Trailing Stop Loss (by Coinrule)",
         "orientation": "v",
         "showlegend": true,
         "textposition": "auto",
         "type": "bar",
         "x": [
          "Ichimoku Cloud with MACD and Trailing Stop Loss (by Coinrule)"
         ],
         "xaxis": "x",
         "y": [
          2.989
         ],
         "yaxis": "y"
        },
        {
         "alignmentgroup": "True",
         "hovertemplate": "title=%{x}<br>Sortino ratio=%{y}<extra></extra>",
         "legendgroup": "Overnight Effect High Volatility Crypto (AiBitcoinTrend)",
         "marker": {
          "color": "#EF553B",
          "pattern": {
           "shape": ""
          }
         },
         "name": "Overnight Effect High Volatility Crypto (AiBitcoinTrend)",
         "offsetgroup": "Overnight Effect High Volatility Crypto (AiBitcoinTrend)",
         "orientation": "v",
         "showlegend": true,
         "textposition": "auto",
         "type": "bar",
         "x": [
          "Overnight Effect High Volatility Crypto (AiBitcoinTrend)"
         ],
         "xaxis": "x",
         "y": [
          2.976
         ],
         "yaxis": "y"
        },
        {
         "alignmentgroup": "True",
         "hovertemplate": "title=%{x}<br>Sortino ratio=%{y}<extra></extra>",
         "legendgroup": "Turtle Trader Strategy",
         "marker": {
          "color": "#00cc96",
          "pattern": {
           "shape": ""
          }
         },
         "name": "Turtle Trader Strategy",
         "offsetgroup": "Turtle Trader Strategy",
         "orientation": "v",
         "showlegend": true,
         "textposition": "auto",
         "type": "bar",
         "x": [
          "Turtle Trader Strategy"
         ],
         "xaxis": "x",
         "y": [
          2.864
         ],
         "yaxis": "y"
        },
        {
         "alignmentgroup": "True",
         "hovertemplate": "title=%{x}<br>Sortino ratio=%{y}<extra></extra>",
         "legendgroup": "PSAR BBPT ZLSMA BTC 1min",
         "marker": {
          "color": "#ab63fa",
          "pattern": {
           "shape": ""
          }
         },
         "name": "PSAR BBPT ZLSMA BTC 1min",
         "offsetgroup": "PSAR BBPT ZLSMA BTC 1min",
         "orientation": "v",
         "showlegend": true,
         "textposition": "auto",
         "type": "bar",
         "x": [
          "PSAR BBPT ZLSMA BTC 1min"
         ],
         "xaxis": "x",
         "y": [
          2.82
         ],
         "yaxis": "y"
        },
        {
         "alignmentgroup": "True",
         "hovertemplate": "title=%{x}<br>Sortino ratio=%{y}<extra></extra>",
         "legendgroup": "Post-Open Long Strategy with ATR-based Stop Loss and Take Profit",
         "marker": {
          "color": "#FFA15A",
          "pattern": {
           "shape": ""
          }
         },
         "name": "Post-Open Long Strategy with ATR-based Stop Loss and Take Profit",
         "offsetgroup": "Post-Open Long Strategy with ATR-based Stop Loss and Take Profit",
         "orientation": "v",
         "showlegend": true,
         "textposition": "auto",
         "type": "bar",
         "x": [
          "Post-Open Long Strategy with ATR-based Stop Loss and Take Profit"
         ],
         "xaxis": "x",
         "y": [
          2.756
         ],
         "yaxis": "y"
        },
        {
         "alignmentgroup": "True",
         "hovertemplate": "title=%{x}<br>Sortino ratio=%{y}<extra></extra>",
         "legendgroup": "TrendGuard Scalper: SSL + Hama Candle with  Consolidation Zones",
         "marker": {
          "color": "#19d3f3",
          "pattern": {
           "shape": ""
          }
         },
         "name": "TrendGuard Scalper: SSL + Hama Candle with  Consolidation Zones",
         "offsetgroup": "TrendGuard Scalper: SSL + Hama Candle with  Consolidation Zones",
         "orientation": "v",
         "showlegend": true,
         "textposition": "auto",
         "type": "bar",
         "x": [
          "TrendGuard Scalper: SSL + Hama Candle with  Consolidation Zones"
         ],
         "xaxis": "x",
         "y": [
          2.609
         ],
         "yaxis": "y"
        },
        {
         "alignmentgroup": "True",
         "hovertemplate": "title=%{x}<br>Sortino ratio=%{y}<extra></extra>",
         "legendgroup": "Tomas Ratio Strategy with Multi-Timeframe Analysis",
         "marker": {
          "color": "#FF6692",
          "pattern": {
           "shape": ""
          }
         },
         "name": "Tomas Ratio Strategy with Multi-Timeframe Analysis",
         "offsetgroup": "Tomas Ratio Strategy with Multi-Timeframe Analysis",
         "orientation": "v",
         "showlegend": true,
         "textposition": "auto",
         "type": "bar",
         "x": [
          "Tomas Ratio Strategy with Multi-Timeframe Analysis"
         ],
         "xaxis": "x",
         "y": [
          2.609
         ],
         "yaxis": "y"
        },
        {
         "alignmentgroup": "True",
         "hovertemplate": "title=%{x}<br>Sortino ratio=%{y}<extra></extra>",
         "legendgroup": "VWAP+15EMA with RSI",
         "marker": {
          "color": "#B6E880",
          "pattern": {
           "shape": ""
          }
         },
         "name": "VWAP+15EMA with RSI",
         "offsetgroup": "VWAP+15EMA with RSI",
         "orientation": "v",
         "showlegend": true,
         "textposition": "auto",
         "type": "bar",
         "x": [
          "VWAP+15EMA with RSI"
         ],
         "xaxis": "x",
         "y": [
          2.601
         ],
         "yaxis": "y"
        },
        {
         "alignmentgroup": "True",
         "hovertemplate": "title=%{x}<br>Sortino ratio=%{y}<extra></extra>",
         "legendgroup": "Linear EDCA v1.2",
         "marker": {
          "color": "#FF97FF",
          "pattern": {
           "shape": ""
          }
         },
         "name": "Linear EDCA v1.2",
         "offsetgroup": "Linear EDCA v1.2",
         "orientation": "v",
         "showlegend": true,
         "textposition": "auto",
         "type": "bar",
         "x": [
          "Linear EDCA v1.2"
         ],
         "xaxis": "x",
         "y": [
          2.592
         ],
         "yaxis": "y"
        },
        {
         "alignmentgroup": "True",
         "hovertemplate": "title=%{x}<br>Sortino ratio=%{y}<extra></extra>",
         "legendgroup": "Double CCI Confirmed Hull Moving Average Reversal Strategy",
         "marker": {
          "color": "#FECB52",
          "pattern": {
           "shape": ""
          }
         },
         "name": "Double CCI Confirmed Hull Moving Average Reversal Strategy",
         "offsetgroup": "Double CCI Confirmed Hull Moving Average Reversal Strategy",
         "orientation": "v",
         "showlegend": true,
         "textposition": "auto",
         "type": "bar",
         "x": [
          "Double CCI Confirmed Hull Moving Average Reversal Strategy"
         ],
         "xaxis": "x",
         "y": [
          2.562
         ],
         "yaxis": "y"
        },
        {
         "alignmentgroup": "True",
         "hovertemplate": "title=%{x}<br>Sortino ratio=%{y}<extra></extra>",
         "legendgroup": "Dual Strategy Selector V2 - Cryptogyani",
         "marker": {
          "color": "#636efa",
          "pattern": {
           "shape": ""
          }
         },
         "name": "Dual Strategy Selector V2 - Cryptogyani",
         "offsetgroup": "Dual Strategy Selector V2 - Cryptogyani",
         "orientation": "v",
         "showlegend": true,
         "textposition": "auto",
         "type": "bar",
         "x": [
          "Dual Strategy Selector V2 - Cryptogyani"
         ],
         "xaxis": "x",
         "y": [
          2.554
         ],
         "yaxis": "y"
        },
        {
         "alignmentgroup": "True",
         "hovertemplate": "title=%{x}<br>Sortino ratio=%{y}<extra></extra>",
         "legendgroup": "Ichimoku Clouds Strategy Long and Short",
         "marker": {
          "color": "#EF553B",
          "pattern": {
           "shape": ""
          }
         },
         "name": "Ichimoku Clouds Strategy Long and Short",
         "offsetgroup": "Ichimoku Clouds Strategy Long and Short",
         "orientation": "v",
         "showlegend": true,
         "textposition": "auto",
         "type": "bar",
         "x": [
          "Ichimoku Clouds Strategy Long and Short"
         ],
         "xaxis": "x",
         "y": [
          2.485
         ],
         "yaxis": "y"
        },
        {
         "alignmentgroup": "True",
         "hovertemplate": "title=%{x}<br>Sortino ratio=%{y}<extra></extra>",
         "legendgroup": "Ta Strategy",
         "marker": {
          "color": "#00cc96",
          "pattern": {
           "shape": ""
          }
         },
         "name": "Ta Strategy",
         "offsetgroup": "Ta Strategy",
         "orientation": "v",
         "showlegend": true,
         "textposition": "auto",
         "type": "bar",
         "x": [
          "Ta Strategy"
         ],
         "xaxis": "x",
         "y": [
          2.44
         ],
         "yaxis": "y"
        },
        {
         "alignmentgroup": "True",
         "hovertemplate": "title=%{x}<br>Sortino ratio=%{y}<extra></extra>",
         "legendgroup": "Soheil PKO's 5 min Hitman Scalp - 3MA + Laguerre RSI + ADX [Pt]",
         "marker": {
          "color": "#ab63fa",
          "pattern": {
           "shape": ""
          }
         },
         "name": "Soheil PKO's 5 min Hitman Scalp - 3MA + Laguerre RSI + ADX [Pt]",
         "offsetgroup": "Soheil PKO's 5 min Hitman Scalp - 3MA + Laguerre RSI + ADX [Pt]",
         "orientation": "v",
         "showlegend": true,
         "textposition": "auto",
         "type": "bar",
         "x": [
          "Soheil PKO's 5 min Hitman Scalp - 3MA + Laguerre RSI + ADX [Pt]"
         ],
         "xaxis": "x",
         "y": [
          2.424
         ],
         "yaxis": "y"
        },
        {
         "alignmentgroup": "True",
         "hovertemplate": "title=%{x}<br>Sortino ratio=%{y}<extra></extra>",
         "legendgroup": "Friday Bond Short Strategy",
         "marker": {
          "color": "#FFA15A",
          "pattern": {
           "shape": ""
          }
         },
         "name": "Friday Bond Short Strategy",
         "offsetgroup": "Friday Bond Short Strategy",
         "orientation": "v",
         "showlegend": true,
         "textposition": "auto",
         "type": "bar",
         "x": [
          "Friday Bond Short Strategy"
         ],
         "xaxis": "x",
         "y": [
          2.402
         ],
         "yaxis": "y"
        },
        {
         "alignmentgroup": "True",
         "hovertemplate": "title=%{x}<br>Sortino ratio=%{y}<extra></extra>",
         "legendgroup": "Heikin Ashi Supertrend",
         "marker": {
          "color": "#19d3f3",
          "pattern": {
           "shape": ""
          }
         },
         "name": "Heikin Ashi Supertrend",
         "offsetgroup": "Heikin Ashi Supertrend",
         "orientation": "v",
         "showlegend": true,
         "textposition": "auto",
         "type": "bar",
         "x": [
          "Heikin Ashi Supertrend"
         ],
         "xaxis": "x",
         "y": [
          2.367
         ],
         "yaxis": "y"
        },
        {
         "alignmentgroup": "True",
         "hovertemplate": "title=%{x}<br>Sortino ratio=%{y}<extra></extra>",
         "legendgroup": "Strategy SEMA SDI Webhook",
         "marker": {
          "color": "#FF6692",
          "pattern": {
           "shape": ""
          }
         },
         "name": "Strategy SEMA SDI Webhook",
         "offsetgroup": "Strategy SEMA SDI Webhook",
         "orientation": "v",
         "showlegend": true,
         "textposition": "auto",
         "type": "bar",
         "x": [
          "Strategy SEMA SDI Webhook"
         ],
         "xaxis": "x",
         "y": [
          2.327
         ],
         "yaxis": "y"
        },
        {
         "alignmentgroup": "True",
         "hovertemplate": "title=%{x}<br>Sortino ratio=%{y}<extra></extra>",
         "legendgroup": "Ichimoku Cloud and ADX with Trailing Stop Loss (by Coinrule)",
         "marker": {
          "color": "#B6E880",
          "pattern": {
           "shape": ""
          }
         },
         "name": "Ichimoku Cloud and ADX with Trailing Stop Loss (by Coinrule)",
         "offsetgroup": "Ichimoku Cloud and ADX with Trailing Stop Loss (by Coinrule)",
         "orientation": "v",
         "showlegend": true,
         "textposition": "auto",
         "type": "bar",
         "x": [
          "Ichimoku Cloud and ADX with Trailing Stop Loss (by Coinrule)"
         ],
         "xaxis": "x",
         "y": [
          2.256
         ],
         "yaxis": "y"
        },
        {
         "alignmentgroup": "True",
         "hovertemplate": "title=%{x}<br>Sortino ratio=%{y}<extra></extra>",
         "legendgroup": "Bollinger Bands - Breakout Strategy",
         "marker": {
          "color": "#FF97FF",
          "pattern": {
           "shape": ""
          }
         },
         "name": "Bollinger Bands - Breakout Strategy",
         "offsetgroup": "Bollinger Bands - Breakout Strategy",
         "orientation": "v",
         "showlegend": true,
         "textposition": "auto",
         "type": "bar",
         "x": [
          "Bollinger Bands - Breakout Strategy"
         ],
         "xaxis": "x",
         "y": [
          2.203
         ],
         "yaxis": "y"
        },
        {
         "alignmentgroup": "True",
         "hovertemplate": "title=%{x}<br>Sortino ratio=%{y}<extra></extra>",
         "legendgroup": "SmartScale Envelope DCA",
         "marker": {
          "color": "#FECB52",
          "pattern": {
           "shape": ""
          }
         },
         "name": "SmartScale Envelope DCA",
         "offsetgroup": "SmartScale Envelope DCA",
         "orientation": "v",
         "showlegend": true,
         "textposition": "auto",
         "type": "bar",
         "x": [
          "SmartScale Envelope DCA"
         ],
         "xaxis": "x",
         "y": [
          2.19
         ],
         "yaxis": "y"
        }
       ],
       "layout": {
        "barmode": "relative",
        "legend": {
         "title": {},
         "tracegroupgap": 0
        },
        "margin": {
         "b": 0,
         "l": 0,
         "r": 0,
         "t": 30
        },
        "template": {
         "data": {
          "bar": [
           {
            "error_x": {
             "color": "#2a3f5f"
            },
            "error_y": {
             "color": "#2a3f5f"
            },
            "marker": {
             "line": {
              "color": "#E5ECF6",
              "width": 0.5
             },
             "pattern": {
              "fillmode": "overlay",
              "size": 10,
              "solidity": 0.2
             }
            },
            "type": "bar"
           }
          ],
          "barpolar": [
           {
            "marker": {
             "line": {
              "color": "#E5ECF6",
              "width": 0.5
             },
             "pattern": {
              "fillmode": "overlay",
              "size": 10,
              "solidity": 0.2
             }
            },
            "type": "barpolar"
           }
          ],
          "carpet": [
           {
            "aaxis": {
             "endlinecolor": "#2a3f5f",
             "gridcolor": "white",
             "linecolor": "white",
             "minorgridcolor": "white",
             "startlinecolor": "#2a3f5f"
            },
            "baxis": {
             "endlinecolor": "#2a3f5f",
             "gridcolor": "white",
             "linecolor": "white",
             "minorgridcolor": "white",
             "startlinecolor": "#2a3f5f"
            },
            "type": "carpet"
           }
          ],
          "choropleth": [
           {
            "colorbar": {
             "outlinewidth": 0,
             "ticks": ""
            },
            "type": "choropleth"
           }
          ],
          "contour": [
           {
            "colorbar": {
             "outlinewidth": 0,
             "ticks": ""
            },
            "colorscale": [
             [
              0,
              "#0d0887"
             ],
             [
              0.1111111111111111,
              "#46039f"
             ],
             [
              0.2222222222222222,
              "#7201a8"
             ],
             [
              0.3333333333333333,
              "#9c179e"
             ],
             [
              0.4444444444444444,
              "#bd3786"
             ],
             [
              0.5555555555555556,
              "#d8576b"
             ],
             [
              0.6666666666666666,
              "#ed7953"
             ],
             [
              0.7777777777777778,
              "#fb9f3a"
             ],
             [
              0.8888888888888888,
              "#fdca26"
             ],
             [
              1,
              "#f0f921"
             ]
            ],
            "type": "contour"
           }
          ],
          "contourcarpet": [
           {
            "colorbar": {
             "outlinewidth": 0,
             "ticks": ""
            },
            "type": "contourcarpet"
           }
          ],
          "heatmap": [
           {
            "colorbar": {
             "outlinewidth": 0,
             "ticks": ""
            },
            "colorscale": [
             [
              0,
              "#0d0887"
             ],
             [
              0.1111111111111111,
              "#46039f"
             ],
             [
              0.2222222222222222,
              "#7201a8"
             ],
             [
              0.3333333333333333,
              "#9c179e"
             ],
             [
              0.4444444444444444,
              "#bd3786"
             ],
             [
              0.5555555555555556,
              "#d8576b"
             ],
             [
              0.6666666666666666,
              "#ed7953"
             ],
             [
              0.7777777777777778,
              "#fb9f3a"
             ],
             [
              0.8888888888888888,
              "#fdca26"
             ],
             [
              1,
              "#f0f921"
             ]
            ],
            "type": "heatmap"
           }
          ],
          "heatmapgl": [
           {
            "colorbar": {
             "outlinewidth": 0,
             "ticks": ""
            },
            "colorscale": [
             [
              0,
              "#0d0887"
             ],
             [
              0.1111111111111111,
              "#46039f"
             ],
             [
              0.2222222222222222,
              "#7201a8"
             ],
             [
              0.3333333333333333,
              "#9c179e"
             ],
             [
              0.4444444444444444,
              "#bd3786"
             ],
             [
              0.5555555555555556,
              "#d8576b"
             ],
             [
              0.6666666666666666,
              "#ed7953"
             ],
             [
              0.7777777777777778,
              "#fb9f3a"
             ],
             [
              0.8888888888888888,
              "#fdca26"
             ],
             [
              1,
              "#f0f921"
             ]
            ],
            "type": "heatmapgl"
           }
          ],
          "histogram": [
           {
            "marker": {
             "pattern": {
              "fillmode": "overlay",
              "size": 10,
              "solidity": 0.2
             }
            },
            "type": "histogram"
           }
          ],
          "histogram2d": [
           {
            "colorbar": {
             "outlinewidth": 0,
             "ticks": ""
            },
            "colorscale": [
             [
              0,
              "#0d0887"
             ],
             [
              0.1111111111111111,
              "#46039f"
             ],
             [
              0.2222222222222222,
              "#7201a8"
             ],
             [
              0.3333333333333333,
              "#9c179e"
             ],
             [
              0.4444444444444444,
              "#bd3786"
             ],
             [
              0.5555555555555556,
              "#d8576b"
             ],
             [
              0.6666666666666666,
              "#ed7953"
             ],
             [
              0.7777777777777778,
              "#fb9f3a"
             ],
             [
              0.8888888888888888,
              "#fdca26"
             ],
             [
              1,
              "#f0f921"
             ]
            ],
            "type": "histogram2d"
           }
          ],
          "histogram2dcontour": [
           {
            "colorbar": {
             "outlinewidth": 0,
             "ticks": ""
            },
            "colorscale": [
             [
              0,
              "#0d0887"
             ],
             [
              0.1111111111111111,
              "#46039f"
             ],
             [
              0.2222222222222222,
              "#7201a8"
             ],
             [
              0.3333333333333333,
              "#9c179e"
             ],
             [
              0.4444444444444444,
              "#bd3786"
             ],
             [
              0.5555555555555556,
              "#d8576b"
             ],
             [
              0.6666666666666666,
              "#ed7953"
             ],
             [
              0.7777777777777778,
              "#fb9f3a"
             ],
             [
              0.8888888888888888,
              "#fdca26"
             ],
             [
              1,
              "#f0f921"
             ]
            ],
            "type": "histogram2dcontour"
           }
          ],
          "mesh3d": [
           {
            "colorbar": {
             "outlinewidth": 0,
             "ticks": ""
            },
            "type": "mesh3d"
           }
          ],
          "parcoords": [
           {
            "line": {
             "colorbar": {
              "outlinewidth": 0,
              "ticks": ""
             }
            },
            "type": "parcoords"
           }
          ],
          "pie": [
           {
            "automargin": true,
            "type": "pie"
           }
          ],
          "scatter": [
           {
            "fillpattern": {
             "fillmode": "overlay",
             "size": 10,
             "solidity": 0.2
            },
            "type": "scatter"
           }
          ],
          "scatter3d": [
           {
            "line": {
             "colorbar": {
              "outlinewidth": 0,
              "ticks": ""
             }
            },
            "marker": {
             "colorbar": {
              "outlinewidth": 0,
              "ticks": ""
             }
            },
            "type": "scatter3d"
           }
          ],
          "scattercarpet": [
           {
            "marker": {
             "colorbar": {
              "outlinewidth": 0,
              "ticks": ""
             }
            },
            "type": "scattercarpet"
           }
          ],
          "scattergeo": [
           {
            "marker": {
             "colorbar": {
              "outlinewidth": 0,
              "ticks": ""
             }
            },
            "type": "scattergeo"
           }
          ],
          "scattergl": [
           {
            "marker": {
             "colorbar": {
              "outlinewidth": 0,
              "ticks": ""
             }
            },
            "type": "scattergl"
           }
          ],
          "scattermapbox": [
           {
            "marker": {
             "colorbar": {
              "outlinewidth": 0,
              "ticks": ""
             }
            },
            "type": "scattermapbox"
           }
          ],
          "scatterpolar": [
           {
            "marker": {
             "colorbar": {
              "outlinewidth": 0,
              "ticks": ""
             }
            },
            "type": "scatterpolar"
           }
          ],
          "scatterpolargl": [
           {
            "marker": {
             "colorbar": {
              "outlinewidth": 0,
              "ticks": ""
             }
            },
            "type": "scatterpolargl"
           }
          ],
          "scatterternary": [
           {
            "marker": {
             "colorbar": {
              "outlinewidth": 0,
              "ticks": ""
             }
            },
            "type": "scatterternary"
           }
          ],
          "surface": [
           {
            "colorbar": {
             "outlinewidth": 0,
             "ticks": ""
            },
            "colorscale": [
             [
              0,
              "#0d0887"
             ],
             [
              0.1111111111111111,
              "#46039f"
             ],
             [
              0.2222222222222222,
              "#7201a8"
             ],
             [
              0.3333333333333333,
              "#9c179e"
             ],
             [
              0.4444444444444444,
              "#bd3786"
             ],
             [
              0.5555555555555556,
              "#d8576b"
             ],
             [
              0.6666666666666666,
              "#ed7953"
             ],
             [
              0.7777777777777778,
              "#fb9f3a"
             ],
             [
              0.8888888888888888,
              "#fdca26"
             ],
             [
              1,
              "#f0f921"
             ]
            ],
            "type": "surface"
           }
          ],
          "table": [
           {
            "cells": {
             "fill": {
              "color": "#EBF0F8"
             },
             "line": {
              "color": "white"
             }
            },
            "header": {
             "fill": {
              "color": "#C8D4E3"
             },
             "line": {
              "color": "white"
             }
            },
            "type": "table"
           }
          ]
         },
         "layout": {
          "annotationdefaults": {
           "arrowcolor": "#2a3f5f",
           "arrowhead": 0,
           "arrowwidth": 1
          },
          "autotypenumbers": "strict",
          "coloraxis": {
           "colorbar": {
            "outlinewidth": 0,
            "ticks": ""
           }
          },
          "colorscale": {
           "diverging": [
            [
             0,
             "#8e0152"
            ],
            [
             0.1,
             "#c51b7d"
            ],
            [
             0.2,
             "#de77ae"
            ],
            [
             0.3,
             "#f1b6da"
            ],
            [
             0.4,
             "#fde0ef"
            ],
            [
             0.5,
             "#f7f7f7"
            ],
            [
             0.6,
             "#e6f5d0"
            ],
            [
             0.7,
             "#b8e186"
            ],
            [
             0.8,
             "#7fbc41"
            ],
            [
             0.9,
             "#4d9221"
            ],
            [
             1,
             "#276419"
            ]
           ],
           "sequential": [
            [
             0,
             "#0d0887"
            ],
            [
             0.1111111111111111,
             "#46039f"
            ],
            [
             0.2222222222222222,
             "#7201a8"
            ],
            [
             0.3333333333333333,
             "#9c179e"
            ],
            [
             0.4444444444444444,
             "#bd3786"
            ],
            [
             0.5555555555555556,
             "#d8576b"
            ],
            [
             0.6666666666666666,
             "#ed7953"
            ],
            [
             0.7777777777777778,
             "#fb9f3a"
            ],
            [
             0.8888888888888888,
             "#fdca26"
            ],
            [
             1,
             "#f0f921"
            ]
           ],
           "sequentialminus": [
            [
             0,
             "#0d0887"
            ],
            [
             0.1111111111111111,
             "#46039f"
            ],
            [
             0.2222222222222222,
             "#7201a8"
            ],
            [
             0.3333333333333333,
             "#9c179e"
            ],
            [
             0.4444444444444444,
             "#bd3786"
            ],
            [
             0.5555555555555556,
             "#d8576b"
            ],
            [
             0.6666666666666666,
             "#ed7953"
            ],
            [
             0.7777777777777778,
             "#fb9f3a"
            ],
            [
             0.8888888888888888,
             "#fdca26"
            ],
            [
             1,
             "#f0f921"
            ]
           ]
          },
          "colorway": [
           "#636efa",
           "#EF553B",
           "#00cc96",
           "#ab63fa",
           "#FFA15A",
           "#19d3f3",
           "#FF6692",
           "#B6E880",
           "#FF97FF",
           "#FECB52"
          ],
          "font": {
           "color": "#2a3f5f"
          },
          "geo": {
           "bgcolor": "white",
           "lakecolor": "white",
           "landcolor": "#E5ECF6",
           "showlakes": true,
           "showland": true,
           "subunitcolor": "white"
          },
          "hoverlabel": {
           "align": "left"
          },
          "hovermode": "closest",
          "mapbox": {
           "style": "light"
          },
          "paper_bgcolor": "white",
          "plot_bgcolor": "#E5ECF6",
          "polar": {
           "angularaxis": {
            "gridcolor": "white",
            "linecolor": "white",
            "ticks": ""
           },
           "bgcolor": "#E5ECF6",
           "radialaxis": {
            "gridcolor": "white",
            "linecolor": "white",
            "ticks": ""
           }
          },
          "scene": {
           "xaxis": {
            "backgroundcolor": "#E5ECF6",
            "gridcolor": "white",
            "gridwidth": 2,
            "linecolor": "white",
            "showbackground": true,
            "ticks": "",
            "zerolinecolor": "white"
           },
           "yaxis": {
            "backgroundcolor": "#E5ECF6",
            "gridcolor": "white",
            "gridwidth": 2,
            "linecolor": "white",
            "showbackground": true,
            "ticks": "",
            "zerolinecolor": "white"
           },
           "zaxis": {
            "backgroundcolor": "#E5ECF6",
            "gridcolor": "white",
            "gridwidth": 2,
            "linecolor": "white",
            "showbackground": true,
            "ticks": "",
            "zerolinecolor": "white"
           }
          },
          "shapedefaults": {
           "line": {
            "color": "#2a3f5f"
           }
          },
          "ternary": {
           "aaxis": {
            "gridcolor": "white",
            "linecolor": "white",
            "ticks": ""
           },
           "baxis": {
            "gridcolor": "white",
            "linecolor": "white",
            "ticks": ""
           },
           "bgcolor": "#E5ECF6",
           "caxis": {
            "gridcolor": "white",
            "linecolor": "white",
            "ticks": ""
           }
          },
          "title": {
           "x": 0.05
          },
          "xaxis": {
           "automargin": true,
           "gridcolor": "white",
           "linecolor": "white",
           "ticks": "",
           "title": {
            "standoff": 15
           },
           "zerolinecolor": "white",
           "zerolinewidth": 2
          },
          "yaxis": {
           "automargin": true,
           "gridcolor": "white",
           "linecolor": "white",
           "ticks": "",
           "title": {
            "standoff": 15
           },
           "zerolinecolor": "white",
           "zerolinewidth": 2
          }
         }
        },
        "title": {
         "text": "Sortino ratio",
         "x": 0.5,
         "xanchor": "center"
        },
        "xaxis": {
         "anchor": "y",
         "categoryarray": [
          "Ichimoku Cloud with MACD and Trailing Stop Loss (by Coinrule)",
          "Overnight Effect High Volatility Crypto (AiBitcoinTrend)",
          "Turtle Trader Strategy",
          "PSAR BBPT ZLSMA BTC 1min",
          "Post-Open Long Strategy with ATR-based Stop Loss and Take Profit",
          "TrendGuard Scalper: SSL + Hama Candle with  Consolidation Zones",
          "Tomas Ratio Strategy with Multi-Timeframe Analysis",
          "VWAP+15EMA with RSI",
          "Linear EDCA v1.2",
          "Double CCI Confirmed Hull Moving Average Reversal Strategy",
          "Dual Strategy Selector V2 - Cryptogyani",
          "Ichimoku Clouds Strategy Long and Short",
          "Ta Strategy",
          "Soheil PKO's 5 min Hitman Scalp - 3MA + Laguerre RSI + ADX [Pt]",
          "Friday Bond Short Strategy",
          "Heikin Ashi Supertrend",
          "Strategy SEMA SDI Webhook",
          "Ichimoku Cloud and ADX with Trailing Stop Loss (by Coinrule)",
          "Bollinger Bands - Breakout Strategy",
          "SmartScale Envelope DCA"
         ],
         "categoryorder": "array",
         "domain": [
          0,
          1
         ],
         "title": {
          "text": ""
         }
        },
        "yaxis": {
         "anchor": "x",
         "domain": [
          0,
          1
         ],
         "title": {
          "text": "Коэффициент"
         }
        }
       }
      }
     },
     "metadata": {},
     "output_type": "display_data"
    },
    {
     "data": {
      "application/vnd.plotly.v1+json": {
       "config": {
        "plotlyServerURL": "https://plot.ly"
       },
       "data": [
        {
         "alignmentgroup": "True",
         "hovertemplate": "title=%{x}<br>Profit factor=%{y}<extra></extra>",
         "legendgroup": "Consecutive Bearish Candle Strategy",
         "marker": {
          "color": "#636efa",
          "pattern": {
           "shape": ""
          }
         },
         "name": "Consecutive Bearish Candle Strategy",
         "offsetgroup": "Consecutive Bearish Candle Strategy",
         "orientation": "v",
         "showlegend": true,
         "textposition": "auto",
         "type": "bar",
         "x": [
          "Consecutive Bearish Candle Strategy"
         ],
         "xaxis": "x",
         "y": [
          2.981
         ],
         "yaxis": "y"
        },
        {
         "alignmentgroup": "True",
         "hovertemplate": "title=%{x}<br>Profit factor=%{y}<extra></extra>",
         "legendgroup": "Multi-Step FlexiMA - Strategy [presentTrading]",
         "marker": {
          "color": "#EF553B",
          "pattern": {
           "shape": ""
          }
         },
         "name": "Multi-Step FlexiMA - Strategy [presentTrading]",
         "offsetgroup": "Multi-Step FlexiMA - Strategy [presentTrading]",
         "orientation": "v",
         "showlegend": true,
         "textposition": "auto",
         "type": "bar",
         "x": [
          "Multi-Step FlexiMA - Strategy [presentTrading]"
         ],
         "xaxis": "x",
         "y": [
          2.974
         ],
         "yaxis": "y"
        },
        {
         "alignmentgroup": "True",
         "hovertemplate": "title=%{x}<br>Profit factor=%{y}<extra></extra>",
         "legendgroup": "Fibonacci Trend Reversal Strategy",
         "marker": {
          "color": "#00cc96",
          "pattern": {
           "shape": ""
          }
         },
         "name": "Fibonacci Trend Reversal Strategy",
         "offsetgroup": "Fibonacci Trend Reversal Strategy",
         "orientation": "v",
         "showlegend": true,
         "textposition": "auto",
         "type": "bar",
         "x": [
          "Fibonacci Trend Reversal Strategy"
         ],
         "xaxis": "x",
         "y": [
          2.969
         ],
         "yaxis": "y"
        },
        {
         "alignmentgroup": "True",
         "hovertemplate": "title=%{x}<br>Profit factor=%{y}<extra></extra>",
         "legendgroup": "Dynamic Ticks Oscillator Model (DTOM)",
         "marker": {
          "color": "#ab63fa",
          "pattern": {
           "shape": ""
          }
         },
         "name": "Dynamic Ticks Oscillator Model (DTOM)",
         "offsetgroup": "Dynamic Ticks Oscillator Model (DTOM)",
         "orientation": "v",
         "showlegend": true,
         "textposition": "auto",
         "type": "bar",
         "x": [
          "Dynamic Ticks Oscillator Model (DTOM)"
         ],
         "xaxis": "x",
         "y": [
          2.954
         ],
         "yaxis": "y"
        },
        {
         "alignmentgroup": "True",
         "hovertemplate": "title=%{x}<br>Profit factor=%{y}<extra></extra>",
         "legendgroup": "Dynamic Volatility Differential Model (DVDM)",
         "marker": {
          "color": "#FFA15A",
          "pattern": {
           "shape": ""
          }
         },
         "name": "Dynamic Volatility Differential Model (DVDM)",
         "offsetgroup": "Dynamic Volatility Differential Model (DVDM)",
         "orientation": "v",
         "showlegend": true,
         "textposition": "auto",
         "type": "bar",
         "x": [
          "Dynamic Volatility Differential Model (DVDM)"
         ],
         "xaxis": "x",
         "y": [
          2.943
         ],
         "yaxis": "y"
        },
        {
         "alignmentgroup": "True",
         "hovertemplate": "title=%{x}<br>Profit factor=%{y}<extra></extra>",
         "legendgroup": "Statistical Arbitrage Pairs Trading - Long-Side Only",
         "marker": {
          "color": "#19d3f3",
          "pattern": {
           "shape": ""
          }
         },
         "name": "Statistical Arbitrage Pairs Trading - Long-Side Only",
         "offsetgroup": "Statistical Arbitrage Pairs Trading - Long-Side Only",
         "orientation": "v",
         "showlegend": true,
         "textposition": "auto",
         "type": "bar",
         "x": [
          "Statistical Arbitrage Pairs Trading - Long-Side Only"
         ],
         "xaxis": "x",
         "y": [
          2.898
         ],
         "yaxis": "y"
        },
        {
         "alignmentgroup": "True",
         "hovertemplate": "title=%{x}<br>Profit factor=%{y}<extra></extra>",
         "legendgroup": "50 EMA Crossover With Monthly DCA",
         "marker": {
          "color": "#FF6692",
          "pattern": {
           "shape": ""
          }
         },
         "name": "50 EMA Crossover With Monthly DCA",
         "offsetgroup": "50 EMA Crossover With Monthly DCA",
         "orientation": "v",
         "showlegend": true,
         "textposition": "auto",
         "type": "bar",
         "x": [
          "50 EMA Crossover With Monthly DCA"
         ],
         "xaxis": "x",
         "y": [
          2.878
         ],
         "yaxis": "y"
        },
        {
         "alignmentgroup": "True",
         "hovertemplate": "title=%{x}<br>Profit factor=%{y}<extra></extra>",
         "legendgroup": "Larry Conners SMTP Strategy",
         "marker": {
          "color": "#B6E880",
          "pattern": {
           "shape": ""
          }
         },
         "name": "Larry Conners SMTP Strategy",
         "offsetgroup": "Larry Conners SMTP Strategy",
         "orientation": "v",
         "showlegend": true,
         "textposition": "auto",
         "type": "bar",
         "x": [
          "Larry Conners SMTP Strategy"
         ],
         "xaxis": "x",
         "y": [
          2.878
         ],
         "yaxis": "y"
        },
        {
         "alignmentgroup": "True",
         "hovertemplate": "title=%{x}<br>Profit factor=%{y}<extra></extra>",
         "legendgroup": "SuperTrend Enhanced Pivot Reversal - Strategy [PresentTrading]",
         "marker": {
          "color": "#FF97FF",
          "pattern": {
           "shape": ""
          }
         },
         "name": "SuperTrend Enhanced Pivot Reversal - Strategy [PresentTrading]",
         "offsetgroup": "SuperTrend Enhanced Pivot Reversal - Strategy [PresentTrading]",
         "orientation": "v",
         "showlegend": true,
         "textposition": "auto",
         "type": "bar",
         "x": [
          "SuperTrend Enhanced Pivot Reversal - Strategy [PresentTrading]"
         ],
         "xaxis": "x",
         "y": [
          2.876
         ],
         "yaxis": "y"
        },
        {
         "alignmentgroup": "True",
         "hovertemplate": "title=%{x}<br>Profit factor=%{y}<extra></extra>",
         "legendgroup": "Tomas Ratio Strategy with Multi-Timeframe Analysis",
         "marker": {
          "color": "#FECB52",
          "pattern": {
           "shape": ""
          }
         },
         "name": "Tomas Ratio Strategy with Multi-Timeframe Analysis",
         "offsetgroup": "Tomas Ratio Strategy with Multi-Timeframe Analysis",
         "orientation": "v",
         "showlegend": true,
         "textposition": "auto",
         "type": "bar",
         "x": [
          "Tomas Ratio Strategy with Multi-Timeframe Analysis"
         ],
         "xaxis": "x",
         "y": [
          2.868
         ],
         "yaxis": "y"
        },
        {
         "alignmentgroup": "True",
         "hovertemplate": "title=%{x}<br>Profit factor=%{y}<extra></extra>",
         "legendgroup": "Random Entry and Exit",
         "marker": {
          "color": "#636efa",
          "pattern": {
           "shape": ""
          }
         },
         "name": "Random Entry and Exit",
         "offsetgroup": "Random Entry and Exit",
         "orientation": "v",
         "showlegend": true,
         "textposition": "auto",
         "type": "bar",
         "x": [
          "Random Entry and Exit"
         ],
         "xaxis": "x",
         "y": [
          2.838
         ],
         "yaxis": "y"
        },
        {
         "alignmentgroup": "True",
         "hovertemplate": "title=%{x}<br>Profit factor=%{y}<extra></extra>",
         "legendgroup": "Channels With NVI Strategy [TradeDots]",
         "marker": {
          "color": "#EF553B",
          "pattern": {
           "shape": ""
          }
         },
         "name": "Channels With NVI Strategy [TradeDots]",
         "offsetgroup": "Channels With NVI Strategy [TradeDots]",
         "orientation": "v",
         "showlegend": true,
         "textposition": "auto",
         "type": "bar",
         "x": [
          "Channels With NVI Strategy [TradeDots]"
         ],
         "xaxis": "x",
         "y": [
          2.827
         ],
         "yaxis": "y"
        },
        {
         "alignmentgroup": "True",
         "hovertemplate": "title=%{x}<br>Profit factor=%{y}<extra></extra>",
         "legendgroup": "SmartScale Envelope DCA",
         "marker": {
          "color": "#00cc96",
          "pattern": {
           "shape": ""
          }
         },
         "name": "SmartScale Envelope DCA",
         "offsetgroup": "SmartScale Envelope DCA",
         "orientation": "v",
         "showlegend": true,
         "textposition": "auto",
         "type": "bar",
         "x": [
          "SmartScale Envelope DCA"
         ],
         "xaxis": "x",
         "y": [
          2.804
         ],
         "yaxis": "y"
        },
        {
         "alignmentgroup": "True",
         "hovertemplate": "title=%{x}<br>Profit factor=%{y}<extra></extra>",
         "legendgroup": "3kilos BTC 15m",
         "marker": {
          "color": "#ab63fa",
          "pattern": {
           "shape": ""
          }
         },
         "name": "3kilos BTC 15m",
         "offsetgroup": "3kilos BTC 15m",
         "orientation": "v",
         "showlegend": true,
         "textposition": "auto",
         "type": "bar",
         "x": [
          "3kilos BTC 15m"
         ],
         "xaxis": "x",
         "y": [
          2.794
         ],
         "yaxis": "y"
        },
        {
         "alignmentgroup": "True",
         "hovertemplate": "title=%{x}<br>Profit factor=%{y}<extra></extra>",
         "legendgroup": "I11L - Meanreverter 4h",
         "marker": {
          "color": "#FFA15A",
          "pattern": {
           "shape": ""
          }
         },
         "name": "I11L - Meanreverter 4h",
         "offsetgroup": "I11L - Meanreverter 4h",
         "orientation": "v",
         "showlegend": true,
         "textposition": "auto",
         "type": "bar",
         "x": [
          "I11L - Meanreverter 4h"
         ],
         "xaxis": "x",
         "y": [
          2.757
         ],
         "yaxis": "y"
        },
        {
         "alignmentgroup": "True",
         "hovertemplate": "title=%{x}<br>Profit factor=%{y}<extra></extra>",
         "legendgroup": "Turtle Trading Strategy@lihexie",
         "marker": {
          "color": "#19d3f3",
          "pattern": {
           "shape": ""
          }
         },
         "name": "Turtle Trading Strategy@lihexie",
         "offsetgroup": "Turtle Trading Strategy@lihexie",
         "orientation": "v",
         "showlegend": true,
         "textposition": "auto",
         "type": "bar",
         "x": [
          "Turtle Trading Strategy@lihexie"
         ],
         "xaxis": "x",
         "y": [
          2.753
         ],
         "yaxis": "y"
        },
        {
         "alignmentgroup": "True",
         "hovertemplate": "title=%{x}<br>Profit factor=%{y}<extra></extra>",
         "legendgroup": "BTC outperform atrategy",
         "marker": {
          "color": "#FF6692",
          "pattern": {
           "shape": ""
          }
         },
         "name": "BTC outperform atrategy",
         "offsetgroup": "BTC outperform atrategy",
         "orientation": "v",
         "showlegend": true,
         "textposition": "auto",
         "type": "bar",
         "x": [
          "BTC outperform atrategy"
         ],
         "xaxis": "x",
         "y": [
          2.748
         ],
         "yaxis": "y"
        },
        {
         "alignmentgroup": "True",
         "hovertemplate": "title=%{x}<br>Profit factor=%{y}<extra></extra>",
         "legendgroup": "4Vietnamese 3x Supertrend",
         "marker": {
          "color": "#B6E880",
          "pattern": {
           "shape": ""
          }
         },
         "name": "4Vietnamese 3x Supertrend",
         "offsetgroup": "4Vietnamese 3x Supertrend",
         "orientation": "v",
         "showlegend": true,
         "textposition": "auto",
         "type": "bar",
         "x": [
          "4Vietnamese 3x Supertrend"
         ],
         "xaxis": "x",
         "y": [
          2.734
         ],
         "yaxis": "y"
        },
        {
         "alignmentgroup": "True",
         "hovertemplate": "title=%{x}<br>Profit factor=%{y}<extra></extra>",
         "legendgroup": "AI SuperTrend - Strategy [presentTrading]",
         "marker": {
          "color": "#FF97FF",
          "pattern": {
           "shape": ""
          }
         },
         "name": "AI SuperTrend - Strategy [presentTrading]",
         "offsetgroup": "AI SuperTrend - Strategy [presentTrading]",
         "orientation": "v",
         "showlegend": true,
         "textposition": "auto",
         "type": "bar",
         "x": [
          "AI SuperTrend - Strategy [presentTrading]"
         ],
         "xaxis": "x",
         "y": [
          2.729
         ],
         "yaxis": "y"
        },
        {
         "alignmentgroup": "True",
         "hovertemplate": "title=%{x}<br>Profit factor=%{y}<extra></extra>",
         "legendgroup": "Turtle Trader Strategy",
         "marker": {
          "color": "#FECB52",
          "pattern": {
           "shape": ""
          }
         },
         "name": "Turtle Trader Strategy",
         "offsetgroup": "Turtle Trader Strategy",
         "orientation": "v",
         "showlegend": true,
         "textposition": "auto",
         "type": "bar",
         "x": [
          "Turtle Trader Strategy"
         ],
         "xaxis": "x",
         "y": [
          2.71
         ],
         "yaxis": "y"
        }
       ],
       "layout": {
        "barmode": "relative",
        "legend": {
         "title": {},
         "tracegroupgap": 0
        },
        "margin": {
         "b": 0,
         "l": 0,
         "r": 0,
         "t": 30
        },
        "template": {
         "data": {
          "bar": [
           {
            "error_x": {
             "color": "#2a3f5f"
            },
            "error_y": {
             "color": "#2a3f5f"
            },
            "marker": {
             "line": {
              "color": "#E5ECF6",
              "width": 0.5
             },
             "pattern": {
              "fillmode": "overlay",
              "size": 10,
              "solidity": 0.2
             }
            },
            "type": "bar"
           }
          ],
          "barpolar": [
           {
            "marker": {
             "line": {
              "color": "#E5ECF6",
              "width": 0.5
             },
             "pattern": {
              "fillmode": "overlay",
              "size": 10,
              "solidity": 0.2
             }
            },
            "type": "barpolar"
           }
          ],
          "carpet": [
           {
            "aaxis": {
             "endlinecolor": "#2a3f5f",
             "gridcolor": "white",
             "linecolor": "white",
             "minorgridcolor": "white",
             "startlinecolor": "#2a3f5f"
            },
            "baxis": {
             "endlinecolor": "#2a3f5f",
             "gridcolor": "white",
             "linecolor": "white",
             "minorgridcolor": "white",
             "startlinecolor": "#2a3f5f"
            },
            "type": "carpet"
           }
          ],
          "choropleth": [
           {
            "colorbar": {
             "outlinewidth": 0,
             "ticks": ""
            },
            "type": "choropleth"
           }
          ],
          "contour": [
           {
            "colorbar": {
             "outlinewidth": 0,
             "ticks": ""
            },
            "colorscale": [
             [
              0,
              "#0d0887"
             ],
             [
              0.1111111111111111,
              "#46039f"
             ],
             [
              0.2222222222222222,
              "#7201a8"
             ],
             [
              0.3333333333333333,
              "#9c179e"
             ],
             [
              0.4444444444444444,
              "#bd3786"
             ],
             [
              0.5555555555555556,
              "#d8576b"
             ],
             [
              0.6666666666666666,
              "#ed7953"
             ],
             [
              0.7777777777777778,
              "#fb9f3a"
             ],
             [
              0.8888888888888888,
              "#fdca26"
             ],
             [
              1,
              "#f0f921"
             ]
            ],
            "type": "contour"
           }
          ],
          "contourcarpet": [
           {
            "colorbar": {
             "outlinewidth": 0,
             "ticks": ""
            },
            "type": "contourcarpet"
           }
          ],
          "heatmap": [
           {
            "colorbar": {
             "outlinewidth": 0,
             "ticks": ""
            },
            "colorscale": [
             [
              0,
              "#0d0887"
             ],
             [
              0.1111111111111111,
              "#46039f"
             ],
             [
              0.2222222222222222,
              "#7201a8"
             ],
             [
              0.3333333333333333,
              "#9c179e"
             ],
             [
              0.4444444444444444,
              "#bd3786"
             ],
             [
              0.5555555555555556,
              "#d8576b"
             ],
             [
              0.6666666666666666,
              "#ed7953"
             ],
             [
              0.7777777777777778,
              "#fb9f3a"
             ],
             [
              0.8888888888888888,
              "#fdca26"
             ],
             [
              1,
              "#f0f921"
             ]
            ],
            "type": "heatmap"
           }
          ],
          "heatmapgl": [
           {
            "colorbar": {
             "outlinewidth": 0,
             "ticks": ""
            },
            "colorscale": [
             [
              0,
              "#0d0887"
             ],
             [
              0.1111111111111111,
              "#46039f"
             ],
             [
              0.2222222222222222,
              "#7201a8"
             ],
             [
              0.3333333333333333,
              "#9c179e"
             ],
             [
              0.4444444444444444,
              "#bd3786"
             ],
             [
              0.5555555555555556,
              "#d8576b"
             ],
             [
              0.6666666666666666,
              "#ed7953"
             ],
             [
              0.7777777777777778,
              "#fb9f3a"
             ],
             [
              0.8888888888888888,
              "#fdca26"
             ],
             [
              1,
              "#f0f921"
             ]
            ],
            "type": "heatmapgl"
           }
          ],
          "histogram": [
           {
            "marker": {
             "pattern": {
              "fillmode": "overlay",
              "size": 10,
              "solidity": 0.2
             }
            },
            "type": "histogram"
           }
          ],
          "histogram2d": [
           {
            "colorbar": {
             "outlinewidth": 0,
             "ticks": ""
            },
            "colorscale": [
             [
              0,
              "#0d0887"
             ],
             [
              0.1111111111111111,
              "#46039f"
             ],
             [
              0.2222222222222222,
              "#7201a8"
             ],
             [
              0.3333333333333333,
              "#9c179e"
             ],
             [
              0.4444444444444444,
              "#bd3786"
             ],
             [
              0.5555555555555556,
              "#d8576b"
             ],
             [
              0.6666666666666666,
              "#ed7953"
             ],
             [
              0.7777777777777778,
              "#fb9f3a"
             ],
             [
              0.8888888888888888,
              "#fdca26"
             ],
             [
              1,
              "#f0f921"
             ]
            ],
            "type": "histogram2d"
           }
          ],
          "histogram2dcontour": [
           {
            "colorbar": {
             "outlinewidth": 0,
             "ticks": ""
            },
            "colorscale": [
             [
              0,
              "#0d0887"
             ],
             [
              0.1111111111111111,
              "#46039f"
             ],
             [
              0.2222222222222222,
              "#7201a8"
             ],
             [
              0.3333333333333333,
              "#9c179e"
             ],
             [
              0.4444444444444444,
              "#bd3786"
             ],
             [
              0.5555555555555556,
              "#d8576b"
             ],
             [
              0.6666666666666666,
              "#ed7953"
             ],
             [
              0.7777777777777778,
              "#fb9f3a"
             ],
             [
              0.8888888888888888,
              "#fdca26"
             ],
             [
              1,
              "#f0f921"
             ]
            ],
            "type": "histogram2dcontour"
           }
          ],
          "mesh3d": [
           {
            "colorbar": {
             "outlinewidth": 0,
             "ticks": ""
            },
            "type": "mesh3d"
           }
          ],
          "parcoords": [
           {
            "line": {
             "colorbar": {
              "outlinewidth": 0,
              "ticks": ""
             }
            },
            "type": "parcoords"
           }
          ],
          "pie": [
           {
            "automargin": true,
            "type": "pie"
           }
          ],
          "scatter": [
           {
            "fillpattern": {
             "fillmode": "overlay",
             "size": 10,
             "solidity": 0.2
            },
            "type": "scatter"
           }
          ],
          "scatter3d": [
           {
            "line": {
             "colorbar": {
              "outlinewidth": 0,
              "ticks": ""
             }
            },
            "marker": {
             "colorbar": {
              "outlinewidth": 0,
              "ticks": ""
             }
            },
            "type": "scatter3d"
           }
          ],
          "scattercarpet": [
           {
            "marker": {
             "colorbar": {
              "outlinewidth": 0,
              "ticks": ""
             }
            },
            "type": "scattercarpet"
           }
          ],
          "scattergeo": [
           {
            "marker": {
             "colorbar": {
              "outlinewidth": 0,
              "ticks": ""
             }
            },
            "type": "scattergeo"
           }
          ],
          "scattergl": [
           {
            "marker": {
             "colorbar": {
              "outlinewidth": 0,
              "ticks": ""
             }
            },
            "type": "scattergl"
           }
          ],
          "scattermapbox": [
           {
            "marker": {
             "colorbar": {
              "outlinewidth": 0,
              "ticks": ""
             }
            },
            "type": "scattermapbox"
           }
          ],
          "scatterpolar": [
           {
            "marker": {
             "colorbar": {
              "outlinewidth": 0,
              "ticks": ""
             }
            },
            "type": "scatterpolar"
           }
          ],
          "scatterpolargl": [
           {
            "marker": {
             "colorbar": {
              "outlinewidth": 0,
              "ticks": ""
             }
            },
            "type": "scatterpolargl"
           }
          ],
          "scatterternary": [
           {
            "marker": {
             "colorbar": {
              "outlinewidth": 0,
              "ticks": ""
             }
            },
            "type": "scatterternary"
           }
          ],
          "surface": [
           {
            "colorbar": {
             "outlinewidth": 0,
             "ticks": ""
            },
            "colorscale": [
             [
              0,
              "#0d0887"
             ],
             [
              0.1111111111111111,
              "#46039f"
             ],
             [
              0.2222222222222222,
              "#7201a8"
             ],
             [
              0.3333333333333333,
              "#9c179e"
             ],
             [
              0.4444444444444444,
              "#bd3786"
             ],
             [
              0.5555555555555556,
              "#d8576b"
             ],
             [
              0.6666666666666666,
              "#ed7953"
             ],
             [
              0.7777777777777778,
              "#fb9f3a"
             ],
             [
              0.8888888888888888,
              "#fdca26"
             ],
             [
              1,
              "#f0f921"
             ]
            ],
            "type": "surface"
           }
          ],
          "table": [
           {
            "cells": {
             "fill": {
              "color": "#EBF0F8"
             },
             "line": {
              "color": "white"
             }
            },
            "header": {
             "fill": {
              "color": "#C8D4E3"
             },
             "line": {
              "color": "white"
             }
            },
            "type": "table"
           }
          ]
         },
         "layout": {
          "annotationdefaults": {
           "arrowcolor": "#2a3f5f",
           "arrowhead": 0,
           "arrowwidth": 1
          },
          "autotypenumbers": "strict",
          "coloraxis": {
           "colorbar": {
            "outlinewidth": 0,
            "ticks": ""
           }
          },
          "colorscale": {
           "diverging": [
            [
             0,
             "#8e0152"
            ],
            [
             0.1,
             "#c51b7d"
            ],
            [
             0.2,
             "#de77ae"
            ],
            [
             0.3,
             "#f1b6da"
            ],
            [
             0.4,
             "#fde0ef"
            ],
            [
             0.5,
             "#f7f7f7"
            ],
            [
             0.6,
             "#e6f5d0"
            ],
            [
             0.7,
             "#b8e186"
            ],
            [
             0.8,
             "#7fbc41"
            ],
            [
             0.9,
             "#4d9221"
            ],
            [
             1,
             "#276419"
            ]
           ],
           "sequential": [
            [
             0,
             "#0d0887"
            ],
            [
             0.1111111111111111,
             "#46039f"
            ],
            [
             0.2222222222222222,
             "#7201a8"
            ],
            [
             0.3333333333333333,
             "#9c179e"
            ],
            [
             0.4444444444444444,
             "#bd3786"
            ],
            [
             0.5555555555555556,
             "#d8576b"
            ],
            [
             0.6666666666666666,
             "#ed7953"
            ],
            [
             0.7777777777777778,
             "#fb9f3a"
            ],
            [
             0.8888888888888888,
             "#fdca26"
            ],
            [
             1,
             "#f0f921"
            ]
           ],
           "sequentialminus": [
            [
             0,
             "#0d0887"
            ],
            [
             0.1111111111111111,
             "#46039f"
            ],
            [
             0.2222222222222222,
             "#7201a8"
            ],
            [
             0.3333333333333333,
             "#9c179e"
            ],
            [
             0.4444444444444444,
             "#bd3786"
            ],
            [
             0.5555555555555556,
             "#d8576b"
            ],
            [
             0.6666666666666666,
             "#ed7953"
            ],
            [
             0.7777777777777778,
             "#fb9f3a"
            ],
            [
             0.8888888888888888,
             "#fdca26"
            ],
            [
             1,
             "#f0f921"
            ]
           ]
          },
          "colorway": [
           "#636efa",
           "#EF553B",
           "#00cc96",
           "#ab63fa",
           "#FFA15A",
           "#19d3f3",
           "#FF6692",
           "#B6E880",
           "#FF97FF",
           "#FECB52"
          ],
          "font": {
           "color": "#2a3f5f"
          },
          "geo": {
           "bgcolor": "white",
           "lakecolor": "white",
           "landcolor": "#E5ECF6",
           "showlakes": true,
           "showland": true,
           "subunitcolor": "white"
          },
          "hoverlabel": {
           "align": "left"
          },
          "hovermode": "closest",
          "mapbox": {
           "style": "light"
          },
          "paper_bgcolor": "white",
          "plot_bgcolor": "#E5ECF6",
          "polar": {
           "angularaxis": {
            "gridcolor": "white",
            "linecolor": "white",
            "ticks": ""
           },
           "bgcolor": "#E5ECF6",
           "radialaxis": {
            "gridcolor": "white",
            "linecolor": "white",
            "ticks": ""
           }
          },
          "scene": {
           "xaxis": {
            "backgroundcolor": "#E5ECF6",
            "gridcolor": "white",
            "gridwidth": 2,
            "linecolor": "white",
            "showbackground": true,
            "ticks": "",
            "zerolinecolor": "white"
           },
           "yaxis": {
            "backgroundcolor": "#E5ECF6",
            "gridcolor": "white",
            "gridwidth": 2,
            "linecolor": "white",
            "showbackground": true,
            "ticks": "",
            "zerolinecolor": "white"
           },
           "zaxis": {
            "backgroundcolor": "#E5ECF6",
            "gridcolor": "white",
            "gridwidth": 2,
            "linecolor": "white",
            "showbackground": true,
            "ticks": "",
            "zerolinecolor": "white"
           }
          },
          "shapedefaults": {
           "line": {
            "color": "#2a3f5f"
           }
          },
          "ternary": {
           "aaxis": {
            "gridcolor": "white",
            "linecolor": "white",
            "ticks": ""
           },
           "baxis": {
            "gridcolor": "white",
            "linecolor": "white",
            "ticks": ""
           },
           "bgcolor": "#E5ECF6",
           "caxis": {
            "gridcolor": "white",
            "linecolor": "white",
            "ticks": ""
           }
          },
          "title": {
           "x": 0.05
          },
          "xaxis": {
           "automargin": true,
           "gridcolor": "white",
           "linecolor": "white",
           "ticks": "",
           "title": {
            "standoff": 15
           },
           "zerolinecolor": "white",
           "zerolinewidth": 2
          },
          "yaxis": {
           "automargin": true,
           "gridcolor": "white",
           "linecolor": "white",
           "ticks": "",
           "title": {
            "standoff": 15
           },
           "zerolinecolor": "white",
           "zerolinewidth": 2
          }
         }
        },
        "title": {
         "text": "Profit factor",
         "x": 0.5,
         "xanchor": "center"
        },
        "xaxis": {
         "anchor": "y",
         "categoryarray": [
          "Consecutive Bearish Candle Strategy",
          "Multi-Step FlexiMA - Strategy [presentTrading]",
          "Fibonacci Trend Reversal Strategy",
          "Dynamic Ticks Oscillator Model (DTOM)",
          "Dynamic Volatility Differential Model (DVDM)",
          "Statistical Arbitrage Pairs Trading - Long-Side Only",
          "50 EMA Crossover With Monthly DCA",
          "Larry Conners SMTP Strategy",
          "SuperTrend Enhanced Pivot Reversal - Strategy [PresentTrading]",
          "Tomas Ratio Strategy with Multi-Timeframe Analysis",
          "Random Entry and Exit",
          "Channels With NVI Strategy [TradeDots]",
          "SmartScale Envelope DCA",
          "3kilos BTC 15m",
          "I11L - Meanreverter 4h",
          "Turtle Trading Strategy@lihexie",
          "BTC outperform atrategy",
          "4Vietnamese 3x Supertrend",
          "AI SuperTrend - Strategy [presentTrading]",
          "Turtle Trader Strategy"
         ],
         "categoryorder": "array",
         "domain": [
          0,
          1
         ],
         "title": {
          "text": ""
         }
        },
        "yaxis": {
         "anchor": "x",
         "domain": [
          0,
          1
         ],
         "title": {
          "text": "Коэффициент"
         }
        }
       }
      }
     },
     "metadata": {},
     "output_type": "display_data"
    }
   ],
   "source": [
    "# Список новых датафреймов\n",
    "list_df = [sharpe, sortino, profit]\n",
    "# Название графиков\n",
    "title_name = ['Sharpe ratio', 'Sortino ratio', 'Profit factor']\n",
    "# Строим графики по новым датафреймам:\n",
    "for list, name in zip(list_df, title_name):\n",
    "    build_graph('px', 'bar', list, 'title', name, 20, 15, name, '', 'Коэффициент', color='title')"
   ]
  },
  {
   "cell_type": "markdown",
   "id": "13691d26",
   "metadata": {},
   "source": [
    "<div class=\"alert alert-info\">\n",
    "На графиках видно, что среди трех коэффициентов, предназначенных для оценки доходности инвестиций, есть пересечения между стратегиями. Но если рассматривать их в категории двух разных коэффициентов, в случае рассмотрения трех сразу у нас пересечений нет.\n",
    "</div>\n",
    "\n",
    "<div class=\"alert alert-danger\">\n",
    "\n",
    "**Возможно, дело в том, что мы делали скидку и оставили стратегии с пределами коэффициентов от -3 до 3. Возможно, стоит поработать с этим коэффициентом, и тогда найдется пересечение, или увеличить количество топовых стратегий по показателям с 20 до 100.**\n",
    "</div>\n",
    "\n",
    "<div class=\"alert alert-info\">\n",
    "Так как Коэффициент Шарпа и Коэффициент Сортино учитывают риски волатильности и оба измеряют доходность, то выделим на их основе самые топовые стратегии:\n",
    "</div>\n"
   ]
  },
  {
   "cell_type": "code",
   "execution_count": 101,
   "id": "763b9737",
   "metadata": {},
   "outputs": [
    {
     "data": {
      "application/vnd.microsoft.datawrangler.viewer.v0+json": {
       "columns": [
        {
         "name": "index",
         "rawType": "int64",
         "type": "integer"
        },
        {
         "name": "title",
         "rawType": "object",
         "type": "string"
        }
       ],
       "conversionMethod": "pd.DataFrame",
       "ref": "9b54872d-b54e-4d7d-895f-7f0cc80577ac",
       "rows": [
        [
         "0",
         "PSAR BBPT ZLSMA BTC 1min"
        ],
        [
         "1",
         "Overnight Effect High Volatility Crypto (AiBitcoinTrend)"
        ],
        [
         "2",
         "Dual Strategy Selector V2 - Cryptogyani"
        ],
        [
         "3",
         "Bollinger Bands - Breakout Strategy"
        ],
        [
         "4",
         "TrendGuard Scalper: SSL + Hama Candle with  Consolidation Zones"
        ],
        [
         "5",
         "Strategy SEMA SDI Webhook"
        ],
        [
         "6",
         "Ta Strategy"
        ],
        [
         "7",
         "Post-Open Long Strategy with ATR-based Stop Loss and Take Profit"
        ]
       ],
       "shape": {
        "columns": 1,
        "rows": 8
       }
      },
      "text/html": [
       "<div>\n",
       "<style scoped>\n",
       "    .dataframe tbody tr th:only-of-type {\n",
       "        vertical-align: middle;\n",
       "    }\n",
       "\n",
       "    .dataframe tbody tr th {\n",
       "        vertical-align: top;\n",
       "    }\n",
       "\n",
       "    .dataframe thead th {\n",
       "        text-align: right;\n",
       "    }\n",
       "</style>\n",
       "<table border=\"1\" class=\"dataframe\">\n",
       "  <thead>\n",
       "    <tr style=\"text-align: right;\">\n",
       "      <th></th>\n",
       "      <th>title</th>\n",
       "    </tr>\n",
       "  </thead>\n",
       "  <tbody>\n",
       "    <tr>\n",
       "      <th>0</th>\n",
       "      <td>PSAR BBPT ZLSMA BTC 1min</td>\n",
       "    </tr>\n",
       "    <tr>\n",
       "      <th>1</th>\n",
       "      <td>Overnight Effect High Volatility Crypto (AiBit...</td>\n",
       "    </tr>\n",
       "    <tr>\n",
       "      <th>2</th>\n",
       "      <td>Dual Strategy Selector V2 - Cryptogyani</td>\n",
       "    </tr>\n",
       "    <tr>\n",
       "      <th>3</th>\n",
       "      <td>Bollinger Bands - Breakout Strategy</td>\n",
       "    </tr>\n",
       "    <tr>\n",
       "      <th>4</th>\n",
       "      <td>TrendGuard Scalper: SSL + Hama Candle with  Co...</td>\n",
       "    </tr>\n",
       "    <tr>\n",
       "      <th>5</th>\n",
       "      <td>Strategy SEMA SDI Webhook</td>\n",
       "    </tr>\n",
       "    <tr>\n",
       "      <th>6</th>\n",
       "      <td>Ta Strategy</td>\n",
       "    </tr>\n",
       "    <tr>\n",
       "      <th>7</th>\n",
       "      <td>Post-Open Long Strategy with ATR-based Stop Lo...</td>\n",
       "    </tr>\n",
       "  </tbody>\n",
       "</table>\n",
       "</div>"
      ],
      "text/plain": [
       "                                               title\n",
       "0                           PSAR BBPT ZLSMA BTC 1min\n",
       "1  Overnight Effect High Volatility Crypto (AiBit...\n",
       "2            Dual Strategy Selector V2 - Cryptogyani\n",
       "3                Bollinger Bands - Breakout Strategy\n",
       "4  TrendGuard Scalper: SSL + Hama Candle with  Co...\n",
       "5                          Strategy SEMA SDI Webhook\n",
       "6                                        Ta Strategy\n",
       "7  Post-Open Long Strategy with ATR-based Stop Lo..."
      ]
     },
     "execution_count": 101,
     "metadata": {},
     "output_type": "execute_result"
    }
   ],
   "source": [
    "top_20_strategy = pd.merge(sharpe[['title']], sortino[['title']], on='title', how='inner')\n",
    "top_20_strategy"
   ]
  },
  {
   "cell_type": "markdown",
   "id": "7f8c1194",
   "metadata": {},
   "source": [
    "<a id='1'></a>\n",
    "<p style = \"background-color : #79d1ff; border-radius: 5px 5px; padding : 10px\"><strong>\n",
    "\n",
    "# Performance (Отчет о стратегии)\n",
    "\n",
    "<p style = \"background-color : #79d1ff; border-radius: 5px 5px; padding : 10px\"><strong>"
   ]
  },
  {
   "cell_type": "markdown",
   "id": "137402bc",
   "metadata": {},
   "source": [
    "<div class=\"alert alert-info\">\n",
    "    \n",
    "Разберемся, что с пропусками\n",
    "Для корректной работы необходимо провести корректировку и подготовку числовых данных. Поэтому создадим функцию с учетом особенностей наших колонок и переведем их в числовой вид:"
   ]
  },
  {
   "cell_type": "code",
   "execution_count": 102,
   "id": "8d14cfa1",
   "metadata": {},
   "outputs": [],
   "source": [
    "# Для удобства создадим датасет с колонками по Отчетам о стратегии\n",
    "df_p = df[['Open P&L', 'Net profit', 'Gross profit', 'Gross loss', 'Commission paid', 'Buy & hold return', 'Max equity run-up', 'Max equity drawdown', 'Max contracts held',]]"
   ]
  },
  {
   "cell_type": "code",
   "execution_count": 103,
   "id": "1f976ace",
   "metadata": {},
   "outputs": [
    {
     "name": "stdout",
     "output_type": "stream",
     "text": [
      "<class 'pandas.core.frame.DataFrame'>\n",
      "Index: 829 entries, 0 to 958\n",
      "Data columns (total 9 columns):\n",
      " #   Column               Non-Null Count  Dtype \n",
      "---  ------               --------------  ----- \n",
      " 0   Open P&L             829 non-null    object\n",
      " 1   Net profit           829 non-null    object\n",
      " 2   Gross profit         829 non-null    object\n",
      " 3   Gross loss           829 non-null    object\n",
      " 4   Commission paid      829 non-null    object\n",
      " 5   Buy & hold return    829 non-null    object\n",
      " 6   Max equity run-up    829 non-null    object\n",
      " 7   Max equity drawdown  829 non-null    object\n",
      " 8   Max contracts held   829 non-null    object\n",
      "dtypes: object(9)\n",
      "memory usage: 64.8+ KB\n"
     ]
    }
   ],
   "source": [
    "df_p.info()"
   ]
  },
  {
   "cell_type": "code",
   "execution_count": null,
   "id": "a3a0926e",
   "metadata": {},
   "outputs": [
    {
     "data": {
      "application/vnd.microsoft.datawrangler.viewer.v0+json": {
       "columns": [
        {
         "name": "index",
         "rawType": "int64",
         "type": "integer"
        },
        {
         "name": "Open P&L",
         "rawType": "float64",
         "type": "float"
        },
        {
         "name": "Net profit",
         "rawType": "float64",
         "type": "float"
        },
        {
         "name": "Gross profit",
         "rawType": "float64",
         "type": "float"
        },
        {
         "name": "Gross loss",
         "rawType": "float64",
         "type": "float"
        },
        {
         "name": "Commission paid",
         "rawType": "float64",
         "type": "float"
        },
        {
         "name": "Buy & hold return",
         "rawType": "float64",
         "type": "float"
        },
        {
         "name": "Max equity run-up",
         "rawType": "float64",
         "type": "float"
        },
        {
         "name": "Max equity drawdown",
         "rawType": "float64",
         "type": "float"
        },
        {
         "name": "Max contracts held",
         "rawType": "int64",
         "type": "integer"
        }
       ],
       "conversionMethod": "pd.DataFrame",
       "ref": "b5ec9935-49ad-41c3-8374-5678c2c561c0",
       "rows": [
        [
         "0",
         "0.0",
         "8375.0",
         "9973.0",
         "1598.0",
         "0.0",
         "117304.17",
         "8375.0",
         "1608.5",
         "100"
        ],
        [
         "1",
         "-1453.09",
         "9783.49",
         "9783.49",
         "1e-05",
         "0.0",
         "-72.38",
         "10667.89",
         "3180.47",
         "195976"
        ],
        [
         "2",
         "0.0",
         "14293.23",
         "68836.4",
         "54543.18",
         "1672.77",
         "5593815.28",
         "20726.51",
         "7634.92",
         "200"
        ],
        [
         "5",
         "2.24",
         "184.19",
         "360.35",
         "176.15",
         "46.2",
         "103.02",
         "212.07",
         "45.8",
         "0"
        ],
        [
         "6",
         "-1160.0",
         "117390.0",
         "859610.0",
         "742220.0",
         "0.0",
         "708340.0",
         "155735.0",
         "61280.0",
         "1"
        ],
        [
         "7",
         "0.0",
         "847.41",
         "6026.01",
         "5178.6",
         "0.0",
         "2032171.58",
         "1365.23",
         "1639.44",
         "19643"
        ],
        [
         "8",
         "0.0",
         "4755.16",
         "42956.67",
         "38201.51",
         "0.0",
         "-126495.49",
         "16724.65",
         "17331.11",
         "561"
        ],
        [
         "10",
         "0.0",
         "29.75",
         "99.62",
         "69.87",
         "4.81",
         "-442.2",
         "39.31",
         "10.06",
         "2"
        ],
        [
         "11",
         "0.0",
         "10101.99",
         "15034.49",
         "4932.5",
         "220.0",
         "278686.86",
         "11614.13",
         "2965.19",
         "40502"
        ],
        [
         "12",
         "405.6",
         "2107.33",
         "28903.73",
         "26796.4",
         "0.0",
         "-6940.8",
         "12571.29",
         "10515.81",
         "3"
        ],
        [
         "13",
         "-0.04",
         "-31.28",
         "364.15",
         "395.43",
         "0.0",
         "-4.21",
         "55.25",
         "61.09",
         "7924"
        ],
        [
         "15",
         "0.0",
         "-15582.67",
         "18062.21",
         "33644.87",
         "0.0",
         "87477.11",
         "9141.86",
         "17185.63",
         "12"
        ],
        [
         "17",
         "-183.4",
         "8562.03",
         "29730.87",
         "21168.84",
         "0.0",
         "144746.73",
         "11117.67",
         "4218.27",
         "1"
        ],
        [
         "18",
         "39.68",
         "-187379.46",
         "1110176.13",
         "1297555.59",
         "0.0",
         "-92714.57",
         "125912.2",
         "298033.38",
         "1217814"
        ],
        [
         "19",
         "0.0",
         "0.28",
         "35.48",
         "35.2",
         "0.0",
         "9.99",
         "6.36",
         "6.22",
         "1"
        ],
        [
         "20",
         "0.0",
         "635.9",
         "2222.2",
         "1586.3",
         "0.0",
         "54663.93",
         "707.7",
         "110.0",
         "1"
        ],
        [
         "21",
         "0.0",
         "4829.83",
         "20508.27",
         "15678.44",
         "1.28",
         "-29.2",
         "5743.05",
         "1838.97",
         "104"
        ],
        [
         "22",
         "0.0",
         "464.27",
         "1894.8",
         "1430.53",
         "0.64",
         "-22.08",
         "545.1",
         "171.59",
         "10"
        ],
        [
         "23",
         "5e-05",
         "0.04",
         "0.23",
         "0.19",
         "0.0",
         "45862.32",
         "0.05",
         "0.03",
         "1"
        ],
        [
         "24",
         "0.0",
         "19704.73",
         "365501.08",
         "345796.35",
         "2214.27",
         "217775.0",
         "20786.64",
         "5622.45",
         "1"
        ],
        [
         "25",
         "0.0",
         "151.15",
         "234.94",
         "83.79",
         "0.0",
         "-18.84",
         "153.04",
         "33.84",
         "142"
        ],
        [
         "26",
         "1.45",
         "-331.33",
         "384.0",
         "715.33",
         "174.94",
         "121125.52",
         "193.56",
         "645.09",
         "0"
        ],
        [
         "27",
         "43.5",
         "-407.17",
         "149.08",
         "556.25",
         "0.0",
         "1242.24",
         "96.31",
         "494.17",
         "312"
        ],
        [
         "28",
         "-2.43",
         "347.1",
         "1238.78",
         "891.68",
         "0.0",
         "1819.27",
         "352.95",
         "65.51",
         "1"
        ],
        [
         "29",
         "0.0",
         "32722.4",
         "143712.2",
         "110989.8",
         "1407.6",
         "-62120.0",
         "51103.6",
         "19049.6",
         "1"
        ],
        [
         "30",
         "0.0",
         "6276.08",
         "12429.54",
         "6153.46",
         "3069.4",
         "2268.07",
         "6716.12",
         "704.46",
         "0"
        ],
        [
         "31",
         "-14667.7",
         "42472.4",
         "238320.0",
         "195847.6",
         "4480.0",
         "-50091.75",
         "186958.0",
         "126370.5",
         "30"
        ],
        [
         "32",
         "0.0",
         "14601.8",
         "32509.2",
         "17907.4",
         "423.2",
         "-53750.0",
         "19619.6",
         "5160.0",
         "1"
        ],
        [
         "33",
         "0.0",
         "-261772.79",
         "2870733.67",
         "3132506.46",
         "0.0",
         "38811.18",
         "303620.85",
         "637454.05",
         "7338"
        ],
        [
         "34",
         "0.0",
         "5107.5",
         "9928.0",
         "4820.5",
         "0.0",
         "-44112.0",
         "5845.5",
         "629.0",
         "1"
        ],
        [
         "35",
         "0.0",
         "25135.0",
         "43725.0",
         "18590.0",
         "0.0",
         "-63530.0",
         "31565.0",
         "5210.0",
         "1"
        ],
        [
         "37",
         "2790.0",
         "128679.0",
         "332140.5",
         "203461.5",
         "0.0",
         "180931.5",
         "219637.5",
         "63571.5",
         "1"
        ],
        [
         "38",
         "2726.96",
         "3699.8",
         "105714.58",
         "102014.78",
         "0.0",
         "-131557.47",
         "21851.11",
         "22459.58",
         "89932"
        ],
        [
         "39",
         "0.0",
         "1184.46",
         "3960.34",
         "2775.88",
         "509.27",
         "12941.17",
         "1277.97",
         "165.09",
         "0"
        ],
        [
         "40",
         "2790.0",
         "114271.5",
         "383556.0",
         "269284.5",
         "0.0",
         "180931.5",
         "230017.5",
         "63873.0",
         "1"
        ],
        [
         "43",
         "-29.39",
         "8109.74",
         "23085.75",
         "14976.0",
         "0.0",
         "205053.02",
         "10260.16",
         "4407.91",
         "39"
        ],
        [
         "44",
         "0.0",
         "-0.67",
         "4.84",
         "5.51",
         "0.0",
         "510.87",
         "0.83",
         "0.9",
         "93"
        ],
        [
         "45",
         "0.0",
         "2274471.03",
         "3689123.14",
         "1414652.11",
         "1030430.7",
         "274405.61",
         "2291551.92",
         "603335.28",
         "73418"
        ],
        [
         "46",
         "0.0",
         "5912.0",
         "13915.5",
         "8003.5",
         "0.0",
         "-58500.0",
         "8072.5",
         "2441.5",
         "1"
        ],
        [
         "47",
         "0.03",
         "3.29",
         "4.86",
         "1.58",
         "0.1",
         "53.13",
         "3.8",
         "0.58",
         "0"
        ],
        [
         "48",
         "0.0",
         "4725.0",
         "54275.0",
         "49550.0",
         "0.0",
         "97760.0",
         "14245.0",
         "10510.0",
         "1"
        ],
        [
         "49",
         "0.0",
         "199.34",
         "779.28",
         "579.94",
         "0.0",
         "800386.34",
         "255.69",
         "202.37",
         "1"
        ],
        [
         "50",
         "0.0",
         "7023.5",
         "17033.5",
         "10010.0",
         "0.0",
         "-59448.0",
         "8110.0",
         "1075.0",
         "1"
        ],
        [
         "51",
         "4.48",
         "45.44",
         "203.27",
         "157.83",
         "12.21",
         "111.55",
         "55.45",
         "31.93",
         "0"
        ],
        [
         "54",
         "0.0",
         "378229.5",
         "1450138.5",
         "1071909.0",
         "0.0",
         "22805059.5",
         "1099134.0",
         "806794.5",
         "577"
        ],
        [
         "55",
         "0.0",
         "260780.0",
         "280420.0",
         "19640.0",
         "0.0",
         "-29990.0",
         "260805.0",
         "6485.0",
         "1"
        ],
        [
         "56",
         "0.0",
         "1061885.78",
         "1073877.74",
         "11991.96",
         "0.0",
         "605577.12",
         "1385288.32",
         "81814.96",
         "69823"
        ],
        [
         "57",
         "-3.86",
         "-318.39",
         "1303.27",
         "1621.66",
         "400.57",
         "61.09",
         "129.5",
         "432.7",
         "1543"
        ],
        [
         "61",
         "9.36",
         "1087.13",
         "1478.07",
         "390.94",
         "1.16",
         "313.97",
         "1126.16",
         "272.47",
         "190"
        ],
        [
         "63",
         "0.0",
         "-128.89",
         "465.29",
         "594.18",
         "74.06",
         "140.1",
         "25.51",
         "152.85",
         "0"
        ]
       ],
       "shape": {
        "columns": 9,
        "rows": 829
       }
      },
      "text/html": [
       "<div>\n",
       "<style scoped>\n",
       "    .dataframe tbody tr th:only-of-type {\n",
       "        vertical-align: middle;\n",
       "    }\n",
       "\n",
       "    .dataframe tbody tr th {\n",
       "        vertical-align: top;\n",
       "    }\n",
       "\n",
       "    .dataframe thead th {\n",
       "        text-align: right;\n",
       "    }\n",
       "</style>\n",
       "<table border=\"1\" class=\"dataframe\">\n",
       "  <thead>\n",
       "    <tr style=\"text-align: right;\">\n",
       "      <th></th>\n",
       "      <th>Open P&amp;L</th>\n",
       "      <th>Net profit</th>\n",
       "      <th>Gross profit</th>\n",
       "      <th>Gross loss</th>\n",
       "      <th>Commission paid</th>\n",
       "      <th>Buy &amp; hold return</th>\n",
       "      <th>Max equity run-up</th>\n",
       "      <th>Max equity drawdown</th>\n",
       "      <th>Max contracts held</th>\n",
       "    </tr>\n",
       "  </thead>\n",
       "  <tbody>\n",
       "    <tr>\n",
       "      <th>0</th>\n",
       "      <td>0.00</td>\n",
       "      <td>8375.00</td>\n",
       "      <td>9973.00</td>\n",
       "      <td>1.598000e+03</td>\n",
       "      <td>0.00</td>\n",
       "      <td>117304.17</td>\n",
       "      <td>8375.00</td>\n",
       "      <td>1608.50</td>\n",
       "      <td>100</td>\n",
       "    </tr>\n",
       "    <tr>\n",
       "      <th>1</th>\n",
       "      <td>-1453.09</td>\n",
       "      <td>9783.49</td>\n",
       "      <td>9783.49</td>\n",
       "      <td>1.000000e-05</td>\n",
       "      <td>0.00</td>\n",
       "      <td>-72.38</td>\n",
       "      <td>10667.89</td>\n",
       "      <td>3180.47</td>\n",
       "      <td>195976</td>\n",
       "    </tr>\n",
       "    <tr>\n",
       "      <th>2</th>\n",
       "      <td>0.00</td>\n",
       "      <td>14293.23</td>\n",
       "      <td>68836.40</td>\n",
       "      <td>5.454318e+04</td>\n",
       "      <td>1672.77</td>\n",
       "      <td>5593815.28</td>\n",
       "      <td>20726.51</td>\n",
       "      <td>7634.92</td>\n",
       "      <td>200</td>\n",
       "    </tr>\n",
       "    <tr>\n",
       "      <th>5</th>\n",
       "      <td>2.24</td>\n",
       "      <td>184.19</td>\n",
       "      <td>360.35</td>\n",
       "      <td>1.761500e+02</td>\n",
       "      <td>46.20</td>\n",
       "      <td>103.02</td>\n",
       "      <td>212.07</td>\n",
       "      <td>45.80</td>\n",
       "      <td>0</td>\n",
       "    </tr>\n",
       "    <tr>\n",
       "      <th>6</th>\n",
       "      <td>-1160.00</td>\n",
       "      <td>117390.00</td>\n",
       "      <td>859610.00</td>\n",
       "      <td>7.422200e+05</td>\n",
       "      <td>0.00</td>\n",
       "      <td>708340.00</td>\n",
       "      <td>155735.00</td>\n",
       "      <td>61280.00</td>\n",
       "      <td>1</td>\n",
       "    </tr>\n",
       "    <tr>\n",
       "      <th>...</th>\n",
       "      <td>...</td>\n",
       "      <td>...</td>\n",
       "      <td>...</td>\n",
       "      <td>...</td>\n",
       "      <td>...</td>\n",
       "      <td>...</td>\n",
       "      <td>...</td>\n",
       "      <td>...</td>\n",
       "      <td>...</td>\n",
       "    </tr>\n",
       "    <tr>\n",
       "      <th>953</th>\n",
       "      <td>-0.44</td>\n",
       "      <td>288.93</td>\n",
       "      <td>647.28</td>\n",
       "      <td>3.583500e+02</td>\n",
       "      <td>66.71</td>\n",
       "      <td>-1880.26</td>\n",
       "      <td>530.92</td>\n",
       "      <td>455.22</td>\n",
       "      <td>2473</td>\n",
       "    </tr>\n",
       "    <tr>\n",
       "      <th>954</th>\n",
       "      <td>39115.55</td>\n",
       "      <td>1066063.89</td>\n",
       "      <td>1108975.30</td>\n",
       "      <td>4.291141e+04</td>\n",
       "      <td>12611.77</td>\n",
       "      <td>9960471.92</td>\n",
       "      <td>1106625.50</td>\n",
       "      <td>23788.39</td>\n",
       "      <td>3778</td>\n",
       "    </tr>\n",
       "    <tr>\n",
       "      <th>956</th>\n",
       "      <td>0.00</td>\n",
       "      <td>28127665.94</td>\n",
       "      <td>31327842.85</td>\n",
       "      <td>3.200177e+06</td>\n",
       "      <td>125781.93</td>\n",
       "      <td>13648918.30</td>\n",
       "      <td>28133021.71</td>\n",
       "      <td>3116562.10</td>\n",
       "      <td>1969898</td>\n",
       "    </tr>\n",
       "    <tr>\n",
       "      <th>957</th>\n",
       "      <td>0.00</td>\n",
       "      <td>7998.34</td>\n",
       "      <td>11559.50</td>\n",
       "      <td>3.561160e+03</td>\n",
       "      <td>1448.00</td>\n",
       "      <td>3159.02</td>\n",
       "      <td>8014.34</td>\n",
       "      <td>720.72</td>\n",
       "      <td>432331</td>\n",
       "    </tr>\n",
       "    <tr>\n",
       "      <th>958</th>\n",
       "      <td>-0.03</td>\n",
       "      <td>-132.76</td>\n",
       "      <td>298.05</td>\n",
       "      <td>4.308100e+02</td>\n",
       "      <td>54.97</td>\n",
       "      <td>-537.35</td>\n",
       "      <td>24.26</td>\n",
       "      <td>134.71</td>\n",
       "      <td>0</td>\n",
       "    </tr>\n",
       "  </tbody>\n",
       "</table>\n",
       "<p>829 rows × 9 columns</p>\n",
       "</div>"
      ],
      "text/plain": [
       "     Open P&L   Net profit  Gross profit    Gross loss  Commission paid  \\\n",
       "0        0.00      8375.00       9973.00  1.598000e+03             0.00   \n",
       "1    -1453.09      9783.49       9783.49  1.000000e-05             0.00   \n",
       "2        0.00     14293.23      68836.40  5.454318e+04          1672.77   \n",
       "5        2.24       184.19        360.35  1.761500e+02            46.20   \n",
       "6    -1160.00    117390.00     859610.00  7.422200e+05             0.00   \n",
       "..        ...          ...           ...           ...              ...   \n",
       "953     -0.44       288.93        647.28  3.583500e+02            66.71   \n",
       "954  39115.55   1066063.89    1108975.30  4.291141e+04         12611.77   \n",
       "956      0.00  28127665.94   31327842.85  3.200177e+06        125781.93   \n",
       "957      0.00      7998.34      11559.50  3.561160e+03          1448.00   \n",
       "958     -0.03      -132.76        298.05  4.308100e+02            54.97   \n",
       "\n",
       "     Buy & hold return  Max equity run-up  Max equity drawdown  \\\n",
       "0            117304.17            8375.00              1608.50   \n",
       "1               -72.38           10667.89              3180.47   \n",
       "2           5593815.28           20726.51              7634.92   \n",
       "5               103.02             212.07                45.80   \n",
       "6            708340.00          155735.00             61280.00   \n",
       "..                 ...                ...                  ...   \n",
       "953           -1880.26             530.92               455.22   \n",
       "954         9960471.92         1106625.50             23788.39   \n",
       "956        13648918.30        28133021.71           3116562.10   \n",
       "957            3159.02            8014.34               720.72   \n",
       "958            -537.35              24.26               134.71   \n",
       "\n",
       "     Max contracts held  \n",
       "0                   100  \n",
       "1                195976  \n",
       "2                   200  \n",
       "5                     0  \n",
       "6                     1  \n",
       "..                  ...  \n",
       "953                2473  \n",
       "954                3778  \n",
       "956             1969898  \n",
       "957              432331  \n",
       "958                   0  \n",
       "\n",
       "[829 rows x 9 columns]"
      ]
     },
     "execution_count": 104,
     "metadata": {},
     "output_type": "execute_result"
    }
   ],
   "source": [
    "# Приведем object в float\n",
    "df_p = df_p.map(convert_to_numeric)\n",
    "df_p"
   ]
  }
 ],
 "metadata": {
  "kernelspec": {
   "display_name": "Python 3",
   "language": "python",
   "name": "python3"
  },
  "language_info": {
   "codemirror_mode": {
    "name": "ipython",
    "version": 3
   },
   "file_extension": ".py",
   "mimetype": "text/x-python",
   "name": "python",
   "nbconvert_exporter": "python",
   "pygments_lexer": "ipython3",
   "version": "3.10.11"
  }
 },
 "nbformat": 4,
 "nbformat_minor": 5
}
